{
 "cells": [
  {
   "cell_type": "markdown",
   "id": "71ff98a3",
   "metadata": {},
   "source": [
    "# Data Science\n",
    "#### By: Javier Orduz\n",
    "[license-badge]: https://img.shields.io/badge/License-CC-orange\n",
    "[license]: https://creativecommons.org/licenses/by-nc-sa/3.0/deed.en\n",
    "\n",
    "[![CC License][license-badge]][license]  [![DS](https://img.shields.io/badge/downloads-DS-green)](https://github.com/Earlham-College/DS_Fall_2022)  [![Github](https://img.shields.io/badge/jaorduz-repos-blue)](https://github.com/jaorduz/)  ![Follow @jaorduc](https://img.shields.io/twitter/follow/jaorduc?label=follow&logo=twitter&logoColor=lkj&style=plastic)\n"
   ]
  },
  {
   "cell_type": "markdown",
   "id": "55be244b",
   "metadata": {},
   "source": [
    "# Importing different modules"
   ]
  },
  {
   "cell_type": "markdown",
   "id": "8037b9fc",
   "metadata": {},
   "source": [
    "## Imports ```numpy```"
   ]
  },
  {
   "cell_type": "markdown",
   "id": "13faf511",
   "metadata": {},
   "source": [
    "### A numerical programming library"
   ]
  },
  {
   "cell_type": "code",
   "execution_count": 1,
   "id": "910c796a",
   "metadata": {},
   "outputs": [],
   "source": [
    "import numpy as np"
   ]
  },
  {
   "cell_type": "markdown",
   "id": "9ab4bc7f",
   "metadata": {},
   "source": [
    "```Numpy``` check some documentation [1]"
   ]
  },
  {
   "cell_type": "markdown",
   "id": "28a69204",
   "metadata": {},
   "source": [
    "##  Imports statistics functions and more"
   ]
  },
  {
   "cell_type": "code",
   "execution_count": 97,
   "id": "6feaaee9",
   "metadata": {},
   "outputs": [],
   "source": [
    "import scipy as sp \n",
    "from scipy import cbrt"
   ]
  },
  {
   "cell_type": "markdown",
   "id": "698e53ef",
   "metadata": {},
   "source": [
    "```scipy``` check some documentation [2]"
   ]
  },
  {
   "cell_type": "markdown",
   "id": "363c0dc6",
   "metadata": {},
   "source": [
    "## Imports ```matplotlib```"
   ]
  },
  {
   "cell_type": "code",
   "execution_count": 3,
   "id": "d2342fc3",
   "metadata": {},
   "outputs": [],
   "source": [
    "import matplotlib as mpl"
   ]
  },
  {
   "cell_type": "markdown",
   "id": "2123ab73",
   "metadata": {},
   "source": [
    "```matplotlib``` check come documentation [3]"
   ]
  },
  {
   "cell_type": "markdown",
   "id": "857209b0",
   "metadata": {},
   "source": [
    "### Module: to access to colormaps"
   ]
  },
  {
   "cell_type": "code",
   "execution_count": 4,
   "id": "672cb843",
   "metadata": {},
   "outputs": [],
   "source": [
    "import matplotlib.cm as cm"
   ]
  },
  {
   "cell_type": "markdown",
   "id": "ea41c05d",
   "metadata": {},
   "source": [
    "```matplotlib.cm``` check some documentation [4]"
   ]
  },
  {
   "cell_type": "markdown",
   "id": "4bacf864",
   "metadata": {},
   "source": [
    "### Module: to set up plotting under plt"
   ]
  },
  {
   "cell_type": "code",
   "execution_count": 5,
   "id": "305931ec",
   "metadata": {},
   "outputs": [],
   "source": [
    "import matplotlib.pyplot as plt"
   ]
  },
  {
   "cell_type": "markdown",
   "id": "7044bb74",
   "metadata": {},
   "source": [
    "```matplotlib.pyplot``` check some documentation [5]"
   ]
  },
  {
   "cell_type": "markdown",
   "id": "9d4f1332",
   "metadata": {},
   "source": [
    "## Imports ```pandas``` to use data as dataframes"
   ]
  },
  {
   "cell_type": "code",
   "execution_count": 6,
   "id": "ecdc7ba8",
   "metadata": {},
   "outputs": [],
   "source": [
    "import pandas as pd"
   ]
  },
  {
   "cell_type": "markdown",
   "id": "b745c53a",
   "metadata": {},
   "source": [
    "```pandas``` check some documentation [6]"
   ]
  },
  {
   "cell_type": "markdown",
   "id": "c4879da3",
   "metadata": {},
   "source": [
    "### Option to manipulate size and more"
   ]
  },
  {
   "cell_type": "code",
   "execution_count": 7,
   "id": "a1a57a35",
   "metadata": {},
   "outputs": [],
   "source": [
    "#sets up pandas table display\n",
    "pd.set_option('display.width', 500)\n",
    "pd.set_option('display.max_columns', 100)\n",
    "pd.set_option('display.notebook_repr_html', True)"
   ]
  },
  {
   "cell_type": "markdown",
   "id": "e6642a9c",
   "metadata": {},
   "source": [
    "## Line to embed plots"
   ]
  },
  {
   "cell_type": "code",
   "execution_count": 9,
   "id": "796f159e",
   "metadata": {},
   "outputs": [
    {
     "name": "stderr",
     "output_type": "stream",
     "text": [
      "UsageError: unrecognized arguments: inline\n"
     ]
    }
   ],
   "source": [
    "%matplotlib in inline"
   ]
  },
  {
   "cell_type": "markdown",
   "id": "86dfda31",
   "metadata": {},
   "source": [
    "## Imports ```seaborn```"
   ]
  },
  {
   "cell_type": "markdown",
   "id": "b739f052",
   "metadata": {},
   "source": [
    "### sets up styles and gives us more plotting options"
   ]
  },
  {
   "cell_type": "code",
   "execution_count": 10,
   "id": "404e3038",
   "metadata": {},
   "outputs": [],
   "source": [
    "import seaborn as sns"
   ]
  },
  {
   "cell_type": "code",
   "execution_count": 12,
   "id": "638bdbaf",
   "metadata": {},
   "outputs": [
    {
     "name": "stdout",
     "output_type": "stream",
     "text": [
      "[1, 4, 9, 16, 25]\n"
     ]
    }
   ],
   "source": [
    "alist=[1,2,3,4,5]\n",
    "for i in range(len(alist)):\n",
    "    alist[i]=alist[i]**2\n",
    "print(alist)"
   ]
  },
  {
   "cell_type": "code",
   "execution_count": 13,
   "id": "d2c24d98",
   "metadata": {},
   "outputs": [
    {
     "data": {
      "text/html": [
       "<div>\n",
       "<style scoped>\n",
       "    .dataframe tbody tr th:only-of-type {\n",
       "        vertical-align: middle;\n",
       "    }\n",
       "\n",
       "    .dataframe tbody tr th {\n",
       "        vertical-align: top;\n",
       "    }\n",
       "\n",
       "    .dataframe thead th {\n",
       "        text-align: right;\n",
       "    }\n",
       "</style>\n",
       "<table border=\"1\" class=\"dataframe\">\n",
       "  <thead>\n",
       "    <tr style=\"text-align: right;\">\n",
       "      <th></th>\n",
       "      <th>rating</th>\n",
       "      <th>review_count</th>\n",
       "      <th>isbn</th>\n",
       "      <th>booktype</th>\n",
       "      <th>author_url</th>\n",
       "      <th>year</th>\n",
       "      <th>genre_urls</th>\n",
       "      <th>dir</th>\n",
       "      <th>rating_count</th>\n",
       "      <th>name</th>\n",
       "    </tr>\n",
       "  </thead>\n",
       "  <tbody>\n",
       "    <tr>\n",
       "      <td>0</td>\n",
       "      <td>4.40</td>\n",
       "      <td>136455</td>\n",
       "      <td>0439023483</td>\n",
       "      <td>good_reads:book</td>\n",
       "      <td>https://www.goodreads.com/author/show/153394.S...</td>\n",
       "      <td>2008.0</td>\n",
       "      <td>/genres/young-adult|/genres/science-fiction|/g...</td>\n",
       "      <td>dir01/2767052-the-hunger-games.html</td>\n",
       "      <td>2958974</td>\n",
       "      <td>The Hunger Games (The Hunger Games, #1)</td>\n",
       "    </tr>\n",
       "    <tr>\n",
       "      <td>1</td>\n",
       "      <td>4.41</td>\n",
       "      <td>16648</td>\n",
       "      <td>0439358078</td>\n",
       "      <td>good_reads:book</td>\n",
       "      <td>https://www.goodreads.com/author/show/1077326....</td>\n",
       "      <td>2003.0</td>\n",
       "      <td>/genres/fantasy|/genres/young-adult|/genres/fi...</td>\n",
       "      <td>dir01/2.Harry_Potter_and_the_Order_of_the_Phoe...</td>\n",
       "      <td>1284478</td>\n",
       "      <td>Harry Potter and the Order of the Phoenix (Har...</td>\n",
       "    </tr>\n",
       "    <tr>\n",
       "      <td>2</td>\n",
       "      <td>3.56</td>\n",
       "      <td>85746</td>\n",
       "      <td>0316015849</td>\n",
       "      <td>good_reads:book</td>\n",
       "      <td>https://www.goodreads.com/author/show/941441.S...</td>\n",
       "      <td>2005.0</td>\n",
       "      <td>/genres/young-adult|/genres/fantasy|/genres/ro...</td>\n",
       "      <td>dir01/41865.Twilight.html</td>\n",
       "      <td>2579564</td>\n",
       "      <td>Twilight (Twilight, #1)</td>\n",
       "    </tr>\n",
       "    <tr>\n",
       "      <td>3</td>\n",
       "      <td>4.23</td>\n",
       "      <td>47906</td>\n",
       "      <td>0061120081</td>\n",
       "      <td>good_reads:book</td>\n",
       "      <td>https://www.goodreads.com/author/show/1825.Har...</td>\n",
       "      <td>1960.0</td>\n",
       "      <td>/genres/classics|/genres/fiction|/genres/histo...</td>\n",
       "      <td>dir01/2657.To_Kill_a_Mockingbird.html</td>\n",
       "      <td>2078123</td>\n",
       "      <td>To Kill a Mockingbird</td>\n",
       "    </tr>\n",
       "    <tr>\n",
       "      <td>4</td>\n",
       "      <td>4.23</td>\n",
       "      <td>34772</td>\n",
       "      <td>0679783261</td>\n",
       "      <td>good_reads:book</td>\n",
       "      <td>https://www.goodreads.com/author/show/1265.Jan...</td>\n",
       "      <td>1813.0</td>\n",
       "      <td>/genres/classics|/genres/fiction|/genres/roman...</td>\n",
       "      <td>dir01/1885.Pride_and_Prejudice.html</td>\n",
       "      <td>1388992</td>\n",
       "      <td>Pride and Prejudice</td>\n",
       "    </tr>\n",
       "  </tbody>\n",
       "</table>\n",
       "</div>"
      ],
      "text/plain": [
       "   rating review_count        isbn         booktype                                         author_url    year                                         genre_urls                                                dir rating_count                                               name\n",
       "0    4.40       136455  0439023483  good_reads:book  https://www.goodreads.com/author/show/153394.S...  2008.0  /genres/young-adult|/genres/science-fiction|/g...                dir01/2767052-the-hunger-games.html      2958974            The Hunger Games (The Hunger Games, #1)\n",
       "1    4.41        16648  0439358078  good_reads:book  https://www.goodreads.com/author/show/1077326....  2003.0  /genres/fantasy|/genres/young-adult|/genres/fi...  dir01/2.Harry_Potter_and_the_Order_of_the_Phoe...      1284478  Harry Potter and the Order of the Phoenix (Har...\n",
       "2    3.56        85746  0316015849  good_reads:book  https://www.goodreads.com/author/show/941441.S...  2005.0  /genres/young-adult|/genres/fantasy|/genres/ro...                          dir01/41865.Twilight.html      2579564                            Twilight (Twilight, #1)\n",
       "3    4.23        47906  0061120081  good_reads:book  https://www.goodreads.com/author/show/1825.Har...  1960.0  /genres/classics|/genres/fiction|/genres/histo...              dir01/2657.To_Kill_a_Mockingbird.html      2078123                              To Kill a Mockingbird\n",
       "4    4.23        34772  0679783261  good_reads:book  https://www.goodreads.com/author/show/1265.Jan...  1813.0  /genres/classics|/genres/fiction|/genres/roman...                dir01/1885.Pride_and_Prejudice.html      1388992                                Pride and Prejudice"
      ]
     },
     "execution_count": 13,
     "metadata": {},
     "output_type": "execute_result"
    }
   ],
   "source": [
    "df=pd.read_csv(\"books.csv\", header=None,\n",
    "    names=[\"rating\", 'review_count', 'isbn', \n",
    "    'booktype','author_url', 'year', 'genre_urls', \n",
    "    'dir','rating_count', 'name'],\n",
    ")\n",
    "df.head()"
   ]
  },
  {
   "cell_type": "code",
   "execution_count": 106,
   "id": "34c09b1a",
   "metadata": {},
   "outputs": [
    {
     "name": "stdout",
     "output_type": "stream",
     "text": [
      "[[4.4 '136455' '0439023483' ... 'dir01/2767052-the-hunger-games.html'\n",
      "  '2958974' 'The Hunger Games (The Hunger Games, #1)']\n",
      " [4.41 '16648' '0439358078' ...\n",
      "  'dir01/2.Harry_Potter_and_the_Order_of_the_Phoenix.html' '1284478'\n",
      "  'Harry Potter and the Order of the Phoenix (Harry Potter, #5)']\n",
      " [3.56 '85746' '0316015849' ... 'dir01/41865.Twilight.html' '2579564'\n",
      "  'Twilight (Twilight, #1)']\n",
      " ...\n",
      " [3.78 '540' '1620612321' ... 'dir60/13503247-flawed.html' '2971'\n",
      "  'Flawed']\n",
      " [3.91 '281' nan ... 'dir60/2750008.html' '3083'\n",
      "  'Ø£Ø³Ø¹Ø¯ Ø§Ù\\x85Ø±Ø£Ø© Ù\\x81Ù\\x8a Ø§Ù\\x84Ø¹Ø§Ù\\x84Ù\\x85']\n",
      " [4.35 '61' '0786929081' ...\n",
      "  'dir60/66677.Legacy_of_the_Drow_Collector_s_Edition.html' '3982'\n",
      "  \"Legacy of the Drow Collector's Edition (Legacy of the Drow, #1-4; Legend of Drizzt, #7-10)\"]]\n"
     ]
    },
    {
     "name": "stderr",
     "output_type": "stream",
     "text": [
      "/mounts/bowie/software/anaconda3/lib/python3.7/site-packages/ipykernel_launcher.py:8: DeprecationWarning: scipy.cbrt is deprecated and will be removed in SciPy 2.0.0, use numpy.cbrt instead\n",
      "  \n"
     ]
    },
    {
     "data": {
      "image/png": "[encoded data removed]",
      "text/plain": [
       "<Figure size 432x288 with 1 Axes>"
      ]
     },
     "metadata": {
      "needs_background": "light"
     },
     "output_type": "display_data"
    }
   ],
   "source": [
    "#first and last books in the file\n",
    "ratings = []\n",
    "plots=[]\n",
    "for i in df:\n",
    "    v = np.array ((df))\n",
    "print(v)\n",
    "for i in range(5):\n",
    "        plots.append(cbrt(v[i][0]))\n",
    "        \n",
    "plt.plot(plots)\n",
    "plt.ylabel('some numbers')\n",
    "plt.show()"
   ]
  },
  {
   "cell_type": "markdown",
   "id": "d3f6fcc5",
   "metadata": {},
   "source": [
    "```seaborn``` check some documentation [7]"
   ]
  },
  {
   "cell_type": "markdown",
   "id": "922d1fb4",
   "metadata": {},
   "source": [
    "# Exercises"
   ]
  },
  {
   "cell_type": "markdown",
   "id": "cc4061d1",
   "metadata": {},
   "source": [
    "1. Consider this list ```alist=[1,2,3,4,5]```, obtain with an interation a new list with the i-element-squared\n",
    "```output -> [1,4,6,16,25]```\n",
    "\n",
    "<!---\n",
    "alist=[1,2,3,4,5]\n",
    "asquaredlist=[i*i for i in alist]\n",
    "asquaredlist\n",
    "--->\n",
    "2. Create a Jupyter Notebook where you implement some functions, methods, and different parameters with each module/package. Check **NB_Examples** folder.\n",
    "3. Submmit your report in Moodle. Template https://www.overleaf.com/read/xqcnnnrsspcp"
   ]
  },
  {
   "cell_type": "markdown",
   "id": "b7133fb1",
   "metadata": {},
   "source": [
    "## Versions"
   ]
  },
  {
   "cell_type": "code",
   "execution_count": null,
   "id": "2641294d",
   "metadata": {},
   "outputs": [],
   "source": [
    "from platform import python_version\n",
    "print(\"python version: \", python_version())\n",
    "!pip3 freeze | grep qiskit"
   ]
  },
  {
   "cell_type": "markdown",
   "id": "c0ca27a5",
   "metadata": {},
   "source": [
    "# References"
   ]
  },
  {
   "cell_type": "markdown",
   "id": "6eb26d1e",
   "metadata": {},
   "source": [
    "[1] numpy https://numpy.org/\n",
    "\n",
    "[2] scipy https://docs.scipy.org/\n",
    "\n",
    "[3] matplotlib https://matplotlib.org/\n",
    "\n",
    "[4] matplotlib.cm https://matplotlib.org/stable/api/cm_api.html\n",
    "\n",
    "[5] matplotlib.pyplot https://matplotlib.org/stable/api/pyplot_summary.html\n",
    "\n",
    "[6] pandas https://pandas.pydata.org/docs/\n",
    "\n",
    "[7] seaborn https://seaborn.pydata.org/"
   ]
  }
 ],
 "metadata": {
  "kernelspec": {
   "display_name": "Python 3",
   "language": "python",
   "name": "python3"
  },
  "language_info": {
   "codemirror_mode": {
    "name": "ipython",
    "version": 3
   },
   "file_extension": ".py",
   "mimetype": "text/x-python",
   "name": "python",
   "nbconvert_exporter": "python",
   "pygments_lexer": "ipython3",
   "version": "3.7.4"
  },
  "vscode": {
   "interpreter": {
    "hash": "31f2aee4e71d21fbe5cf8b01ff0e069b9275f58929596ceb00d14d90e3e16cd6"
   }
  }
 },
 "nbformat": 4,
 "nbformat_minor": 5
}
