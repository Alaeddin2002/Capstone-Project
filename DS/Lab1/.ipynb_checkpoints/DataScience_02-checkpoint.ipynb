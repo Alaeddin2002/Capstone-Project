{
 "cells": [
  {
   "cell_type": "markdown",
   "id": "b4c765b5",
   "metadata": {},
   "source": [
    "# Data Science\n",
    "#### By: Javier Orduz\n",
    "[license-badge]: https://img.shields.io/badge/License-CC-orange\n",
    "[license]: https://creativecommons.org/licenses/by-nc-sa/3.0/deed.en\n",
    "\n",
    "[![CC License][license-badge]][license]\n",
    "\n",
    "[![DS](https://img.shields.io/badge/downloads-DS-green)](https://github.com/Earlham-College/DS_Fall_2022)\n",
    "\n",
    "[![Github](https://img.shields.io/badge/jaorduz-repos-blue)](https://github.com/jaorduz/)\n",
    "\n",
    "![Follow @jaorduc](https://img.shields.io/twitter/follow/jaorduc?label=follow&logo=twitter&logoColor=lkj&style=plastic)\n",
    "\n",
    "\n",
    "\n",
    "## Contents\n",
    "1. [List and Tuples](#list_tuples)\n",
    "1. [Exercises](#exercises)\n",
    "1. [References](#references)"
   ]
  },
  {
   "cell_type": "markdown",
   "id": "7755e1a9",
   "metadata": {},
   "source": [
    "We call the package"
   ]
  },
  {
   "cell_type": "code",
   "execution_count": 8,
   "id": "74c9103f",
   "metadata": {},
   "outputs": [],
   "source": [
    "import numpy as np\n"
   ]
  },
  {
   "cell_type": "markdown",
   "id": "cfea0f38",
   "metadata": {},
   "source": [
    "We create an set of random mumbers."
   ]
  },
  {
   "cell_type": "code",
   "execution_count": 9,
   "id": "adc420d0",
   "metadata": {},
   "outputs": [],
   "source": [
    "data = {i : np.random.randn(2,4) for i in range(3)}"
   ]
  },
  {
   "cell_type": "markdown",
   "id": "be532a27",
   "metadata": {},
   "source": [
    "We print the data with the label from $i= 0$ to $i= 6$"
   ]
  },
  {
   "cell_type": "code",
   "execution_count": 12,
   "id": "3f0fb821",
   "metadata": {},
   "outputs": [
    {
     "name": "stdout",
     "output_type": "stream",
     "text": [
      "{0: array([[ 0.93615044,  0.19492984,  0.29225296,  1.04408252],\n",
      "       [ 0.781249  ,  0.84167108, -0.20154998, -0.37783907]]), 1: array([[ 0.73993895, -1.47845459,  0.18005912, -0.15914035],\n",
      "       [-0.37457682,  1.84774383,  1.18821744,  1.30194945]]), 2: array([[ 0.94795613, -0.26657964, -0.36841958,  1.0352666 ],\n",
      "       [ 0.2435546 ,  0.74179843, -0.80437703, -0.33419249]])}\n",
      "1.0\n"
     ]
    }
   ],
   "source": [
    "print(data)\n",
    "print(sum(data)/len(data))"
   ]
  },
  {
   "cell_type": "code",
   "execution_count": 19,
   "id": "fe68fc9f",
   "metadata": {},
   "outputs": [
    {
     "name": "stdout",
     "output_type": "stream",
     "text": [
      "[[ 0.93615044  0.19492984  0.29225296  1.04408252]\n",
      " [ 0.781249    0.84167108 -0.20154998 -0.37783907]]\n",
      "[0.85869972 0.51830046 0.04535149 0.33312172]\n"
     ]
    }
   ],
   "source": [
    "print(data[0])\n",
    "print(sum(data[0])/len(data[0]))"
   ]
  },
  {
   "cell_type": "code",
   "execution_count": 20,
   "id": "dd8486f9",
   "metadata": {},
   "outputs": [
    {
     "name": "stdout",
     "output_type": "stream",
     "text": [
      "[0.93615044 0.19492984 0.29225296 1.04408252]\n",
      "0.6168539397767603\n"
     ]
    }
   ],
   "source": [
    "print(data[0][0])\n",
    "print(sum(data[0][0])/len(data[0][0]))"
   ]
  },
  {
   "cell_type": "markdown",
   "id": "f0a6892f",
   "metadata": {},
   "source": [
    "This is how we extract the 000 element"
   ]
  },
  {
   "cell_type": "code",
   "execution_count": 22,
   "id": "6acc3146",
   "metadata": {},
   "outputs": [
    {
     "data": {
      "text/plain": [
       "0.9361504413397479"
      ]
     },
     "execution_count": 22,
     "metadata": {},
     "output_type": "execute_result"
    }
   ],
   "source": [
    "data[0][0][0]"
   ]
  },
  {
   "cell_type": "markdown",
   "id": "a8243bc3",
   "metadata": {},
   "source": [
    "# Exercise"
   ]
  },
  {
   "cell_type": "markdown",
   "id": "2a25a6c2",
   "metadata": {},
   "source": [
    "1. Add documentation for the previous code, each line.\n",
    "1. Calculate the average for the different columns\n",
    "1. Discuss differences between List and tuples.\n",
    "4. Create a Jupyter Notebook and solve this NB's questions.\n",
    "5. Submmit your report in Moodle. Template https://www.overleaf.com/read/xqcnnnrsspcp"
   ]
  },
  {
   "cell_type": "markdown",
   "id": "e2a66528",
   "metadata": {},
   "source": []
  }
 ],
 "metadata": {
  "kernelspec": {
   "display_name": "Python 3",
   "language": "python",
   "name": "python3"
  },
  "language_info": {
   "codemirror_mode": {
    "name": "ipython",
    "version": 3
   },
   "file_extension": ".py",
   "mimetype": "text/x-python",
   "name": "python",
   "nbconvert_exporter": "python",
   "pygments_lexer": "ipython3",
   "version": "3.7.4"
  },
  "vscode": {
   "interpreter": {
    "hash": "31f2aee4e71d21fbe5cf8b01ff0e069b9275f58929596ceb00d14d90e3e16cd6"
   }
  }
 },
 "nbformat": 4,
 "nbformat_minor": 5
}
