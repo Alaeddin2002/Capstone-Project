{
 "cells": [
  {
   "cell_type": "markdown",
   "id": "7414dd65",
   "metadata": {},
   "source": [
    "# Data Science\n",
    "#### By: Javier Orduz\n",
    "[license-badge]: https://img.shields.io/badge/License-CC-orange\n",
    "[license]: https://creativecommons.org/licenses/by-nc-sa/3.0/deed.en\n",
    "\n",
    "[![CC License][license-badge]][license]  [![DS](https://img.shields.io/badge/downloads-DS-green)](https://github.com/Earlham-College/DS_Fall_2022)  [![Github](https://img.shields.io/badge/jaorduz-repos-blue)](https://github.com/jaorduz/)  ![Follow @jaorduc](https://img.shields.io/twitter/follow/jaorduc?label=follow&logo=twitter&logoColor=lkj&style=plastic)\n"
   ]
  },
  {
   "cell_type": "code",
   "execution_count": 2,
   "id": "e308b4fc",
   "metadata": {},
   "outputs": [],
   "source": [
    "import matplotlib.pyplot as plt\n",
    "import pandas as pd\n",
    "import pylab as pl\n",
    "import numpy as np\n",
    "%matplotlib inline"
   ]
  },
  {
   "cell_type": "code",
   "execution_count": 3,
   "id": "43790b4f",
   "metadata": {},
   "outputs": [],
   "source": [
    "df = pd.read_csv(\"drinks.csv\")"
   ]
  },
  {
   "cell_type": "code",
   "execution_count": 4,
   "id": "a1a30c20",
   "metadata": {},
   "outputs": [
    {
     "data": {
      "text/html": [
       "<div>\n",
       "<style scoped>\n",
       "    .dataframe tbody tr th:only-of-type {\n",
       "        vertical-align: middle;\n",
       "    }\n",
       "\n",
       "    .dataframe tbody tr th {\n",
       "        vertical-align: top;\n",
       "    }\n",
       "\n",
       "    .dataframe thead th {\n",
       "        text-align: right;\n",
       "    }\n",
       "</style>\n",
       "<table border=\"1\" class=\"dataframe\">\n",
       "  <thead>\n",
       "    <tr style=\"text-align: right;\">\n",
       "      <th></th>\n",
       "      <th>country</th>\n",
       "      <th>beer_servings</th>\n",
       "      <th>spirit_servings</th>\n",
       "      <th>wine_servings</th>\n",
       "      <th>total_litres_of_pure_alcohol</th>\n",
       "      <th>continent</th>\n",
       "    </tr>\n",
       "  </thead>\n",
       "  <tbody>\n",
       "    <tr>\n",
       "      <th>0</th>\n",
       "      <td>Afghanistan</td>\n",
       "      <td>0</td>\n",
       "      <td>0</td>\n",
       "      <td>0</td>\n",
       "      <td>0.0</td>\n",
       "      <td>AS</td>\n",
       "    </tr>\n",
       "    <tr>\n",
       "      <th>1</th>\n",
       "      <td>Albania</td>\n",
       "      <td>89</td>\n",
       "      <td>132</td>\n",
       "      <td>54</td>\n",
       "      <td>4.9</td>\n",
       "      <td>EU</td>\n",
       "    </tr>\n",
       "    <tr>\n",
       "      <th>2</th>\n",
       "      <td>Algeria</td>\n",
       "      <td>25</td>\n",
       "      <td>0</td>\n",
       "      <td>14</td>\n",
       "      <td>0.7</td>\n",
       "      <td>AF</td>\n",
       "    </tr>\n",
       "    <tr>\n",
       "      <th>3</th>\n",
       "      <td>Andorra</td>\n",
       "      <td>245</td>\n",
       "      <td>138</td>\n",
       "      <td>312</td>\n",
       "      <td>12.4</td>\n",
       "      <td>EU</td>\n",
       "    </tr>\n",
       "    <tr>\n",
       "      <th>4</th>\n",
       "      <td>Angola</td>\n",
       "      <td>217</td>\n",
       "      <td>57</td>\n",
       "      <td>45</td>\n",
       "      <td>5.9</td>\n",
       "      <td>AF</td>\n",
       "    </tr>\n",
       "    <tr>\n",
       "      <th>5</th>\n",
       "      <td>Antigua &amp; Barbuda</td>\n",
       "      <td>102</td>\n",
       "      <td>128</td>\n",
       "      <td>45</td>\n",
       "      <td>4.9</td>\n",
       "      <td>NaN</td>\n",
       "    </tr>\n",
       "    <tr>\n",
       "      <th>6</th>\n",
       "      <td>Argentina</td>\n",
       "      <td>193</td>\n",
       "      <td>25</td>\n",
       "      <td>221</td>\n",
       "      <td>8.3</td>\n",
       "      <td>SA</td>\n",
       "    </tr>\n",
       "    <tr>\n",
       "      <th>7</th>\n",
       "      <td>Armenia</td>\n",
       "      <td>21</td>\n",
       "      <td>179</td>\n",
       "      <td>11</td>\n",
       "      <td>3.8</td>\n",
       "      <td>EU</td>\n",
       "    </tr>\n",
       "    <tr>\n",
       "      <th>8</th>\n",
       "      <td>Australia</td>\n",
       "      <td>261</td>\n",
       "      <td>72</td>\n",
       "      <td>212</td>\n",
       "      <td>10.4</td>\n",
       "      <td>OC</td>\n",
       "    </tr>\n",
       "    <tr>\n",
       "      <th>9</th>\n",
       "      <td>Austria</td>\n",
       "      <td>279</td>\n",
       "      <td>75</td>\n",
       "      <td>191</td>\n",
       "      <td>9.7</td>\n",
       "      <td>EU</td>\n",
       "    </tr>\n",
       "  </tbody>\n",
       "</table>\n",
       "</div>"
      ],
      "text/plain": [
       "             country  beer_servings  spirit_servings  wine_servings  \\\n",
       "0        Afghanistan              0                0              0   \n",
       "1            Albania             89              132             54   \n",
       "2            Algeria             25                0             14   \n",
       "3            Andorra            245              138            312   \n",
       "4             Angola            217               57             45   \n",
       "5  Antigua & Barbuda            102              128             45   \n",
       "6          Argentina            193               25            221   \n",
       "7            Armenia             21              179             11   \n",
       "8          Australia            261               72            212   \n",
       "9            Austria            279               75            191   \n",
       "\n",
       "   total_litres_of_pure_alcohol continent  \n",
       "0                           0.0        AS  \n",
       "1                           4.9        EU  \n",
       "2                           0.7        AF  \n",
       "3                          12.4        EU  \n",
       "4                           5.9        AF  \n",
       "5                           4.9       NaN  \n",
       "6                           8.3        SA  \n",
       "7                           3.8        EU  \n",
       "8                          10.4        OC  \n",
       "9                           9.7        EU  "
      ]
     },
     "execution_count": 4,
     "metadata": {},
     "output_type": "execute_result"
    }
   ],
   "source": [
    "df.head(10)"
   ]
  },
  {
   "cell_type": "code",
   "execution_count": 5,
   "id": "9fb1cf1e",
   "metadata": {},
   "outputs": [
    {
     "name": "stdout",
     "output_type": "stream",
     "text": [
      "[0, 89, 25, 245, 217, 102, 193, 21, 261, 279, 21, 122, 42, 0, 143, 142, 295, 263, 34, 23, 167, 76, 173, 245, 31, 231, 25, 88, 37, 144, 57, 147, 240, 17, 15, 130, 79, 159, 1, 76, 0, 149, 230, 93, 192, 361, 0, 32, 224, 15, 52, 193, 162, 6, 52, 92, 18, 224, 20, 77, 263, 127, 347, 8, 52, 346, 31, 133, 199, 53, 9, 28, 93, 1, 69, 234, 233, 9, 5, 0, 9, 313, 63, 85, 82, 77, 6, 124, 58, 21, 0, 31, 62, 281, 20, 82, 19, 0, 343, 236, 26, 8, 13, 0, 5, 149, 0, 0, 98, 238, 62, 0, 77, 31, 12, 47, 5, 376, 49, 5, 251, 203, 78, 3, 42, 188, 169, 22, 0, 306, 285, 44, 213, 163, 71, 343, 194, 1, 140, 109, 297, 247, 43, 194, 171, 120, 105, 0, 56, 0, 9, 283, 157, 25, 60, 196, 270, 56, 0, 225, 284, 16, 8, 128, 90, 152, 185, 5, 2, 99, 106, 1, 36, 36, 197, 51, 51, 19, 6, 45, 206, 16, 219, 36, 249, 115, 25, 21, 333, 111, 6, 32, 64]\n"
     ]
    }
   ],
   "source": [
    "beer_servings = []\n",
    "for i in df[\"beer_servings\"]:\n",
    "    beer_servings.append(i)\n",
    "print(beer_servings)"
   ]
  },
  {
   "cell_type": "code",
   "execution_count": 6,
   "id": "a3e6a66a",
   "metadata": {},
   "outputs": [
    {
     "name": "stdout",
     "output_type": "stream",
     "text": [
      "country                         Argentina\n",
      "beer_servings                         193\n",
      "spirit_servings                        25\n",
      "wine_servings                         221\n",
      "total_litres_of_pure_alcohol          8.3\n",
      "continent                              SA\n",
      "Name: 6, dtype: object\n",
      "country                         Bolivia\n",
      "beer_servings                       167\n",
      "spirit_servings                      41\n",
      "wine_servings                         8\n",
      "total_litres_of_pure_alcohol        3.8\n",
      "continent                            SA\n",
      "Name: 20, dtype: object\n",
      "country                         Brazil\n",
      "beer_servings                      245\n",
      "spirit_servings                    145\n",
      "wine_servings                       16\n",
      "total_litres_of_pure_alcohol       7.2\n",
      "continent                           SA\n",
      "Name: 23, dtype: object\n",
      "country                         Chile\n",
      "beer_servings                     130\n",
      "spirit_servings                   124\n",
      "wine_servings                     172\n",
      "total_litres_of_pure_alcohol      7.6\n",
      "continent                          SA\n",
      "Name: 35, dtype: object\n",
      "country                         Colombia\n",
      "beer_servings                        159\n",
      "spirit_servings                       76\n",
      "wine_servings                          3\n",
      "total_litres_of_pure_alcohol         4.2\n",
      "continent                             SA\n",
      "Name: 37, dtype: object\n",
      "country                         Ecuador\n",
      "beer_servings                       162\n",
      "spirit_servings                      74\n",
      "wine_servings                         3\n",
      "total_litres_of_pure_alcohol        4.2\n",
      "continent                            SA\n",
      "Name: 52, dtype: object\n",
      "country                         Guyana\n",
      "beer_servings                       93\n",
      "spirit_servings                    302\n",
      "wine_servings                        1\n",
      "total_litres_of_pure_alcohol       7.1\n",
      "continent                           SA\n",
      "Name: 72, dtype: object\n",
      "country                         Paraguay\n",
      "beer_servings                        213\n",
      "spirit_servings                      117\n",
      "wine_servings                         74\n",
      "total_litres_of_pure_alcohol         7.3\n",
      "continent                             SA\n",
      "Name: 132, dtype: object\n",
      "country                         Peru\n",
      "beer_servings                    163\n",
      "spirit_servings                  160\n",
      "wine_servings                     21\n",
      "total_litres_of_pure_alcohol     6.1\n",
      "continent                         SA\n",
      "Name: 133, dtype: object\n",
      "country                         Suriname\n",
      "beer_servings                        128\n",
      "spirit_servings                      178\n",
      "wine_servings                          7\n",
      "total_litres_of_pure_alcohol         5.6\n",
      "continent                             SA\n",
      "Name: 163, dtype: object\n",
      "country                         Uruguay\n",
      "beer_servings                       115\n",
      "spirit_servings                      35\n",
      "wine_servings                       220\n",
      "total_litres_of_pure_alcohol        6.6\n",
      "continent                            SA\n",
      "Name: 185, dtype: object\n",
      "country                         Venezuela\n",
      "beer_servings                         333\n",
      "spirit_servings                       100\n",
      "wine_servings                           3\n",
      "total_litres_of_pure_alcohol          7.7\n",
      "continent                              SA\n",
      "Name: 188, dtype: object\n"
     ]
    }
   ],
   "source": [
    "for i in range(len(df[\"country\"])):\n",
    "    if df[\"continent\"][i]==\"SA\" or df[\"continent\"][i]==\"NA\":\n",
    "        print(df.iloc[i,:])\n",
    "    "
   ]
  },
  {
   "cell_type": "code",
   "execution_count": 8,
   "id": "e5759097",
   "metadata": {},
   "outputs": [],
   "source": [
    "for i in range(len(df[\"country\"])):\n",
    "    if df[\"continent\"][i]==\"NA\":\n",
    "        print(df.iloc[i,:])\n",
    "    "
   ]
  },
  {
   "cell_type": "code",
   "execution_count": 9,
   "id": "e22f910b",
   "metadata": {},
   "outputs": [
    {
     "name": "stdout",
     "output_type": "stream",
     "text": [
      "['Beer']\n",
      "['Champagne']\n"
     ]
    }
   ],
   "source": [
    "north_america = ['Beer']\n",
    "print( north_america)\n",
    "america_continent = ['Champagne']\n",
    "print(  america_continent)"
   ]
  },
  {
   "cell_type": "code",
   "execution_count": 12,
   "id": "99799d70",
   "metadata": {},
   "outputs": [
    {
     "name": "stdout",
     "output_type": "stream",
     "text": [
      "16.264150943396228\n"
     ]
    }
   ],
   "source": [
    "wine = 0\n",
    "number = 0\n",
    "for i in range(len(df[\"continent\"])):\n",
    "    if df[\"continent\"][i] == \"AF\":\n",
    "        wine += df[\"wine_servings\"][i]\n",
    "        number +=1\n",
    "print(wine/number)\n"
   ]
  },
  {
   "cell_type": "code",
   "execution_count": 15,
   "id": "a8310325",
   "metadata": {},
   "outputs": [
    {
     "name": "stdout",
     "output_type": "stream",
     "text": [
      "0.014766185632047945\n"
     ]
    }
   ],
   "source": [
    "wine = 0\n",
    "people = 0\n",
    "number = 0\n",
    "for i in range(len(df[\"continent\"])):\n",
    "    if df[\"continent\"][i] == \"NA\" or df[\"continent\"][i]==\"SA\":\n",
    "        wine += df[\"wine_servings\"][i]\n",
    "        people += df[\"spirit_servings\"][i] + df[\"beer_servings\"][i] + df[\"wine_servings\"][i]\n",
    "        number +=1\n",
    "print(wine/people/number)\n"
   ]
  },
  {
   "cell_type": "code",
   "execution_count": 16,
   "id": "da72e96c",
   "metadata": {},
   "outputs": [
    {
     "name": "stdout",
     "output_type": "stream",
     "text": [
      "0.005618766680713583\n"
     ]
    }
   ],
   "source": [
    "wine = 0\n",
    "number = 0\n",
    "for i in range(len(df[\"continent\"])):\n",
    "    if df[\"continent\"][i] == \"EU\":\n",
    "        wine += df[\"wine_servings\"][i]\n",
    "        people += df[\"spirit_servings\"][i] + df[\"beer_servings\"][i] + df[\"wine_servings\"][i]\n",
    "        number +=1\n",
    "print(wine/people/number)\n"
   ]
  },
  {
   "cell_type": "markdown",
   "id": "9b2b2fc6",
   "metadata": {},
   "source": [
    "# Exercises"
   ]
  },
  {
   "cell_type": "markdown",
   "id": "8499d3f4",
   "metadata": {},
   "source": [
    "1. Use ```pandas``` and read dataset drinks.csv\n",
    "1. Show the first 10 rows of drinks\n",
    "1. create a variable called beer_servings and use it to store the beer_servings column\n",
    "1. Display a dataframe where the only rows are those with continent America\n",
    "1. Display a dataframe where the only rows are those with continent North America\n",
    "1. Create a new dataframe called north_america that holds your answer in 1. drinks (the dataframe) should remain unchanged.\n",
    "1. Create a new dataframe called america_continent that holds your answer in 1. drinks (the dataframe) should remain unchanged.\n",
    "1. What is the average wine consumption per person per year in Africa?\n",
    "1. What is the average wine consumption per person per year in America?\n",
    "1. What is the average wine consumption per person per year in Europe?\n",
    "\n",
    "1. Submmit your report in Moodle. Template https://www.overleaf.com/read/xqcnnnrsspcp"
   ]
  },
  {
   "cell_type": "markdown",
   "id": "2d421700",
   "metadata": {},
   "source": [
    "## Versions"
   ]
  },
  {
   "cell_type": "code",
   "execution_count": null,
   "id": "6434cab5",
   "metadata": {},
   "outputs": [],
   "source": [
    "from platform import python_version\n",
    "print(\"python version: \", python_version())\n",
    "!pip3 freeze | grep qiskit"
   ]
  },
  {
   "cell_type": "markdown",
   "id": "838803f7",
   "metadata": {},
   "source": [
    "# References"
   ]
  },
  {
   "cell_type": "markdown",
   "id": "15b81d25",
   "metadata": {},
   "source": [
    "[0] source https://github.com/sinanuozdemir\n",
    "\n",
    "[1] numpy https://numpy.org/\n",
    "\n",
    "[2] scipy https://docs.scipy.org/\n",
    "\n",
    "[3] matplotlib https://matplotlib.org/\n",
    "\n",
    "[4] matplotlib.cm https://matplotlib.org/stable/api/cm_api.html\n",
    "\n",
    "[5] matplotlib.pyplot https://matplotlib.org/stable/api/pyplot_summary.html\n",
    "\n",
    "[6] pandas https://pandas.pydata.org/docs/\n",
    "\n",
    "[7] seaborn https://seaborn.pydata.org/\n"
   ]
  },
  {
   "cell_type": "code",
   "execution_count": null,
   "id": "d96b73f4",
   "metadata": {},
   "outputs": [],
   "source": []
  }
 ],
 "metadata": {
  "kernelspec": {
   "display_name": "Python 3.9",
   "language": "python",
   "name": "py39"
  },
  "language_info": {
   "codemirror_mode": {
    "name": "ipython",
    "version": 3
   },
   "file_extension": ".py",
   "mimetype": "text/x-python",
   "name": "python",
   "nbconvert_exporter": "python",
   "pygments_lexer": "ipython3",
   "version": "3.9.1"
  }
 },
 "nbformat": 4,
 "nbformat_minor": 5
}
