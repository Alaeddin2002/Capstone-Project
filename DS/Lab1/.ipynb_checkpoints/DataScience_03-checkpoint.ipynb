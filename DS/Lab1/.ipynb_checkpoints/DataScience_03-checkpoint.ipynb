{
 "cells": [
  {
   "cell_type": "markdown",
   "id": "902f79c3",
   "metadata": {},
   "source": [
    "# Data Science\n",
    "#### By: Javier Orduz\n",
    "[license-badge]: https://img.shields.io/badge/License-CC-orange\n",
    "[license]: https://creativecommons.org/licenses/by-nc-sa/3.0/deed.en\n",
    "\n",
    "[![CC License][license-badge]][license]  [![DS](https://img.shields.io/badge/downloads-DS-green)](https://github.com/Earlham-College/DS_Fall_2022)  [![Github](https://img.shields.io/badge/jaorduz-repos-blue)](https://github.com/jaorduz/)  ![Follow @jaorduc](https://img.shields.io/twitter/follow/jaorduc?label=follow&logo=twitter&logoColor=lkj&style=plastic)\n",
    "\n",
    "## Contents\n",
    "1. [List and Tuples](#list_tuples)\n",
    "1. [Exercises](#exercises)\n",
    "1. [References](#references)"
   ]
  },
  {
   "cell_type": "markdown",
   "id": "97bf086b",
   "metadata": {},
   "source": [
    "# Lists and Tuples <a name=\"list_tuples\"></a>"
   ]
  },
  {
   "cell_type": "markdown",
   "id": "cc75f161",
   "metadata": {},
   "source": [
    "In short, a list is a collection of arbitrary objects, somewhat akin to an array in many other programming languages but more flexible. **Lists are defined in Python by enclosing a comma-separated sequence of objects in square brackets** [1], as shown below:"
   ]
  },
  {
   "cell_type": "markdown",
   "id": "fe87637c",
   "metadata": {},
   "source": [
    "## Same type"
   ]
  },
  {
   "cell_type": "code",
   "execution_count": 1,
   "id": "f0811110",
   "metadata": {},
   "outputs": [],
   "source": [
    "a = ['foo', 'bar', 'baz', 'qux']"
   ]
  },
  {
   "cell_type": "code",
   "execution_count": 2,
   "id": "c0b6677e",
   "metadata": {},
   "outputs": [
    {
     "data": {
      "text/plain": [
       "['foo', 'bar', 'baz', 'qux']"
      ]
     },
     "execution_count": 2,
     "metadata": {},
     "output_type": "execute_result"
    }
   ],
   "source": [
    "a"
   ]
  },
  {
   "cell_type": "code",
   "execution_count": 3,
   "id": "062ec3ca",
   "metadata": {},
   "outputs": [],
   "source": [
    "b = [1, 2, 3, 4]"
   ]
  },
  {
   "cell_type": "code",
   "execution_count": 4,
   "id": "ba0781ee",
   "metadata": {},
   "outputs": [
    {
     "data": {
      "text/plain": [
       "[1, 2, 3, 4]"
      ]
     },
     "execution_count": 4,
     "metadata": {},
     "output_type": "execute_result"
    }
   ],
   "source": [
    "b"
   ]
  },
  {
   "cell_type": "markdown",
   "id": "9429b941",
   "metadata": {},
   "source": [
    "## Different type"
   ]
  },
  {
   "cell_type": "code",
   "execution_count": 5,
   "id": "025699f5",
   "metadata": {},
   "outputs": [],
   "source": [
    "c = [21.42, 'foobar', 3, 4, 'bark', False, 3.14159]"
   ]
  },
  {
   "cell_type": "code",
   "execution_count": 6,
   "id": "8bbfa267",
   "metadata": {},
   "outputs": [
    {
     "data": {
      "text/plain": [
       "[21.42, 'foobar', 3, 4, 'bark', False, 3.14159]"
      ]
     },
     "execution_count": 6,
     "metadata": {},
     "output_type": "execute_result"
    }
   ],
   "source": [
    "c"
   ]
  },
  {
   "cell_type": "markdown",
   "id": "32feacac",
   "metadata": {},
   "source": [
    "Even lists can contain functions, classes, and modules.\n",
    "Each list assignes index for all elements starting from 0 (from left or -1 starting from right)."
   ]
  },
  {
   "cell_type": "code",
   "execution_count": 7,
   "id": "5705f69f",
   "metadata": {},
   "outputs": [
    {
     "data": {
      "text/plain": [
       "21.42"
      ]
     },
     "execution_count": 7,
     "metadata": {},
     "output_type": "execute_result"
    }
   ],
   "source": [
    "c[0]"
   ]
  },
  {
   "cell_type": "code",
   "execution_count": 8,
   "id": "0f29b0a0",
   "metadata": {},
   "outputs": [
    {
     "data": {
      "text/plain": [
       "'qux'"
      ]
     },
     "execution_count": 8,
     "metadata": {},
     "output_type": "execute_result"
    }
   ],
   "source": [
    "a[-1]"
   ]
  },
  {
   "cell_type": "markdown",
   "id": "7e336756",
   "metadata": {},
   "source": [
    "# Part of the list"
   ]
  },
  {
   "cell_type": "code",
   "execution_count": 9,
   "id": "841fdfd6",
   "metadata": {},
   "outputs": [
    {
     "data": {
      "text/plain": [
       "[2, 3]"
      ]
     },
     "execution_count": 9,
     "metadata": {},
     "output_type": "execute_result"
    }
   ],
   "source": [
    "b[1:3]"
   ]
  },
  {
   "cell_type": "markdown",
   "id": "37abc87a",
   "metadata": {},
   "source": [
    "## Operating with lists"
   ]
  },
  {
   "cell_type": "code",
   "execution_count": 10,
   "id": "c03fe3fc",
   "metadata": {},
   "outputs": [
    {
     "data": {
      "text/plain": [
       "['foo', 'bar', 'baz', 'qux', 1, 2, 3, 4]"
      ]
     },
     "execution_count": 10,
     "metadata": {},
     "output_type": "execute_result"
    }
   ],
   "source": [
    "a + b"
   ]
  },
  {
   "cell_type": "markdown",
   "id": "2350fef8",
   "metadata": {},
   "source": [
    "# Mutable\n",
    "\n",
    "It can be changed once they have been assigned."
   ]
  },
  {
   "cell_type": "markdown",
   "id": "d32f112f",
   "metadata": {},
   "source": [
    "##  Tuples"
   ]
  },
  {
   "cell_type": "markdown",
   "id": "104de1a5",
   "metadata": {},
   "source": [
    "1. Tuples are **immutables**"
   ]
  },
  {
   "cell_type": "code",
   "execution_count": 11,
   "id": "0f676876",
   "metadata": {},
   "outputs": [],
   "source": [
    "e = (1, 2, 3)"
   ]
  },
  {
   "cell_type": "code",
   "execution_count": 12,
   "id": "0097a429",
   "metadata": {},
   "outputs": [
    {
     "data": {
      "text/plain": [
       "(1, 2, 3)"
      ]
     },
     "execution_count": 12,
     "metadata": {},
     "output_type": "execute_result"
    }
   ],
   "source": [
    "e"
   ]
  },
  {
   "cell_type": "code",
   "execution_count": 13,
   "id": "3e4a1b26",
   "metadata": {},
   "outputs": [
    {
     "data": {
      "text/plain": [
       "1"
      ]
     },
     "execution_count": 13,
     "metadata": {},
     "output_type": "execute_result"
    }
   ],
   "source": [
    "e[0]"
   ]
  },
  {
   "cell_type": "markdown",
   "id": "6acac699",
   "metadata": {},
   "source": [
    "Reversal mechanism"
   ]
  },
  {
   "cell_type": "code",
   "execution_count": 14,
   "id": "48ba798b",
   "metadata": {},
   "outputs": [
    {
     "data": {
      "text/plain": [
       "(3, 2, 1)"
      ]
     },
     "execution_count": 14,
     "metadata": {},
     "output_type": "execute_result"
    }
   ],
   "source": [
    "e[::-1]"
   ]
  },
  {
   "cell_type": "markdown",
   "id": "fa559498",
   "metadata": {},
   "source": [
    "- Program execution is faster when manipulating **tuples**\n",
    "- Sometimes we want immutable data\n",
    "- Dictionarie concept uses the immutable propierty."
   ]
  },
  {
   "cell_type": "markdown",
   "id": "ce66aa1d",
   "metadata": {},
   "source": [
    "# Packing and unpacking "
   ]
  },
  {
   "cell_type": "code",
   "execution_count": 15,
   "id": "e701170c",
   "metadata": {},
   "outputs": [],
   "source": [
    "(v1, v2, v3) = (2, 20, 200)"
   ]
  },
  {
   "cell_type": "code",
   "execution_count": 16,
   "id": "e7f7eb41",
   "metadata": {},
   "outputs": [
    {
     "data": {
      "text/plain": [
       "200"
      ]
     },
     "execution_count": 16,
     "metadata": {},
     "output_type": "execute_result"
    }
   ],
   "source": [
    "v3"
   ]
  },
  {
   "cell_type": "markdown",
   "id": "186950d4",
   "metadata": {},
   "source": [
    "You can test it without parenthesis."
   ]
  },
  {
   "cell_type": "markdown",
   "id": "5c52bf3b",
   "metadata": {},
   "source": [
    "# Modifying "
   ]
  },
  {
   "cell_type": "code",
   "execution_count": 17,
   "id": "b57bda77",
   "metadata": {},
   "outputs": [],
   "source": [
    "d = [1,2,3,4,5,6,7,8]"
   ]
  },
  {
   "cell_type": "code",
   "execution_count": 18,
   "id": "dad9a48a",
   "metadata": {},
   "outputs": [],
   "source": [
    "d[1:6]=[9]"
   ]
  },
  {
   "cell_type": "code",
   "execution_count": 19,
   "id": "af09f18a",
   "metadata": {},
   "outputs": [
    {
     "data": {
      "text/plain": [
       "[1, 9, 7, 8]"
      ]
     },
     "execution_count": 19,
     "metadata": {},
     "output_type": "execute_result"
    }
   ],
   "source": [
    "d"
   ]
  },
  {
   "cell_type": "markdown",
   "id": "b9591e08",
   "metadata": {},
   "source": [
    "We replace a specific slice of the list with a new value```d[1:6]=[9]```"
   ]
  },
  {
   "cell_type": "markdown",
   "id": "84ef7169",
   "metadata": {},
   "source": [
    "# Dictionaries"
   ]
  },
  {
   "cell_type": "markdown",
   "id": "c690724d",
   "metadata": {},
   "source": [
    "A dictionary is a collection which is \n",
    "    - **ordered**, \n",
    "    - **changeable** and \n",
    "    - **does not allow duplicates**.\n",
    "\n",
    "Dictionaries are used to store data values in ```key:value```pairs.\n",
    "\n"
   ]
  },
  {
   "cell_type": "code",
   "execution_count": 20,
   "id": "a4ae8f92",
   "metadata": {},
   "outputs": [
    {
     "name": "stdout",
     "output_type": "stream",
     "text": [
      "{'brand': 'Ford', 'model': 'Mustang', 'year': 1964}\n"
     ]
    }
   ],
   "source": [
    "thisdict =\t{\n",
    "  \"brand\": \"Ford\",\n",
    "  \"model\": \"Mustang\",\n",
    "  \"year\": 1964\n",
    "}\n",
    "print(thisdict)"
   ]
  },
  {
   "cell_type": "code",
   "execution_count": 21,
   "id": "83b4ddea",
   "metadata": {},
   "outputs": [
    {
     "name": "stdout",
     "output_type": "stream",
     "text": [
      "Ford\n"
     ]
    }
   ],
   "source": [
    " print(thisdict[\"brand\"])"
   ]
  },
  {
   "cell_type": "markdown",
   "id": "a111dbab",
   "metadata": {},
   "source": [
    "# Set"
   ]
  },
  {
   "cell_type": "markdown",
   "id": "596e8035",
   "metadata": {},
   "source": [
    "Sets are used to store multiple items in a single variable.\n",
    "A set is a collection which is **unordered, unchangeable**, and **unindexed**."
   ]
  },
  {
   "cell_type": "code",
   "execution_count": 22,
   "id": "e9906a45",
   "metadata": {},
   "outputs": [],
   "source": [
    " myset = {\"apple\", \"banana\", \"cherry\"} "
   ]
  },
  {
   "cell_type": "markdown",
   "id": "0c83170e",
   "metadata": {},
   "source": [
    "The items in the set \n",
    "    - do not have a defined order.\n",
    "    - Set items cannot be changed after the set has been created.\n",
    "    - and cannot be referred to by index or key"
   ]
  },
  {
   "cell_type": "code",
   "execution_count": 4,
   "id": "3ae6dc00",
   "metadata": {},
   "outputs": [
    {
     "name": "stdout",
     "output_type": "stream",
     "text": [
      "['a', ['bb', ['ccc', 'ddd'], 'ee', 'ff'], 'g', ['hh', 'ii'], 'j']\n"
     ]
    }
   ],
   "source": [
    "x=[]\n",
    "x.append('a')\n",
    "x.append(['bb',['ccc','ddd'],'ee','ff'])\n",
    "x.append('g')\n",
    "x.append(['hh','ii'])\n",
    "x.append('j')\n",
    "print(x)"
   ]
  },
  {
   "cell_type": "code",
   "execution_count": 18,
   "id": "c3fe1c78",
   "metadata": {},
   "outputs": [
    {
     "name": "stdout",
     "output_type": "stream",
     "text": [
      "('a', ('bb', ('ccc', 'ddd'), 'ee', 'ff'), 'g', ('hh', 'ii'), 'j')\n"
     ]
    }
   ],
   "source": [
    "v = ('a','bb','ccc','ddd','ee','ff','g','hh','ii','j')\n",
    "\n",
    "x2 = v[2:4]\n",
    "x3 = (v[1],x2,v[4],v[5])\n",
    "result =(v[0],x3,v[6],v[7:9],v[9])\n",
    "print(result)"
   ]
  },
  {
   "cell_type": "markdown",
   "id": "e93cdf52",
   "metadata": {},
   "source": [
    "# Exercises <a name=\"exercises\"></a>"
   ]
  },
  {
   "cell_type": "markdown",
   "id": "9da622ea",
   "metadata": {},
   "source": [
    "1. Create the list for the next diagram\n",
    "\n",
    "[<img src=\"https://files.realpython.com/media/t.08554d94a1e5.png\">](https://files.realpython.com/media/t.08554d94a1e5.png)\n",
    "\n",
    "<!---\n",
    "\n",
    "['a', ['bb', ['ccc', 'ddd'], 'ee', 'ff'], 'g', ['hh', 'ii'], 'j']\n",
    "--->"
   ]
  },
  {
   "cell_type": "markdown",
   "id": "daf57798",
   "metadata": {},
   "source": [
    "2. Implement some examples with methods such as\n",
    "    - ```append```\n",
    "    - ```upper```\n",
    "    - ```extend```\n",
    "    - ```insert```\n",
    "    - ```remove```\n",
    "    - ```pop```"
   ]
  },
  {
   "cell_type": "markdown",
   "id": "fb394f00",
   "metadata": {},
   "source": [
    "3. Apply basic operations with tuples\n",
    "4. Create a Jupyter Notebook and solve this NB's questions.\n",
    "5. Submmit your report in Moodle. Template https://www.overleaf.com/read/xqcnnnrsspcp"
   ]
  },
  {
   "cell_type": "markdown",
   "id": "95ab4aaf",
   "metadata": {},
   "source": [
    "## Versions"
   ]
  },
  {
   "cell_type": "code",
   "execution_count": 23,
   "id": "0fe40c33",
   "metadata": {},
   "outputs": [
    {
     "name": "stdout",
     "output_type": "stream",
     "text": [
      "python version:  3.7.4\n",
      "\u001b[33mYou are using pip version 9.0.1, however version 22.3 is available.\n",
      "You should consider upgrading via the 'pip install --upgrade pip' command.\u001b[0m\n"
     ]
    }
   ],
   "source": [
    "from platform import python_version\n",
    "print(\"python version: \", python_version())\n",
    "!pip3 freeze | grep qiskit"
   ]
  },
  {
   "cell_type": "markdown",
   "id": "ba20e5b7",
   "metadata": {},
   "source": [
    "# References <a name=\"references\"></a>"
   ]
  },
  {
   "cell_type": "markdown",
   "id": "6ce449fe",
   "metadata": {},
   "source": [
    "[1] https://realpython.com/python-lists-tuples/"
   ]
  }
 ],
 "metadata": {
  "kernelspec": {
   "display_name": "Python 3",
   "language": "python",
   "name": "python3"
  },
  "language_info": {
   "codemirror_mode": {
    "name": "ipython",
    "version": 3
   },
   "file_extension": ".py",
   "mimetype": "text/x-python",
   "name": "python",
   "nbconvert_exporter": "python",
   "pygments_lexer": "ipython3",
   "version": "3.7.4"
  },
  "vscode": {
   "interpreter": {
    "hash": "31f2aee4e71d21fbe5cf8b01ff0e069b9275f58929596ceb00d14d90e3e16cd6"
   }
  }
 },
 "nbformat": 4,
 "nbformat_minor": 5
}
