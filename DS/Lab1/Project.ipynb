{
 "cells": [
  {
   "cell_type": "code",
   "execution_count": 153,
   "id": "dd926964",
   "metadata": {},
   "outputs": [
    {
     "data": {
      "text/html": [
       "<div>\n",
       "<style scoped>\n",
       "    .dataframe tbody tr th:only-of-type {\n",
       "        vertical-align: middle;\n",
       "    }\n",
       "\n",
       "    .dataframe tbody tr th {\n",
       "        vertical-align: top;\n",
       "    }\n",
       "\n",
       "    .dataframe thead th {\n",
       "        text-align: right;\n",
       "    }\n",
       "</style>\n",
       "<table border=\"1\" class=\"dataframe\">\n",
       "  <thead>\n",
       "    <tr style=\"text-align: right;\">\n",
       "      <th></th>\n",
       "      <th>MODELYEAR</th>\n",
       "      <th>MAKE</th>\n",
       "      <th>MODEL</th>\n",
       "      <th>VEHICLECLASS</th>\n",
       "      <th>ENGINESIZE</th>\n",
       "      <th>CYLINDERS</th>\n",
       "      <th>TRANSMISSION</th>\n",
       "      <th>FUELTYPE</th>\n",
       "      <th>FUELCONSUMPTION_CITY</th>\n",
       "      <th>FUELCONSUMPTION_HWY</th>\n",
       "      <th>FUELCONSUMPTION_COMB</th>\n",
       "      <th>FUELCONSUMPTION_COMB_MPG</th>\n",
       "      <th>CO2EMISSIONS</th>\n",
       "    </tr>\n",
       "  </thead>\n",
       "  <tbody>\n",
       "    <tr>\n",
       "      <td>0</td>\n",
       "      <td>2014</td>\n",
       "      <td>ACURA</td>\n",
       "      <td>ILX</td>\n",
       "      <td>COMPACT</td>\n",
       "      <td>2.0</td>\n",
       "      <td>4</td>\n",
       "      <td>AS5</td>\n",
       "      <td>Z</td>\n",
       "      <td>9.9</td>\n",
       "      <td>6.7</td>\n",
       "      <td>8.5</td>\n",
       "      <td>33</td>\n",
       "      <td>196</td>\n",
       "    </tr>\n",
       "    <tr>\n",
       "      <td>1</td>\n",
       "      <td>2014</td>\n",
       "      <td>ACURA</td>\n",
       "      <td>ILX</td>\n",
       "      <td>COMPACT</td>\n",
       "      <td>2.4</td>\n",
       "      <td>4</td>\n",
       "      <td>M6</td>\n",
       "      <td>Z</td>\n",
       "      <td>11.2</td>\n",
       "      <td>7.7</td>\n",
       "      <td>9.6</td>\n",
       "      <td>29</td>\n",
       "      <td>221</td>\n",
       "    </tr>\n",
       "    <tr>\n",
       "      <td>2</td>\n",
       "      <td>2014</td>\n",
       "      <td>ACURA</td>\n",
       "      <td>ILX HYBRID</td>\n",
       "      <td>COMPACT</td>\n",
       "      <td>1.5</td>\n",
       "      <td>4</td>\n",
       "      <td>AV7</td>\n",
       "      <td>Z</td>\n",
       "      <td>6.0</td>\n",
       "      <td>5.8</td>\n",
       "      <td>5.9</td>\n",
       "      <td>48</td>\n",
       "      <td>136</td>\n",
       "    </tr>\n",
       "    <tr>\n",
       "      <td>3</td>\n",
       "      <td>2014</td>\n",
       "      <td>ACURA</td>\n",
       "      <td>MDX 4WD</td>\n",
       "      <td>SUV - SMALL</td>\n",
       "      <td>3.5</td>\n",
       "      <td>6</td>\n",
       "      <td>AS6</td>\n",
       "      <td>Z</td>\n",
       "      <td>12.7</td>\n",
       "      <td>9.1</td>\n",
       "      <td>11.1</td>\n",
       "      <td>25</td>\n",
       "      <td>255</td>\n",
       "    </tr>\n",
       "    <tr>\n",
       "      <td>4</td>\n",
       "      <td>2014</td>\n",
       "      <td>ACURA</td>\n",
       "      <td>RDX AWD</td>\n",
       "      <td>SUV - SMALL</td>\n",
       "      <td>3.5</td>\n",
       "      <td>6</td>\n",
       "      <td>AS6</td>\n",
       "      <td>Z</td>\n",
       "      <td>12.1</td>\n",
       "      <td>8.7</td>\n",
       "      <td>10.6</td>\n",
       "      <td>27</td>\n",
       "      <td>244</td>\n",
       "    </tr>\n",
       "  </tbody>\n",
       "</table>\n",
       "</div>"
      ],
      "text/plain": [
       "   MODELYEAR   MAKE       MODEL VEHICLECLASS  ENGINESIZE  CYLINDERS  \\\n",
       "0       2014  ACURA         ILX      COMPACT         2.0          4   \n",
       "1       2014  ACURA         ILX      COMPACT         2.4          4   \n",
       "2       2014  ACURA  ILX HYBRID      COMPACT         1.5          4   \n",
       "3       2014  ACURA     MDX 4WD  SUV - SMALL         3.5          6   \n",
       "4       2014  ACURA     RDX AWD  SUV - SMALL         3.5          6   \n",
       "\n",
       "  TRANSMISSION FUELTYPE  FUELCONSUMPTION_CITY  FUELCONSUMPTION_HWY  \\\n",
       "0          AS5        Z                   9.9                  6.7   \n",
       "1           M6        Z                  11.2                  7.7   \n",
       "2          AV7        Z                   6.0                  5.8   \n",
       "3          AS6        Z                  12.7                  9.1   \n",
       "4          AS6        Z                  12.1                  8.7   \n",
       "\n",
       "   FUELCONSUMPTION_COMB  FUELCONSUMPTION_COMB_MPG  CO2EMISSIONS  \n",
       "0                   8.5                        33           196  \n",
       "1                   9.6                        29           221  \n",
       "2                   5.9                        48           136  \n",
       "3                  11.1                        25           255  \n",
       "4                  10.6                        27           244  "
      ]
     },
     "execution_count": 153,
     "metadata": {},
     "output_type": "execute_result"
    }
   ],
   "source": [
    "import matplotlib.pyplot as plt\n",
    "import pandas as pd\n",
    "import pylab as pl\n",
    "import numpy as np\n",
    "import scipy.optimize as opt\n",
    "from sklearn import preprocessing\n",
    "from sklearn.model_selection import train_test_split\n",
    "from sklearn.linear_model import LogisticRegression\n",
    "from sklearn.metrics import confusion_matrix\n",
    "from sklearn.metrics import jaccard_score\n",
    "\n",
    "df = pd.read_csv(\"FuelConsumption.csv\")\n",
    "df.head()"
   ]
  },
  {
   "cell_type": "code",
   "execution_count": 154,
   "id": "29dd5307",
   "metadata": {},
   "outputs": [],
   "source": [
    "X = np.asarray(df[['ENGINESIZE','CYLINDERS','FUELCONSUMPTION_CITY','FUELCONSUMPTION_HWY']])\n",
    "y = np.asarray(df['CO2EMISSIONS'])\n",
    "X = preprocessing.StandardScaler().fit(X).transform(X)"
   ]
  },
  {
   "cell_type": "code",
   "execution_count": 155,
   "id": "ed185493",
   "metadata": {},
   "outputs": [
    {
     "name": "stdout",
     "output_type": "stream",
     "text": [
      "Train set: (533, 4) (533,)\n",
      "Test set: (534, 4) (534,)\n"
     ]
    }
   ],
   "source": [
    "X_train, X_test, y_train, y_test = train_test_split( X, y, test_size=0.5, random_state=4)\n",
    "print ('Train set:', X_train.shape,  y_train.shape)\n",
    "print ('Test set:', X_test.shape,  y_test.shape)"
   ]
  },
  {
   "cell_type": "code",
   "execution_count": 156,
   "id": "0f3afae4",
   "metadata": {},
   "outputs": [
    {
     "name": "stderr",
     "output_type": "stream",
     "text": [
      "/mounts/bowie/software/anaconda3/lib/python3.7/site-packages/sklearn/linear_model/logistic.py:469: FutureWarning: Default multi_class will be changed to 'auto' in 0.22. Specify the multi_class option to silence this warning.\n",
      "  \"this warning.\", FutureWarning)\n"
     ]
    },
    {
     "data": {
      "text/plain": [
       "LogisticRegression(C=0.01, class_weight=None, dual=False, fit_intercept=True,\n",
       "                   intercept_scaling=1, l1_ratio=None, max_iter=100,\n",
       "                   multi_class='warn', n_jobs=None, penalty='l2',\n",
       "                   random_state=None, solver='liblinear', tol=0.0001, verbose=0,\n",
       "                   warm_start=False)"
      ]
     },
     "execution_count": 156,
     "metadata": {},
     "output_type": "execute_result"
    }
   ],
   "source": [
    "LR = LogisticRegression(C=0.01, solver='liblinear').fit(X_train,y_train)\n",
    "LR"
   ]
  },
  {
   "cell_type": "code",
   "execution_count": 157,
   "id": "398ee87f",
   "metadata": {},
   "outputs": [],
   "source": [
    "yhat = LR.predict(X_test)"
   ]
  },
  {
   "cell_type": "code",
   "execution_count": 158,
   "id": "4f73fec0",
   "metadata": {},
   "outputs": [
    {
     "data": {
      "text/plain": [
       "array([[0.00719821, 0.00716747, 0.00716588, ..., 0.00717129, 0.00720434,\n",
       "        0.00717478],\n",
       "       [0.00724336, 0.00718865, 0.00719189, ..., 0.00711257, 0.00709381,\n",
       "        0.00708483],\n",
       "       [0.00720871, 0.00717202, 0.00717099, ..., 0.00716226, 0.00718659,\n",
       "        0.00716591],\n",
       "       ...,\n",
       "       [0.00721113, 0.00717216, 0.00717101, ..., 0.00715963, 0.00718187,\n",
       "        0.00716069],\n",
       "       [0.00710337, 0.00712435, 0.00712   , ..., 0.00724888, 0.00735533,\n",
       "        0.00728876],\n",
       "       [0.00716221, 0.00715189, 0.00715184, ..., 0.00718576, 0.00723321,\n",
       "        0.0071906 ]])"
      ]
     },
     "execution_count": 158,
     "metadata": {},
     "output_type": "execute_result"
    }
   ],
   "source": [
    "yhat_prob = LR.predict_proba(X_test)\n",
    "yhat_prob\n"
   ]
  },
  {
   "cell_type": "code",
   "execution_count": 159,
   "id": "a2bf5de0",
   "metadata": {},
   "outputs": [
    {
     "name": "stdout",
     "output_type": "stream",
     "text": [
      "              precision    recall  f1-score   support\n",
      "\n",
      "         108       0.00      0.00      0.00         1\n",
      "         124       0.00      0.00      0.00         1\n",
      "         126       0.00      0.00      0.00         1\n",
      "         131       0.00      0.00      0.00         1\n",
      "         138       0.00      0.00      0.00         2\n",
      "         143       0.00      0.00      0.00         1\n",
      "         145       0.00      0.00      0.00         1\n",
      "         147       0.00      0.00      0.00         1\n",
      "         152       0.00      0.00      0.00         1\n",
      "         159       0.00      0.00      0.00         2\n",
      "         161       0.00      0.00      0.00         4\n",
      "         162       0.00      0.00      0.00         1\n",
      "         163       0.00      0.00      0.00         2\n",
      "         165       0.00      0.00      0.00         2\n",
      "         166       0.00      0.00      0.00         2\n",
      "         168       0.00      0.00      0.00         6\n",
      "         170       0.00      0.00      0.00         2\n",
      "         172       0.00      0.00      0.00         1\n",
      "         173       0.00      0.00      0.00         1\n",
      "         175       0.00      0.00      0.00         6\n",
      "         177       0.00      0.00      0.00         8\n",
      "         179       0.00      0.00      0.00         9\n",
      "         181       0.00      0.00      0.00         1\n",
      "         182       0.00      0.00      0.00         3\n",
      "         184       0.00      0.00      0.00        11\n",
      "         186       0.00      0.00      0.00         4\n",
      "         189       0.00      0.00      0.00         4\n",
      "         191       0.00      0.00      0.00         6\n",
      "         193       0.00      0.00      0.00         3\n",
      "         194       0.00      0.00      0.00         2\n",
      "         196       0.00      0.00      0.00         9\n",
      "         198       0.00      0.00      0.00         9\n",
      "         200       0.00      0.00      0.00         9\n",
      "         202       0.00      0.00      0.00         5\n",
      "         205       0.00      0.00      0.00         4\n",
      "         207       0.00      0.00      0.00         6\n",
      "         209       0.03      1.00      0.05         6\n",
      "         212       0.00      0.00      0.00         6\n",
      "         214       0.00      0.00      0.00         5\n",
      "         216       0.00      0.00      0.00        10\n",
      "         218       0.00      0.00      0.00         2\n",
      "         221       0.00      0.00      0.00         6\n",
      "         222       0.00      0.00      0.00         1\n",
      "         223       0.00      0.00      0.00         3\n",
      "         224       0.00      0.00      0.00         1\n",
      "         225       0.00      0.00      0.00         6\n",
      "         228       0.00      0.00      0.00         4\n",
      "         229       0.00      0.00      0.00         2\n",
      "         230       0.00      0.00      0.00         9\n",
      "         232       0.00      0.00      0.00         7\n",
      "         235       0.00      0.00      0.00        10\n",
      "         237       0.00      0.00      0.00         9\n",
      "         239       0.00      0.00      0.00         5\n",
      "         242       0.00      0.00      0.00         5\n",
      "         244       0.00      0.00      0.00         4\n",
      "         246       0.00      0.00      0.00         6\n",
      "         248       0.00      0.00      0.00         4\n",
      "         250       0.00      0.00      0.00         1\n",
      "         251       0.00      0.00      0.00        12\n",
      "         253       0.00      0.00      0.00         9\n",
      "         254       0.00      0.00      0.00         1\n",
      "         255       0.00      0.00      0.00         7\n",
      "         256       0.00      0.00      0.00         1\n",
      "         258       0.00      0.00      0.00         8\n",
      "         259       0.00      0.00      0.00         2\n",
      "         260       0.00      0.00      0.00        11\n",
      "         262       0.00      0.00      0.00         7\n",
      "         264       0.00      0.00      0.00         7\n",
      "         265       0.00      0.00      0.00         1\n",
      "         267       0.00      0.00      0.00         7\n",
      "         269       0.00      0.00      0.00         6\n",
      "         271       0.00      0.00      0.00         9\n",
      "         272       0.00      0.00      0.00         1\n",
      "         274       0.00      0.00      0.00         7\n",
      "         276       0.00      0.00      0.00         3\n",
      "         277       0.00      0.00      0.00         1\n",
      "         278       0.00      0.00      0.00         7\n",
      "         280       0.00      0.00      0.00         1\n",
      "         281       0.00      0.00      0.00         5\n",
      "         283       0.00      0.00      0.00         6\n",
      "         285       0.00      0.00      0.00         6\n",
      "         288       0.00      0.00      0.00         3\n",
      "         290       0.00      0.00      0.00         4\n",
      "         292       0.00      0.00      0.00         9\n",
      "         294       0.08      0.33      0.13        15\n",
      "         297       0.00      0.00      0.00         6\n",
      "         299       0.00      0.00      0.00         3\n",
      "         301       0.00      0.00      0.00         4\n",
      "         304       0.00      0.00      0.00         4\n",
      "         306       0.00      0.00      0.00         3\n",
      "         308       0.00      0.00      0.00         6\n",
      "         310       0.00      0.00      0.00         2\n",
      "         313       0.00      0.00      0.00         1\n",
      "         315       0.00      0.00      0.00         3\n",
      "         317       0.07      0.86      0.13         7\n",
      "         318       0.00      0.00      0.00         1\n",
      "         320       0.00      0.00      0.00         3\n",
      "         322       0.00      0.00      0.00         4\n",
      "         324       0.00      0.00      0.00         1\n",
      "         327       0.00      0.00      0.00         1\n",
      "         329       0.00      0.00      0.00         2\n",
      "         334       0.00      0.00      0.00         4\n",
      "         336       0.00      0.00      0.00         3\n",
      "         338       0.00      0.00      0.00         4\n",
      "         340       0.00      0.00      0.00         4\n",
      "         342       0.00      0.00      0.00         2\n",
      "         343       0.00      0.00      0.00         1\n",
      "         344       0.00      0.00      0.00         3\n",
      "         345       0.00      0.00      0.00         1\n",
      "         346       0.00      0.00      0.00         2\n",
      "         347       0.00      0.00      0.00         3\n",
      "         350       0.00      0.00      0.00         1\n",
      "         352       0.00      0.00      0.00         1\n",
      "         354       0.00      0.00      0.00         5\n",
      "         356       0.00      0.00      0.00         2\n",
      "         359       0.00      0.00      0.00         5\n",
      "         361       0.00      0.00      0.00         4\n",
      "         362       0.00      0.00      0.00         2\n",
      "         363       0.00      0.00      0.00         1\n",
      "         366       0.00      0.00      0.00         1\n",
      "         368       0.00      0.00      0.00         2\n",
      "         373       0.00      0.00      0.00         1\n",
      "         377       0.00      0.00      0.00         2\n",
      "         380       0.13      0.78      0.23         9\n",
      "         382       0.00      0.00      0.00         3\n",
      "         384       0.00      0.00      0.00         1\n",
      "         386       0.00      0.00      0.00         1\n",
      "         393       0.00      0.00      0.00         3\n",
      "         396       0.00      0.00      0.00         1\n",
      "         402       0.00      0.00      0.00         1\n",
      "         407       0.00      0.00      0.00         2\n",
      "         409       0.00      0.00      0.00         1\n",
      "         411       0.00      0.00      0.00         1\n",
      "         413       0.00      0.00      0.00         2\n",
      "         414       0.00      0.00      0.00         1\n",
      "         421       0.00      0.00      0.00         1\n",
      "         432       0.00      0.00      0.00         1\n",
      "         437       0.00      0.00      0.00         1\n",
      "\n",
      "    accuracy                           0.04       534\n",
      "   macro avg       0.00      0.02      0.00       534\n",
      "weighted avg       0.01      0.04      0.01       534\n",
      "\n"
     ]
    },
    {
     "name": "stderr",
     "output_type": "stream",
     "text": [
      "/mounts/bowie/software/anaconda3/lib/python3.7/site-packages/sklearn/metrics/classification.py:1437: UndefinedMetricWarning: Precision and F-score are ill-defined and being set to 0.0 in labels with no predicted samples.\n",
      "  'precision', 'predicted', average, warn_for)\n"
     ]
    }
   ],
   "source": [
    "print (classification_report(y_test, yhat))"
   ]
  },
  {
   "cell_type": "code",
   "execution_count": 160,
   "id": "02606d62",
   "metadata": {},
   "outputs": [
    {
     "data": {
      "text/plain": [
       "4.904848706469134"
      ]
     },
     "execution_count": 160,
     "metadata": {},
     "output_type": "execute_result"
    }
   ],
   "source": [
    "from sklearn.metrics import log_loss\n",
    "log_loss(y_test, yhat_prob)"
   ]
  },
  {
   "cell_type": "code",
   "execution_count": 161,
   "id": "a5fd4bbf",
   "metadata": {},
   "outputs": [
    {
     "name": "stdout",
     "output_type": "stream",
     "text": [
      "Coefficients:  39.14172749605657 \n",
      "Intercept:  125.55666508255271\n"
     ]
    }
   ],
   "source": [
    "from sklearn import linear_model\n",
    "cdf = df[['ENGINESIZE','CYLINDERS','FUELCONSUMPTION_CITY','FUELCONSUMPTION_HWY','CO2EMISSIONS']]\n",
    "msk = np.random.rand(len(df)) < 0.8\n",
    "set_1 = cdf[msk]\n",
    "set_2 = cdf[~msk]\n",
    "\n",
    "train_x = np.asanyarray(set_1[['ENGINESIZE']])\n",
    "train_y = np.asanyarray(set_1[['CO2EMISSIONS']])\n",
    "\n",
    "\n",
    "regr = linear_model.LinearRegression()\n",
    "\n",
    "\n",
    "\n",
    "regr.fit (train_x, train_y)\n",
    "# The coefficients\n",
    "print ('Coefficients: ', regr.coef_[0][0],'\\nIntercept: ',regr.intercept_[0])"
   ]
  },
  {
   "cell_type": "code",
   "execution_count": 162,
   "id": "5233ea63",
   "metadata": {},
   "outputs": [
    {
     "data": {
      "image/png": "[encoded data removed]",
      "text/plain": [
       "<Figure size 432x288 with 1 Axes>"
      ]
     },
     "metadata": {
      "needs_background": "light"
     },
     "output_type": "display_data"
    }
   ],
   "source": [
    "plt.scatter(set_1.ENGINESIZE, set_1.CO2EMISSIONS,  color='blue')\n",
    "plt.title(\"ENGINESIZE vs CO2EMISSIONS\")\n",
    "plt.xlabel(\"ENGINESIZE\")\n",
    "plt.ylabel(r\"CO2EMISSIONS\")\n",
    "m, b = np.polyfit(set_1.ENGINESIZE, set_1.CO2EMISSIONS, 1)\n",
    "\n",
    "plt.plot(set_1.ENGINESIZE, m*set_1.ENGINESIZE+b,\"r\")\n",
    "plt.show()"
   ]
  },
  {
   "cell_type": "code",
   "execution_count": 163,
   "id": "42170af2",
   "metadata": {},
   "outputs": [
    {
     "name": "stdout",
     "output_type": "stream",
     "text": [
      "[[1.         0.86952136]\n",
      " [0.86952136 1.        ]]\n",
      "1.4308775941983092\n"
     ]
    }
   ],
   "source": [
    "from sklearn.metrics import mean_squared_error\n",
    "import math\n",
    "\n",
    "r = np.corrcoef(set_1.ENGINESIZE, set_1.CO2EMISSIONS)\n",
    "print(r)\n",
    "\n",
    "X_test = X_test[0:-1]\n",
    "MSE = mean_squared_error(X_train, X_test)\n",
    " \n",
    "RMSE = math.sqrt(MSE)\n",
    "print(RMSE)"
   ]
  },
  {
   "cell_type": "code",
   "execution_count": 94,
   "id": "d21b62bd",
   "metadata": {},
   "outputs": [
    {
     "name": "stdout",
     "output_type": "stream",
     "text": [
      "      ENGINESIZE  CYLINDERS  FUELCONSUMPTION_CITY  FUELCONSUMPTION_HWY  \\\n",
      "0            2.0          4                   9.9                  6.7   \n",
      "1            2.4          4                  11.2                  7.7   \n",
      "2            1.5          4                   6.0                  5.8   \n",
      "3            3.5          6                  12.7                  9.1   \n",
      "4            3.5          6                  12.1                  8.7   \n",
      "...          ...        ...                   ...                  ...   \n",
      "1062         3.0          6                  13.4                  9.8   \n",
      "1063         3.2          6                  13.2                  9.5   \n",
      "1064         3.0          6                  13.4                  9.8   \n",
      "1065         3.2          6                  12.9                  9.3   \n",
      "1066         3.2          6                  14.9                 10.2   \n",
      "\n",
      "      CO2EMISSIONS  \n",
      "0              196  \n",
      "1              221  \n",
      "2              136  \n",
      "3              255  \n",
      "4              244  \n",
      "...            ...  \n",
      "1062           271  \n",
      "1063           264  \n",
      "1064           271  \n",
      "1065           260  \n",
      "1066           294  \n",
      "\n",
      "[1067 rows x 5 columns]\n"
     ]
    },
    {
     "data": {
      "image/png": "[encoded data removed]",
      "text/plain": [
       "<Figure size 432x288 with 6 Axes>"
      ]
     },
     "metadata": {
      "needs_background": "light"
     },
     "output_type": "display_data"
    }
   ],
   "source": [
    "Seldf = df[['ENGINESIZE','CYLINDERS','FUELCONSUMPTION_CITY','FUELCONSUMPTION_HWY','CO2EMISSIONS']]\n",
    "SeldfHistogram = Seldf[['ENGINESIZE','CYLINDERS','FUELCONSUMPTION_CITY','FUELCONSUMPTION_HWY','CO2EMISSIONS']]\n",
    "\n",
    "SeldfHistogram.hist(facecolor='g', alpha=0.75)\n",
    "plt.grid(True)\n",
    "plt.show()"
   ]
  },
  {
   "cell_type": "code",
   "execution_count": 106,
   "id": "14981caa",
   "metadata": {},
   "outputs": [
    {
     "name": "stdout",
     "output_type": "stream",
     "text": [
      "[3.3462980318650346, 5.794751640112465, 13.296532333645752, 9.47460168697282, 256.2286785379569]\n"
     ]
    }
   ],
   "source": [
    "cols = ['ENGINESIZE','CYLINDERS','FUELCONSUMPTION_CITY','FUELCONSUMPTION_HWY','CO2EMISSIONS']\n",
    "means =[]\n",
    "for i in cols:\n",
    "    means.append(df[i].mean())\n",
    "print(means)"
   ]
  },
  {
   "cell_type": "code",
   "execution_count": 113,
   "id": "7bc1a213",
   "metadata": {},
   "outputs": [
    {
     "data": {
      "image/png": "[encoded data removed]",
      "text/plain": [
       "<Figure size 288x180 with 1 Axes>"
      ]
     },
     "metadata": {
      "needs_background": "light"
     },
     "output_type": "display_data"
    }
   ],
   "source": [
    "def mae_loss(theta, y_vals):\n",
    "    return np.mean(np.abs(y_vals - theta))\n",
    "\n",
    "thetas = np.arange(-2, 8, 0.05)\n",
    "y_vals=np.array([3.3462980318650346, 5.794751640112465, 13.296532333645752, 9.47460168697282, 256.2286785379569])\n",
    "losses = [mae_loss(theta, y_vals) for theta in thetas]\n",
    "\n",
    "plt.figure(figsize=(4, 2.5))\n",
    "plt.plot(thetas, losses)\n",
    "plt.axvline(np.median(y_vals), linestyle='--',\n",
    "                    label=rf'Median: $\\theta = 2$')\n",
    "plt.title(r'Mean Absolute Error when $\\bf{y}$$ = [3.3462980318650346, 5.794751640112465, 13.296532333645752, 9.47460168697282, 256.2286785379569] $')\n",
    "plt.xlabel(r'$ \\theta $ Values')\n",
    "plt.ylabel('Loss');\n",
    "plt.legend();"
   ]
  },
  {
   "cell_type": "code",
   "execution_count": null,
   "id": "7f0bda2a",
   "metadata": {},
   "outputs": [],
   "source": []
  }
 ],
 "metadata": {
  "kernelspec": {
   "display_name": "Python 3",
   "language": "python",
   "name": "python3"
  },
  "language_info": {
   "codemirror_mode": {
    "name": "ipython",
    "version": 3
   },
   "file_extension": ".py",
   "mimetype": "text/x-python",
   "name": "python",
   "nbconvert_exporter": "python",
   "pygments_lexer": "ipython3",
   "version": "3.7.4"
  }
 },
 "nbformat": 4,
 "nbformat_minor": 5
}
