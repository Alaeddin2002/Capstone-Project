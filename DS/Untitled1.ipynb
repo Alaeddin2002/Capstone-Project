{
 "cells": [
  {
   "cell_type": "code",
   "execution_count": 3,
   "id": "db334afc",
   "metadata": {},
   "outputs": [
    {
     "name": "stdout",
     "output_type": "stream",
     "text": [
      "(y + 1)/(-y**2 + y)\n"
     ]
    }
   ],
   "source": [
    "from sympy import *\n",
    "\n",
    "y= symbols('y')\n",
    "\n",
    "expression = ((y*(1+y))/(y*(-y**2+y)))\n",
    "\n",
    "print(expression)"
   ]
  },
  {
   "cell_type": "code",
   "execution_count": 23,
   "id": "5de8bf72",
   "metadata": {},
   "outputs": [
    {
     "name": "stdout",
     "output_type": "stream",
     "text": [
      "3\n"
     ]
    }
   ],
   "source": [
    "a = 8\n",
    "b = 2\n",
    "x = log (a,b)\n",
    "print (x)"
   ]
  },
  {
   "cell_type": "code",
   "execution_count": 46,
   "id": "bb1cdd10",
   "metadata": {},
   "outputs": [
    {
     "name": "stdout",
     "output_type": "stream",
     "text": [
      "2.5937424601 2.7048138294215263 2.7169239322358925\n"
     ]
    }
   ],
   "source": [
    "x= symbols('x')\n",
    "f = ((1+(1/x))**x)\n",
    "result = limit(f,x,10)\n",
    "result2 = limit(f,x,100)\n",
    "result3 = limit(f,x,1000)\n",
    "print(float(result),float(result2),float(result3))"
   ]
  },
  {
   "cell_type": "code",
   "execution_count": 6,
   "id": "c6acd597",
   "metadata": {},
   "outputs": [
    {
     "name": "stdout",
     "output_type": "stream",
     "text": [
      "2 6*y\n"
     ]
    }
   ],
   "source": [
    "x,y = symbols('x y')\n",
    "f = 2*x + 3*y**2\n",
    "dx_f = diff(f,x)\n",
    "dy_f = diff(f,y)\n",
    "print(dx_f,dy_f)"
   ]
  },
  {
   "cell_type": "code",
   "execution_count": 66,
   "id": "b970f224",
   "metadata": {},
   "outputs": [],
   "source": [
    "def derivativeX(f,x,y,stepsize):\n",
    "    num = (f(x + stepsize)-f(x))\n",
    "    num2 = (f(y + stepsize)-f(y))\n",
    "    den = ((x+stepsize)-x)\n",
    "    den2 = ((y+stepsize)-y)\n",
    "    return num/den,num2/den2\n"
   ]
  },
  {
   "cell_type": "code",
   "execution_count": 67,
   "id": "603bc766",
   "metadata": {},
   "outputs": [],
   "source": [
    "def myFunction(x,y):\n",
    "    return 2*x**3,3*y**3\n"
   ]
  },
  {
   "cell_type": "code",
   "execution_count": 68,
   "id": "3cba57ab",
   "metadata": {},
   "outputs": [
    {
     "ename": "TypeError",
     "evalue": "myFunction() missing 1 required positional argument: 'y'",
     "output_type": "error",
     "traceback": [
      "\u001b[0;31m---------------------------------------------------------------------------\u001b[0m",
      "\u001b[0;31mTypeError\u001b[0m                                 Traceback (most recent call last)",
      "\u001b[0;32m<ipython-input-68-b4b006cd3192>\u001b[0m in \u001b[0;36m<module>\u001b[0;34m\u001b[0m\n\u001b[0;32m----> 1\u001b[0;31m \u001b[0mslopeAtX\u001b[0m \u001b[0;34m=\u001b[0m \u001b[0mderivativeX\u001b[0m\u001b[0;34m(\u001b[0m\u001b[0mmyFunction\u001b[0m\u001b[0;34m,\u001b[0m\u001b[0;36m1\u001b[0m\u001b[0;34m,\u001b[0m\u001b[0;34m-\u001b[0m\u001b[0;36m2\u001b[0m\u001b[0;34m,\u001b[0m\u001b[0;36m0.00001\u001b[0m\u001b[0;34m)\u001b[0m\u001b[0;34m\u001b[0m\u001b[0;34m\u001b[0m\u001b[0m\n\u001b[0m",
      "\u001b[0;32m<ipython-input-66-1b8f8e4e9208>\u001b[0m in \u001b[0;36mderivativeX\u001b[0;34m(f, x, y, stepsize)\u001b[0m\n\u001b[1;32m      1\u001b[0m \u001b[0;32mdef\u001b[0m \u001b[0mderivativeX\u001b[0m\u001b[0;34m(\u001b[0m\u001b[0mf\u001b[0m\u001b[0;34m,\u001b[0m\u001b[0mx\u001b[0m\u001b[0;34m,\u001b[0m\u001b[0my\u001b[0m\u001b[0;34m,\u001b[0m\u001b[0mstepsize\u001b[0m\u001b[0;34m)\u001b[0m\u001b[0;34m:\u001b[0m\u001b[0;34m\u001b[0m\u001b[0;34m\u001b[0m\u001b[0m\n\u001b[0;32m----> 2\u001b[0;31m     \u001b[0mnum\u001b[0m \u001b[0;34m=\u001b[0m \u001b[0;34m(\u001b[0m\u001b[0mf\u001b[0m\u001b[0;34m(\u001b[0m\u001b[0mx\u001b[0m \u001b[0;34m+\u001b[0m \u001b[0mstepsize\u001b[0m\u001b[0;34m)\u001b[0m\u001b[0;34m-\u001b[0m\u001b[0mf\u001b[0m\u001b[0;34m(\u001b[0m\u001b[0mx\u001b[0m\u001b[0;34m)\u001b[0m\u001b[0;34m)\u001b[0m\u001b[0;34m\u001b[0m\u001b[0;34m\u001b[0m\u001b[0m\n\u001b[0m\u001b[1;32m      3\u001b[0m     \u001b[0mnum2\u001b[0m \u001b[0;34m=\u001b[0m \u001b[0;34m(\u001b[0m\u001b[0mf\u001b[0m\u001b[0;34m(\u001b[0m\u001b[0my\u001b[0m \u001b[0;34m+\u001b[0m \u001b[0mstepsize\u001b[0m\u001b[0;34m)\u001b[0m\u001b[0;34m-\u001b[0m\u001b[0mf\u001b[0m\u001b[0;34m(\u001b[0m\u001b[0my\u001b[0m\u001b[0;34m)\u001b[0m\u001b[0;34m)\u001b[0m\u001b[0;34m\u001b[0m\u001b[0;34m\u001b[0m\u001b[0m\n\u001b[1;32m      4\u001b[0m     \u001b[0mden\u001b[0m \u001b[0;34m=\u001b[0m \u001b[0;34m(\u001b[0m\u001b[0;34m(\u001b[0m\u001b[0mx\u001b[0m\u001b[0;34m+\u001b[0m\u001b[0mstepsize\u001b[0m\u001b[0;34m)\u001b[0m\u001b[0;34m-\u001b[0m\u001b[0mx\u001b[0m\u001b[0;34m)\u001b[0m\u001b[0;34m\u001b[0m\u001b[0;34m\u001b[0m\u001b[0m\n\u001b[1;32m      5\u001b[0m     \u001b[0mden2\u001b[0m \u001b[0;34m=\u001b[0m \u001b[0;34m(\u001b[0m\u001b[0;34m(\u001b[0m\u001b[0my\u001b[0m\u001b[0;34m+\u001b[0m\u001b[0mstepsize\u001b[0m\u001b[0;34m)\u001b[0m\u001b[0;34m-\u001b[0m\u001b[0my\u001b[0m\u001b[0;34m)\u001b[0m\u001b[0;34m\u001b[0m\u001b[0;34m\u001b[0m\u001b[0m\n",
      "\u001b[0;31mTypeError\u001b[0m: myFunction() missing 1 required positional argument: 'y'"
     ]
    }
   ],
   "source": [
    "slopeAtX = derivativeX(myFunction,1,-2,0.00001)"
   ]
  },
  {
   "cell_type": "code",
   "execution_count": 63,
   "id": "95fcd550",
   "metadata": {},
   "outputs": [
    {
     "name": "stdout",
     "output_type": "stream",
     "text": [
      "0\n"
     ]
    }
   ],
   "source": [
    "print(slopeAtX)"
   ]
  },
  {
   "cell_type": "code",
   "execution_count": 28,
   "id": "a21e4843",
   "metadata": {},
   "outputs": [],
   "source": [
    "def derivativeY(f,y,stepsize):\n",
    "    num = (f(y + stepsize)-f(y))\n",
    "    den = ((y+stepsize)-y)\n",
    "    return num/den"
   ]
  },
  {
   "cell_type": "code",
   "execution_count": 29,
   "id": "f225ec8d",
   "metadata": {},
   "outputs": [],
   "source": [
    "def myFunction(y):\n",
    "    return 3*y**3"
   ]
  },
  {
   "cell_type": "code",
   "execution_count": 35,
   "id": "91f30d7d",
   "metadata": {},
   "outputs": [
    {
     "name": "stdout",
     "output_type": "stream",
     "text": [
      "35.99982000016274\n"
     ]
    }
   ],
   "source": [
    "slopeAtY = derivativeY(myFunction,-2,0.00001)\n",
    "print(slopeAtY)"
   ]
  },
  {
   "cell_type": "code",
   "execution_count": 12,
   "id": "f8e43532",
   "metadata": {},
   "outputs": [],
   "source": [
    "x = symbols('x')\n",
    "f = x**2+x*y\n",
    "area = integrate(f,(y,0,1))\n",
    "area2 = integrate(area,(x,-1,1))"
   ]
  },
  {
   "cell_type": "code",
   "execution_count": 13,
   "id": "98378bb1",
   "metadata": {},
   "outputs": [
    {
     "name": "stdout",
     "output_type": "stream",
     "text": [
      "2/3\n"
     ]
    }
   ],
   "source": [
    "print(area2)"
   ]
  },
  {
   "cell_type": "code",
   "execution_count": 4,
   "id": "1c3c03d4",
   "metadata": {},
   "outputs": [],
   "source": [
    "import numpy as np\n",
    "import scipy as sp\n",
    "import matplotlib as mpl\n",
    "import pandas as pd"
   ]
  },
  {
   "cell_type": "code",
   "execution_count": null,
   "id": "fe1851ac",
   "metadata": {},
   "outputs": [],
   "source": []
  }
 ],
 "metadata": {
  "kernelspec": {
   "display_name": "Python 3.9",
   "language": "python",
   "name": "py39"
  },
  "language_info": {
   "codemirror_mode": {
    "name": "ipython",
    "version": 3
   },
   "file_extension": ".py",
   "mimetype": "text/x-python",
   "name": "python",
   "nbconvert_exporter": "python",
   "pygments_lexer": "ipython3",
   "version": "3.9.1"
  }
 },
 "nbformat": 4,
 "nbformat_minor": 5
}
