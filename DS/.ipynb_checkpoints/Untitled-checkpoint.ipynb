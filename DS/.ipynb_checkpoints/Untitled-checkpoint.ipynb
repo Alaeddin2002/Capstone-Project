{
 "cells": [
  {
   "cell_type": "code",
   "execution_count": 2,
   "id": "d571f831",
   "metadata": {},
   "outputs": [
    {
     "data": {
      "text/plain": [
       "2.0"
      ]
     },
     "execution_count": 2,
     "metadata": {},
     "output_type": "execute_result"
    }
   ],
   "source": [
    "import math\n",
    "#Integrate\n",
    "#math.sin(math.pi)-math.sin(0)\n",
    "-math.cos(math.pi)+math.cos(0)"
   ]
  },
  {
   "cell_type": "code",
   "execution_count": 15,
   "id": "3c130d28",
   "metadata": {},
   "outputs": [
    {
     "data": {
      "text/plain": [
       "3.2538242315384096"
      ]
     },
     "execution_count": 15,
     "metadata": {},
     "output_type": "execute_result"
    }
   ],
   "source": [
    "import numpy as np\n",
    "#e^x − cos 2x + x^3 − 4xdx\n",
    "#integrate\n",
    "#e^x − (2sin 2x)/4 + (x^4)/4 − 2x^2 dx\n",
    "#substitute\n",
    "(math.exp(2) - (2*math.sin (4))/4 + (16)/4 - 2*4)-(math.exp(1) - ((2*math.sin (2)))/4 + (1)/4 - 2)"
   ]
  },
  {
   "cell_type": "code",
   "execution_count": 16,
   "id": "7a00afd0",
   "metadata": {},
   "outputs": [
    {
     "data": {
      "text/plain": [
       "3.356194490192345"
      ]
     },
     "execution_count": 16,
     "metadata": {},
     "output_type": "execute_result"
    }
   ],
   "source": [
    "#cos x +1/2 dx\n",
    "#Integrate\n",
    "#Sin(x) + x/2 + C\n",
    "#Substitute  pi and -pi/2\n",
    "math.sin(math.pi) + math.pi/2 - (math.sin(-math.pi/2) + (-math.pi/2)/2)"
   ]
  },
  {
   "cell_type": "code",
   "execution_count": null,
   "id": "3c2547b3",
   "metadata": {},
   "outputs": [],
   "source": []
  }
 ],
 "metadata": {
  "kernelspec": {
   "display_name": "Python 3",
   "language": "python",
   "name": "python3"
  },
  "language_info": {
   "codemirror_mode": {
    "name": "ipython",
    "version": 3
   },
   "file_extension": ".py",
   "mimetype": "text/x-python",
   "name": "python",
   "nbconvert_exporter": "python",
   "pygments_lexer": "ipython3",
   "version": "3.7.4"
  }
 },
 "nbformat": 4,
 "nbformat_minor": 5
}
