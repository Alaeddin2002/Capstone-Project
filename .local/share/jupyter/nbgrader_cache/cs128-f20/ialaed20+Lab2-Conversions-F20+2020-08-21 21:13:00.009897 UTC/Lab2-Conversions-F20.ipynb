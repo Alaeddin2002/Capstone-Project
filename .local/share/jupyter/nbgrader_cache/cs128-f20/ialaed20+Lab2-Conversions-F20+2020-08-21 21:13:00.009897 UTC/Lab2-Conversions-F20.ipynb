{
 "cells": [
  {
   "cell_type": "markdown",
   "metadata": {},
   "source": [
    "Before you turn this problem in, make sure everything runs as expected. First, **restart the kernel** (in the menubar, select Kernel$\\rightarrow$Restart) and then **run all cells** (in the menubar, select Cell$\\rightarrow$Run All).\n",
    "\n",
    "Make sure you fill in any place that says `YOUR CODE HERE` or \"YOUR ANSWER HERE\", as well as your name and collaborators below:"
   ]
  },
  {
   "cell_type": "code",
   "execution_count": null,
   "metadata": {},
   "outputs": [],
   "source": [
    "NAME = \"\"\n",
    "COLLABORATORS = \"\""
   ]
  },
  {
   "cell_type": "markdown",
   "metadata": {},
   "source": [
    "---"
   ]
  },
  {
   "cell_type": "markdown",
   "metadata": {
    "collapsed": true,
    "deletable": false,
    "editable": false,
    "nbgrader": {
     "cell_type": "markdown",
     "checksum": "ba585b3617e9aaaeacb9bf4ea35bef4b",
     "grade": false,
     "grade_id": "cell-def179028d20be33",
     "locked": true,
     "schema_version": 3,
     "solution": false,
     "task": false
    }
   },
   "source": [
    "# Lab 2: Conversions\n",
    "**Read instructions carefully.**\n",
    "---\n",
    "This lab provides you with practice for using:\n",
    "1. Functions together,\n",
    "2. Python packages,\n",
    "3. Basic strategies for scientific computations.\n",
    "    \n",
    "Especially on the more complex exercises, you should attempt to sketch out a design on paper before you code. Be sure to check that your functions are named correctly; it is important that function names match the given specification.\n",
    "\n",
    "All of the exercises below should use return statements, rather than just printing their outputs. Return statements look like this:\n",
    "\n",
    "    return output_val\n",
    "  \n",
    "Where output_val is the value that the function should return. If you feel confused about the difference between printing and returning, please ask.\n",
    "\n",
    "Functions defined in one cell can be used in following cells. Once you write a function, you can use it in a later cell, just like you could use a built-in Python functions.\n",
    "\n",
    "All functions should should take parameters instead of using the input() function. A function that takes two parameters might have a def statement that looks like this:\n",
    "\n",
    "    def rectangle_area(length, height):\n",
    "\n"
   ]
  },
  {
   "cell_type": "markdown",
   "metadata": {
    "collapsed": true,
    "deletable": false,
    "editable": false,
    "nbgrader": {
     "cell_type": "markdown",
     "checksum": "03006d4d7c7b04935c1c437a7755f8c5",
     "grade": false,
     "grade_id": "Divider1-1",
     "locked": true,
     "schema_version": 3,
     "solution": false
    }
   },
   "source": [
    "## Exercise 1 - Distances\n",
    "---\n",
    "### Exercise 1.1\n",
    "---\n",
    "Define a function called **cm_to_in** that takes distance in centimeters **as a parameter** and **returns** the equivalent distance in inches. There are 0.393701 inches in 1 centimeter. It is important that your function **returns** the value that it calculates, rather than printing it."
   ]
  },
  {
   "cell_type": "code",
   "execution_count": 15,
   "metadata": {
    "deletable": false,
    "nbgrader": {
     "cell_type": "code",
     "checksum": "ef47925fb05a94fe84f34a60078cd62f",
     "grade": false,
     "grade_id": "Part1-1",
     "locked": false,
     "schema_version": 3,
     "solution": true
    }
   },
   "outputs": [
    {
     "data": {
      "text/plain": [
       "0.787402"
      ]
     },
     "execution_count": 15,
     "metadata": {},
     "output_type": "execute_result"
    }
   ],
   "source": [
    "# YOUR CODE HERE\n",
    "def cm_to_in(cm):\n",
    "    cm_in_inches = 0.393701*cm \n",
    "    return cm_in_inches\n",
    "cm_to_in(2)"
   ]
  },
  {
   "cell_type": "markdown",
   "metadata": {
    "deletable": false,
    "editable": false,
    "nbgrader": {
     "cell_type": "markdown",
     "checksum": "c592108ae47557263b8be5d51407c12c",
     "grade": false,
     "grade_id": "Divider1-2",
     "locked": true,
     "schema_version": 3,
     "solution": false
    }
   },
   "source": [
    "### Exercise 1.2\n",
    "---\n",
    "Define a function called **in_to_cm** that takes distance in inches **as a parameter** and **returns** the equivalent distance in centimeters."
   ]
  },
  {
   "cell_type": "code",
   "execution_count": 16,
   "metadata": {
    "deletable": false,
    "nbgrader": {
     "cell_type": "code",
     "checksum": "a5bb1ad1ce18f54e7966e6488e0aaae4",
     "grade": false,
     "grade_id": "Part1-2",
     "locked": false,
     "schema_version": 3,
     "solution": true
    }
   },
   "outputs": [
    {
     "data": {
      "text/plain": [
       "2.00000108"
      ]
     },
     "execution_count": 16,
     "metadata": {},
     "output_type": "execute_result"
    }
   ],
   "source": [
    "# YOUR CODE HERE\n",
    "def in_to_cm(inc):\n",
    "    inches_in_cm = 2.54 * inc \n",
    "    return inches_in_cm\n",
    "in_to_cm(0.787402)"
   ]
  },
  {
   "cell_type": "markdown",
   "metadata": {
    "deletable": false,
    "editable": false,
    "nbgrader": {
     "cell_type": "markdown",
     "checksum": "c0406984a2e42bbf02795b2572557967",
     "grade": false,
     "grade_id": "Divider1-3",
     "locked": true,
     "schema_version": 3,
     "solution": false
    }
   },
   "source": [
    "### Exercise 1.3\n",
    "---\n",
    "Now, define a function called **in_to_ft** that takes distance in inches **as a parameter** and **returns** the equivalent distance in feet. Remember that there are 12 inches in a foot."
   ]
  },
  {
   "cell_type": "code",
   "execution_count": 36,
   "metadata": {
    "deletable": false,
    "nbgrader": {
     "cell_type": "code",
     "checksum": "01bfda92745fa062f6f6ca85bd6bfbda",
     "grade": false,
     "grade_id": "Part1-3",
     "locked": false,
     "schema_version": 3,
     "solution": true
    }
   },
   "outputs": [
    {
     "data": {
      "text/plain": [
       "0.16666666666666666"
      ]
     },
     "execution_count": 36,
     "metadata": {},
     "output_type": "execute_result"
    }
   ],
   "source": [
    "# YOUR CODE HERE\n",
    "def in_to_ft(ft):\n",
    "    inches_to_feet = ft/12\n",
    "    return inches_to_feet \n",
    "in_to_ft(2)"
   ]
  },
  {
   "cell_type": "markdown",
   "metadata": {
    "deletable": false,
    "editable": false,
    "nbgrader": {
     "cell_type": "markdown",
     "checksum": "2149b09a5e1e257eef6d2fc438eb1bd3",
     "grade": false,
     "grade_id": "Divider1-4",
     "locked": true,
     "schema_version": 3,
     "solution": false
    }
   },
   "source": [
    "### Exercise 1.4\n",
    "---\n",
    "Now, define a function called **ft_to_mi** that takes distance in feet **as a parameter** and **returns** the equivalent distance in miles. There are 5280 ft in 1 mile."
   ]
  },
  {
   "cell_type": "code",
   "execution_count": 24,
   "metadata": {
    "deletable": false,
    "nbgrader": {
     "cell_type": "code",
     "checksum": "967e13831046f5b986bc96e8dc8e3310",
     "grade": false,
     "grade_id": "Part1-4",
     "locked": false,
     "schema_version": 3,
     "solution": true
    }
   },
   "outputs": [
    {
     "data": {
      "text/plain": [
       "2.0"
      ]
     },
     "execution_count": 24,
     "metadata": {},
     "output_type": "execute_result"
    }
   ],
   "source": [
    "# YOUR CODE HERE\n",
    "def ft_to_mi(ft):\n",
    "    feet_to_miles = ft/5280\n",
    "    return feet_to_miles\n",
    "\n",
    "ft_to_mi(10560)"
   ]
  },
  {
   "cell_type": "markdown",
   "metadata": {
    "deletable": false,
    "editable": false,
    "nbgrader": {
     "cell_type": "markdown",
     "checksum": "ed0eea5ddc44bb61d47e70ca99df44bd",
     "grade": false,
     "grade_id": "Divider1-5",
     "locked": true,
     "schema_version": 3,
     "solution": false
    }
   },
   "source": [
    "### Exercise 1.5\n",
    "---\n",
    "Define a function called **cm_to_mi** that takes distance in centimeters **as a parameter** and **returns** the equivalent distance in miles. Call the functions that you have written above inside of this function. This function should not do any arithmetic on its own."
   ]
  },
  {
   "cell_type": "code",
   "execution_count": 87,
   "metadata": {
    "deletable": false,
    "nbgrader": {
     "cell_type": "code",
     "checksum": "807665f459a09150828a88bb9671e332",
     "grade": false,
     "grade_id": "Part1-5",
     "locked": false,
     "schema_version": 3,
     "solution": true
    }
   },
   "outputs": [
    {
     "data": {
      "text/plain": [
       "0.006213715277777778"
      ]
     },
     "execution_count": 87,
     "metadata": {},
     "output_type": "execute_result"
    }
   ],
   "source": [
    "# YOUR CODE HERE\n",
    "def  cm_to_mi(n):\n",
    "    inches = cm_to_in(n)\n",
    "    feet = in_to_ft (inches)\n",
    "    miles = ft_to_mi (feet)\n",
    "    return (miles)\n",
    "    \n",
    "\n",
    "cm_to_mi(1000)    \n",
    "    \n",
    "    "
   ]
  },
  {
   "cell_type": "markdown",
   "metadata": {
    "deletable": false,
    "editable": false,
    "nbgrader": {
     "cell_type": "markdown",
     "checksum": "a4bb5a4e28eede767194dcfa28b09fd6",
     "grade": false,
     "grade_id": "Divider2-1",
     "locked": true,
     "schema_version": 3,
     "solution": false
    }
   },
   "source": [
    "## Exercise 2 - Temperature\n",
    "---\n",
    "### Exercise 2.1\n",
    "---\n",
    "Kelvin is a temperature scale used by some scientists. One degree in Kelvin is the same as one degree in Celsius, but 0 is in a different place. 0 degrees Kelvin is the coldest anythign can be - absolute zero. Define a function called **K_to_C** that takes temperature in Kelvin **as a parameter** and **returns** the equivalent temperature in degress Celsius. The temperature in Kelvin is 273.15 more than that in degress Celsius."
   ]
  },
  {
   "cell_type": "code",
   "execution_count": 40,
   "metadata": {
    "deletable": false,
    "nbgrader": {
     "cell_type": "code",
     "checksum": "1d936c77f1338574424078eef497e716",
     "grade": false,
     "grade_id": "Part2-1",
     "locked": false,
     "schema_version": 3,
     "solution": true
    }
   },
   "outputs": [
    {
     "data": {
      "text/plain": [
       "16.850000000000023"
      ]
     },
     "execution_count": 40,
     "metadata": {},
     "output_type": "execute_result"
    }
   ],
   "source": [
    "# YOUR CODE HERE\n",
    "def K_to_C(k):\n",
    "    celsius= k-273.15\n",
    "    return celsius\n",
    "K_to_C(290)"
   ]
  },
  {
   "cell_type": "markdown",
   "metadata": {
    "collapsed": true,
    "deletable": false,
    "editable": false,
    "nbgrader": {
     "cell_type": "markdown",
     "checksum": "e2a6a387b3ee8cd2e8180bab2d683143",
     "grade": false,
     "grade_id": "Divider2-2",
     "locked": true,
     "schema_version": 3,
     "solution": false
    }
   },
   "source": [
    "### Exercise 2.2\n",
    "---\n",
    "Define a function called **C_to_F** that takes a temperature in degrees Celsius **as a parameter** and **returns** the equivalent temperature in degrees Fahrenheit. The temperature in degrees Fahrenheit is 32 plus 9/5 of the temperature in degrees Celsius. Check you work by calling your function with a few values to see if the results match your expectations."
   ]
  },
  {
   "cell_type": "code",
   "execution_count": 43,
   "metadata": {
    "deletable": false,
    "nbgrader": {
     "cell_type": "code",
     "checksum": "4a03ea117d1a30b9eab5cf5f24350b06",
     "grade": false,
     "grade_id": "Part2-2",
     "locked": false,
     "schema_version": 3,
     "solution": true
    }
   },
   "outputs": [
    {
     "data": {
      "text/plain": [
       "80.6"
      ]
     },
     "execution_count": 43,
     "metadata": {},
     "output_type": "execute_result"
    }
   ],
   "source": [
    "# YOUR CODE HERE\n",
    "def C_to_F(c):\n",
    "    fahrenheit = c*(9/5) +32\n",
    "    return fahrenheit\n",
    "C_to_F(27)"
   ]
  },
  {
   "cell_type": "markdown",
   "metadata": {
    "deletable": false,
    "editable": false,
    "nbgrader": {
     "cell_type": "markdown",
     "checksum": "d991a33ae79e5bff33d84c0ab9a5f7a5",
     "grade": false,
     "grade_id": "Divider2-3",
     "locked": true,
     "schema_version": 3,
     "solution": false
    }
   },
   "source": [
    "### Exercise 2.3\n",
    "---\n",
    "Define a function called **K_to_F** that takes temperature in Kelvin **as a parameter** and **returns** the equivalent temperature in Fahrenheit. Use the functions you have defined above - this function should not do any arithmetic on its own."
   ]
  },
  {
   "cell_type": "code",
   "execution_count": 47,
   "metadata": {
    "deletable": false,
    "nbgrader": {
     "cell_type": "code",
     "checksum": "a1e6b269584e2509e7548bf4f1b29086",
     "grade": false,
     "grade_id": "Part2-3",
     "locked": false,
     "schema_version": 3,
     "solution": true
    }
   },
   "outputs": [
    {
     "name": "stdout",
     "output_type": "stream",
     "text": [
      "-459.66999999999996\n"
     ]
    }
   ],
   "source": [
    "# YOUR CODE HERE\n",
    "def K_to_F (f):\n",
    "    celsius = K_to_C(f)\n",
    "    fahrenheit = C_to_F(celsius)\n",
    "    return (fahrenheit)\n",
    "K_to_F (0)"
   ]
  },
  {
   "cell_type": "markdown",
   "metadata": {
    "deletable": false,
    "editable": false,
    "nbgrader": {
     "cell_type": "markdown",
     "checksum": "c8eb3a62195abb547b5ba1ee7a36e545",
     "grade": false,
     "grade_id": "Divider3-1",
     "locked": true,
     "schema_version": 3,
     "solution": false
    }
   },
   "source": [
    "## Exercise 3 - Gummi Bears\n",
    "---\n",
    "### Exercise 3.1\n",
    "---\n",
    "Define a function called **E_to_D** that converts euros to dollars. You can assume that one Euro \n",
    "equals 1.11 US dollars. "
   ]
  },
  {
   "cell_type": "code",
   "execution_count": 48,
   "metadata": {
    "deletable": false,
    "nbgrader": {
     "cell_type": "code",
     "checksum": "080bb72ce929934ea33e4be142eecfd4",
     "grade": false,
     "grade_id": "Part3-1",
     "locked": false,
     "schema_version": 3,
     "solution": true
    }
   },
   "outputs": [
    {
     "data": {
      "text/plain": [
       "2.22"
      ]
     },
     "execution_count": 48,
     "metadata": {},
     "output_type": "execute_result"
    }
   ],
   "source": [
    "# YOUR CODE HERE\n",
    "def E_to_D(euros):\n",
    "    dollars=1.11*euros\n",
    "    return (dollars)\n",
    "E_to_D(2)\n",
    "    "
   ]
  },
  {
   "cell_type": "markdown",
   "metadata": {
    "deletable": false,
    "editable": false,
    "nbgrader": {
     "cell_type": "markdown",
     "checksum": "8e174044cf95fc594a15911880ce4596",
     "grade": false,
     "grade_id": "Divider3-2",
     "locked": true,
     "schema_version": 3,
     "solution": false
    }
   },
   "source": [
    "### Exercise 3.2\n",
    "---\n",
    "A 1-pound package of gummy bears is 2.39 dollars. Create a function **D_to_G** that calculates\n",
    "how many pounds of gummy bears can be bought with a given number of US dollars. This function should take US dollars as a parameter and return a number of pounds of gummy bears."
   ]
  },
  {
   "cell_type": "code",
   "execution_count": 50,
   "metadata": {
    "deletable": false,
    "nbgrader": {
     "cell_type": "code",
     "checksum": "b1bd6a4a1a3524fc1b9988bbb4506268",
     "grade": false,
     "grade_id": "Part3-2",
     "locked": false,
     "schema_version": 3,
     "solution": true
    }
   },
   "outputs": [
    {
     "data": {
      "text/plain": [
       "2.0"
      ]
     },
     "execution_count": 50,
     "metadata": {},
     "output_type": "execute_result"
    }
   ],
   "source": [
    "# YOUR CODE HERE\n",
    "def D_to_G(dollars):\n",
    "    pound_of_gummy_bears=dollars/2.39\n",
    "    return (pound_of_gummy_bears)\n",
    "D_to_G(4.78)\n",
    "    "
   ]
  },
  {
   "cell_type": "markdown",
   "metadata": {
    "deletable": false,
    "editable": false,
    "nbgrader": {
     "cell_type": "markdown",
     "checksum": "abbe0a1d8cb8d3ed2d010fad6d322e3a",
     "grade": false,
     "grade_id": "Divider3-3",
     "locked": true,
     "schema_version": 3,
     "solution": false
    }
   },
   "source": [
    "### Exercise 3.3\n",
    "---\n",
    "Write a function **G_to_C** that takes pounds of gummi bears as a parameter and **returns** the total amount of calories for that amount of gummy bears. A serving of gummy bears is 42 grams \n",
    "and has 150 calories. (You will need to look up how many grams are in a pound.)\n",
    "\n",
    "You will likely want to do this design on paper first in order to keep the units straight."
   ]
  },
  {
   "cell_type": "code",
   "execution_count": 54,
   "metadata": {
    "deletable": false,
    "nbgrader": {
     "cell_type": "code",
     "checksum": "e19b45cfe4751d565864dce2a5aa3691",
     "grade": false,
     "grade_id": "Part3-3",
     "locked": false,
     "schema_version": 3,
     "solution": true
    }
   },
   "outputs": [
    {
     "data": {
      "text/plain": [
       "4859.914285714285"
      ]
     },
     "execution_count": 54,
     "metadata": {},
     "output_type": "execute_result"
    }
   ],
   "source": [
    "# YOUR CODE HERE\n",
    "def G_to_C(pounds):\n",
    "    grams = 453.592 * pounds\n",
    "    calories = (150 * grams)/ 42\n",
    "    return calories\n",
    "\n",
    "G_to_C(3)   "
   ]
  },
  {
   "cell_type": "markdown",
   "metadata": {
    "deletable": false,
    "editable": false,
    "nbgrader": {
     "cell_type": "markdown",
     "checksum": "dab9fbae92fe4cf79b2c98f139c6cb42",
     "grade": false,
     "grade_id": "Divider3-4",
     "locked": true,
     "schema_version": 3,
     "solution": false
    }
   },
   "source": [
    "### Exercise 3.4\n",
    "---\n",
    "Stitch the functions you've written so far from exercise 3 together in a function called **E_to_C**. It should return the total amount of gummy bear calories that can be purchased for a given amount of Euros. This function should not do any arithmetic of its own; it should just call other functions. \n",
    "\n",
    "**Hint:** This function should take Euros as a parameter"
   ]
  },
  {
   "cell_type": "code",
   "execution_count": 60,
   "metadata": {
    "deletable": false,
    "nbgrader": {
     "cell_type": "code",
     "checksum": "26794268782ab120fcb8cb973005eb40",
     "grade": false,
     "grade_id": "Part3-4",
     "locked": false,
     "schema_version": 3,
     "solution": true
    }
   },
   "outputs": [
    {
     "name": "stdout",
     "output_type": "stream",
     "text": [
      "1504.743335325762\n"
     ]
    }
   ],
   "source": [
    "# YOUR CODE HERE\n",
    "def E_to_C(e):\n",
    "    dollars = E_to_D(e)\n",
    "    pounds = D_to_G(dollars)\n",
    "    calories = G_to_C(pounds)\n",
    "    return(calories)\n",
    "    \n",
    "E_to_C(2)\n",
    "    "
   ]
  },
  {
   "cell_type": "markdown",
   "metadata": {
    "collapsed": true,
    "deletable": false,
    "editable": false,
    "nbgrader": {
     "cell_type": "markdown",
     "checksum": "24a9d738ff9725a6f1277ca51989509b",
     "grade": false,
     "grade_id": "Divider4-1",
     "locked": true,
     "schema_version": 3,
     "solution": false
    }
   },
   "source": [
    "## Exercise 4 - Spheres\n",
    "---\n",
    "### Exercise 4.1\n",
    "---\n",
    "Write a function named **circle_area** that returns the area of a circle given a radius. \n",
    "Rememeber that the area of a circle is pi times the radius squared. \n",
    "\n",
    "\n",
    "**Hint:** Python has a way for you to get a relatively precise value for pi without typing in a long decimal number. If you use\n",
    "\n",
    "    import math\n",
    "\n",
    "at the top of your code outside the function, you will be able to use a number of useful math functions and variables. You can use\n",
    "\n",
    "    math.pi\n",
    "    \n",
    "as a value of pi. Any time you need the value of pi for a formula, you can use math.pi. The math package has definitions for several variables in it, so when you import the math package, you get access to those variables."
   ]
  },
  {
   "cell_type": "code",
   "execution_count": 61,
   "metadata": {
    "deletable": false,
    "nbgrader": {
     "cell_type": "code",
     "checksum": "07d631c4a85ab536e7c7cac933c87ee9",
     "grade": false,
     "grade_id": "Part4-1",
     "locked": false,
     "schema_version": 3,
     "solution": true
    }
   },
   "outputs": [
    {
     "data": {
      "text/plain": [
       "12.566370614359172"
      ]
     },
     "execution_count": 61,
     "metadata": {},
     "output_type": "execute_result"
    }
   ],
   "source": [
    "# YOUR CODE HERE\n",
    "import math\n",
    "def circle_area(r):\n",
    "    area=math.pi * r**2\n",
    "    return area\n",
    "circle_area(2)"
   ]
  },
  {
   "cell_type": "markdown",
   "metadata": {
    "deletable": false,
    "editable": false,
    "nbgrader": {
     "cell_type": "markdown",
     "checksum": "c256c9646f527f91e55ebc42ca20930d",
     "grade": false,
     "grade_id": "Divider4-2",
     "locked": true,
     "schema_version": 3,
     "solution": false
    }
   },
   "source": [
    "### Exercise 4.2\n",
    "---\n",
    "Write a function called **circle_circumference** that takes the radius of a circle as a parameter and returns\n",
    "the circumference of the circle. The circumference of a circle is pi times the diameter (the diameter is twice the radius). "
   ]
  },
  {
   "cell_type": "code",
   "execution_count": 65,
   "metadata": {
    "deletable": false,
    "nbgrader": {
     "cell_type": "code",
     "checksum": "e9311356e39be538b7161811d8bb5ee3",
     "grade": false,
     "grade_id": "Part4-2",
     "locked": false,
     "schema_version": 3,
     "solution": true
    }
   },
   "outputs": [
    {
     "data": {
      "text/plain": [
       "12.566370614359172"
      ]
     },
     "execution_count": 65,
     "metadata": {},
     "output_type": "execute_result"
    }
   ],
   "source": [
    "# YOUR CODE HERE\n",
    "def circle_circumference(r):\n",
    "    circumference= math.pi * r*2\n",
    "    return circumference\n",
    "circle_circumference(2)"
   ]
  },
  {
   "cell_type": "markdown",
   "metadata": {
    "deletable": false,
    "editable": false,
    "nbgrader": {
     "cell_type": "markdown",
     "checksum": "545db968663ce118f726be1a315ce91c",
     "grade": false,
     "grade_id": "Divider4-3",
     "locked": true,
     "schema_version": 3,
     "solution": false
    }
   },
   "source": [
    "### Exercise 4.3\n",
    "---\n",
    "Define a function called **sphere_volume** that returns the volume of a sphere given the radius.\n",
    "\n",
    "The formula is:\n",
    "\n",
    "    V = (4/3) * pi * r^3 (remember to use correct operators)\n",
    "    "
   ]
  },
  {
   "cell_type": "code",
   "execution_count": 70,
   "metadata": {
    "deletable": false,
    "nbgrader": {
     "cell_type": "code",
     "checksum": "b71134fd9d8bc0caf602828ee8f2a938",
     "grade": false,
     "grade_id": "Part4-3",
     "locked": false,
     "schema_version": 3,
     "solution": true
    }
   },
   "outputs": [
    {
     "data": {
      "text/plain": [
       "33.510321638291124"
      ]
     },
     "execution_count": 70,
     "metadata": {},
     "output_type": "execute_result"
    }
   ],
   "source": [
    "# YOUR CODE HERE\n",
    "def sphere_volume(r):\n",
    "    volume = (4/3) * math.pi * r**3\n",
    "    return volume\n",
    "    \n",
    "sphere_volume(2)"
   ]
  },
  {
   "cell_type": "markdown",
   "metadata": {
    "deletable": false,
    "editable": false,
    "nbgrader": {
     "cell_type": "markdown",
     "checksum": "dd3cfa16301cf932c0317aa5f6f49431",
     "grade": false,
     "grade_id": "Divider4-4",
     "locked": true,
     "schema_version": 3,
     "solution": false
    }
   },
   "source": [
    "### Exercise 4.4\n",
    "---\n",
    "Define a function called **sphere_surface_area** that returns the surface area of a sphere given the\n",
    "radius.\n",
    "\n",
    "The formula is:\n",
    "\n",
    "    Surface Area = 4 * pi * (r^2)"
   ]
  },
  {
   "cell_type": "code",
   "execution_count": 72,
   "metadata": {
    "deletable": false,
    "nbgrader": {
     "cell_type": "code",
     "checksum": "cd7979435815a83fa3fda8b06d5c54fc",
     "grade": false,
     "grade_id": "Part4-4",
     "locked": false,
     "schema_version": 3,
     "solution": true
    }
   },
   "outputs": [
    {
     "data": {
      "text/plain": [
       "50.26548245743669"
      ]
     },
     "execution_count": 72,
     "metadata": {},
     "output_type": "execute_result"
    }
   ],
   "source": [
    "# YOUR CODE HERE\n",
    "def sphere_surface_area(r):\n",
    "    Surface_Area = 4 * math.pi * (r**2)\n",
    "    return Surface_Area\n",
    "sphere_surface_area(2)"
   ]
  },
  {
   "cell_type": "markdown",
   "metadata": {
    "deletable": false,
    "editable": false,
    "nbgrader": {
     "cell_type": "markdown",
     "checksum": "934386d9387edf20a1e37f379df8eb62",
     "grade": false,
     "grade_id": "Divider4-5",
     "locked": true,
     "schema_version": 3,
     "solution": false
    }
   },
   "source": [
    "### Exercise 4.5\n",
    "---\n",
    "Suppose you are making a model of the solar system. You have the spheres for each planet, \n",
    "but you need to paint the spheres so that they look like the planets. Utilize the function\n",
    "**sphere_surface_area** to create a new function called **cost_to_paint** that takes two parameters: the cost of the paint per gram and the radius of the sphere in cm, in that order. The function should return how much it will cost to paint that sphere. Each gram of paint will cover 1.5 square cm. You may assume that the radius is always given in cm."
   ]
  },
  {
   "cell_type": "code",
   "execution_count": 88,
   "metadata": {
    "deletable": false,
    "nbgrader": {
     "cell_type": "code",
     "checksum": "b55a4e938e655743407c14dc6a146984",
     "grade": false,
     "grade_id": "Part4-5",
     "locked": false,
     "schema_version": 3,
     "solution": true
    }
   },
   "outputs": [
    {
     "data": {
      "text/plain": [
       "67.02064327658225"
      ]
     },
     "execution_count": 88,
     "metadata": {},
     "output_type": "execute_result"
    }
   ],
   "source": [
    "# YOUR CODE HERE\n",
    "def cost_to_paint(c,r):\n",
    "    paint = c/1.5\n",
    "    total_cost = sphere_surface_area(r)*paint\n",
    "    return total_cost\n",
    "cost_to_paint(2,2)    \n",
    "    "
   ]
  },
  {
   "cell_type": "markdown",
   "metadata": {
    "deletable": false,
    "editable": false,
    "nbgrader": {
     "cell_type": "markdown",
     "checksum": "7b0b8be04f63ca79b15d90a24916dcb1",
     "grade": false,
     "grade_id": "Divider4-6",
     "locked": true,
     "schema_version": 3,
     "solution": false
    }
   },
   "source": [
    "### Exercise 4.6\n",
    "---\n",
    "Given the radius in meters for a **gold** sphere, create a function **find_mass_of_gold_sphere** which returns the mass of the sphere in kilograms. \n",
    "You will need to know the following.\n",
    "\n",
    "    *The density of gold is 19282 kilograms per cubic meter (kg/m^3)\n",
    "    \n",
    "    *Density = Mass / Volume\n",
    "**Hint**: You already have a function that returns the volume of a sphere - use it. \n"
   ]
  },
  {
   "cell_type": "code",
   "execution_count": 75,
   "metadata": {
    "deletable": false,
    "nbgrader": {
     "cell_type": "code",
     "checksum": "241c96262f8a0f878ecec96d518652e1",
     "grade": false,
     "grade_id": "Part4-6",
     "locked": false,
     "schema_version": 3,
     "solution": true
    }
   },
   "outputs": [
    {
     "data": {
      "text/plain": [
       "646146.0218295294"
      ]
     },
     "execution_count": 75,
     "metadata": {},
     "output_type": "execute_result"
    }
   ],
   "source": [
    "# YOUR CODE HERE\n",
    "def find_mass_of_gold_sphere(r):\n",
    "    Volume = sphere_volume(r)\n",
    "    Mass = Volume * 19282\n",
    "    return Mass\n",
    "find_mass_of_gold_sphere(2)   \n",
    "    "
   ]
  },
  {
   "cell_type": "markdown",
   "metadata": {
    "deletable": false,
    "editable": false,
    "nbgrader": {
     "cell_type": "markdown",
     "checksum": "0ad0c23a2237a8f697345443dc2a7dac",
     "grade": false,
     "grade_id": "Divider4-7",
     "locked": true,
     "schema_version": 3,
     "solution": false
    }
   },
   "source": [
    "### Exercise 4.7\n",
    "---\n",
    "Write a function called **cost_of_gold_sphere** that calculates the cost of the gold sphere from exercise 4.6. Since the price of gold fluctuates, the function will take the current price of gold as a parameter along with the radius of the sphere, in that order. Normally, the cost of gold is measured by ounces, so, the cost of gold will always be given in dollars per ounce for this function. You will need to use the function **find_mass_of_gold_sphere** in the new function.\n",
    "\n",
    "\n",
    "**Hint:** Remember that the function **find_mass_of_gold_sphere** returns the mass in kilograms, you will need to convert kilograms to ounces for this function.\n"
   ]
  },
  {
   "cell_type": "code",
   "execution_count": 89,
   "metadata": {
    "deletable": false,
    "nbgrader": {
     "cell_type": "code",
     "checksum": "6bd1f85d47bdff1688d5acb279642d8d",
     "grade": false,
     "grade_id": "Part4-7",
     "locked": false,
     "schema_version": 3,
     "solution": true
    }
   },
   "outputs": [
    {
     "data": {
      "text/plain": [
       "28490193.46751853"
      ]
     },
     "execution_count": 89,
     "metadata": {},
     "output_type": "execute_result"
    }
   ],
   "source": [
    "# YOUR CODE HERE\n",
    "def cost_of_gold_sphere (c,r): \n",
    "    total_cost = c*(find_mass_of_gold_sphere(r)*35.274)\n",
    "    return total_cost\n",
    "cost_of_gold_sphere (10,1)"
   ]
  },
  {
   "cell_type": "markdown",
   "metadata": {
    "deletable": false,
    "editable": false,
    "nbgrader": {
     "cell_type": "markdown",
     "checksum": "d442c4876e8e7ae4d9d752573df725f2",
     "grade": false,
     "grade_id": "DividerExtraCredit1",
     "locked": true,
     "schema_version": 3,
     "solution": false
    }
   },
   "source": [
    "## Extra Credit\n",
    "---\n",
    "For extra credit, write a function **find_mass_anything**. This function should calculate the \n",
    "mass of a sphere with any density. This new function will be very similar to **find_mass_of_gold_sphere**, but it will also take \n",
    "the density of the materials the sphere is made from as a parameter. (This means that it will take two parameters: a radius and a density.) The radius will be given in meters, and the density will be given in kilograms per cubic meter."
   ]
  },
  {
   "cell_type": "code",
   "execution_count": 104,
   "metadata": {
    "deletable": false,
    "nbgrader": {
     "cell_type": "code",
     "checksum": "dcab8593b89f1582b6d6ed818d3d10b7",
     "grade": false,
     "grade_id": "PartExtraCredit1",
     "locked": false,
     "schema_version": 3,
     "solution": true
    }
   },
   "outputs": [
    {
     "data": {
      "text/plain": [
       "5.968470111820102e+27"
      ]
     },
     "execution_count": 104,
     "metadata": {},
     "output_type": "execute_result"
    }
   ],
   "source": [
    "# YOUR CODE HERE\n",
    "def find_mass_anything(r,d):\n",
    "    Volume = sphere_volume(r)\n",
    "    Mass = Volume*d\n",
    "    return Mass\n",
    "find_mass_anything(637100000,5.51)\n",
    "    \n",
    "    "
   ]
  },
  {
   "cell_type": "markdown",
   "metadata": {
    "deletable": false,
    "editable": false,
    "nbgrader": {
     "cell_type": "markdown",
     "checksum": "0158a4d15aa445d624aeabfec86c51ca",
     "grade": false,
     "grade_id": "Divider4-8",
     "locked": true,
     "schema_version": 3,
     "solution": false
    }
   },
   "source": [
    "## Extra Credit\n",
    "---\n",
    "Write a function called **space_weight** that calculates what an object's weight \n",
    "would be if it were on a planet of any size and density. It will take the radius in meters of the planet, \n",
    "density of the planet in kilograms per cubic meter, and the mass of the object in kilograms as parameters, in that order. Your function will return the weight in newtons.\n",
    "\n",
    "To solve this, you will need to calculate the acceleration due to gravity (g) on the planet. \n",
    "\n",
    "The formula is:\n",
    "    g = (G * M)/(r^2)\n",
    "    \n",
    "    G is the gravitational constant. If you import the Python library scipy.constants, you can use **scipy.constants.G** as G\n",
    "    \n",
    "    M is the mass of the planet you are on and you can find it using **find_mass_anything**\n",
    "    \n",
    "    r is the radius of the planet you are on, in meters.\n",
    "\n",
    "\n",
    "To find out the weight of an object on some planet, multiply the mass of the object times the acceleration due to gravity on the planet. \n",
    "    weight = mass * g\n",
    "\n",
    "If you'd like to know how much Dave weighs on the moon, Dave's mass is 66 kilograms, the density of the moon is 3340 kilograms per cubic meter, and its radius is 1,737,000 meters. Dave's weight on the moon is about 107 Newtons.\n",
    "\n",
    "**Note**: To give some perspective, on Earth your weight in Newtons equals (your mass in kg) * 9.81. Your weight on the moon should be less that your weight on Earth. "
   ]
  },
  {
   "cell_type": "code",
   "execution_count": 102,
   "metadata": {
    "deletable": false,
    "nbgrader": {
     "cell_type": "code",
     "checksum": "82ac2096d5265b121b781cf1182d0fb6",
     "grade": false,
     "grade_id": "Part4-8",
     "locked": false,
     "schema_version": 3,
     "solution": true
    }
   },
   "outputs": [
    {
     "data": {
      "text/plain": [
       "4.065470881419153"
      ]
     },
     "execution_count": 102,
     "metadata": {},
     "output_type": "execute_result"
    }
   ],
   "source": [
    "# YOUR CODE HERE\n",
    "import scipy.constants\n",
    "def space_weight(r,d,m):\n",
    "    M = find_mass_anything(r,d)\n",
    "    g = (scipy.constants.G * M)/(r^2)\n",
    "    Weight=m*g\n",
    "    return Weight\n",
    "space_weight(6371,5.51,65)\n",
    "    "
   ]
  },
  {
   "cell_type": "code",
   "execution_count": null,
   "metadata": {
    "deletable": false,
    "editable": false,
    "nbgrader": {
     "cell_type": "code",
     "checksum": "65e5d9fcc400c4c4b347617c714b5ba3",
     "grade": true,
     "grade_id": "Test1",
     "locked": true,
     "points": 1,
     "schema_version": 3,
     "solution": false
    }
   },
   "outputs": [],
   "source": [
    "# Ignore this cell\n",
    "# DO NOT DELETE THIS CELL\n",
    "\n",
    "from nose.tools import assert_equal\n",
    "\n",
    "### BEGIN TEST\n",
    "assert_equal(round(cm_to_in(3),2), 1.18)\n",
    "### END TEST"
   ]
  },
  {
   "cell_type": "code",
   "execution_count": null,
   "metadata": {
    "deletable": false,
    "editable": false,
    "nbgrader": {
     "cell_type": "code",
     "checksum": "c85a9302ff87005e54c97723dbcb59bf",
     "grade": true,
     "grade_id": "Test1-2",
     "locked": true,
     "points": 1,
     "schema_version": 3,
     "solution": false
    }
   },
   "outputs": [],
   "source": [
    "# Ignore this cell\n",
    "# DO NOT DELETE THIS CELL\n",
    "\n",
    "from nose.tools import assert_equal\n",
    "\n",
    "### BEGIN TEST\n",
    "assert_equal(round(in_to_cm(3),2), 7.62)\n",
    "### END TEST"
   ]
  },
  {
   "cell_type": "code",
   "execution_count": null,
   "metadata": {
    "deletable": false,
    "editable": false,
    "nbgrader": {
     "cell_type": "code",
     "checksum": "b49e26e9e91ea2624d9af871d3313c8d",
     "grade": true,
     "grade_id": "Test1-3",
     "locked": true,
     "points": 1,
     "schema_version": 3,
     "solution": false
    }
   },
   "outputs": [],
   "source": [
    "# Ignore this cell\n",
    "# DO NOT DELETE THIS CELL\n",
    "\n",
    "from nose.tools import assert_equal\n",
    "\n",
    "### BEGIN TEST\n",
    "assert_equal(in_to_ft(33), 2.75)\n",
    "### END TEST"
   ]
  },
  {
   "cell_type": "code",
   "execution_count": null,
   "metadata": {
    "deletable": false,
    "editable": false,
    "nbgrader": {
     "cell_type": "code",
     "checksum": "ec2c0b7accaaac000c74873c41546b67",
     "grade": true,
     "grade_id": "Test1-4",
     "locked": true,
     "points": 1,
     "schema_version": 3,
     "solution": false
    }
   },
   "outputs": [],
   "source": [
    "# Ignore this cell\n",
    "# DO NOT DELETE THIS CELL\n",
    "\n",
    "from nose.tools import assert_equal\n",
    "\n",
    "### BEGIN TEST\n",
    "assert_equal(ft_to_mi(1320), 0.25)\n",
    "### END TEST"
   ]
  },
  {
   "cell_type": "code",
   "execution_count": null,
   "metadata": {
    "deletable": false,
    "editable": false,
    "nbgrader": {
     "cell_type": "code",
     "checksum": "0f10a5a482b869a526f696cf03d19eb6",
     "grade": true,
     "grade_id": "Test1-5",
     "locked": true,
     "points": 1,
     "schema_version": 3,
     "solution": false
    }
   },
   "outputs": [],
   "source": [
    "# Ignore this cell\n",
    "# DO NOT DELETE THIS CELL\n",
    "\n",
    "from nose.tools import assert_equal\n",
    "\n",
    "### BEGIN TEST\n",
    "assert_equal(round(cm_to_mi(93342),2), 0.58)\n",
    "### END TEST"
   ]
  },
  {
   "cell_type": "code",
   "execution_count": null,
   "metadata": {
    "deletable": false,
    "editable": false,
    "nbgrader": {
     "cell_type": "code",
     "checksum": "0622d62d28e69cd51edce03159807454",
     "grade": true,
     "grade_id": "Test2-1",
     "locked": true,
     "points": 1,
     "schema_version": 3,
     "solution": false
    }
   },
   "outputs": [],
   "source": [
    "# Ignore this cell\n",
    "# DO NOT DELETE THIS CELL\n",
    "\n",
    "from nose.tools import assert_equal\n",
    "\n",
    "### BEGIN TEST\n",
    "assert_equal(round(K_to_C(276),2), 2.85)\n",
    "### END TEST"
   ]
  },
  {
   "cell_type": "code",
   "execution_count": null,
   "metadata": {
    "deletable": false,
    "editable": false,
    "nbgrader": {
     "cell_type": "code",
     "checksum": "3ffd1da533ec444efa0283cea4af0eee",
     "grade": true,
     "grade_id": "Test2-3",
     "locked": true,
     "points": 1,
     "schema_version": 3,
     "solution": false
    }
   },
   "outputs": [],
   "source": [
    "# Ignore this cell\n",
    "# DO NOT DELETE THIS CELL\n",
    "\n",
    "from nose.tools import assert_equal\n",
    "\n",
    "### BEGIN TEST\n",
    "assert_equal(C_to_F(-40), -40)\n",
    "### END TEST"
   ]
  },
  {
   "cell_type": "code",
   "execution_count": null,
   "metadata": {
    "deletable": false,
    "editable": false,
    "nbgrader": {
     "cell_type": "code",
     "checksum": "5a9c17f512a4b2471ee6f024d3f92525",
     "grade": true,
     "grade_id": "Test2-3-case2",
     "locked": true,
     "points": 1,
     "schema_version": 3,
     "solution": false
    }
   },
   "outputs": [],
   "source": [
    "# Ignore this cell\n",
    "# DO NOT DELETE THIS CELL\n",
    "\n",
    "from nose.tools import assert_equal\n",
    "### BEGIN TEST\n",
    "assert_equal(C_to_F(0), 32)\n",
    "### END TEST"
   ]
  },
  {
   "cell_type": "code",
   "execution_count": null,
   "metadata": {
    "deletable": false,
    "editable": false,
    "nbgrader": {
     "cell_type": "code",
     "checksum": "f56be1806e2cda1fb168bd3ef6132b34",
     "grade": true,
     "grade_id": "Test2-4",
     "locked": true,
     "points": 1,
     "schema_version": 3,
     "solution": false
    }
   },
   "outputs": [],
   "source": [
    "# Ignore this cell\n",
    "# DO NOT DELETE THIS CELL\n",
    "\n",
    "from nose.tools import assert_equal\n",
    "\n",
    "### BEGIN TEST\n",
    "assert_equal(round(K_to_F(273.15),2), 32)\n",
    "\n",
    "### END TEST"
   ]
  },
  {
   "cell_type": "code",
   "execution_count": null,
   "metadata": {
    "deletable": false,
    "editable": false,
    "nbgrader": {
     "cell_type": "code",
     "checksum": "358031d7842a75579fd50dfda1ae5cad",
     "grade": true,
     "grade_id": "Test2-4-case2",
     "locked": true,
     "points": 1,
     "schema_version": 3,
     "solution": false
    }
   },
   "outputs": [],
   "source": [
    "# Ignore this cell\n",
    "# DO NOT DELETE THIS CELL\n",
    "\n",
    "from nose.tools import assert_equal\n",
    "\n",
    "### BEGIN TEST\n",
    "\n",
    "assert_equal(round(K_to_F(300),2), 80.33)\n",
    "### END TEST"
   ]
  },
  {
   "cell_type": "code",
   "execution_count": null,
   "metadata": {
    "deletable": false,
    "editable": false,
    "nbgrader": {
     "cell_type": "code",
     "checksum": "ad50b614bb5c5f31f0614edab98e136b",
     "grade": true,
     "grade_id": "Test3-1",
     "locked": true,
     "points": 1,
     "schema_version": 3,
     "solution": false
    }
   },
   "outputs": [],
   "source": [
    "# Ignore this cell\n",
    "# DO NOT DELETE THIS CELL\n",
    "### BEGIN TEST\n",
    "from nose.tools import assert_equal\n",
    "\n",
    "assert_equal(round(E_to_D(10), 2), 11.1)\n",
    "\n",
    "###END TEST"
   ]
  },
  {
   "cell_type": "code",
   "execution_count": null,
   "metadata": {
    "deletable": false,
    "editable": false,
    "nbgrader": {
     "cell_type": "code",
     "checksum": "2f96c315e7504db37c02b496381f7b8a",
     "grade": true,
     "grade_id": "Test3-1-case2",
     "locked": true,
     "points": 1,
     "schema_version": 3,
     "solution": false
    }
   },
   "outputs": [],
   "source": [
    "# Ignore this cell\n",
    "# DO NOT DELETE THIS CELL\n",
    "### BEGIN TEST\n",
    "from nose.tools import assert_equal\n",
    "\n",
    "\n",
    "assert_equal(round(E_to_D(91.86), 2), 101.96)\n",
    "###END TEST"
   ]
  },
  {
   "cell_type": "code",
   "execution_count": null,
   "metadata": {
    "deletable": false,
    "editable": false,
    "nbgrader": {
     "cell_type": "code",
     "checksum": "ba4f0aab6b3d4305713296e94e8ba707",
     "grade": true,
     "grade_id": "Test3-4",
     "locked": true,
     "points": 1.5,
     "schema_version": 3,
     "solution": false
    }
   },
   "outputs": [],
   "source": [
    "# Ignore this cell\n",
    "# DO NOT DELETE THIS CELL\n",
    "### BEGIN TEST\n",
    "from nose.tools import assert_equal\n",
    "\n",
    "assert_equal(round(D_to_G(9.01), 2), 3.77)\n",
    "\n",
    "###END TEST"
   ]
  },
  {
   "cell_type": "code",
   "execution_count": null,
   "metadata": {
    "deletable": false,
    "editable": false,
    "nbgrader": {
     "cell_type": "code",
     "checksum": "7060bac8052681c23aa97469d2b01669",
     "grade": true,
     "grade_id": "Test3-4-case2",
     "locked": true,
     "points": 1.5,
     "schema_version": 3,
     "solution": false
    }
   },
   "outputs": [],
   "source": [
    "# Ignore this cell\n",
    "# DO NOT DELETE THIS CELL\n",
    "### BEGIN TEST\n",
    "from nose.tools import assert_equal\n",
    "\n",
    "\n",
    "assert_equal(round(D_to_G(74.76), 2), 31.28)\n",
    "###END TEST"
   ]
  },
  {
   "cell_type": "code",
   "execution_count": null,
   "metadata": {
    "deletable": false,
    "editable": false,
    "nbgrader": {
     "cell_type": "code",
     "checksum": "30b6fd23a07ecbdc88db678fcb3ef788",
     "grade": true,
     "grade_id": "Test3-4-1",
     "locked": true,
     "points": 1.5,
     "schema_version": 3,
     "solution": false
    }
   },
   "outputs": [],
   "source": [
    "# Ignore this cell\n",
    "# DO NOT DELETE THIS CELL\n",
    "### BEGIN TEST\n",
    "from nose.tools import assert_equal\n",
    "\n",
    "assert_equal(round(G_to_C(3.77), 1), 6107.3)\n",
    "\n",
    "###END TEST"
   ]
  },
  {
   "cell_type": "code",
   "execution_count": null,
   "metadata": {
    "deletable": false,
    "editable": false,
    "nbgrader": {
     "cell_type": "code",
     "checksum": "127ac5b6cc2c1bdacdd2bbd56820fd48",
     "grade": true,
     "grade_id": "Test3-4-1-case2",
     "locked": true,
     "points": 1.5,
     "schema_version": 3,
     "solution": false
    }
   },
   "outputs": [],
   "source": [
    "# Ignore this cell\n",
    "# DO NOT DELETE THIS CELL\n",
    "### BEGIN TEST\n",
    "from nose.tools import assert_equal\n",
    "\n",
    "\n",
    "assert_equal(round(G_to_C(31.28), 1), 50672.7)\n",
    "###END TEST"
   ]
  },
  {
   "cell_type": "code",
   "execution_count": null,
   "metadata": {
    "deletable": false,
    "editable": false,
    "nbgrader": {
     "cell_type": "code",
     "checksum": "135171d02e6f78e4600b81c252359866",
     "grade": true,
     "grade_id": "Test3-4-2",
     "locked": true,
     "points": 1,
     "schema_version": 3,
     "solution": false
    }
   },
   "outputs": [],
   "source": [
    "# Ignore this cell\n",
    "# DO NOT DELETE THIS CELL\n",
    "### BEGIN TEST\n",
    "from nose.tools import assert_equal\n",
    "\n",
    "assert_equal(round(E_to_C(10), 1), 7523.7)\n",
    "\n",
    "###END TEST"
   ]
  },
  {
   "cell_type": "code",
   "execution_count": null,
   "metadata": {
    "deletable": false,
    "editable": false,
    "nbgrader": {
     "cell_type": "code",
     "checksum": "86ba7c6fae111f721735092bb2ce90be",
     "grade": true,
     "grade_id": "Test3-4-2-case2",
     "locked": true,
     "points": 1,
     "schema_version": 3,
     "solution": false
    }
   },
   "outputs": [],
   "source": [
    "# Ignore this cell\n",
    "# DO NOT DELETE THIS CELL\n",
    "### BEGIN TEST\n",
    "from nose.tools import assert_equal\n",
    "\n",
    "\n",
    "assert_equal(round(E_to_C(82.76), 1), 62266.3)\n",
    "\n",
    "###END TEST"
   ]
  },
  {
   "cell_type": "code",
   "execution_count": null,
   "metadata": {
    "deletable": false,
    "editable": false,
    "nbgrader": {
     "cell_type": "code",
     "checksum": "6996c089578c75dce96c712f57dd6a5b",
     "grade": true,
     "grade_id": "Test3-4-2-case3",
     "locked": true,
     "points": 1,
     "schema_version": 3,
     "solution": false
    }
   },
   "outputs": [],
   "source": [
    "# Ignore this cell\n",
    "# DO NOT DELETE THIS CELL\n",
    "### BEGIN TEST\n",
    "from nose.tools import assert_equal\n",
    "\n",
    "\n",
    "assert_equal(round(E_to_C(1), 1), 752.4)\n",
    "###END TEST"
   ]
  },
  {
   "cell_type": "code",
   "execution_count": null,
   "metadata": {
    "deletable": false,
    "editable": false,
    "nbgrader": {
     "cell_type": "code",
     "checksum": "473410f766e09a930a8e7dc235f153ca",
     "grade": true,
     "grade_id": "Test4-1",
     "locked": true,
     "points": 2.5,
     "schema_version": 3,
     "solution": false
    }
   },
   "outputs": [],
   "source": [
    "# Ignore this cell\n",
    "# DO NOT DELETE THIS CELL\n",
    "### BEGIN TEST\n",
    "from nose.tools import assert_equal\n",
    "\n",
    "assert_equal(round(circle_area(8), 2), 201.06)\n",
    "\n",
    "###END TEST"
   ]
  },
  {
   "cell_type": "code",
   "execution_count": null,
   "metadata": {
    "deletable": false,
    "editable": false,
    "nbgrader": {
     "cell_type": "code",
     "checksum": "5936ad1098bb43f737ddd70485001988",
     "grade": true,
     "grade_id": "Test4-1-case2",
     "locked": true,
     "points": 2.5,
     "schema_version": 3,
     "solution": false
    }
   },
   "outputs": [],
   "source": [
    "# Ignore this cell\n",
    "# DO NOT DELETE THIS CELL\n",
    "### BEGIN TEST\n",
    "from nose.tools import assert_equal\n",
    "\n",
    "\n",
    "assert_equal(round(circle_area(3), 2), 28.27)\n",
    "###END TEST"
   ]
  },
  {
   "cell_type": "code",
   "execution_count": null,
   "metadata": {
    "deletable": false,
    "editable": false,
    "nbgrader": {
     "cell_type": "code",
     "checksum": "204e60b4663f932847b6431aa7925c97",
     "grade": true,
     "grade_id": "Test4-2",
     "locked": true,
     "points": 5,
     "schema_version": 3,
     "solution": false
    }
   },
   "outputs": [],
   "source": [
    "# Ignore this cell\n",
    "# DO NOT DELETE THIS CELL\n",
    "### BEGIN TEST\n",
    "from nose.tools import assert_equal\n",
    "\n",
    "assert_equal(round(circle_circumference(5), 2), 31.42)\n",
    "###END TEST"
   ]
  },
  {
   "cell_type": "code",
   "execution_count": null,
   "metadata": {},
   "outputs": [],
   "source": []
  },
  {
   "cell_type": "code",
   "execution_count": null,
   "metadata": {
    "deletable": false,
    "editable": false,
    "nbgrader": {
     "cell_type": "code",
     "checksum": "c37f754324aac0de384eda4657a21171",
     "grade": true,
     "grade_id": "Test4-3",
     "locked": true,
     "points": 2.5,
     "schema_version": 3,
     "solution": false
    }
   },
   "outputs": [],
   "source": [
    "# Ignore this cell\n",
    "# DO NOT DELETE THIS CELL\n",
    "### BEGIN TEST\n",
    "from nose.tools import assert_equal\n",
    "\n",
    "assert_equal(round(sphere_volume(5), 2), 523.60)\n",
    "\n",
    "###END TEST"
   ]
  },
  {
   "cell_type": "code",
   "execution_count": null,
   "metadata": {
    "deletable": false,
    "editable": false,
    "nbgrader": {
     "cell_type": "code",
     "checksum": "5fa1ee778e5aa0f77c20cd5e64dc15ef",
     "grade": true,
     "grade_id": "Test4-3-case2",
     "locked": true,
     "points": 2.5,
     "schema_version": 3,
     "solution": false
    }
   },
   "outputs": [],
   "source": [
    "# Ignore this cell\n",
    "# DO NOT DELETE THIS CELL\n",
    "### BEGIN TEST\n",
    "from nose.tools import assert_equal\n",
    "\n",
    "\n",
    "assert_equal(round(sphere_volume(9), 2), 3053.63)\n",
    "###END TEST"
   ]
  },
  {
   "cell_type": "code",
   "execution_count": null,
   "metadata": {
    "deletable": false,
    "editable": false,
    "nbgrader": {
     "cell_type": "code",
     "checksum": "558226ca7f68e3539c425eb7a0bc6759",
     "grade": true,
     "grade_id": "Test4-4",
     "locked": true,
     "points": 2.5,
     "schema_version": 3,
     "solution": false
    }
   },
   "outputs": [],
   "source": [
    "# Ignore this cell\n",
    "# DO NOT DELETE THIS CELL\n",
    "### BEGIN TEST\n",
    "from nose.tools import assert_equal\n",
    "\n",
    "assert_equal(round(sphere_surface_area(5), 2), 314.16)\n",
    "\n",
    "###END TEST"
   ]
  },
  {
   "cell_type": "code",
   "execution_count": null,
   "metadata": {
    "deletable": false,
    "editable": false,
    "nbgrader": {
     "cell_type": "code",
     "checksum": "14f50a9edfedf9b7a46ee3719360460f",
     "grade": true,
     "grade_id": "Test4-4-case2",
     "locked": true,
     "points": 0,
     "schema_version": 3,
     "solution": false
    }
   },
   "outputs": [],
   "source": [
    "# Ignore this cell\n",
    "# DO NOT DELETE THIS CELL\n",
    "### BEGIN TEST\n",
    "from nose.tools import assert_equal\n",
    "\n",
    "\n",
    "assert_equal(round(sphere_surface_area(15), 2), 2827.43)\n",
    "###END TEST"
   ]
  },
  {
   "cell_type": "code",
   "execution_count": null,
   "metadata": {
    "deletable": false,
    "editable": false,
    "nbgrader": {
     "cell_type": "code",
     "checksum": "e6e4b2c5397155229d7b0f3b654a68bc",
     "grade": true,
     "grade_id": "Test4-5",
     "locked": true,
     "points": 2.5,
     "schema_version": 3,
     "solution": false
    }
   },
   "outputs": [],
   "source": [
    "# Ignore this cell\n",
    "# DO NOT DELETE THIS CELL\n",
    "### BEGIN TEST\n",
    "from nose.tools import assert_equal\n",
    "\n",
    "assert_equal(round(cost_to_paint(5, .24), 2), 2.41)\n",
    "\n",
    "###END TEST"
   ]
  },
  {
   "cell_type": "code",
   "execution_count": null,
   "metadata": {
    "deletable": false,
    "editable": false,
    "nbgrader": {
     "cell_type": "code",
     "checksum": "20b9a8182d603be1b8839195dcebd75e",
     "grade": true,
     "grade_id": "Test4-5-cse2",
     "locked": true,
     "points": 2.5,
     "schema_version": 3,
     "solution": false
    }
   },
   "outputs": [],
   "source": [
    "# Ignore this cell\n",
    "# DO NOT DELETE THIS CELL\n",
    "### BEGIN TEST\n",
    "from nose.tools import assert_equal\n",
    "\n",
    "\n",
    "assert_equal(round(cost_to_paint(20, .15), 2), 3.77)\n",
    "###END TEST"
   ]
  },
  {
   "cell_type": "code",
   "execution_count": null,
   "metadata": {
    "deletable": false,
    "editable": false,
    "nbgrader": {
     "cell_type": "code",
     "checksum": "dc10eb31554d530653e4f2757ca82918",
     "grade": true,
     "grade_id": "Test4-6",
     "locked": true,
     "points": 2.5,
     "schema_version": 3,
     "solution": false
    }
   },
   "outputs": [],
   "source": [
    "# Ignore this cell\n",
    "# DO NOT DELETE THIS CELL\n",
    "### BEGIN TEST\n",
    "from nose.tools import assert_equal\n",
    "\n",
    "assert_equal(round(find_mass_of_gold_sphere(.1), 2), 80.77)\n",
    "\n",
    "###END TEST"
   ]
  },
  {
   "cell_type": "code",
   "execution_count": null,
   "metadata": {
    "deletable": false,
    "editable": false,
    "nbgrader": {
     "cell_type": "code",
     "checksum": "9b24025467279af5d5561d0238384200",
     "grade": true,
     "grade_id": "Test4-6-case2",
     "locked": true,
     "points": 2.5,
     "schema_version": 3,
     "solution": false
    }
   },
   "outputs": [],
   "source": [
    "# Ignore this cell\n",
    "# DO NOT DELETE THIS CELL\n",
    "### BEGIN TEST\n",
    "from nose.tools import assert_equal\n",
    "\n",
    "\n",
    "assert_equal(round(find_mass_of_gold_sphere(2), 2), 646146.02)\n",
    "###END TEST"
   ]
  },
  {
   "cell_type": "code",
   "execution_count": null,
   "metadata": {
    "deletable": false,
    "editable": false,
    "nbgrader": {
     "cell_type": "code",
     "checksum": "6356305c3710222dacae5819d55b36aa",
     "grade": true,
     "grade_id": "Test4-7",
     "locked": true,
     "points": 5,
     "schema_version": 3,
     "solution": false
    }
   },
   "outputs": [],
   "source": [
    "# Ignore this cell\n",
    "# DO NOT DELETE THIS CELL\n",
    "### BEGIN TEST\n",
    "from nose.tools import assert_equal\n",
    "\n",
    "assert_equal(round(cost_of_gold_sphere(1335.1,.01), 1), 3803.7)\n",
    "###END TEST"
   ]
  },
  {
   "cell_type": "code",
   "execution_count": null,
   "metadata": {
    "deletable": false,
    "editable": false,
    "nbgrader": {
     "cell_type": "code",
     "checksum": "f4cc0576dcb85030309c475799cd6ca2",
     "grade": true,
     "grade_id": "Extra1-Test",
     "locked": true,
     "points": 5,
     "schema_version": 3,
     "solution": false
    }
   },
   "outputs": [],
   "source": [
    "# Ignore this cell\n",
    "\n",
    "# DO NOT DELETE THIS CELL\n",
    "### BEGIN TEST\n",
    "from nose.tools import assert_equal\n",
    "\n",
    "'''3141.5926535897934'''\n",
    "print(find_mass_anything(5,6))\n",
    "###END TEST"
   ]
  },
  {
   "cell_type": "code",
   "execution_count": null,
   "metadata": {
    "deletable": false,
    "editable": false,
    "nbgrader": {
     "cell_type": "code",
     "checksum": "e7f19f7e7cc6f429f462f0bf38cff5b0",
     "grade": true,
     "grade_id": "Extra2-Test",
     "locked": true,
     "points": 5,
     "schema_version": 3,
     "solution": false
    }
   },
   "outputs": [],
   "source": [
    "# Ignore this cell\n",
    "# DO NOT DELETE THIS CELL\n",
    "### BEGIN TEST\n",
    "from nose.tools import assert_equal\n",
    "\n",
    "'''107.04594937135553'''\n",
    "print(space_weight(1737000, 3340, 66))\n",
    "###END TEST"
   ]
  }
 ],
 "metadata": {
  "kernelspec": {
   "display_name": "Python 3",
   "language": "python",
   "name": "python3"
  },
  "language_info": {
   "codemirror_mode": {
    "name": "ipython",
    "version": 3
   },
   "file_extension": ".py",
   "mimetype": "text/x-python",
   "name": "python",
   "nbconvert_exporter": "python",
   "pygments_lexer": "ipython3",
   "version": "3.7.4"
  }
 },
 "nbformat": 4,
 "nbformat_minor": 1
}
