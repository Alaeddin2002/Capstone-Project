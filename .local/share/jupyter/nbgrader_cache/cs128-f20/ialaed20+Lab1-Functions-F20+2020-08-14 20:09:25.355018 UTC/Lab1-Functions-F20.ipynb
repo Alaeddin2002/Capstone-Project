{
 "cells": [
  {
   "cell_type": "markdown",
   "metadata": {},
   "source": [
    "Before you turn this problem in, make sure everything runs as expected. First, **restart the kernel** (in the menubar, select Kernel$\\rightarrow$Restart) and then **run all cells** (in the menubar, select Cell$\\rightarrow$Run All).\n",
    "\n",
    "Make sure you fill in any place that says `YOUR CODE HERE` or \"YOUR ANSWER HERE\", as well as your name and collaborators below:"
   ]
  },
  {
   "cell_type": "code",
   "execution_count": null,
   "metadata": {},
   "outputs": [],
   "source": [
    "NAME = \"Ihsan Alaeddin\"\n",
    "COLLABORATORS = \"Group 1\""
   ]
  },
  {
   "cell_type": "markdown",
   "metadata": {},
   "source": [
    "---"
   ]
  },
  {
   "cell_type": "markdown",
   "metadata": {
    "deletable": false,
    "editable": false,
    "nbgrader": {
     "cell_type": "markdown",
     "checksum": "c319d166684dd682f1044c2a74af83bd",
     "grade": false,
     "grade_id": "cell-cfe54a797f354bcd",
     "locked": true,
     "schema_version": 3,
     "solution": false,
     "task": false
    }
   },
   "source": [
    "# Lab1-Functions\n",
    "---\n",
    "This lab will get you started and comfortable designing and coding. You will practice using Python's built-in functions. These will come in handy for later assignments. We recommend that you do the exercises in order, as they generally increase in difficulty.\n",
    "\n",
    "This is the first programming lab, so you will be working with many new concepts. If you are unsure about how to get something working or why something is happening, ask an instructor or TA.\n",
    "\n",
    "Some important things to keep in mind:\n",
    "\n",
    "1) Be sure to read all of the instructions carefully. It is often the job of a programmer to translate program specifications into working code. Sometimes the programmer writes these specifications on their own, but often they are written collaboratively or given to the programmer. It is important that code does what the specification says it should do, as other parts of the software or experiment may be relying on that. If you just skim over the specification, you may end up doing extra work by accidentally building the wrong thing. \n",
    "\n",
    "2) Part of this is that function names shoud be exactly the same as they are stated in the specification. If other people are writing code that will connect to yours, it is important that you have named your functions as they expect. If your function's name doesn't match what the specification says, then when other people try to use their code, they won't be able to access your functions.\n",
    "\n",
    "3) Before you start to work, always make sure that you have fetched the correct version of the lab. All the labs should end with F20.\n",
    "\n",
    "At the bottom of this file, there is test code that you can use to run your code and check if your code produces the desired output. Do not remove this test code from the file.\n",
    "\n",
    "Always validate your program before submitting it. If there is an error message, read it, and if you do not understand it, ask the TAs. \n",
    "\n",
    "\n",
    "\n",
    "Here's a list of things this lab provides practice with:\n",
    "1. Print \n",
    "\n",
    "2. For loops\n",
    "\n",
    "3. Parameters\n",
    "\n",
    "4. Range\n",
    "\n",
    "5. Built in functions:\n",
    "\n",
    "    round()\n",
    "    \n",
    "    len()\n",
    "    \n",
    "    max()\n",
    "    \n",
    "    min()\n",
    "    \n",
    "    sum()\n",
    "    \n",
    "    abs()\n"
   ]
  },
  {
   "cell_type": "markdown",
   "metadata": {
    "deletable": false,
    "editable": false,
    "nbgrader": {
     "cell_type": "markdown",
     "checksum": "b334e3ce219ccac9969b10205673829e",
     "grade": false,
     "grade_id": "Divider1",
     "locked": true,
     "schema_version": 3,
     "solution": false
    }
   },
   "source": [
    "---\n",
    "### Exercise 1\n",
    "---\n",
    "Write a function called **hello_world** that **prints** 'Hello World!'. This function does not take any parameters. Remember, print is a function that displays its argument to the screen.\n",
    "\n",
    "Underneath your function definition, call your function by writing:\n",
    "\n",
    "    hello_world()"
   ]
  },
  {
   "cell_type": "code",
   "execution_count": 12,
   "metadata": {
    "deletable": false,
    "nbgrader": {
     "cell_type": "code",
     "checksum": "2f96e64cc90be64c1ee8e22d35efe71d",
     "grade": false,
     "grade_id": "Part1",
     "locked": false,
     "schema_version": 3,
     "solution": true
    }
   },
   "outputs": [
    {
     "name": "stdout",
     "output_type": "stream",
     "text": [
      "Hello World!\n"
     ]
    }
   ],
   "source": [
    "\n",
    "# YOUR CODE HERE\n",
    "def hello_world():\n",
    "    print(\"Hello World!\")\n",
    "\n",
    "hello_world()\n"
   ]
  },
  {
   "cell_type": "markdown",
   "metadata": {
    "deletable": false,
    "editable": false,
    "nbgrader": {
     "cell_type": "markdown",
     "checksum": "071edc138e7eee0e7f8aa393e147de63",
     "grade": false,
     "grade_id": "Divider1-1",
     "locked": true,
     "schema_version": 3,
     "solution": false
    }
   },
   "source": [
    "---\n",
    "### Exercise 1.1\n",
    "---\n",
    "Write a function called **count** that takes a number, n, as a parameter and\n",
    "prints all the whole numbers from 1 up until that number, including that number. You will need to use a **for** loop and the **range** function to do this. For example,\n",
    "\n",
    "    count(12)\n",
    "    \n",
    "should start counting at 1 and stop at 12. "
   ]
  },
  {
   "cell_type": "code",
   "execution_count": 39,
   "metadata": {
    "deletable": false,
    "nbgrader": {
     "cell_type": "code",
     "checksum": "ef47925fb05a94fe84f34a60078cd62f",
     "grade": false,
     "grade_id": "Part1-1",
     "locked": false,
     "schema_version": 3,
     "solution": true
    }
   },
   "outputs": [
    {
     "name": "stdout",
     "output_type": "stream",
     "text": [
      "1\n"
     ]
    }
   ],
   "source": [
    "# YOUR CODE HERE\n",
    "def count(n):\n",
    "    x=1\n",
    "    for i in range (n):\n",
    "        print(x)\n",
    "        x= x+1\n",
    "count(1)"
   ]
  },
  {
   "cell_type": "markdown",
   "metadata": {
    "deletable": false,
    "editable": false,
    "nbgrader": {
     "cell_type": "markdown",
     "checksum": "b153940fc14cef1055c22c8214bef522",
     "grade": false,
     "grade_id": "Divider1-2",
     "locked": true,
     "schema_version": 3,
     "solution": false
    }
   },
   "source": [
    "---\n",
    "### Exercise 1.2\n",
    "---\n",
    "Write a function **hello_world_repeat** that takes a number, n, as a parameter. \n",
    "This function should print 'Hello World!' n times. "
   ]
  },
  {
   "cell_type": "code",
   "execution_count": 56,
   "metadata": {
    "deletable": false,
    "nbgrader": {
     "cell_type": "code",
     "checksum": "a5bb1ad1ce18f54e7966e6488e0aaae4",
     "grade": false,
     "grade_id": "Part1-2",
     "locked": false,
     "schema_version": 3,
     "solution": true
    }
   },
   "outputs": [
    {
     "name": "stdout",
     "output_type": "stream",
     "text": [
      "Hello World!\n",
      "Hello World!\n"
     ]
    }
   ],
   "source": [
    "# YOUR CODE HERE\n",
    "def hello_world_repeat(n):\n",
    "    x=1\n",
    "    for i in range (n):\n",
    "        print(\"Hello World!\")\n",
    "        \n",
    "hello_world_repeat(2)\n",
    "        "
   ]
  },
  {
   "cell_type": "markdown",
   "metadata": {
    "deletable": false,
    "editable": false,
    "nbgrader": {
     "cell_type": "markdown",
     "checksum": "da693124548f7513fada0564753dfd4c",
     "grade": false,
     "grade_id": "Divider1-3",
     "locked": true,
     "schema_version": 3,
     "solution": false
    }
   },
   "source": [
    "---\n",
    "### Exercise 1.3\n",
    "---\n",
    "Write a function called **greet** that takes a person's name as a parameter and prints 'Hi' along with the person's name. \n",
    "\n",
    "For example, if I call the function:\n",
    "\n",
    "    greet('Dave')\n",
    "\n",
    "the function should print:\n",
    "\n",
    "    Hi Dave\n",
    "\n",
    "Page 9 of the textbook may help with this execise."
   ]
  },
  {
   "cell_type": "code",
   "execution_count": 97,
   "metadata": {
    "deletable": false,
    "nbgrader": {
     "cell_type": "code",
     "checksum": "01bfda92745fa062f6f6ca85bd6bfbda",
     "grade": false,
     "grade_id": "Part1-3",
     "locked": false,
     "schema_version": 3,
     "solution": true
    }
   },
   "outputs": [
    {
     "name": "stdout",
     "output_type": "stream",
     "text": [
      "Hi Jordan\n"
     ]
    }
   ],
   "source": [
    "# YOUR CODE HERE\n",
    "def greet(person):\n",
    "    print(\"Hi\",person)\n",
    "    \n",
    "greet(\"Jordan\")\n",
    "\n"
   ]
  },
  {
   "cell_type": "markdown",
   "metadata": {
    "deletable": false,
    "editable": false,
    "nbgrader": {
     "cell_type": "markdown",
     "checksum": "e876c3a81cc3f52387ed54c5265054c8",
     "grade": false,
     "grade_id": "Divider1-4",
     "locked": true,
     "schema_version": 3,
     "solution": false
    }
   },
   "source": [
    "---\n",
    "### Exercise 1.4\n",
    "---\n",
    "Write a function called **blastoff** that counts down from a certain number until it reaches 1,\n",
    "and then prints \"Blastoff!\". The number to start counting down from should \n",
    "be given as a parameter.\n",
    "\n",
    "For example, blastoff(5) should print:\n",
    "5\n",
    "4\n",
    "3\n",
    "2\n",
    "1\n",
    "Blastoff!\n",
    "\n",
    "**Hint**: Page 53 of the textbook talks about something called a **step**. This will be useful when writing this code"
   ]
  },
  {
   "cell_type": "code",
   "execution_count": 111,
   "metadata": {
    "deletable": false,
    "nbgrader": {
     "cell_type": "code",
     "checksum": "967e13831046f5b986bc96e8dc8e3310",
     "grade": false,
     "grade_id": "Part1-4",
     "locked": false,
     "schema_version": 3,
     "solution": true
    }
   },
   "outputs": [
    {
     "name": "stdout",
     "output_type": "stream",
     "text": [
      "5\n",
      "4\n",
      "3\n",
      "2\n",
      "1\n",
      "Blastoff!\n"
     ]
    }
   ],
   "source": [
    "# YOUR CODE HERE\n",
    "def blastoff(n):\n",
    "    x=n\n",
    "    for i in range (n):\n",
    "        print(x)\n",
    "        x=x-1\n",
    "    print(\"Blastoff!\")\n",
    "\n",
    "\n",
    "blastoff(5)\n",
    "    "
   ]
  },
  {
   "cell_type": "markdown",
   "metadata": {
    "deletable": false,
    "editable": false,
    "nbgrader": {
     "cell_type": "markdown",
     "checksum": "822acb2c3473a6716cd739a4c82c6dd7",
     "grade": false,
     "grade_id": "Divider2",
     "locked": true,
     "schema_version": 3,
     "solution": false
    }
   },
   "source": [
    "---\n",
    "### Exercise 2\n",
    "---\n",
    "Write a function called **fraction_round** that takes two numbers as parameters. One parameter is a numerator and the other is a denominator. Write the function so that it prints the result of the division, rounded to the nearest whole number. For example,\n",
    "\n",
    "    fraction_round(21,5)\n",
    "    \n",
    "should print 4.\n",
    "\n",
    "**Note**: You can make use the built-in Python function **round**. This function can be used in several ways. One way to use it is to give it a single argument. When used in this way, round returns a value that is its argument rounded to the nearest whole number. For example, round(3.2) will return 3."
   ]
  },
  {
   "cell_type": "code",
   "execution_count": 135,
   "metadata": {
    "deletable": false,
    "nbgrader": {
     "cell_type": "code",
     "checksum": "d53289e8c6687b33ce965daf82462361",
     "grade": false,
     "grade_id": "Part2",
     "locked": false,
     "schema_version": 3,
     "solution": true
    }
   },
   "outputs": [
    {
     "name": "stdout",
     "output_type": "stream",
     "text": [
      "2\n"
     ]
    }
   ],
   "source": [
    "# YOUR CODE HERE\n",
    "def fraction_round(y,x):\n",
    "    c=y/x\n",
    "    d=round(c)\n",
    "    print(d)\n",
    "fraction_round(11,5)"
   ]
  },
  {
   "cell_type": "markdown",
   "metadata": {
    "deletable": false,
    "editable": false,
    "nbgrader": {
     "cell_type": "markdown",
     "checksum": "2f98f7660005bfb34656fcbdce342ad9",
     "grade": false,
     "grade_id": "Divider2-1",
     "locked": true,
     "schema_version": 3,
     "solution": false
    }
   },
   "source": [
    "---\n",
    "### Exercise 2.1\n",
    "---\n",
    "Write a function called **frac_2_round** that does the same thing as **fraction_round** but instead of rounding the result to the nearest whole number, it rounds it to two decimal places.\n",
    "\n",
    "Note: You can use round here as well. When you give round two arguments, the second argument is the number of decimal places that the function will round to. For example, round(3.3333333,4) will return 3.3333."
   ]
  },
  {
   "cell_type": "code",
   "execution_count": 143,
   "metadata": {
    "deletable": false,
    "nbgrader": {
     "cell_type": "code",
     "checksum": "1d936c77f1338574424078eef497e716",
     "grade": false,
     "grade_id": "Part2-1",
     "locked": false,
     "schema_version": 3,
     "solution": true
    }
   },
   "outputs": [
    {
     "name": "stdout",
     "output_type": "stream",
     "text": [
      "0.33\n"
     ]
    }
   ],
   "source": [
    "# YOUR CODE HERE\n",
    "def frac_2_round(y,x):\n",
    "    c=y/x\n",
    "    d=round(c,2)\n",
    "    print(d)\n",
    "frac_2_round(3,9)"
   ]
  },
  {
   "cell_type": "markdown",
   "metadata": {
    "deletable": false,
    "editable": false,
    "nbgrader": {
     "cell_type": "markdown",
     "checksum": "d4d538e06f5c45a39479dcb610c5e1ad",
     "grade": false,
     "grade_id": "Divider2-2",
     "locked": true,
     "schema_version": 3,
     "solution": false
    }
   },
   "source": [
    "---\n",
    "### Exercise 2.2\n",
    "---\n",
    "Write a function called **frac_num_round** that takes **three** parameters instead of just two. \n",
    "The first two parameters will be the same as in the previous exercise, **numerator** and **denominator**. The third parameter will be a number that represents how many decimal places the fraction will be rounded to. Write the function so that it will round the fraction to a specified amount of decimal places and print the result.\n",
    "\n",
    "For example,\n",
    "\n",
    "    frac_num_round(1, 3, 6)\n",
    "    \n",
    "should print 0.333333"
   ]
  },
  {
   "cell_type": "code",
   "execution_count": 145,
   "metadata": {
    "deletable": false,
    "nbgrader": {
     "cell_type": "code",
     "checksum": "4a03ea117d1a30b9eab5cf5f24350b06",
     "grade": false,
     "grade_id": "Part2-2",
     "locked": false,
     "schema_version": 3,
     "solution": true
    }
   },
   "outputs": [
    {
     "name": "stdout",
     "output_type": "stream",
     "text": [
      "0.333\n"
     ]
    }
   ],
   "source": [
    "# YOUR CODE HERE\n",
    "def frac_num_round(y,x,z):\n",
    "    c=y/x\n",
    "    d=round(c,z)\n",
    "    print(d)\n",
    "frac_num_round(3,9,3)"
   ]
  },
  {
   "cell_type": "markdown",
   "metadata": {
    "deletable": false,
    "editable": false,
    "nbgrader": {
     "cell_type": "markdown",
     "checksum": "c2f32b2a056e40c81e9f793fd303f653",
     "grade": false,
     "grade_id": "Divider3",
     "locked": true,
     "schema_version": 3,
     "solution": false
    }
   },
   "source": [
    "---\n",
    "### Exercise 3\n",
    "---\n",
    "Write a function called **sentence_length** that takes a sentence as a parameter\n",
    "and prints the number of characters in that sentence. \n",
    "\n",
    "The sentence will be a string. You can find the definition of a string and how to denote a string in the textbook. \n",
    "\n",
    "**Example**\n",
    "\n",
    "If I call the function as follows:\n",
    "\n",
    "    sentence_length(\"Hello World!\")\n",
    "\n",
    "the following should be printed:\n",
    "\n",
    "    12\n",
    "    \n",
    "You can make use of the len() function for this exercise. len() takes one argument. The argument must be a sequence of some kind, such as a string."
   ]
  },
  {
   "cell_type": "code",
   "execution_count": 149,
   "metadata": {
    "deletable": false,
    "nbgrader": {
     "cell_type": "code",
     "checksum": "b8cc1baa4a8ef4cd339431b361022d5d",
     "grade": false,
     "grade_id": "Part3",
     "locked": false,
     "schema_version": 3,
     "solution": true
    }
   },
   "outputs": [
    {
     "name": "stdout",
     "output_type": "stream",
     "text": [
      "18\n"
     ]
    }
   ],
   "source": [
    "# YOUR CODE HERE\n",
    "def sentence_length(a):\n",
    "    print(len(a))\n",
    "sentence_length(\"Its 1 am right now\")\n",
    "\n",
    "\n"
   ]
  },
  {
   "cell_type": "markdown",
   "metadata": {
    "deletable": false,
    "editable": false,
    "nbgrader": {
     "cell_type": "markdown",
     "checksum": "b2625ed436ace3d138088c5caf4afd33",
     "grade": false,
     "grade_id": "Divider4",
     "locked": true,
     "schema_version": 3,
     "solution": false
    }
   },
   "source": [
    "---\n",
    "### Exercise 4\n",
    "---\n",
    "Write a function called **list_analyze** that takes a list of numbers as a parameter and prints:\n",
    "* The maximum and minimum numbers in the list\n",
    "* The length of the list\n",
    "* The sum of the numbers in the list.\n",
    "\n",
    "There are built-in Python functions to find each of these values. If you Google something along the lines of \"find max of list python\" or \"find sum of list python\" you will find explanations as to how to use these built in functions to find these values.\n",
    "\n",
    "**Example**\n",
    "\n",
    "if I call the function as follows:\n",
    "   \n",
    "    list_analyze([3, 6, 7, 2, 0, 5, 7, 12, 10, 7])\n",
    "   \n",
    "the following should be printed:\n",
    "\n",
    "    The maximum number in the list is: 12\n",
    "    The minimum number in the list is: 0\n",
    "    The length of the list is: 10\n",
    "    The sum of the list is: 59\n",
    "    \n",
    "Lists are also covered in the textbook."
   ]
  },
  {
   "cell_type": "code",
   "execution_count": 157,
   "metadata": {
    "deletable": false,
    "nbgrader": {
     "cell_type": "code",
     "checksum": "e3c2c87a7b236ad24295d957dda9d400",
     "grade": false,
     "grade_id": "Part4",
     "locked": false,
     "schema_version": 3,
     "solution": true
    }
   },
   "outputs": [
    {
     "name": "stdout",
     "output_type": "stream",
     "text": [
      "The length of the list is 10\n",
      "The Maximum number in the list is 12\n",
      "The Minimum number of the list is 0\n",
      "The sum of the list is 59\n"
     ]
    }
   ],
   "source": [
    "# YOUR CODE HERE\n",
    "def list_analyze(a):\n",
    "    print(\"The length of the list is\",len(a))\n",
    "    print(\"The Maximum number in the list is\",max(a))\n",
    "    print(\"The Minimum number of the list is\",min(a))\n",
    "    print(\"The sum of the list is\",sum(a))\n",
    "        \n",
    "list_analyze([3,6,7,2,0,5,7,12,10,7])\n"
   ]
  },
  {
   "cell_type": "markdown",
   "metadata": {
    "deletable": false,
    "editable": false,
    "nbgrader": {
     "cell_type": "markdown",
     "checksum": "5d429d4acf546107c1ebfacc0b848e22",
     "grade": false,
     "grade_id": "Divider5",
     "locked": true,
     "schema_version": 3,
     "solution": false
    }
   },
   "source": [
    "---\n",
    "### Exercise 5\n",
    "---\n",
    "Write a function called **absolute_val** that takes a list of numbers as a parameter, and prints the *absolute value* of each number in the list. The absolute value of a number is how far that number is from 0. The absolute value of -6 is 6, and the absolute value of 14 is 14. Another way to think about it is that the absolute value of a positive number is that same number, and the absolute value of a negative number is that number, but positive.\n",
    "\n",
    "Find and use the python function for absolute value. \n",
    "\n",
    "**Hint:** To do this, you will need to iterate through a list using a for loop. \n",
    "\n",
    "Here is one way that you can iterate though a list using a for loop:\n",
    "\n",
    "If I have a list, a, where\n",
    "\n",
    "    a = [5, -8, 15, -73, 10, 23]\n",
    "\n",
    "and I run the code:\n",
    "\n",
    "    for i in a:    #read this as \"for each element, i, in list A, do the following\"\n",
    "        print(i)\n",
    "     \n",
    "It will look like this:\n",
    "\n",
    "    5\n",
    "    -8\n",
    "    15\n",
    "    -73\n",
    "    10\n",
    "    23\n",
    "    \n",
    "This happens because each time the loop runs, i takes on the value of the next item in the list. The main thing you need to do is alter this code so that instead of printing i, you will print the absolute value of i.  "
   ]
  },
  {
   "cell_type": "code",
   "execution_count": 202,
   "metadata": {
    "deletable": false,
    "nbgrader": {
     "cell_type": "code",
     "checksum": "e3cdb4cbadba2eefec146a5413712536",
     "grade": false,
     "grade_id": "Part5",
     "locked": false,
     "schema_version": 3,
     "solution": true
    }
   },
   "outputs": [
    {
     "name": "stdout",
     "output_type": "stream",
     "text": [
      "3\n",
      "6\n",
      "7\n",
      "2\n",
      "0\n",
      "5\n",
      "7\n",
      "12\n",
      "10\n",
      "7\n"
     ]
    }
   ],
   "source": [
    "# YOUR CODE HERE\n",
    "def absolute_val(a):\n",
    "    \n",
    "    for i in range(len(a)):\n",
    "        print(abs(a[i]))\n",
    "        \n",
    "        \n",
    "absolute_val([3,6,7,-2,0,5,7,-12,10,7])   "
   ]
  },
  {
   "cell_type": "markdown",
   "metadata": {
    "collapsed": true,
    "deletable": false,
    "editable": false,
    "nbgrader": {
     "cell_type": "markdown",
     "checksum": "193a14df49749315a1f3ce9febe748a6",
     "grade": false,
     "grade_id": "Divider6-1",
     "locked": true,
     "schema_version": 3,
     "solution": false
    }
   },
   "source": [
    "---\n",
    "### Exercise 6.1\n",
    "---\n",
    "Write a function called **powers_of_2** that starts by printing 1 and then\n",
    "prints 2, then 4, then 8 and so on. The number that is printed doubles each time. This function will take one parameter\n",
    "that represents how many numbers should be printed in total. There are a few ways to do this exercise."
   ]
  },
  {
   "cell_type": "code",
   "execution_count": 244,
   "metadata": {
    "deletable": false,
    "nbgrader": {
     "cell_type": "code",
     "checksum": "4eaf60a4d7b3674252e8323251b3e270",
     "grade": false,
     "grade_id": "Part6-1",
     "locked": false,
     "schema_version": 3,
     "solution": true
    }
   },
   "outputs": [
    {
     "name": "stdout",
     "output_type": "stream",
     "text": [
      "1\n",
      "2\n",
      "4\n",
      "8\n",
      "16\n",
      "32\n",
      "64\n",
      "128\n"
     ]
    }
   ],
   "source": [
    "# YOUR CODE HERE\n",
    "def powers_of_2(a):\n",
    "    x=1\n",
    "    for i in range(a):\n",
    "        print(x)\n",
    "        x=x*2\n",
    "    \n",
    "powers_of_2(8)"
   ]
  },
  {
   "cell_type": "markdown",
   "metadata": {
    "deletable": false,
    "editable": false,
    "nbgrader": {
     "cell_type": "markdown",
     "checksum": "8f6b008a61c424bba5990c31477f5467",
     "grade": false,
     "grade_id": "Divider6-2",
     "locked": true,
     "schema_version": 3,
     "solution": false
    }
   },
   "source": [
    "---\n",
    "### Exercise 6.2\n",
    "---\n",
    "Write a function called **order_of_magnitude** which does the same thing\n",
    "as **powers_of_2**, but rather than multiplying the preceding number by two each time, it multiplies\n",
    "it by 10.\n"
   ]
  },
  {
   "cell_type": "code",
   "execution_count": 250,
   "metadata": {
    "deletable": false,
    "nbgrader": {
     "cell_type": "code",
     "checksum": "aa8660fa3ffc6dc121eaef2d101092bc",
     "grade": false,
     "grade_id": "Part6-2",
     "locked": false,
     "schema_version": 3,
     "solution": true
    }
   },
   "outputs": [
    {
     "name": "stdout",
     "output_type": "stream",
     "text": [
      "1\n",
      "10\n",
      "100\n",
      "1000\n",
      "10000\n",
      "100000\n",
      "1000000\n",
      "10000000\n"
     ]
    }
   ],
   "source": [
    "# YOUR CODE HERE\n",
    "def order_of_magnitude(a):\n",
    "    x=1\n",
    "    for i in range(a):\n",
    "        print (x)\n",
    "        x=x*10\n",
    "    \n",
    "order_of_magnitude(8)"
   ]
  },
  {
   "cell_type": "markdown",
   "metadata": {
    "deletable": false,
    "editable": false,
    "nbgrader": {
     "cell_type": "markdown",
     "checksum": "e72d6dfcfd944096d1e683915d57b73a",
     "grade": false,
     "grade_id": "Divider6-3",
     "locked": true,
     "schema_version": 3,
     "solution": false
    }
   },
   "source": [
    "---\n",
    "### Exercise 6.3\n",
    "---\n",
    "Write a function called **exponential** that starts by printing 2. Each number it prints after that should be the square of the previous number. That means that after printing 2, it prints 4, then 16, and so on. This function will take one parameter\n",
    "that represents how many numbers should be printed.\n",
    "\n",
    "---\n",
    "Look closely at the output of **exponential** and count the number of digits in the answers. Do you notice anything interesting? How does the number of digits in the answers grow? (You'll write the answer below, under Exercise 6.4.)\n",
    "\n",
    "You might want to have your function print an empty line between values, as it can otherwise be difficult to see where one value ends and the other begins. \n"
   ]
  },
  {
   "cell_type": "code",
   "execution_count": 249,
   "metadata": {
    "deletable": false,
    "nbgrader": {
     "cell_type": "code",
     "checksum": "680a4a73d6952d86eb4ac1ce0325d0ba",
     "grade": false,
     "grade_id": "Part6-3",
     "locked": false,
     "schema_version": 3,
     "solution": true
    }
   },
   "outputs": [
    {
     "name": "stdout",
     "output_type": "stream",
     "text": [
      "7\n",
      "49\n",
      "2401\n",
      "5764801\n",
      "33232930569601\n",
      "1104427674243920646305299201\n",
      "1219760487635835700138573862562971820755615294131238401\n"
     ]
    }
   ],
   "source": [
    "# YOUR CODE HERE\n",
    "def exponential(a):\n",
    "    x=a\n",
    "    for i in range(a):\n",
    "        print(x)\n",
    "        x=x*x\n",
    "    \n",
    "exponential(7)"
   ]
  },
  {
   "cell_type": "markdown",
   "metadata": {
    "deletable": false,
    "editable": false,
    "nbgrader": {
     "cell_type": "markdown",
     "checksum": "86d3922b03cb707ca1df12bbc4e308d6",
     "grade": false,
     "grade_id": "Divider6-4",
     "locked": true,
     "schema_version": 3,
     "solution": false
    }
   },
   "source": [
    "---\n",
    "### Exercise 6.4\n",
    "---\n",
    "Roughly how does the length of the answers printed by **exponential** grow after a while? \n",
    "(e.g. does it keep growing by 1 digit, 5 digits, or do something a little more complex?) \n",
    "Write a short answer (in plain English) here."
   ]
  },
  {
   "cell_type": "markdown",
   "metadata": {
    "deletable": false,
    "nbgrader": {
     "cell_type": "markdown",
     "checksum": "4c6ca7afdefa91145d557c5fe35d635b",
     "grade": true,
     "grade_id": "Part6-4",
     "locked": false,
     "points": 5,
     "schema_version": 3,
     "solution": true
    }
   },
   "source": [
    "YOUR ANSWER HERE: It grows by double the digits of the previous answer."
   ]
  },
  {
   "cell_type": "code",
   "execution_count": null,
   "metadata": {
    "deletable": false,
    "editable": false,
    "nbgrader": {
     "cell_type": "code",
     "checksum": "f825198b3eb1a451c3d8ab311a6724ad",
     "grade": true,
     "grade_id": "Test1",
     "locked": true,
     "points": 5,
     "schema_version": 3,
     "solution": false
    }
   },
   "outputs": [],
   "source": [
    "# Ignore this cell\n",
    "# DO NOT DELETE THIS CELL\n",
    "### BEGIN TEST\n",
    "\n",
    "\"\"\"Hello World!\"\"\"\n",
    "\n",
    "hello_world()\n",
    "### END TEST"
   ]
  },
  {
   "cell_type": "code",
   "execution_count": null,
   "metadata": {
    "deletable": false,
    "editable": false,
    "nbgrader": {
     "cell_type": "code",
     "checksum": "13dd1b8391cc513d3f2db31cddcacae3",
     "grade": true,
     "grade_id": "Test1-1",
     "locked": true,
     "points": 5,
     "schema_version": 3,
     "solution": false
    }
   },
   "outputs": [],
   "source": [
    "# Ignore this cell\n",
    "# DO NOT DELETE THIS CELL\n",
    "### BEGIN TEST\n",
    "\"\"\"\n",
    "1\n",
    "2\n",
    "3\n",
    "4\n",
    "5\n",
    "6\n",
    "\"\"\"\n",
    "count(6)\n",
    "### END TEST"
   ]
  },
  {
   "cell_type": "code",
   "execution_count": null,
   "metadata": {
    "deletable": false,
    "editable": false,
    "nbgrader": {
     "cell_type": "code",
     "checksum": "218a5349a1e02704f1c9482e7ae9ede3",
     "grade": true,
     "grade_id": "Test1-2",
     "locked": true,
     "points": 5,
     "schema_version": 3,
     "solution": false
    }
   },
   "outputs": [],
   "source": [
    "# Ignore this cell\n",
    "# DO NOT DELETE THIS CELL\n",
    "### BEGIN TEST\n",
    "\"\"\"\n",
    "Hello World!\n",
    "Hello World!\n",
    "Hello World!\n",
    "Hello World!\n",
    "\"\"\"\n",
    "hello_world_repeat(4)\n",
    "\n",
    "### END TEST"
   ]
  },
  {
   "cell_type": "code",
   "execution_count": null,
   "metadata": {
    "deletable": false,
    "editable": false,
    "nbgrader": {
     "cell_type": "code",
     "checksum": "955d4913f0261647a2076347fb822d68",
     "grade": true,
     "grade_id": "Test1-3",
     "locked": true,
     "points": 5,
     "schema_version": 3,
     "solution": false
    }
   },
   "outputs": [],
   "source": [
    "# Ignore this cell\n",
    "# DO NOT DELETE THIS CELL\n",
    "### BEGIN TEST\n",
    "\"\"\"\n",
    "Hi Shana\n",
    "\"\"\"\n",
    "greet('Shana')\n",
    "\n",
    "### END TEST"
   ]
  },
  {
   "cell_type": "code",
   "execution_count": null,
   "metadata": {
    "deletable": false,
    "editable": false,
    "nbgrader": {
     "cell_type": "code",
     "checksum": "4b7be77443f8e39a8829bfaec78dee1e",
     "grade": true,
     "grade_id": "Test1-4",
     "locked": true,
     "points": 5,
     "schema_version": 3,
     "solution": false
    }
   },
   "outputs": [],
   "source": [
    "# Ignore this cell\n",
    "# DO NOT DELETE THIS CELL\n",
    "### BEGIN TEST\n",
    "\"\"\"\n",
    "7\n",
    "6\n",
    "5\n",
    "4\n",
    "3\n",
    "2\n",
    "1\n",
    "Blastoff!\n",
    "\"\"\"\n",
    "\n",
    "blastoff(7)\n",
    "\n",
    "### END TEST"
   ]
  },
  {
   "cell_type": "code",
   "execution_count": null,
   "metadata": {
    "deletable": false,
    "editable": false,
    "nbgrader": {
     "cell_type": "code",
     "checksum": "1c2b4ce6d973a491b4f689a48d24c984",
     "grade": true,
     "grade_id": "Test2",
     "locked": true,
     "points": 5,
     "schema_version": 3,
     "solution": false
    }
   },
   "outputs": [],
   "source": [
    "# Ignore this cell\n",
    "# DO NOT DELETE THIS CELL\n",
    "### BEGIN TEST\n",
    "\n",
    "\"\"\"\n",
    "2\n",
    "\"\"\"\n",
    "fraction_round(11, 6)\n",
    "\n",
    "### END TEST"
   ]
  },
  {
   "cell_type": "code",
   "execution_count": null,
   "metadata": {
    "deletable": false,
    "editable": false,
    "nbgrader": {
     "cell_type": "code",
     "checksum": "f7af865e8e94a055dca14950f9d4b3b8",
     "grade": true,
     "grade_id": "Test2-1",
     "locked": true,
     "points": 5,
     "schema_version": 3,
     "solution": false
    }
   },
   "outputs": [],
   "source": [
    "# Ignore this cell\n",
    "# DO NOT DELETE THIS CELL\n",
    "### BEGIN TEST\n",
    "\"\"\"\n",
    "0.17\n",
    "\"\"\"\n",
    "frac_2_round(1, 6)\n",
    "\n",
    "### END TEST"
   ]
  },
  {
   "cell_type": "code",
   "execution_count": null,
   "metadata": {
    "deletable": false,
    "editable": false,
    "nbgrader": {
     "cell_type": "code",
     "checksum": "b0468b5ec04d3f65432e505386122aae",
     "grade": true,
     "grade_id": "Test2-2",
     "locked": true,
     "points": 5,
     "schema_version": 3,
     "solution": false
    }
   },
   "outputs": [],
   "source": [
    "# Ignore this cell\n",
    "# DO NOT DELETE THIS CELL\n",
    "### BEGIN TEST\n",
    "\"\"\"\n",
    "0.333333\n",
    "\"\"\"\n",
    "frac_num_round(1, 3, 6)\n",
    "\n",
    "### END TEST"
   ]
  },
  {
   "cell_type": "code",
   "execution_count": null,
   "metadata": {
    "deletable": false,
    "editable": false,
    "nbgrader": {
     "cell_type": "code",
     "checksum": "7bf684dc6935e5ecffc3c6d244cb6f3f",
     "grade": true,
     "grade_id": "Test3",
     "locked": true,
     "points": 5,
     "schema_version": 3,
     "solution": false
    }
   },
   "outputs": [],
   "source": [
    "# Ignore this cell\n",
    "# DO NOT DELETE THIS CELL\n",
    "### BEGIN TEST\n",
    "\"\"\"\n",
    "26\n",
    "\"\"\"\n",
    "sentence_length(\"Hi there what a lovely day\")\n",
    "### END TEST"
   ]
  },
  {
   "cell_type": "code",
   "execution_count": null,
   "metadata": {
    "deletable": false,
    "editable": false,
    "nbgrader": {
     "cell_type": "code",
     "checksum": "3a8e68665814a0b7bbe42d902c90b9ac",
     "grade": true,
     "grade_id": "Test4",
     "locked": true,
     "points": 5,
     "schema_version": 3,
     "solution": false
    }
   },
   "outputs": [],
   "source": [
    "# Ignore this cell\n",
    "# DO NOT DELETE THIS CELL\n",
    "### BEGIN TEST\n",
    "\"\"\"\n",
    "The maximum number in the list is: 235\n",
    "The minimum number in the list is: -71\n",
    "The length of the list is: 8\n",
    "The sum of the list is: 300\n",
    "\"\"\"\n",
    "list_analyze([12, 54, -71, 235, 6, 34, 7, 23])\n",
    "### END TEST"
   ]
  },
  {
   "cell_type": "code",
   "execution_count": null,
   "metadata": {
    "deletable": false,
    "editable": false,
    "nbgrader": {
     "cell_type": "code",
     "checksum": "4f4bfdef3cacd82dc60501e3a8fa1b85",
     "grade": true,
     "grade_id": "Test5",
     "locked": true,
     "points": 5,
     "schema_version": 3,
     "solution": false
    }
   },
   "outputs": [],
   "source": [
    "# Ignore this cell\n",
    "# DO NOT DELETE THIS CELL\n",
    "### BEGIN TEST\n",
    "\"\"\"\n",
    "6\n",
    "134\n",
    "6\n",
    "2\n",
    "856\n",
    "35\n",
    "\"\"\"\n",
    "absolute_val([-6, -134, 6, 2, 856, -35])\n",
    "### END TEST"
   ]
  },
  {
   "cell_type": "code",
   "execution_count": null,
   "metadata": {
    "deletable": false,
    "editable": false,
    "nbgrader": {
     "cell_type": "code",
     "checksum": "31d790446882a7557959fbdd2797c421",
     "grade": true,
     "grade_id": "Test6-1",
     "locked": true,
     "points": 5,
     "schema_version": 3,
     "solution": false
    }
   },
   "outputs": [],
   "source": [
    "# Ignore this cell\n",
    "# DO NOT DELETE THIS CELL\n",
    "### BEGIN TEST\n",
    "\"\"\"\n",
    "1\n",
    "2\n",
    "4\n",
    "8\n",
    "16\n",
    "32\n",
    "64\n",
    "\"\"\"\n",
    "powers_of_2(7)\n",
    "### END TEST"
   ]
  },
  {
   "cell_type": "code",
   "execution_count": null,
   "metadata": {
    "deletable": false,
    "editable": false,
    "nbgrader": {
     "cell_type": "code",
     "checksum": "006376ca7337e0424654e95af96356db",
     "grade": true,
     "grade_id": "Test6-2",
     "locked": true,
     "points": 5,
     "schema_version": 3,
     "solution": false
    }
   },
   "outputs": [],
   "source": [
    "# Ignore this cell\n",
    "# DO NOT DELETE THIS CELL\n",
    "### BEGIN TEST\n",
    "\"\"\"\n",
    "1\n",
    "10\n",
    "100\n",
    "1000\n",
    "10000\n",
    "100000\n",
    "1000000\n",
    "10000000\n",
    "100000000\n",
    "\"\"\"\n",
    "order_of_magnitude(9)\n",
    "### END TEST"
   ]
  },
  {
   "cell_type": "code",
   "execution_count": null,
   "metadata": {
    "deletable": false,
    "editable": false,
    "nbgrader": {
     "cell_type": "code",
     "checksum": "f04bd8ea834a2e5f8a8f768f83d1d293",
     "grade": true,
     "grade_id": "test6-3",
     "locked": true,
     "points": 5,
     "schema_version": 3,
     "solution": false
    }
   },
   "outputs": [],
   "source": [
    "# Ignore this cell\n",
    "# DO NOT DELETE THIS CELL\n",
    "### BEGIN TEST\n",
    "\"\"\"\n",
    "2 \n",
    "\n",
    "4 \n",
    "\n",
    "16 \n",
    "\n",
    "256 \n",
    "\n",
    "65536 \n",
    "\n",
    "4294967296 \n",
    "\n",
    "18446744073709551616 \n",
    "\n",
    "340282366920938463463374607431768211456 \n",
    "\n",
    "115792089237316195423570985008687907853269984665640564039457584007913129639936 \n",
    "\"\"\"\n",
    "exponential(9)\n",
    "### END TEST"
   ]
  },
  {
   "cell_type": "code",
   "execution_count": null,
   "metadata": {},
   "outputs": [],
   "source": []
  },
  {
   "cell_type": "code",
   "execution_count": null,
   "metadata": {},
   "outputs": [],
   "source": []
  },
  {
   "cell_type": "code",
   "execution_count": null,
   "metadata": {},
   "outputs": [],
   "source": []
  }
 ],
 "metadata": {
  "kernelspec": {
   "display_name": "Python 3",
   "language": "python",
   "name": "python3"
  },
  "language_info": {
   "codemirror_mode": {
    "name": "ipython",
    "version": 3
   },
   "file_extension": ".py",
   "mimetype": "text/x-python",
   "name": "python",
   "nbconvert_exporter": "python",
   "pygments_lexer": "ipython3",
   "version": "3.7.4"
  }
 },
 "nbformat": 4,
 "nbformat_minor": 1
}
