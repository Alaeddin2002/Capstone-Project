{
 "cells": [
  {
   "cell_type": "markdown",
   "metadata": {},
   "source": [
    "Before you turn this problem in, make sure everything runs as expected. First, **restart the kernel** (in the menubar, select Kernel$\\rightarrow$Restart) and then **run all cells** (in the menubar, select Cell$\\rightarrow$Run All).\n",
    "\n",
    "Make sure you fill in any place that says `YOUR CODE HERE` or \"YOUR ANSWER HERE\", as well as your name and collaborators below:"
   ]
  },
  {
   "cell_type": "code",
   "execution_count": null,
   "metadata": {},
   "outputs": [],
   "source": [
    "NAME = \"Ihsan Alaeddin\"\n",
    "COLLABORATORS = \"Group 1\""
   ]
  },
  {
   "cell_type": "markdown",
   "metadata": {},
   "source": [
    "---"
   ]
  },
  {
   "cell_type": "markdown",
   "metadata": {
    "deletable": false,
    "editable": false,
    "nbgrader": {
     "cell_type": "markdown",
     "checksum": "e9bb4dcf67a612248552b64a2968a9fe",
     "grade": false,
     "grade_id": "Introduction",
     "locked": true,
     "schema_version": 3,
     "solution": false,
     "task": false
    }
   },
   "source": [
    "---\n",
    "# Lab 7: Files\n",
    "---\n",
    "\n",
    "In this lab, you will be introduced to working with files. This entails:\n",
    "    \n",
    "* opening files\n",
    "    \n",
    "* reading files\n",
    "    \n",
    "* manipulating the contents of the file\n",
    "    \n",
    "* writing files\n",
    "    \n",
    "You will also get more practice with:\n",
    "    \n",
    "* working with strings\n",
    "    \n",
    "* if, elif, else\n",
    "    \n",
    "* command line\n",
    "    \n",
    "* loops\n",
    "    \n",
    "---\n",
    "\n",
    "REMEMBER:\n",
    "\n",
    "1. After you open a file in your code, ***close*** it in your code after you are done with it (or use the \"with\" structure)! Otherwise, you may have problems with opening it in the future (directly in Jupyter or through Python). \n",
    "\n",
    "2. You can't open a file unless it is in the directory of this lab, so you need to go through the terminal and make sure whatever files you're using are in the same directory as the lab.\n",
    "\n",
    "It may be useful to view the contents of a file before you get started on a design. To do so, you can use the `cat` command in the terminal.\n",
    "\n",
    "Here is an outside resource that may come in handy:\n",
    "\n",
    "http://www.pythonforbeginners.com/files/reading-and-writing-files-in-python"
   ]
  },
  {
   "cell_type": "markdown",
   "metadata": {
    "deletable": false,
    "editable": false,
    "nbgrader": {
     "cell_type": "markdown",
     "checksum": "0156332bbf38c5b5c43f4b30aca8bbba",
     "grade": false,
     "grade_id": "Divider1",
     "locked": true,
     "schema_version": 3,
     "solution": false,
     "task": false
    }
   },
   "source": [
    "---\n",
    "### Exercise 1\n",
    "---\n",
    "Expand your code from Exercise 8 from Lab 6 on Strings (namely, the is_palindrome function) so that it takes the name of a text file as a parameter rather than a string. If the contents of the file form a palindrome, the function should return **True**; otherwise, it should return **False**. Remember that only alphabetical letters are considered when checking if a string is a palindrome or not.\n",
    "\n",
    "(You should copy the code of is_palindrome from your Lab 6 to this assignment and modify it here. Do not change the previous assignment. You may need to copy over other functions as well, if they are used by is_palindrome. If your implementation of is_palindrome did not pass all test cases in Lab 6, then you should fix all these problems before you continue working on this exercise.)\n",
    "\n",
    "The name of the function should be the same as before, **is_palindrome**. There are two files with the following paths. One is a palindrome and one isn't. You should copy them to this assignment's directory using the ***terminal***. Once they are there, you can use them for testing.\n",
    "\n",
    "    ~barbeda/cs128-share/notPalindrome.txt\n",
    "    \n",
    "    ~barbeda/cs128-share/224wordPalindrome.txt\n",
    "    \n",
    "Once your files are copied over, you should be able to call your new function with \n",
    "\n",
    "    is_palindrome(\"notPalindrome.txt\")\n",
    "    is_palindrome(\"224wordPalindrome.txt\")"
   ]
  },
  {
   "cell_type": "code",
   "execution_count": 63,
   "metadata": {
    "deletable": false,
    "nbgrader": {
     "cell_type": "code",
     "checksum": "3f6cab71a6f9942671a96cd9b81e96e3",
     "grade": false,
     "grade_id": "Part1",
     "locked": false,
     "schema_version": 3,
     "solution": true,
     "task": false
    }
   },
   "outputs": [
    {
     "data": {
      "text/plain": [
       "False"
      ]
     },
     "execution_count": 63,
     "metadata": {},
     "output_type": "execute_result"
    }
   ],
   "source": [
    "# YOUR CODE HERE\n",
    "def is_palindrome (e):\n",
    "    file_1 = open(e,\"r\")\n",
    "    we = file_1.read()\n",
    "    for line in we:\n",
    "        if we == \"\":\n",
    "            return True\n",
    "        pal = \"\".join([i.lower() for i in we if i.isalpha()])\n",
    "    for i in range (len(pal)):\n",
    "        if pal[i] != pal [0-(i+1)]:\n",
    "            return False\n",
    "    return True\n",
    "        \n",
    "        \n",
    "    file_1.close()\n",
    "            \n",
    "is_palindrome (\"notPalindrome.txt\")"
   ]
  },
  {
   "cell_type": "markdown",
   "metadata": {
    "deletable": false,
    "editable": false,
    "nbgrader": {
     "cell_type": "markdown",
     "checksum": "9c1442093f1c78df40e3501dd16d4af6",
     "grade": false,
     "grade_id": "Divider2",
     "locked": true,
     "schema_version": 3,
     "solution": false,
     "task": false
    }
   },
   "source": [
    "---\n",
    "### Exercise 2\n",
    "---\n",
    "This is a fairly complex function. You will likely want to carefully plan out your design and think about your approach before you begin coding.\n",
    "\n",
    "There are many different ways to send secret messages using encryption. One popular way is to write a message in which you use an alternative alphabet. It is the same alphabet as the regular English alphabet, but shifted. The alphabet is shifted by 13 letters so that A in the secret code is N, the letter B is O, the letter C is P, and so on. As you keep going, you'll find that M goes to Z, but then what would N go to? N should go to the letter after Z... but there is no letter after Z... so we make the alphabet loop back on itself and say that A comes after Z (kind of like the Ace can come before the 2 or after the King in cards). This code is called ROT-13. ROT-13 has the special property that if you run it again on an encrypted phrase, you get the original back again; for example, encrypting A gives you an N, and encrypting an N gives you A back again. (In general, ROT-n is a shift by n letters; for example, ROT-3, also called Caesar's Cipher because it was invented and used by Julius Caesar a couple millenia ago, encrypts ABCXYZ into DEFABC, while ROT-0 and ROT-26 do not change the message at all. You will only be using ROT-13 in this exercise, though.)\n",
    "\n",
    "For a more concrete example, the phrase:\n",
    "\n",
    "    \"secret message\"\n",
    "   \n",
    "will be encrypted via ROT-13 into:\n",
    "\n",
    "    \"frperg zrffntr\"\n",
    "\n",
    "Write a function called **decrypt** that takes one parameter - the name of a file. It should create an output file called **decryptOutput.txt**. The output file should contain the secret message that was decrypted from the file that was given as a parameter. To keep things simple, you may make all of the characters lower case. Be sure to keep all of the  punctuation that was in the original message. In addition to writing it to a file, your function should print the decrypted message to the screen. Your function does not need to return anything.\n",
    "\n",
    "You should copy the file secretMessage.txt from the ~barbeda/cs128-share/ directory, as you have with other files. Use this file to test with.\n",
    "\n",
    "**Note:** You will **not** receive full points for writing a function with 26 *if* statements. If you have no idea where to start, think about using the **ord()** function. There is a function that does the opposite of ord, which is **chr()**. Both may come in handy. \n",
    "\n",
    "**Hint:** Find the ord of a number, then figure out how to transform the ord of one letter to the ord of a letter that is 13 letters further in the alphabet. Work with mod (%) to do this. "
   ]
  },
  {
   "cell_type": "code",
   "execution_count": 106,
   "metadata": {
    "deletable": false,
    "nbgrader": {
     "cell_type": "code",
     "checksum": "d53289e8c6687b33ce965daf82462361",
     "grade": false,
     "grade_id": "Part2",
     "locked": false,
     "schema_version": 3,
     "solution": true,
     "task": false
    }
   },
   "outputs": [
    {
     "data": {
      "text/plain": [
       "' thisaisatheasecretamessagebadonhtatellaanybodyaaboutaitbee'"
      ]
     },
     "execution_count": 106,
     "metadata": {},
     "output_type": "execute_result"
    }
   ],
   "source": [
    "# YOUR CODE HERE\n",
    "def decrypt(name):\n",
    "    z = (\" \")\n",
    "    file = open(name,\"r\")\n",
    "    f = file.read()\n",
    "    for line in f:\n",
    "        line.split(\",\")\n",
    "        for c in line:\n",
    "            x=chr((ord(c) - 84) % 26 + 97)\n",
    "            z += x\n",
    "    return z\n",
    "        \n",
    "        \n",
    "    file.close()\n",
    "decrypt(\"secretMessage.txt\")"
   ]
  },
  {
   "cell_type": "markdown",
   "metadata": {
    "deletable": false,
    "editable": false,
    "nbgrader": {
     "cell_type": "markdown",
     "checksum": "b63a33f00cc21862f09bf1c4f7fd9f38",
     "grade": false,
     "grade_id": "Divider3",
     "locked": true,
     "schema_version": 3,
     "solution": false,
     "task": false
    }
   },
   "source": [
    "---\n",
    "### Exercise 3\n",
    "---\n",
    "Write a function called **process_numbers** that opens, reads, analyzes, and closes a file. It should take one parameter, the string containing the file name. The files that this function will analyze are files containing numbers. Use **numbers.dat** as a parameter for testing. (You should copy it to your directory from ~barbeda/cs128-share/numbers.dat) **It should return the following values in this order**:\n",
    "\n",
    "* the number of numbers that are in the file,\n",
    "* the total of the numbers,\n",
    "* the smallest number,\n",
    "* the largest number, \n",
    "* the average of the numbers in that file.\n",
    "\n",
    "To test the function (this is mandatory), call the function, and then use what it **returns** to **print** something like the following: (The numbers here are not correct; they're just for demonstration.) The function itself should not print anything; the printing should be done by extra code in the cell, outside of the function.\n",
    "\n",
    "    Count: 5\n",
    "    Total: 10\n",
    "    Smallest: 1\n",
    "    Largest: 10\n",
    "    Average: 5.5\n",
    "    \n",
    "To do this testing you will probably want to start out with something like this:\n",
    "\n",
    "    count, total, smallest, largest, average = process_numbers(\"numbers.dat\")"
   ]
  },
  {
   "cell_type": "code",
   "execution_count": 119,
   "metadata": {
    "deletable": false,
    "nbgrader": {
     "cell_type": "code",
     "checksum": "b8cc1baa4a8ef4cd339431b361022d5d",
     "grade": false,
     "grade_id": "Part3",
     "locked": false,
     "schema_version": 3,
     "solution": true,
     "task": false
    }
   },
   "outputs": [
    {
     "name": "stdout",
     "output_type": "stream",
     "text": [
      "Count: 400\n",
      "Total: 771710\n",
      "Smallest: 5\n",
      "Largest: 3957\n",
      "Average: 1929.275\n"
     ]
    }
   ],
   "source": [
    "# YOUR CODE HERE\n",
    "def process_numbers(f):\n",
    "    anlyz =([\"Count:\", \"Total:\", \"Smallest:\", \"Largest:\", \"Average:\"])\n",
    "    g = []\n",
    "    file = open(f,\"r\")\n",
    "    for line in file:\n",
    "        lst = line.split(\",\")\n",
    "        for i in lst:\n",
    "            g.append(int(i))\n",
    "            Count = len(g)\n",
    "            Total = sum(g)\n",
    "            Smallest = min(g)\n",
    "            Largest = max(g)\n",
    "            Average = Total/Count\n",
    "    file.close()\n",
    "    print (anlyz[0],Count)\n",
    "    print (anlyz[1],Total)\n",
    "    print (anlyz[2],Smallest)\n",
    "    print (anlyz[3],Largest)\n",
    "    print (anlyz[4],Average)\n",
    "    \n",
    "process_numbers(\"numbers.dat\")\n",
    "\n"
   ]
  },
  {
   "cell_type": "markdown",
   "metadata": {
    "deletable": false,
    "editable": false,
    "nbgrader": {
     "cell_type": "markdown",
     "checksum": "b0dab1292c66b2949b73f42b096aee9b",
     "grade": false,
     "grade_id": "Divider4",
     "locked": true,
     "schema_version": 3,
     "solution": false,
     "task": false
    }
   },
   "source": [
    "---\n",
    "### Exercise 4\n",
    "---\n",
    "Design, write and test a cell that reads the file **words.dat** (it's at ~barbeda/cs128-share/words.dat) and determines:\n",
    "\n",
    "* the shortest line (in number of words)\n",
    "* the longest line (in number of words)\n",
    "* the shortest line (by number of characters)\n",
    "* the longest line (by number of characters)\n",
    "* the total number of words\n",
    "* the total number of characters characters\n",
    "\n",
    "Write a function called **process_words** that opens, reads, analyzes, and closes the file. Your function should take one argument, the name of the file. **The function should return the calculated values in the order above**. It should return multiple values (return them in the order shown above, it will return six values in total). \n",
    "\n",
    "To test the function (this is mandatory), call the function, and then use what it **returns** to **print** something like the following: (The numbers here are not correct; they're just for demonstration.)\n",
    "\n",
    "    Shortest line in words: 5\n",
    "    Longest line in words: 10\n",
    "    Shortest line in characters: 40\n",
    "    Longest line in characters: 80\n",
    "    Total words: 4010\n",
    "    Total characters: 39005\n",
    "    \n",
    "To do this, you will likely want your test to include something like:\n",
    "\n",
    "    least_words, most_words, least_chars, most_chars, total_words, total_chars = process_words(\"words.dat\")"
   ]
  },
  {
   "cell_type": "code",
   "execution_count": 125,
   "metadata": {
    "deletable": false,
    "nbgrader": {
     "cell_type": "code",
     "checksum": "e3c2c87a7b236ad24295d957dda9d400",
     "grade": false,
     "grade_id": "Part4",
     "locked": false,
     "schema_version": 3,
     "solution": true,
     "task": false
    }
   },
   "outputs": [
    {
     "name": "stdout",
     "output_type": "stream",
     "text": [
      "Shortest line in words: 5\n",
      "Longest line in words: 73\n",
      "Shortest line in characters: 6\n",
      "Longest line in characters: 30\n",
      "Total words: 14.6\n"
     ]
    }
   ],
   "source": [
    "# YOUR CODE HERE\n",
    "def process_words(name):\n",
    "    b = []\n",
    "    anlyz=([\"Shortest line in words:\", \"Longest line in words:\", \"Shortest line in characters:\", \"Longest line in characters:\", \"Total words:\", \"Total characters:\"])\n",
    "    file = open(name,\"r\")\n",
    "    for line in file:\n",
    "        lst = line.split(\",\")\n",
    "        for w in lst:\n",
    "            b.append(len(w))\n",
    "        c = len(b)\n",
    "        t = sum(b)\n",
    "        s = min(b)\n",
    "        m = max(b)\n",
    "        a = t/c\n",
    "    print (anlyz[0],c)\n",
    "    print (anlyz[1],t)\n",
    "    print (anlyz[2],s)\n",
    "    print (anlyz[3],m)\n",
    "    print (anlyz[4],a)\n",
    "    file.close()\n",
    "\n",
    "process_words(\"words.dat\")            "
   ]
  },
  {
   "cell_type": "markdown",
   "metadata": {
    "deletable": false,
    "editable": false,
    "nbgrader": {
     "cell_type": "markdown",
     "checksum": "c9d9ff10134761c5540b51bc49e1c03c",
     "grade": false,
     "grade_id": "Divider5",
     "locked": true,
     "schema_version": 3,
     "solution": false,
     "task": false
    }
   },
   "source": [
    "### Extra Credit\n",
    "---\n",
    "Another way to encypt a secret message is to write a message in which the second letter of each word is significant toward the secret message. Write a function called **decode** which takes a coded file with a secret message and prints out the message in an output file named **decodeOutput.txt**. The output file should just contain the letters from the secret message. Don't worry about spaces or punctuation. In addition to printing to the file, your code should display the decoded message to the screen. It does not need to return anything.\n",
    "\n",
    "**For Example**\n",
    "\n",
    "If I had a file containing the following:\n",
    "\n",
    "    aptitude cyclist storybook choice ionic unstable\n",
    "    \n",
    "and ran **decode** on it, the output file should be:\n",
    "\n",
    "    python\n",
    "\n",
    "and the secret message would be \"python\"\n",
    "\n",
    "Use the following file for testing,\n",
    "\n",
    "    ~barbeda/cs128-share/secretMessage2.txt"
   ]
  },
  {
   "cell_type": "code",
   "execution_count": null,
   "metadata": {
    "deletable": false,
    "nbgrader": {
     "cell_type": "code",
     "checksum": "e3cdb4cbadba2eefec146a5413712536",
     "grade": false,
     "grade_id": "Part5",
     "locked": false,
     "schema_version": 3,
     "solution": true,
     "task": false
    }
   },
   "outputs": [],
   "source": [
    "# YOUR CODE HERE\n",
    "raise NotImplementedError()"
   ]
  },
  {
   "cell_type": "code",
   "execution_count": null,
   "metadata": {
    "deletable": false,
    "editable": false,
    "nbgrader": {
     "cell_type": "code",
     "checksum": "7e060b64c8cd7326d5e0d3bc68c5ceb5",
     "grade": true,
     "grade_id": "Test1",
     "locked": true,
     "points": 10,
     "schema_version": 3,
     "solution": false,
     "task": false
    }
   },
   "outputs": [],
   "source": [
    "# Ignore this cell\n",
    "# DO NOT DELETE THIS CELL\n",
    "### BEGIN TEST\n",
    "from nose.tools import assert_equal\n",
    "\n",
    "assert_equal(is_palindrome(\"224wordPalindrome.txt\"), True)\n",
    "assert_equal(is_palindrome(\"notPalindrome.txt\"), False)\n",
    "### END TEST"
   ]
  },
  {
   "cell_type": "code",
   "execution_count": null,
   "metadata": {
    "deletable": false,
    "editable": false,
    "nbgrader": {
     "cell_type": "code",
     "checksum": "866f47a73b2aac2564e7c7fa6bb32150",
     "grade": true,
     "grade_id": "Test2",
     "locked": true,
     "points": 10,
     "schema_version": 3,
     "solution": false,
     "task": false
    }
   },
   "outputs": [],
   "source": [
    "# Ignore this cell\n",
    "# DO NOT DELETE THIS CELL\n",
    "### BEGIN TEST\n",
    "decrypt(\"secretMessage.txt\")\n",
    "### END TEST"
   ]
  },
  {
   "cell_type": "code",
   "execution_count": null,
   "metadata": {
    "deletable": false,
    "editable": false,
    "nbgrader": {
     "cell_type": "code",
     "checksum": "e46b3c03dda03080a7fc203161c70d9f",
     "grade": true,
     "grade_id": "Test3-1",
     "locked": true,
     "points": 2,
     "schema_version": 3,
     "solution": false,
     "task": false
    }
   },
   "outputs": [],
   "source": [
    "# Ignore this cell\n",
    "# DO NOT DELETE THIS CELL\n",
    "### BEGIN TEST\n",
    "from nose.tools import assert_equal\n",
    "\n",
    "count, total, smallest, largest, average = process_numbers(\"numbers.dat\")\n",
    "\n",
    "assert_equal(count, 400)"
   ]
  },
  {
   "cell_type": "code",
   "execution_count": null,
   "metadata": {
    "deletable": false,
    "editable": false,
    "nbgrader": {
     "cell_type": "code",
     "checksum": "eb67058ef6a96787e5d9db1c7b43919c",
     "grade": true,
     "grade_id": "Test3-2",
     "locked": true,
     "points": 2,
     "schema_version": 3,
     "solution": false,
     "task": false
    }
   },
   "outputs": [],
   "source": [
    "# Ignore this cell\n",
    "# DO NOT DELETE THIS CELL\n",
    "### BEGIN TEST\n",
    "from nose.tools import assert_equal\n",
    "\n",
    "count, total, smallest, largest, average = process_numbers(\"numbers.dat\")\n",
    "\n",
    "\n",
    "assert_equal(total, 771710)\n",
    "\n",
    "### END TEST"
   ]
  },
  {
   "cell_type": "code",
   "execution_count": null,
   "metadata": {
    "deletable": false,
    "editable": false,
    "nbgrader": {
     "cell_type": "code",
     "checksum": "8d05f560733d49b7e08e9b19fc7f2cfd",
     "grade": true,
     "grade_id": "Test3-3",
     "locked": true,
     "points": 2,
     "schema_version": 3,
     "solution": false,
     "task": false
    }
   },
   "outputs": [],
   "source": [
    "# Ignore this cell\n",
    "# DO NOT DELETE THIS CELL\n",
    "### BEGIN TEST\n",
    "from nose.tools import assert_equal\n",
    "\n",
    "count, total, smallest, largest, average = process_numbers(\"numbers.dat\")\n",
    "\n",
    "\n",
    "assert_equal(smallest, 5)\n",
    "\n",
    "### END TEST"
   ]
  },
  {
   "cell_type": "code",
   "execution_count": null,
   "metadata": {
    "deletable": false,
    "editable": false,
    "nbgrader": {
     "cell_type": "code",
     "checksum": "2815d87fa2b512606aa70e4378dd9369",
     "grade": true,
     "grade_id": "Test3-4",
     "locked": true,
     "points": 2,
     "schema_version": 3,
     "solution": false,
     "task": false
    }
   },
   "outputs": [],
   "source": [
    "# Ignore this cell\n",
    "# DO NOT DELETE THIS CELL\n",
    "### BEGIN TEST\n",
    "from nose.tools import assert_equal\n",
    "\n",
    "count, total, smallest, largest, average = process_numbers(\"numbers.dat\")\n",
    "\n",
    "\n",
    "assert_equal(largest, 3957)\n",
    "\n",
    "### END TEST"
   ]
  },
  {
   "cell_type": "code",
   "execution_count": null,
   "metadata": {
    "deletable": false,
    "editable": false,
    "nbgrader": {
     "cell_type": "code",
     "checksum": "3d7f8a999734963aaedbb31fd5194ced",
     "grade": true,
     "grade_id": "Test3-5",
     "locked": true,
     "points": 2,
     "schema_version": 3,
     "solution": false,
     "task": false
    }
   },
   "outputs": [],
   "source": [
    "# Ignore this cell\n",
    "# DO NOT DELETE THIS CELL\n",
    "### BEGIN TEST\n",
    "from nose.tools import assert_equal\n",
    "\n",
    "count, total, smallest, largest, average = process_numbers(\"numbers.dat\")\n",
    "\n",
    "\n",
    "assert_equal(average, 1929.275)\n",
    "### END TEST"
   ]
  },
  {
   "cell_type": "code",
   "execution_count": null,
   "metadata": {
    "deletable": false,
    "editable": false,
    "nbgrader": {
     "cell_type": "code",
     "checksum": "9981097fbb711038c8e6b2d753e19139",
     "grade": true,
     "grade_id": "Test4-1",
     "locked": true,
     "points": 2,
     "schema_version": 3,
     "solution": false,
     "task": false
    }
   },
   "outputs": [],
   "source": [
    "# Ignore this cell\n",
    "# DO NOT DELETE THIS CELL\n",
    "### BEGIN TEST\n",
    "from nose.tools import assert_equal\n",
    "\n",
    "least_words, most_words, least_chars, most_chars, total_words, total_chars = process_words(\"words.dat\")\n",
    "\n",
    "assert_equal(least_words, 1)\n",
    "\n",
    "### END TEST"
   ]
  },
  {
   "cell_type": "code",
   "execution_count": null,
   "metadata": {
    "deletable": false,
    "editable": false,
    "nbgrader": {
     "cell_type": "code",
     "checksum": "f97a1905d9cd05956887ae6a243f1545",
     "grade": true,
     "grade_id": "Test-4-2",
     "locked": true,
     "points": 2,
     "schema_version": 3,
     "solution": false,
     "task": false
    }
   },
   "outputs": [],
   "source": [
    "# Ignore this cell\n",
    "# DO NOT DELETE THIS CELL\n",
    "### BEGIN TEST\n",
    "from nose.tools import assert_equal\n",
    "\n",
    "least_words, most_words, least_chars, most_chars, total_words, total_chars = process_words(\"words.dat\")\n",
    "\n",
    "\n",
    "assert_equal(most_words, 6)\n",
    "\n",
    "### END TEST"
   ]
  },
  {
   "cell_type": "code",
   "execution_count": null,
   "metadata": {
    "deletable": false,
    "editable": false,
    "nbgrader": {
     "cell_type": "code",
     "checksum": "88b2a743f80a6b029537227e4c989f78",
     "grade": true,
     "grade_id": "Test4-3",
     "locked": true,
     "points": 2,
     "schema_version": 3,
     "solution": false,
     "task": false
    }
   },
   "outputs": [],
   "source": [
    "# Ignore this cell\n",
    "# DO NOT DELETE THIS CELL\n",
    "### BEGIN TEST\n",
    "from nose.tools import assert_equal\n",
    "\n",
    "least_words, most_words, least_chars, most_chars, total_words, total_chars = process_words(\"words.dat\")\n",
    "\n",
    "\n",
    "\n",
    "assert_equal(least_chars, 6)\n",
    "\n",
    "### END TEST"
   ]
  },
  {
   "cell_type": "code",
   "execution_count": null,
   "metadata": {
    "deletable": false,
    "editable": false,
    "nbgrader": {
     "cell_type": "code",
     "checksum": "d44359bcc8b48e19289f0e2e72d586ac",
     "grade": true,
     "grade_id": "Test4-4",
     "locked": true,
     "points": 2,
     "schema_version": 3,
     "solution": false,
     "task": false
    }
   },
   "outputs": [],
   "source": [
    "# Ignore this cell\n",
    "# DO NOT DELETE THIS CELL\n",
    "### BEGIN TEST\n",
    "from nose.tools import assert_equal\n",
    "\n",
    "least_words, most_words, least_chars, most_chars, total_words, total_chars = process_words(\"words.dat\")\n",
    "\n",
    "\n",
    "assert_equal(most_chars, 30)\n",
    "\n",
    "### END TEST"
   ]
  },
  {
   "cell_type": "code",
   "execution_count": null,
   "metadata": {
    "deletable": false,
    "editable": false,
    "nbgrader": {
     "cell_type": "code",
     "checksum": "d5139a5abe166036226bc5df741aaa8b",
     "grade": true,
     "grade_id": "Test4-5",
     "locked": true,
     "points": 2,
     "schema_version": 3,
     "solution": false,
     "task": false
    }
   },
   "outputs": [],
   "source": [
    "# Ignore this cell\n",
    "# DO NOT DELETE THIS CELL\n",
    "### BEGIN TEST\n",
    "from nose.tools import assert_equal\n",
    "\n",
    "least_words, most_words, least_chars, most_chars, total_words, total_chars = process_words(\"words.dat\")\n",
    "\n",
    "\n",
    "assert_equal(total_words, 17)\n",
    "\n",
    "### END TEST"
   ]
  },
  {
   "cell_type": "code",
   "execution_count": null,
   "metadata": {
    "deletable": false,
    "editable": false,
    "nbgrader": {
     "cell_type": "code",
     "checksum": "8f37a8a52609ebee06285b6f18f2f2b7",
     "grade": true,
     "grade_id": "Test4-6",
     "locked": true,
     "points": 2,
     "schema_version": 3,
     "solution": false,
     "task": false
    }
   },
   "outputs": [],
   "source": [
    "# Ignore this cell\n",
    "# DO NOT DELETE THIS CELL\n",
    "### BEGIN TEST\n",
    "from nose.tools import assert_equal\n",
    "\n",
    "least_words, most_words, least_chars, most_chars, total_words, total_chars = process_words(\"words.dat\")\n",
    "\n",
    "\n",
    "assert_equal(total_chars, 73)\n",
    "### END TEST"
   ]
  },
  {
   "cell_type": "code",
   "execution_count": null,
   "metadata": {
    "deletable": false,
    "editable": false,
    "nbgrader": {
     "cell_type": "code",
     "checksum": "59344a4e6d84b61a2642359875a396c9",
     "grade": true,
     "grade_id": "ExtraCreditTest",
     "locked": true,
     "points": 10,
     "schema_version": 3,
     "solution": false,
     "task": false
    }
   },
   "outputs": [],
   "source": [
    "# Ignore this cell\n",
    "# DO NOT DELETE THIS CELL\n",
    "#Extra Credit\n",
    "### BEGIN TEST\n",
    "try:\n",
    "    decode(\"secretMessage2.txt\")\n",
    "except (NotImplementedError):\n",
    "    print(\"Extra credit was not completed.\")\n",
    "    \n",
    "### END TEST"
   ]
  }
 ],
 "metadata": {
  "kernelspec": {
   "display_name": "Python 3",
   "language": "python",
   "name": "python3"
  },
  "language_info": {
   "codemirror_mode": {
    "name": "ipython",
    "version": 3
   },
   "file_extension": ".py",
   "mimetype": "text/x-python",
   "name": "python",
   "nbconvert_exporter": "python",
   "pygments_lexer": "ipython3",
   "version": "3.7.4"
  }
 },
 "nbformat": 4,
 "nbformat_minor": 2
}
