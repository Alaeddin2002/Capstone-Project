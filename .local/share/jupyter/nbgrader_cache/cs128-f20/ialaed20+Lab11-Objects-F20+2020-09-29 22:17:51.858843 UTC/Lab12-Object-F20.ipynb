{
 "cells": [
  {
   "cell_type": "markdown",
   "metadata": {},
   "source": [
    "Before you turn this problem in, make sure everything runs as expected. First, **restart the kernel** (in the menubar, select Kernel$\\rightarrow$Restart) and then **run all cells** (in the menubar, select Cell$\\rightarrow$Run All).\n",
    "\n",
    "Make sure you fill in any place that says `YOUR CODE HERE` or \"YOUR ANSWER HERE\", as well as your name and collaborators below:"
   ]
  },
  {
   "cell_type": "code",
   "execution_count": null,
   "metadata": {},
   "outputs": [],
   "source": [
    "NAME = \"Ihsan Alaeddin\"\n",
    "COLLABORATORS = \"Group 1\""
   ]
  },
  {
   "cell_type": "markdown",
   "metadata": {},
   "source": [
    "---"
   ]
  },
  {
   "cell_type": "markdown",
   "metadata": {
    "deletable": false,
    "editable": false,
    "nbgrader": {
     "cell_type": "markdown",
     "checksum": "5713a36127376c507a9a09c5b8d9eae2",
     "grade": false,
     "grade_id": "Intro",
     "locked": true,
     "schema_version": 3,
     "solution": false,
     "task": false
    }
   },
   "source": [
    "---\n",
    "# Lab 12: Objects\n",
    "---\n",
    "In this lab you will be exploring objects and creating your own objects. There are many implementation details contained below. It may be useful to many of you to print this notebook and then use that as a design space, reference and tracking mechanism as you develop the solutions. \n",
    "\n",
    "The utility of working-out the design of your classes ahead of time cannot be emphasized enough. Read through the lab, go through a second time designing the solutions on paper, and then implement and test them on the third pass. "
   ]
  },
  {
   "cell_type": "markdown",
   "metadata": {
    "deletable": false,
    "editable": false,
    "nbgrader": {
     "cell_type": "markdown",
     "checksum": "54dbd338962794bcda8aa1312f1c497e",
     "grade": false,
     "grade_id": "Divider1",
     "locked": true,
     "schema_version": 3,
     "solution": false,
     "task": false
    }
   },
   "source": [
    "---\n",
    "### Exercise 1\n",
    "---\n",
    "\n",
    "### Read the instructions carefully!\n",
    "\n",
    "Write a class called **Card**. (By convention, we capitalize the first letter of class names.) This class will have two attributes (things it knows): suit and rank. The suit and the rank should both be strings. The initializer should take two arguments, the suit and the rank, *in that order*. If you have any questions about how these sorts of playing cards work, please ask us.\n",
    "\n",
    "The **initializer** for the class should do the following:\n",
    "* Make sure that the suit of a Card is limited to the following:\n",
    "        club, spade, diamond, heart (These look like ♣ ♠ ♢ ♡, in that order)\n",
    "* And that the rank of a Card is limited to the following:\n",
    "        2, 3, 4, 5, 6, 7, 8, 9, 10, jack, queen, king, ace\n",
    "* The initialzer should raise a ValueError if either the rank or the suit are not valid.\n",
    "* Don't worry about joker cards. Your deck should not contain any.\n",
    "\n",
    "This class will have the following 9 methods:\n",
    "* One method should be called **get_suit**. It should take no arguments, and return the suit as a String.\n",
    "* One method should be called **get_rank**. It should take no arguments, and return the rank as a String.\n",
    "* One method should be called **is_face_card**. It should take no arguments, and return True if the Card is a king, queen, or jack. It should return False otherwise.\n",
    "* One method should be called **is_red**. It should take no arguments, and return True if the Card is a heart or a diamond. It should return False otherwise. Write a similar function called **is_black** that returns True if the Card is a spade or a club.\n",
    "* One method should be called **point_value**. It should return an int. That int should be match the rank if the rank is between 2 and 10, inclusive. It should be 1 for aces, 11 for jacks, 12 for queens, and 13 for kings. It should take no arguments. You can use the int() function to convert a string to a numeric value, but only if the string is a series of digits. You can avoid writing 13 if statements by using this.\n",
    "* One method should be called **is_higher_value_than**. It should take one argument, another Card. It should return True if the Card that is calling the method has a higher point value than the argument, and False otherwise (including if there is a tie.) An exception is that an Ace is higher than anything, even though its point_value is 1. This function should use point_value.\n",
    "* One method should be called **pretty_string**. It takes no arguments. It returns a 2- or 3-character long string. The first part of the string should be the rank of the card. This is a digit if the rank is a number (10 if it is 10), and A, J, Q, or K if it isn't. The second part of the string should be one of these symbols: ♠ ♣ ♡ ♢. (Those are spades, clubs, hearts, and diamonds, in that order.) Examples of things that might be returned by pretty_string are \"10♢\", \"J♢\", \"A♡\", and \"4♠\". You may have to copy-and-paste these symbols into your code. They're unicode, so it's okay.\n",
    "* Write a method called **magic_increment**. It takes no arguments, and doesn't return anything. It transforms the Card into the same Card, but one value higher. An ace will become a 2, a 2 will become a 3, a 10 will become a jack, and a king will become an ace. (Ace is both the highest and lowest.) The suit should remain the same. Consider how you might use your other functions to write this concisely. You can use str() to convert an integer to a string, which may be helpful depending on which other functions you use."
   ]
  },
  {
   "cell_type": "code",
   "execution_count": 102,
   "metadata": {
    "deletable": false,
    "nbgrader": {
     "cell_type": "code",
     "checksum": "e68aa74312e536e4d7050911ff2d44cd",
     "grade": false,
     "grade_id": "Part1",
     "locked": false,
     "schema_version": 3,
     "solution": true,
     "task": false
    }
   },
   "outputs": [
    {
     "ename": "TypeError",
     "evalue": "__init__() missing 2 required positional arguments: 'suit' and 'rank'",
     "output_type": "error",
     "traceback": [
      "\u001b[0;31m---------------------------------------------------------------------------\u001b[0m",
      "\u001b[0;31mTypeError\u001b[0m                                 Traceback (most recent call last)",
      "\u001b[0;32m<ipython-input-102-c24282b691b5>\u001b[0m in \u001b[0;36m<module>\u001b[0;34m\u001b[0m\n\u001b[1;32m    142\u001b[0m         \u001b[0;32mif\u001b[0m \u001b[0mself\u001b[0m\u001b[0;34m.\u001b[0m\u001b[0mrank\u001b[0m \u001b[0;34m==\u001b[0m \u001b[0;34m\"king\"\u001b[0m \u001b[0;32mand\u001b[0m \u001b[0mself\u001b[0m\u001b[0;34m.\u001b[0m\u001b[0msuit\u001b[0m \u001b[0;34m==\u001b[0m \u001b[0;34m\"diamond\"\u001b[0m\u001b[0;34m:\u001b[0m\u001b[0;34m\u001b[0m\u001b[0;34m\u001b[0m\u001b[0m\n\u001b[1;32m    143\u001b[0m             \u001b[0;32mreturn\u001b[0m \u001b[0;34m(\u001b[0m\u001b[0;34m\"A\"\u001b[0m\u001b[0;34m,\u001b[0m\u001b[0;34m\"♢\"\u001b[0m\u001b[0;34m)\u001b[0m\u001b[0;34m\u001b[0m\u001b[0;34m\u001b[0m\u001b[0m\n\u001b[0;32m--> 144\u001b[0;31m \u001b[0mCard\u001b[0m\u001b[0;34m(\u001b[0m\u001b[0;34m)\u001b[0m\u001b[0;34m\u001b[0m\u001b[0;34m\u001b[0m\u001b[0m\n\u001b[0m\u001b[1;32m    145\u001b[0m \u001b[0;31m# Here is some test code you may wish to use, little by little, as you code your class.\u001b[0m\u001b[0;34m\u001b[0m\u001b[0;34m\u001b[0m\u001b[0;34m\u001b[0m\u001b[0m\n\u001b[1;32m    146\u001b[0m \u001b[0mcard\u001b[0m \u001b[0;34m=\u001b[0m \u001b[0mCard\u001b[0m\u001b[0;34m(\u001b[0m\u001b[0;34m\"diamond\"\u001b[0m\u001b[0;34m,\u001b[0m\u001b[0;34m\"ace\"\u001b[0m\u001b[0;34m)\u001b[0m\u001b[0;34m\u001b[0m\u001b[0;34m\u001b[0m\u001b[0m\n",
      "\u001b[0;31mTypeError\u001b[0m: __init__() missing 2 required positional arguments: 'suit' and 'rank'"
     ]
    }
   ],
   "source": [
    "# YOUR CODE HERE\n",
    "class Card():\n",
    "    \n",
    "    def __init__(self,suit,rank):\n",
    "        self.suit = suit\n",
    "        self.rank = rank\n",
    "\n",
    "    def get_suit(self):\n",
    "        a = str(self.suit)\n",
    "        \n",
    "    def get_rank(self):\n",
    "        b = str(self.rank)\n",
    "    def is_face_card (self):\n",
    "        if self.rank == \"king\" or \"queen\" or \"jack\":\n",
    "            return True\n",
    "        else:\n",
    "            return False\n",
    "        \n",
    "    def is_red(self):\n",
    "        if self.suit == \"heart\" or \"diamond\":\n",
    "            return True\n",
    "        else:\n",
    "            return False\n",
    "        \n",
    "    def is_black (self):\n",
    "        if self.suit == \"spade\" or \"club\":\n",
    "            return True\n",
    "        else:\n",
    "            return False\n",
    "        \n",
    "    def point_value(self):\n",
    "        if self.rank == \"2\"or\"3\"or\"4\"or\"5\"or\"6\"or\"7\"or\"8\"or\"9\"or\"10\":\n",
    "            return int(rank)\n",
    "        if self.rank == \"ace\":\n",
    "            return 1\n",
    "        if self.rank == \"jack\":\n",
    "            return 11\n",
    "        if self.rank == \"queen\":\n",
    "            return 12\n",
    "        if self.rank == \"king\":\n",
    "            return 13\n",
    "        \n",
    "    def is_higher_value_than (self,Card):\n",
    "        if self.rank == \"ace\":\n",
    "            return True\n",
    "        if (self.rank) > (Card):\n",
    "            return True\n",
    "        \n",
    "        else:\n",
    "            return False\n",
    "        \n",
    "    def pretty_string (self):\n",
    "        \n",
    "        if self.rank == \"2\"or\"3\"or\"4\"or\"5\"or\"6\"or\"7\"or\"8\"or\"9\"or\"10\" and self.suit == \"spade\":\n",
    "            return (int(rank), \"♠\" )\n",
    "        if self.rank == \"2\"or\"3\"or\"4\"or\"5\"or\"6\"or\"7\"or\"8\"or\"9\"or\"10\" and self.suit == \"club\":\n",
    "            return (int(rank), \"♣\" )\n",
    "        if self.rank == \"2\"or\"3\"or\"4\"or\"5\"or\"6\"or\"7\"or\"8\"or\"9\"or\"10\" and self.suit == \"heart\":\n",
    "            return (int(rank), \"♡\" )\n",
    "        if self.rank == \"2\"or\"3\"or\"4\"or\"5\"or\"6\"or\"7\"or\"8\"or\"9\"or\"10\" and self.suit == \"diamond\":\n",
    "            return (int(rank), \"♢\" )\n",
    "        \n",
    "        if self.rank == \"ace\" and self.suit == \"spade\":\n",
    "            return (\"A\",\"♠\")\n",
    "        if self.rank == \"ace\" and self.suit == \"club\":\n",
    "            return (\"A\",\"♣\")\n",
    "        if self.rank == \"ace\" and self.suit == \"heart\":\n",
    "            return (\"A\",\"♡\")\n",
    "        if self.rank == \"ace\" and self.suit == \"diamond\":\n",
    "            return (\"A\",\"♢\")\n",
    "        \n",
    "        if self.rank == \"jack\" and self.suit == \"spade\":\n",
    "            return (\"J\",\"♠\")\n",
    "        if self.rank == \"jack\" and self.suit == \"club\":\n",
    "            return (\"J\",\"♣\")\n",
    "        if self.rank == \"jack\" and self.suit == \"heart\":\n",
    "            return (\"J\",\"♡\")\n",
    "        if self.rank == \"jack\" and self.suit == \"diamond\":\n",
    "            return (\"J\",\"♢\")\n",
    "    \n",
    "        if self.rank == \"queen\" and self.suit == \"spade\":\n",
    "            return (\"Q\",\"♠\")\n",
    "        if self.rank == \"queen\" and self.suit == \"club\":\n",
    "            return (\"Q\",\"♣\")\n",
    "        if self.rank == \"queen\" and self.suit == \"heart\":\n",
    "            return (\"Q\",\"♡\")\n",
    "        if self.rank == \"queen\" and self.suit == \"diamond\":\n",
    "            return (\"Q\",\"♢\")\n",
    "    \n",
    "        if self.rank == \"king\" and self.suit == \"spade\":\n",
    "            return (\"K\",\"♠\")\n",
    "        if self.rank == \"king\" and self.suit == \"club\":\n",
    "            return (\"K\",\"♣\")\n",
    "        if self.rank == \"king\" and self.suit == \"heart\":\n",
    "            return (\"K\",\"♡\")\n",
    "        if self.rank == \"king\" and self.suit == \"diamond\":\n",
    "            return (\"K\",\"♢\")\n",
    "    \n",
    "    def magic_increment (self):\n",
    "        if self.rank == \"2\"or\"3\"or\"4\"or\"5\"or\"6\"or\"7\"or\"8\"or\"9\"or\"10\" and self.suit == \"spade\":\n",
    "            return (int(rank)+1, \"♠\" )\n",
    "        if self.rank == \"2\"or\"3\"or\"4\"or\"5\"or\"6\"or\"7\"or\"8\"or\"9\"or\"10\" and self.suit == \"club\":\n",
    "            return (int(rank)+1, \"♣\" )\n",
    "        if self.rank == \"2\"or\"3\"or\"4\"or\"5\"or\"6\"or\"7\"or\"8\"or\"9\"or\"10\" and self.suit == \"heart\":\n",
    "            return (int(rank)+1, \"♡\" )\n",
    "        if self.rank == \"2\"or\"3\"or\"4\"or\"5\"or\"6\"or\"7\"or\"8\"or\"9\"or\"10\" and self.suit == \"diamond\":\n",
    "            return (int(rank)+1, \"♢\" )\n",
    "        \n",
    "        if self.rank == \"ace\" and self.suit == \"spade\":\n",
    "            return (\"2\",\"♠\")\n",
    "        if self.rank == \"ace\" and self.suit == \"club\":\n",
    "            return (\"2\",\"♣\")\n",
    "        if self.rank == \"ace\" and self.suit == \"heart\":\n",
    "            return (\"2\",\"♡\")\n",
    "        if self.rank == \"ace\" and self.suit == \"diamond\":\n",
    "            return (\"2\",\"♢\")\n",
    "        \n",
    "        if self.rank == \"jack\" and self.suit == \"spade\":\n",
    "            return (\"Q\",\"♠\")\n",
    "        if self.rank == \"jack\" and self.suit == \"club\":\n",
    "            return (\"Q\",\"♣\")\n",
    "        if self.rank == \"jack\" and self.suit == \"heart\":\n",
    "            return (\"Q\",\"♡\")\n",
    "        if self.rank == \"jack\" and self.suit == \"diamond\":\n",
    "            return (\"Q\",\"♢\")\n",
    "    \n",
    "        if self.rank == \"queen\" and self.suit == \"spade\":\n",
    "            return (\"K\",\"♠\")\n",
    "        if self.rank == \"queen\" and self.suit == \"club\":\n",
    "            return (\"K\",\"♣\")\n",
    "        if self.rank == \"queen\" and self.suit == \"heart\":\n",
    "            return (\"K\",\"♡\")\n",
    "        if self.rank == \"queen\" and self.suit == \"diamond\":\n",
    "            return (\"K\",\"♢\")\n",
    "    \n",
    "        if self.rank == \"king\" and self.suit == \"spade\":\n",
    "            return (\"A\",\"♠\")\n",
    "        if self.rank == \"king\" and self.suit == \"club\":\n",
    "            return (\"A\",\"♣\")\n",
    "        if self.rank == \"king\" and self.suit == \"heart\":\n",
    "            return (\"A\",\"♡\")\n",
    "        if self.rank == \"king\" and self.suit == \"diamond\":\n",
    "            return (\"A\",\"♢\")\n",
    "Card()\n",
    "# Here is some test code you may wish to use, little by little, as you code your class.\n",
    "card = Card(\"diamond\",\"ace\")\n",
    "card.get_suit()\n",
    "card.get_rank()\n",
    "\n",
    "fiveDiamond = Card(\"diamond\", \"5\")\n",
    "aceSpade = Card(\"spade\", \"ace\")\n",
    "tenClub = Card(\"club\", \"10\")\n",
    "kingHeart = Card(\"heart\", \"king\")\n",
    "\n",
    "print(aceSpade.is_higher_value_than(fiveDiamond))\n",
    "print(aceSpade.is_higher_value_than(tenClub))\n",
    "print(aceSpade.is_higher_value_than(kingHeart))\n",
    "print(aceSpade.is_higher_value_than(aceSpade))\n",
    "\n",
    "print(fiveDiamond.is_higher_value_than(fiveDiamond))\n",
    "print(fiveDiamond.is_higher_value_than(tenClub))\n",
    "print(fiveDiamond.is_higher_value_than(kingHeart))\n",
    "print(fiveDiamond.is_higher_value_than(aceSpade))\n",
    "\n",
    "print(tenClub.is_higher_value_than(fiveDiamond))\n",
    "print(tenClub.is_higher_value_than(tenClub))\n",
    "print(tenClub.is_higher_value_than(kingHeart))\n",
    "print(tenClub.is_higher_value_than(aceSpade))\n",
    "\n",
    "print(kingHeart.is_higher_value_than(fiveDiamond))\n",
    "print(kingHeart.is_higher_value_than(tenClub))\n",
    "print(kingHeart.is_higher_value_than(kingHeart))\n",
    "print(kingHeart.is_higher_value_than(aceSpade))"
   ]
  },
  {
   "cell_type": "markdown",
   "metadata": {
    "deletable": false,
    "editable": false,
    "nbgrader": {
     "cell_type": "markdown",
     "checksum": "ce1ae49b188daa6e4774b606279bef38",
     "grade": false,
     "grade_id": "Divider2",
     "locked": true,
     "schema_version": 3,
     "solution": false,
     "task": false
    }
   },
   "source": [
    "---\n",
    "### Exercise 2\n",
    "---\n",
    "Create a class called **CardDeck**. It should have an *attribute* (a thing it knows) called **deck**, which is a list of **Cards**.\n",
    "\n",
    "* The initializer should take no arguments. It should define the attribute **deck**, where deck is a list of the 52 playing Cards in order. Each suit should be ordered from Ace to King, and the suits should be in this order: Clubs, Diamonds, Hearts, Spades. This means that the first Card in the deck will be the ace of clubs, and the last will be the king of spades. Your initializer should use for loops or another method to produce the deck variable; you should not write out 52 separate instantiations Card.\n",
    "\n",
    "* Write a **method** called **shuffle_deck** that shuffles the deck. It should take no arguments. In the `random` library, there is a function called shuffle that you can use. random.shuffle(listName) randomly reorganizes listName. (It does *not* return anything important - it actually changes listName.) In this function, after the deck has been shuffled, *print* a statement communicating that the deck has been shuffled. This function is a mutator, and doesn't need to return anything.\n",
    "\n",
    "* Write a **method** called **pretty_list** that returns a list of the cards in the deck, in order, using their pretty_string format from the previous exercise. You should call that function; do not rewrite it here. This function will be useful for testing your other functions. This function shouldn't take any arguments.\n",
    "\n",
    "* Write a **method** called **number_of_cards** that takes no arguments and returns an integer. The integer is the number of Cards in the deck.\n",
    "\n",
    "* Write a **method** called **cut_deck** that cuts the deck. It should take one argument, a value between 0 and the number of Cards still in the deck (inclusive). We will call that value the cut-point. Cutting the deck should remove all of the Cards above the cut-point and put them at the bottom. (Calling cut_deck with 0 as its argument effectively does nothing.) If the argument is less than 0 or greater than the number of Cards in the deck, your method should raise a valueError.\n",
    "\n",
    "* Write a **method** called **peek**. It should return the first Card in the deck. (This will be a Card object.) It should take no arguments.\n",
    "\n",
    "* Write a **method** called **draw**. This function should return the Card at the top of the deck (the beginning of the list) and remove that Card from the deck.  It should take no arguments.\n",
    "\n",
    "* Write a **method** called **draw_n**. This function should return a list of the n Cards at the top of the deck and remove those Cards from the deck. It should take one argument - n, the number of cards to draw. It should raise a ValueError if more cards are to be drawn than exist in the deck.\n",
    "\n",
    "* Write a **method** called **contains**. This function should take a Card as an argument, and return True if that Card is still in the deck. This one requires a little bit of clever thinking, because Card objects cannot be compared directly to each other. You'll have to think of a way to compare their attributes. (If you take CS256, you will learn ways to allow them to be compared directly to each other.)\n",
    "\n",
    "You can use the classes you built in this lab to build a variety of games. If you build something you think is cool, be sure to share it with us."
   ]
  },
  {
   "cell_type": "code",
   "execution_count": 101,
   "metadata": {
    "deletable": false,
    "nbgrader": {
     "cell_type": "code",
     "checksum": "8e49afeadc3c4be99cce4caafe045775",
     "grade": false,
     "grade_id": "Part2",
     "locked": false,
     "schema_version": 3,
     "solution": true,
     "task": false
    }
   },
   "outputs": [
    {
     "data": {
      "text/plain": [
       "<__main__.CardDeck at 0x7ff1d8142190>"
      ]
     },
     "execution_count": 101,
     "metadata": {},
     "output_type": "execute_result"
    }
   ],
   "source": [
    "# YOUR CODE HERE\n",
    "import random\n",
    "class CardDeck ():\n",
    "    def __init__(self):\n",
    "        a = -1\n",
    "        deck1 = []\n",
    "        deck2 = []\n",
    "        deck3 = []\n",
    "        deck4 = []\n",
    "        suit= [\" of Clubs\", \" of Diamonds\", \" of Hearts\", \" of Spades\"]\n",
    "        rank= [\"Ace\", \"Two\", \"Three\", \"Four\", \"Five\", \"Six\", \"Seven\", \"Eight\", \"Nine\", \"Ten\", \"Jack\", \"Queen\", \"King\"]\n",
    "        for i in range(13):\n",
    "            a = a +1\n",
    "            x = rank[a]+suit[0]\n",
    "            deck1.append(x)\n",
    "            \n",
    "            x = rank[a]+suit[1]\n",
    "            deck2.append(x)\n",
    "            \n",
    "            x = rank[a]+suit[2]\n",
    "            deck3.append(x)\n",
    "            \n",
    "            x = rank[a]+suit[3]\n",
    "            deck4.append(x)\n",
    "        \n",
    "        deck = deck1 + deck2 + deck3 + deck4\n",
    "        \n",
    "    def shuffle_deck(self):\n",
    "        random.shuffle(self.deck)\n",
    "        print(\"The Deck has been re-shuffled\")\n",
    "        \n",
    "    def pretty_list(self):\n",
    "        return self.deck\n",
    "    \n",
    "    def number_of_cards(self):\n",
    "        return len(self.deck)\n",
    "    \n",
    "    def cut_deck(self,number):\n",
    "        if 0<number<52:\n",
    "            return self.deck[number:52]\n",
    "        if number<0 or number>52:\n",
    "            return ValueError\n",
    "        \n",
    "    def peek(self):\n",
    "        return self.deck[0]\n",
    "    \n",
    "    def draw(self):\n",
    "        return self.deck - self.deck[0]\n",
    "    \n",
    "    def draw_n(self,n):\n",
    "        if 0<number<52:\n",
    "            return self.deck - self.deck[0:n]\n",
    "        if number>52:\n",
    "            return ValueError\n",
    "    def contains(self,Card):\n",
    "        if Card == self.deck:\n",
    "            return True\n",
    "        else:\n",
    "            return False\n",
    "\n",
    "CardDeck ()            \n",
    "            \n",
    "    "
   ]
  },
  {
   "cell_type": "code",
   "execution_count": null,
   "metadata": {
    "deletable": false,
    "editable": false,
    "nbgrader": {
     "cell_type": "code",
     "checksum": "51c61e5b9ec19843f1b520e822adc200",
     "grade": true,
     "grade_id": "initTests",
     "locked": true,
     "points": 2,
     "schema_version": 3,
     "solution": false,
     "task": false
    }
   },
   "outputs": [],
   "source": [
    "#Card\n",
    "### BEGIN TEST\n",
    "from nose.tools import assert_raises\n",
    "# If these tests are failing, your initializer isn't accepting valid inputs\n",
    "fiveDiamond = Card(\"diamond\", \"5\")\n",
    "aceSpade = Card(\"spade\", \"ace\")\n",
    "tenClub = Card(\"club\", \"10\")\n",
    "kingHeart = Card(\"heart\", \"king\")\n",
    "# If these tests are failing, you're not properly raising value errors on bad data passed to the initializer.\n",
    "assert_raises(ValueError, Card, \"diamond\", \"11\")"
   ]
  },
  {
   "cell_type": "code",
   "execution_count": null,
   "metadata": {
    "deletable": false,
    "editable": false,
    "nbgrader": {
     "cell_type": "code",
     "checksum": "2a5bcd80f65cedbf61c34d0d0431d16e",
     "grade": true,
     "grade_id": "initTest2",
     "locked": true,
     "points": 1,
     "schema_version": 3,
     "solution": false,
     "task": false
    }
   },
   "outputs": [],
   "source": [
    "assert_raises(ValueError, Card, \"daumond\", \"5\")"
   ]
  },
  {
   "cell_type": "code",
   "execution_count": null,
   "metadata": {
    "deletable": false,
    "editable": false,
    "nbgrader": {
     "cell_type": "code",
     "checksum": "d1ab516c100e0606009460138622eea0",
     "grade": true,
     "grade_id": "initTest3",
     "locked": true,
     "points": 1,
     "schema_version": 3,
     "solution": false,
     "task": false
    }
   },
   "outputs": [],
   "source": [
    "assert_raises(ValueError, Card, \"diamond\", \"ten\")"
   ]
  },
  {
   "cell_type": "code",
   "execution_count": null,
   "metadata": {
    "deletable": false,
    "editable": false,
    "nbgrader": {
     "cell_type": "code",
     "checksum": "30090c764df3222087b9431d6a87f0b1",
     "grade": true,
     "grade_id": "initTest4",
     "locked": true,
     "points": 1,
     "schema_version": 3,
     "solution": false,
     "task": false
    }
   },
   "outputs": [],
   "source": [
    "assert_raises(ValueError, Card, \"diamond\", \"1\")\n",
    "### END TEST"
   ]
  },
  {
   "cell_type": "code",
   "execution_count": null,
   "metadata": {
    "deletable": false,
    "editable": false,
    "nbgrader": {
     "cell_type": "code",
     "checksum": "63caa69d7505c27c014f05ccec4a2a13",
     "grade": true,
     "grade_id": "accessorTests",
     "locked": true,
     "points": 5,
     "schema_version": 3,
     "solution": false,
     "task": false
    }
   },
   "outputs": [],
   "source": [
    "### BEGIN TEST\n",
    "from nose.tools import assert_equal\n",
    "\n",
    "assert_equal(fiveDiamond.get_suit(), \"diamond\")\n",
    "assert_equal(aceSpade.get_suit(), \"spade\")\n",
    "assert_equal(tenClub.get_suit(), \"club\")\n",
    "assert_equal(kingHeart.get_suit(), \"heart\")\n",
    "\n",
    "assert_equal(fiveDiamond.get_rank(), \"5\")\n",
    "assert_equal(aceSpade.get_rank(), \"ace\")\n",
    "assert_equal(tenClub.get_rank(), \"10\")\n",
    "assert_equal(kingHeart.get_rank(), \"king\")\n",
    "\n",
    "### END TEST"
   ]
  },
  {
   "cell_type": "code",
   "execution_count": null,
   "metadata": {
    "deletable": false,
    "editable": false,
    "nbgrader": {
     "cell_type": "code",
     "checksum": "c8ed0afc566984088685600d5c0b115d",
     "grade": true,
     "grade_id": "characteristicTests",
     "locked": true,
     "points": 5,
     "schema_version": 3,
     "solution": false,
     "task": false
    }
   },
   "outputs": [],
   "source": [
    "### BEGIN TEST\n",
    "\n",
    "from nose.tools import assert_true\n",
    "from nose.tools import assert_false\n",
    "\n",
    "assert_true(fiveDiamond.is_red())\n",
    "assert_true(aceSpade.is_black())\n",
    "assert_true(tenClub.is_black())\n",
    "assert_true(kingHeart.is_red())\n",
    "\n",
    "assert_false(fiveDiamond.is_black())\n",
    "assert_false(aceSpade.is_red())\n",
    "assert_false(tenClub.is_red())\n",
    "assert_false(kingHeart.is_black())\n",
    "\n",
    "assert_false(fiveDiamond.is_face_card())\n",
    "assert_false(aceSpade.is_face_card())\n",
    "assert_false(tenClub.is_face_card())\n",
    "assert_true(kingHeart.is_face_card())\n",
    "\n",
    "### END TEST"
   ]
  },
  {
   "cell_type": "code",
   "execution_count": null,
   "metadata": {
    "deletable": false,
    "editable": false,
    "nbgrader": {
     "cell_type": "code",
     "checksum": "3fb15086a743c4abac05e543049f06da",
     "grade": true,
     "grade_id": "pointTests",
     "locked": true,
     "points": 3,
     "schema_version": 3,
     "solution": false,
     "task": false
    }
   },
   "outputs": [],
   "source": [
    "### BEGIN TEST\n",
    "\n",
    "assert_equal(fiveDiamond.point_value(), 5)\n",
    "assert_equal(aceSpade.point_value(), 1)"
   ]
  },
  {
   "cell_type": "code",
   "execution_count": null,
   "metadata": {
    "deletable": false,
    "editable": false,
    "nbgrader": {
     "cell_type": "code",
     "checksum": "6069d909e28395c9eb4ffde5e0c01feb",
     "grade": true,
     "grade_id": "pointTests2",
     "locked": true,
     "points": 1,
     "schema_version": 3,
     "solution": false,
     "task": false
    }
   },
   "outputs": [],
   "source": [
    "assert_equal(tenClub.point_value(), 10)"
   ]
  },
  {
   "cell_type": "code",
   "execution_count": null,
   "metadata": {
    "deletable": false,
    "editable": false,
    "nbgrader": {
     "cell_type": "code",
     "checksum": "dd46dfab79bef6713fb5c5ffda776714",
     "grade": true,
     "grade_id": "pointTests3",
     "locked": true,
     "points": 1,
     "schema_version": 3,
     "solution": false,
     "task": false
    }
   },
   "outputs": [],
   "source": [
    "assert_equal(kingHeart.point_value(), 13)\n",
    "\n",
    "### END TEST"
   ]
  },
  {
   "cell_type": "code",
   "execution_count": null,
   "metadata": {
    "deletable": false,
    "editable": false,
    "nbgrader": {
     "cell_type": "code",
     "checksum": "9bd395db74a95feebfbfea22bc2fff20",
     "grade": true,
     "grade_id": "compareTests",
     "locked": true,
     "points": 5,
     "schema_version": 3,
     "solution": false,
     "task": false
    }
   },
   "outputs": [],
   "source": [
    "### BEGIN TEST\n",
    "\n",
    "print(aceSpade.rank)\n",
    "assert_true(aceSpade.is_higher_value_than(fiveDiamond))\n",
    "assert_true(aceSpade.is_higher_value_than(tenClub))\n",
    "assert_true(aceSpade.is_higher_value_than(kingHeart))\n",
    "assert_false(aceSpade.is_higher_value_than(aceSpade))\n",
    "\n",
    "assert_false(fiveDiamond.is_higher_value_than(fiveDiamond))\n",
    "assert_false(fiveDiamond.is_higher_value_than(tenClub))\n",
    "assert_false(fiveDiamond.is_higher_value_than(kingHeart))\n",
    "assert_false(fiveDiamond.is_higher_value_than(aceSpade))\n",
    "\n",
    "assert_true(tenClub.is_higher_value_than(fiveDiamond))\n",
    "assert_false(tenClub.is_higher_value_than(tenClub))\n",
    "assert_false(tenClub.is_higher_value_than(kingHeart))\n",
    "assert_false(tenClub.is_higher_value_than(aceSpade))\n",
    "\n",
    "assert_true(kingHeart.is_higher_value_than(fiveDiamond))\n",
    "assert_true(kingHeart.is_higher_value_than(tenClub))\n",
    "assert_false(kingHeart.is_higher_value_than(kingHeart))\n",
    "assert_false(kingHeart.is_higher_value_than(aceSpade))\n",
    "\n",
    "### END TEST"
   ]
  },
  {
   "cell_type": "code",
   "execution_count": null,
   "metadata": {
    "deletable": false,
    "editable": false,
    "nbgrader": {
     "cell_type": "code",
     "checksum": "978ab45b7d8cdc8654f9dc86529ae35d",
     "grade": true,
     "grade_id": "prettyTests",
     "locked": true,
     "points": 5,
     "schema_version": 3,
     "solution": false,
     "task": false
    }
   },
   "outputs": [],
   "source": [
    "### BEGIN TEST\n",
    "assert_equal(fiveDiamond.pretty_string(), \"5♢\")\n",
    "assert_equal(aceSpade.pretty_string(), \"A♠\")\n",
    "assert_equal(tenClub.pretty_string(), \"10♣\")\n",
    "assert_equal(kingHeart.pretty_string(), \"K♡\")\n",
    "\n",
    "### END TEST"
   ]
  },
  {
   "cell_type": "code",
   "execution_count": null,
   "metadata": {
    "deletable": false,
    "editable": false,
    "nbgrader": {
     "cell_type": "code",
     "checksum": "bc64894a979d94f1f3d740432fd14e85",
     "grade": true,
     "grade_id": "magicTests",
     "locked": true,
     "points": 5,
     "schema_version": 3,
     "solution": false,
     "task": false
    }
   },
   "outputs": [],
   "source": [
    "### BEGIN TEST\n",
    "fiveDiamondMag = Card(\"diamond\", \"5\")\n",
    "aceSpadeMag = Card(\"spade\", \"ace\")\n",
    "tenClubMag = Card(\"club\", \"10\")\n",
    "kingHeartMag = Card(\"heart\", \"king\")\n",
    "\n",
    "fiveDiamondMag.magic_increment()\n",
    "aceSpadeMag.magic_increment()\n",
    "tenClubMag.magic_increment()\n",
    "kingHeartMag.magic_increment()\n",
    "\n",
    "assert_equal(fiveDiamondMag.get_suit(), \"diamond\")\n",
    "assert_equal(aceSpadeMag.get_suit(), \"spade\")\n",
    "assert_equal(tenClubMag.get_suit(), \"club\")\n",
    "assert_equal(kingHeartMag.get_suit(), \"heart\")\n",
    "\n",
    "assert_equal(fiveDiamondMag.get_rank(), \"6\")\n",
    "assert_equal(aceSpadeMag.get_rank(), \"2\")\n",
    "assert_equal(tenClubMag.get_rank(), \"jack\")\n",
    "assert_equal(kingHeartMag.get_rank(), \"ace\")\n",
    "\n",
    "### END TEST"
   ]
  },
  {
   "cell_type": "code",
   "execution_count": null,
   "metadata": {
    "deletable": false,
    "editable": false,
    "nbgrader": {
     "cell_type": "code",
     "checksum": "80a5a301c088db951a6f30869ebfd2a6",
     "grade": true,
     "grade_id": "initialDeckTests",
     "locked": true,
     "points": 5,
     "schema_version": 3,
     "solution": false,
     "task": false
    }
   },
   "outputs": [],
   "source": [
    "### BEGIN TEST\n",
    "# If this test is failing (and the above tests are passing), something is wrong with your contstructor for CardDeck\n",
    "newDeck = CardDeck()\n",
    "deck = newDeck.deck\n",
    "comparableDeck = []\n",
    "for card in deck:\n",
    "    comparableDeck.append((card.get_suit(), card.get_rank()))\n",
    "    \n",
    "assert_equal(comparableDeck, [('club', 'ace'), ('club', '2'), ('club', '3'), ('club', '4'), ('club', '5'), ('club', '6'), ('club', '7'), ('club', '8'), ('club', '9'), ('club', '10'), ('club', 'jack'), ('club', 'queen'), ('club', 'king'), ('diamond', 'ace'), ('diamond', '2'), ('diamond', '3'), ('diamond', '4'), ('diamond', '5'), ('diamond', '6'), ('diamond', '7'), ('diamond', '8'), ('diamond', '9'), ('diamond', '10'), ('diamond', 'jack'), ('diamond', 'queen'), ('diamond', 'king'), ('heart', 'ace'), ('heart', '2'), ('heart', '3'), ('heart', '4'), ('heart', '5'), ('heart', '6'), ('heart', '7'), ('heart', '8'), ('heart', '9'), ('heart', '10'), ('heart', 'jack'), ('heart', 'queen'), ('heart', 'king'), ('spade', 'ace'), ('spade', '2'), ('spade', '3'), ('spade', '4'), ('spade', '5'), ('spade', '6'), ('spade', '7'), ('spade', '8'), ('spade', '9'), ('spade', '10'), ('spade', 'jack'), ('spade', 'queen'), ('spade', 'king')])\n",
    "\n",
    "\n",
    "### END TEST"
   ]
  },
  {
   "cell_type": "code",
   "execution_count": null,
   "metadata": {
    "deletable": false,
    "editable": false,
    "nbgrader": {
     "cell_type": "code",
     "checksum": "4741ccc0eb370a1a8fea1f2e1b702179",
     "grade": true,
     "grade_id": "PrettyDeckTests",
     "locked": true,
     "points": 5,
     "schema_version": 3,
     "solution": false,
     "task": false
    }
   },
   "outputs": [],
   "source": [
    "### BEGIN TEST\n",
    "  \n",
    "assert_equal(newDeck.pretty_list(), ['A♣', '2♣', '3♣', '4♣', '5♣', '6♣', '7♣', '8♣', '9♣', '10♣', 'J♣', 'Q♣', 'K♣', 'A♢', '2♢', '3♢', '4♢', '5♢', '6♢', '7♢', '8♢', '9♢', '10♢', 'J♢', 'Q♢', 'K♢', 'A♡', '2♡', '3♡', '4♡', '5♡', '6♡', '7♡', '8♡', '9♡', '10♡', 'J♡', 'Q♡', 'K♡', 'A♠', '2♠', '3♠', '4♠', '5♠', '6♠', '7♠', '8♠', '9♠', '10♠', 'J♠', 'Q♠', 'K♠'])\n",
    "\n",
    "### END TEST"
   ]
  },
  {
   "cell_type": "code",
   "execution_count": null,
   "metadata": {
    "deletable": false,
    "editable": false,
    "nbgrader": {
     "cell_type": "code",
     "checksum": "65d413349c4f24b894cc359d98d38c0d",
     "grade": true,
     "grade_id": "deckSizeTests",
     "locked": true,
     "points": 5,
     "schema_version": 3,
     "solution": false,
     "task": false
    }
   },
   "outputs": [],
   "source": [
    "### BEGIN TEST\n",
    "newDeck = CardDeck()\n",
    "assert_equal(newDeck.number_of_cards(), 52)\n",
    "\n",
    "### END TEST"
   ]
  },
  {
   "cell_type": "code",
   "execution_count": null,
   "metadata": {
    "deletable": false,
    "editable": false,
    "nbgrader": {
     "cell_type": "code",
     "checksum": "7779127da1c79b503d10dbbb67484768",
     "grade": true,
     "grade_id": "shuffleDeckTests",
     "locked": true,
     "points": 5,
     "schema_version": 3,
     "solution": false,
     "task": false
    }
   },
   "outputs": [],
   "source": [
    "### BEGIN TEST\n",
    "\n",
    "from nose.tools import assert_not_equal\n",
    "\n",
    "# Technically, this test has an infintisimal chance to fail even if your code is correct, but that's\n",
    "# probably not what's happening if it fails, especially more than once. (There is a tiny but non-zero)\n",
    "# chance that a thorougly shuffled deck will end up in the same order as it started; this has never happened in\n",
    "# history.\n",
    "deckToShuffle = CardDeck()\n",
    "deckToShuffle.shuffle_deck()\n",
    "\n",
    "print(\"This should be a shuffled deck:\")\n",
    "print(deckToShuffle.pretty_list())\n",
    "assert_not_equal(newDeck.pretty_list(), deckToShuffle.pretty_list())\n",
    "assert_equal(deckToShuffle.number_of_cards(), 52)\n",
    "\n",
    "### END TEST"
   ]
  },
  {
   "cell_type": "code",
   "execution_count": null,
   "metadata": {
    "deletable": false,
    "editable": false,
    "nbgrader": {
     "cell_type": "code",
     "checksum": "6d41a8484688821f8b58eea7c815b472",
     "grade": true,
     "grade_id": "cutDeckTests",
     "locked": true,
     "points": 5,
     "schema_version": 3,
     "solution": false,
     "task": false
    }
   },
   "outputs": [],
   "source": [
    "### BEGIN TEST\n",
    "deckToCut = CardDeck()\n",
    "deckToCut.cut_deck(0)\n",
    "#print(deckToCut.prettyList())\n",
    "assert_equal(deckToCut.pretty_list(), ['A♣', '2♣', '3♣', '4♣', '5♣', '6♣', '7♣', '8♣', '9♣', '10♣', 'J♣', 'Q♣', 'K♣', 'A♢', '2♢', '3♢', '4♢', '5♢', '6♢', '7♢', '8♢', '9♢', '10♢', 'J♢', 'Q♢', 'K♢', 'A♡', '2♡', '3♡', '4♡', '5♡', '6♡', '7♡', '8♡', '9♡', '10♡', 'J♡', 'Q♡', 'K♡', 'A♠', '2♠', '3♠', '4♠', '5♠', '6♠', '7♠', '8♠', '9♠', '10♠', 'J♠', 'Q♠', 'K♠'])\n",
    "deckToCut.cut_deck(1)\n",
    "assert_equal(deckToCut.pretty_list(), ['2♣', '3♣', '4♣', '5♣', '6♣', '7♣', '8♣', '9♣', '10♣', 'J♣', 'Q♣', 'K♣', 'A♢', '2♢', '3♢', '4♢', '5♢', '6♢', '7♢', '8♢', '9♢', '10♢', 'J♢', 'Q♢', 'K♢', 'A♡', '2♡', '3♡', '4♡', '5♡', '6♡', '7♡', '8♡', '9♡', '10♡', 'J♡', 'Q♡', 'K♡', 'A♠', '2♠', '3♠', '4♠', '5♠', '6♠', '7♠', '8♠', '9♠', '10♠', 'J♠', 'Q♠', 'K♠', 'A♣'])\n",
    "deckToCut.cut_deck(30)\n",
    "assert_equal(deckToCut.pretty_list(), ['6♡', '7♡', '8♡', '9♡', '10♡', 'J♡', 'Q♡', 'K♡', 'A♠', '2♠', '3♠', '4♠', '5♠', '6♠', '7♠', '8♠', '9♠', '10♠', 'J♠', 'Q♠', 'K♠', 'A♣', '2♣', '3♣', '4♣', '5♣', '6♣', '7♣', '8♣', '9♣', '10♣', 'J♣', 'Q♣', 'K♣', 'A♢', '2♢', '3♢', '4♢', '5♢', '6♢', '7♢', '8♢', '9♢', '10♢', 'J♢', 'Q♢', 'K♢', 'A♡', '2♡', '3♡', '4♡', '5♡'])\n",
    "deckToCut.cut_deck(52)\n",
    "assert_equal(deckToCut.pretty_list(), ['6♡', '7♡', '8♡', '9♡', '10♡', 'J♡', 'Q♡', 'K♡', 'A♠', '2♠', '3♠', '4♠', '5♠', '6♠', '7♠', '8♠', '9♠', '10♠', 'J♠', 'Q♠', 'K♠', 'A♣', '2♣', '3♣', '4♣', '5♣', '6♣', '7♣', '8♣', '9♣', '10♣', 'J♣', 'Q♣', 'K♣', 'A♢', '2♢', '3♢', '4♢', '5♢', '6♢', '7♢', '8♢', '9♢', '10♢', 'J♢', 'Q♢', 'K♢', 'A♡', '2♡', '3♡', '4♡', '5♡'])\n",
    "# If these tests fail, it's because you're not raising a ValueError.\n",
    "assert_raises(ValueError, deckToCut.cut_deck, -1)\n",
    "assert_raises(ValueError, deckToCut.cut_deck, 53)\n",
    "### END TEST"
   ]
  },
  {
   "cell_type": "code",
   "execution_count": null,
   "metadata": {
    "deletable": false,
    "editable": false,
    "nbgrader": {
     "cell_type": "code",
     "checksum": "4fc849a301a9252290e3dbd0886eaa04",
     "grade": true,
     "grade_id": "drawPeekTests",
     "locked": true,
     "points": 5,
     "schema_version": 3,
     "solution": false,
     "task": false
    }
   },
   "outputs": [],
   "source": [
    "### BEGIN TEST\n",
    "\n",
    "def prettyHand(cardList):\n",
    "    prettyCards = []\n",
    "    for card in cardList:\n",
    "        prettyCards.append(card.pretty_string())\n",
    "    return prettyCards\n",
    "\n",
    "deckToDraw = CardDeck()\n",
    "firstCard = deckToDraw.draw()\n",
    "assert_equal(firstCard.pretty_string(),'A♣')\n",
    "assert_equal(deckToDraw.pretty_list(),['2♣', '3♣', '4♣', '5♣', '6♣', '7♣', '8♣', '9♣', '10♣', 'J♣', 'Q♣', 'K♣', 'A♢', '2♢', '3♢', '4♢', '5♢', '6♢', '7♢', '8♢', '9♢', '10♢', 'J♢', 'Q♢', 'K♢', 'A♡', '2♡', '3♡', '4♡', '5♡', '6♡', '7♡', '8♡', '9♡', '10♡', 'J♡', 'Q♡', 'K♡', 'A♠', '2♠', '3♠', '4♠', '5♠', '6♠', '7♠', '8♠', '9♠', '10♠', 'J♠', 'Q♠', 'K♠'])\n",
    "secondCard = deckToDraw.draw()\n",
    "assert_equal(secondCard.pretty_string(),'2♣')\n",
    "assert_equal(deckToDraw.pretty_list(),['3♣', '4♣', '5♣', '6♣', '7♣', '8♣', '9♣', '10♣', 'J♣', 'Q♣', 'K♣', 'A♢', '2♢', '3♢', '4♢', '5♢', '6♢', '7♢', '8♢', '9♢', '10♢', 'J♢', 'Q♢', 'K♢', 'A♡', '2♡', '3♡', '4♡', '5♡', '6♡', '7♡', '8♡', '9♡', '10♡', 'J♡', 'Q♡', 'K♡', 'A♠', '2♠', '3♠', '4♠', '5♠', '6♠', '7♠', '8♠', '9♠', '10♠', 'J♠', 'Q♠', 'K♠'])\n",
    "topCard = deckToDraw.peek()\n",
    "assert_equal(topCard.pretty_string(),'3♣')\n",
    "assert_equal(deckToDraw.pretty_list(),['3♣', '4♣', '5♣', '6♣', '7♣', '8♣', '9♣', '10♣', 'J♣', 'Q♣', 'K♣', 'A♢', '2♢', '3♢', '4♢', '5♢', '6♢', '7♢', '8♢', '9♢', '10♢', 'J♢', 'Q♢', 'K♢', 'A♡', '2♡', '3♡', '4♡', '5♡', '6♡', '7♡', '8♡', '9♡', '10♡', 'J♡', 'Q♡', 'K♡', 'A♠', '2♠', '3♠', '4♠', '5♠', '6♠', '7♠', '8♠', '9♠', '10♠', 'J♠', 'Q♠', 'K♠'])\n",
    "nextEight=deckToDraw.draw_n(8)\n",
    "assert_equal(prettyHand(nextEight),['3♣', '4♣', '5♣', '6♣', '7♣', '8♣', '9♣', '10♣'])\n",
    "assert_equal(deckToDraw.pretty_list(),['J♣', 'Q♣', 'K♣', 'A♢', '2♢', '3♢', '4♢', '5♢', '6♢', '7♢', '8♢', '9♢', '10♢', 'J♢', 'Q♢', 'K♢', 'A♡', '2♡', '3♡', '4♡', '5♡', '6♡', '7♡', '8♡', '9♡', '10♡', 'J♡', 'Q♡', 'K♡', 'A♠', '2♠', '3♠', '4♠', '5♠', '6♠', '7♠', '8♠', '9♠', '10♠', 'J♠', 'Q♠', 'K♠'])\n",
    "# If these tests fail, it's because you're not raising a ValueError.\n",
    "assert_raises(ValueError, deckToDraw.draw_n, 55)\n",
    "assert_raises(ValueError, deckToDraw.draw_n, 48)\n",
    "### END TEST"
   ]
  },
  {
   "cell_type": "code",
   "execution_count": null,
   "metadata": {
    "deletable": false,
    "editable": false,
    "nbgrader": {
     "cell_type": "code",
     "checksum": "33efed85be05f4e6c37da21d54b6a043",
     "grade": true,
     "grade_id": "containsTests",
     "locked": true,
     "points": 5,
     "schema_version": 3,
     "solution": false,
     "task": false
    }
   },
   "outputs": [],
   "source": [
    "### BEGIN TEST\n",
    "\n",
    "deckToInspect = CardDeck()\n",
    "fiveDiamond = Card(\"diamond\", \"5\")\n",
    "aceSpade = Card(\"spade\", \"ace\")\n",
    "aceClub = Card(\"club\", \"ace\")\n",
    "\n",
    "assert_true(deckToInspect.contains(fiveDiamond))\n",
    "assert_true(deckToInspect.contains(aceSpade))\n",
    "assert_true(deckToInspect.contains(aceClub))\n",
    "\n",
    "deckToInspect.draw()\n",
    "\n",
    "assert_true(deckToInspect.contains(fiveDiamond))\n",
    "assert_true(deckToInspect.contains(aceSpade))\n",
    "assert_false(deckToInspect.contains(aceClub))\n",
    "\n",
    "deckToInspect.draw_n(51)\n",
    "\n",
    "assert_false(deckToInspect.contains(fiveDiamond))\n",
    "assert_false(deckToInspect.contains(aceSpade))\n",
    "assert_false(deckToInspect.contains(aceClub))\n",
    "\n",
    "### END TEST"
   ]
  }
 ],
 "metadata": {
  "kernelspec": {
   "display_name": "Python 3",
   "language": "python",
   "name": "python3"
  },
  "language_info": {
   "codemirror_mode": {
    "name": "ipython",
    "version": 3
   },
   "file_extension": ".py",
   "mimetype": "text/x-python",
   "name": "python",
   "nbconvert_exporter": "python",
   "pygments_lexer": "ipython3",
   "version": "3.7.4"
  }
 },
 "nbformat": 4,
 "nbformat_minor": 2
}
