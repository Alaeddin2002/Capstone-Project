{
 "cells": [
  {
   "cell_type": "markdown",
   "metadata": {},
   "source": [
    "Before you turn this problem in, make sure everything runs as expected. First, **restart the kernel** (in the menubar, select Kernel$\\rightarrow$Restart) and then **run all cells** (in the menubar, select Cell$\\rightarrow$Run All).\n",
    "\n",
    "Make sure you fill in any place that says `YOUR CODE HERE` or \"YOUR ANSWER HERE\", as well as your name and collaborators below:"
   ]
  },
  {
   "cell_type": "code",
   "execution_count": null,
   "metadata": {},
   "outputs": [],
   "source": [
    "NAME = \"Ihsan Alaeddin\"\n",
    "COLLABORATORS = \"Group 1\""
   ]
  },
  {
   "cell_type": "markdown",
   "metadata": {},
   "source": [
    "---"
   ]
  },
  {
   "cell_type": "markdown",
   "metadata": {},
   "source": [
    "---\n",
    "# Lab 6: Basics of Strings\n",
    "---\n",
    "In this lab, you will practice doing basic things with strings and code applications that you might actually see in real life, such as:\n",
    "*  Converting a phrase to an acronym\n",
    "*  Capitalizing the first letter of every word\n",
    "*  Numerology\n",
    "*  Testing if a phrase is a palindrome\n",
    "\n",
    "You will get plenty of practice with:\n",
    "* Splicing and indexing strings / arrays (remember, if A is an array, the syntax is A[start : stop : step])\n",
    "* Joining and splitting strings\n",
    "* ASCII table\n",
    "* The various functions related to strings: \n",
    "    - lower() / upper()\n",
    "    - lstrip() / rstrip() / strip()\n",
    "    - ord()\n",
    "    - isalpha()\n",
    "* Loops / accumulators\n",
    "\n"
   ]
  },
  {
   "cell_type": "markdown",
   "metadata": {
    "deletable": false,
    "editable": false,
    "nbgrader": {
     "cell_type": "markdown",
     "checksum": "30f9954f7c662ff8f847b4a45f2d18c7",
     "grade": false,
     "grade_id": "Divider1-1",
     "locked": true,
     "schema_version": 3,
     "solution": false,
     "task": false
    }
   },
   "source": [
    "# Exercise 1\n",
    "---\n",
    "### Exercise 1.1\n",
    "---\n",
    "Write a function called **string_fun** which takes a string as a parameter and returns a **list of strings**.\n",
    "\n",
    "* The first string in the list that it returns should be the first character in the input string\n",
    "* The second string in the list should the last character in the input string.\n",
    "* The third item in the list should be a string containing all of the characters in the input except the first and last characters.\n",
    "* The fourth should be all the characters at even indexes. \n",
    "* The fifth item in the list should be a string containing all the characters in the input at odd indexes\n",
    "\n",
    "\n",
    "**example**\n",
    "\n",
    "if I were to  call the function:\n",
    "\n",
    "    string_fun(\"leopard\")\n",
    "    \n",
    "the returned string should be:\n",
    "\n",
    "    ['l', 'd', 'eopar', 'load', 'epr']"
   ]
  },
  {
   "cell_type": "code",
   "execution_count": 20,
   "metadata": {
    "deletable": false,
    "nbgrader": {
     "cell_type": "code",
     "checksum": "ef47925fb05a94fe84f34a60078cd62f",
     "grade": false,
     "grade_id": "Part1-1",
     "locked": false,
     "schema_version": 3,
     "solution": true,
     "task": false
    }
   },
   "outputs": [
    {
     "data": {
      "text/plain": [
       "['C', 'r', 'ompute', 'Cmue', 'optr']"
      ]
     },
     "execution_count": 20,
     "metadata": {},
     "output_type": "execute_result"
    }
   ],
   "source": [
    "# YOUR CODE HERE\n",
    "def string_fun(s):\n",
    "    return [s[0],s[-1],s[1:-1],s[::2],s[1::2]]\n",
    "    \n",
    "string_fun(\"Computer\")"
   ]
  },
  {
   "cell_type": "markdown",
   "metadata": {
    "deletable": false,
    "editable": false,
    "nbgrader": {
     "cell_type": "markdown",
     "checksum": "4c4aa08e3bf38419f66427384bef8c1c",
     "grade": false,
     "grade_id": "Divider1-2",
     "locked": true,
     "schema_version": 3,
     "solution": false,
     "task": false
    }
   },
   "source": [
    "---\n",
    "### Exercise 1.2\n",
    "---\n",
    "Write a function called **list_join** that **manually** joins words from a list into a sentence. This means that there will have to be a space between each word. The list will be a parameter of this function. Your function should take one parameter, the list of words.\n",
    "\n",
    "**Note**: Do not use join() when writing this function. You will lose points if there are any spaces that are not between two words in the returned sentence (if they are at either end of the sentence). You may want to use the following (whichever is applicable) to make sure that there are no spaces at the end or beginning of the sentence. \n",
    "\n",
    "    rstrip() \n",
    "    \n",
    "or \n",
    "    \n",
    "    lstrip()\n",
    "    \n",
    "    \n",
    "**Example**\n",
    "\n",
    "    list_join([\"I\", \"like\", \"computers\", \"and\", \"their\", \"science\"])\n",
    "\n",
    "should return:\n",
    "\n",
    "    'I like computers and their science'"
   ]
  },
  {
   "cell_type": "code",
   "execution_count": 38,
   "metadata": {
    "deletable": false,
    "nbgrader": {
     "cell_type": "code",
     "checksum": "a5bb1ad1ce18f54e7966e6488e0aaae4",
     "grade": false,
     "grade_id": "Part1-2",
     "locked": false,
     "schema_version": 3,
     "solution": true,
     "task": false
    }
   },
   "outputs": [
    {
     "data": {
      "text/plain": [
       "'I like computers and their science'"
      ]
     },
     "execution_count": 38,
     "metadata": {},
     "output_type": "execute_result"
    }
   ],
   "source": [
    "# YOUR CODE HERE\n",
    "def list_join(s):\n",
    "    v = \"\"\n",
    "    for i in s:\n",
    "        v += i + \" \"\n",
    "    return (v[0:-1])\n",
    "\n",
    "list_join([\"I\", \"like\", \"computers\", \"and\", \"their\", \"science\"])"
   ]
  },
  {
   "cell_type": "markdown",
   "metadata": {
    "deletable": false,
    "editable": false,
    "nbgrader": {
     "cell_type": "markdown",
     "checksum": "eb0be129e787552695592256786cfcea",
     "grade": false,
     "grade_id": "Divider1-3",
     "locked": true,
     "schema_version": 3,
     "solution": false,
     "task": false
    }
   },
   "source": [
    "---\n",
    "### Exercise 1.3\n",
    "---\n",
    "Write a function called **caps**. The function should take one parameter. The parameter is a sentence, given as a string. The function should manually capitalize the first letter in each word in the sentence and return the result. \n",
    "\n",
    "**Example**\n",
    "\n",
    "    caps(\"i love computers and their science\")\n",
    "\n",
    "Should output:\n",
    "    \n",
    "    'I Love Computers And Their Science'\n",
    "    \n",
    "**Hint**: Use the split() and join() methods for this function. The capwords() function does something similar to this, but you should write your own version here."
   ]
  },
  {
   "cell_type": "code",
   "execution_count": 30,
   "metadata": {
    "deletable": false,
    "nbgrader": {
     "cell_type": "code",
     "checksum": "01bfda92745fa062f6f6ca85bd6bfbda",
     "grade": false,
     "grade_id": "Part1-3",
     "locked": false,
     "schema_version": 3,
     "solution": true,
     "task": false
    }
   },
   "outputs": [
    {
     "data": {
      "text/plain": [
       "'I Love Computers And Their Science'"
      ]
     },
     "execution_count": 30,
     "metadata": {},
     "output_type": "execute_result"
    }
   ],
   "source": [
    "# YOUR CODE HERE\n",
    "def caps (c):\n",
    "    v = [word[0].upper() + word[1:]  for word in c.split()] \n",
    "    c = \" \".join(v)\n",
    "    return c \n",
    "caps (\"i love computers and their science\")"
   ]
  },
  {
   "cell_type": "markdown",
   "metadata": {
    "deletable": false,
    "editable": false,
    "nbgrader": {
     "cell_type": "markdown",
     "checksum": "437e441e082888e076f2bc25f445bcea",
     "grade": false,
     "grade_id": "Divider2",
     "locked": true,
     "schema_version": 3,
     "solution": false,
     "task": false
    }
   },
   "source": [
    "---\n",
    "### Exercise 2\n",
    "---\n",
    "A simple cipher used for games and puzzles sometimes is a letter-to-number cipher. Using this cipher, a=1, b=2, ... z=26.\n",
    "\n",
    "Write a function called **to_numerical**.\n",
    "\n",
    "It should take one parameter. The parameter should be a string that is one character long.\n",
    "\n",
    "It should return the numeric equivalent, using the rule described above. It should work for both uppercase and lowercase letters. (Both 'b' and 'B' should return 2.)\n",
    "\n",
    "The upper() and ord() functions can be useful here. Remember that ord('A') = 65, ord('B') = 66, and so on.\n",
    "\n",
    "Test your function with a few values, like this:\n",
    "\n",
    "    print(to_numerical(\"A\"))\n",
    "    print((to_numerical(\"a\")))\n",
    "    print(to_numerical(\"Z\"))\n",
    "    print((to_numerical(\"z\")))\n",
    "    \n",
    "This should print\n",
    "\n",
    "    1\n",
    "    1\n",
    "    26\n",
    "    26"
   ]
  },
  {
   "cell_type": "code",
   "execution_count": 80,
   "metadata": {
    "deletable": false,
    "nbgrader": {
     "cell_type": "code",
     "checksum": "d53289e8c6687b33ce965daf82462361",
     "grade": false,
     "grade_id": "Part2",
     "locked": false,
     "schema_version": 3,
     "solution": true,
     "task": false
    }
   },
   "outputs": [
    {
     "data": {
      "text/plain": [
       "26"
      ]
     },
     "execution_count": 80,
     "metadata": {},
     "output_type": "execute_result"
    }
   ],
   "source": [
    "# YOUR CODE HERE\n",
    "def to_numerical (s):\n",
    "    if s == s.capitalize():\n",
    "        x = ord(s)-64\n",
    "        return x\n",
    "    if s == s.lower():\n",
    "        c = ord(s)-96\n",
    "        return c\n",
    "to_numerical (\"z\")"
   ]
  },
  {
   "cell_type": "markdown",
   "metadata": {
    "deletable": false,
    "editable": false,
    "nbgrader": {
     "cell_type": "markdown",
     "checksum": "e12d7e35e23b0505a8c697c9d73a6418",
     "grade": false,
     "grade_id": "Divider3",
     "locked": true,
     "schema_version": 3,
     "solution": false,
     "task": false
    }
   },
   "source": [
    "---\n",
    "### Exercise 3\n",
    "---\n",
    "Numerologists claim to be able to determine a person's character traits based on the \"numeric value\" of a name. The value of a name is determined by summing up the values of the letters of the name (like the ones you calculated in exercise 1). For example, the name \"Zelle\" would have the value 26 + 5 + 12 + 12 + 5 = 60.\n",
    "\n",
    "Write a function called **get_numeric_value** that takes a sequence of characters (a string) as a parameter. It should return the numeric value of that string. You can use **to_numerical** in your solution.\n",
    "\n",
    "Test your function with your own name, like this:\n",
    "\n",
    "    print(get_numeric_value(\"Dave\"))"
   ]
  },
  {
   "cell_type": "code",
   "execution_count": 90,
   "metadata": {
    "deletable": false,
    "nbgrader": {
     "cell_type": "code",
     "checksum": "b8cc1baa4a8ef4cd339431b361022d5d",
     "grade": false,
     "grade_id": "Part3",
     "locked": false,
     "schema_version": 3,
     "solution": true,
     "task": false
    }
   },
   "outputs": [
    {
     "data": {
      "text/plain": [
       "51"
      ]
     },
     "execution_count": 90,
     "metadata": {},
     "output_type": "execute_result"
    }
   ],
   "source": [
    "# YOUR CODE HERE\n",
    "def get_numeric_value(s):\n",
    "    return sum (ord(i) - 96 for i in s.lower())\n",
    "\n",
    "get_numeric_value(\"Ihsan\")  "
   ]
  },
  {
   "cell_type": "markdown",
   "metadata": {
    "deletable": false,
    "editable": false,
    "nbgrader": {
     "cell_type": "markdown",
     "checksum": "fb0fc32db624c2d17563ee3a2c0e4aaa",
     "grade": false,
     "grade_id": "Divider4",
     "locked": true,
     "schema_version": 3,
     "solution": false,
     "task": false
    }
   },
   "source": [
    "---\n",
    "### Exercise 4\n",
    "---\n",
    "Write a function called **get_full_numeric_value** that takes a string representing a person's full name (\"first middle last\", for example) and **returns** the numeric value of the whole name (think about how to handle spaces -- **split()** might be useful here). You can use **get_numeric_value** in your function. Remember that people might not have exactly three names. \n",
    "\n",
    "Test your function with your name and your friends' names, like this:\n",
    "\n",
    "    print(get_full_numeric_value(\"David Michael Barbella\"))\n",
    "\n",
    "    print(get_full_numeric_value(\"Bjork\"))\n"
   ]
  },
  {
   "cell_type": "code",
   "execution_count": 92,
   "metadata": {
    "deletable": false,
    "nbgrader": {
     "cell_type": "code",
     "checksum": "e3c2c87a7b236ad24295d957dda9d400",
     "grade": false,
     "grade_id": "Part4",
     "locked": false,
     "schema_version": 3,
     "solution": true,
     "task": false
    }
   },
   "outputs": [
    {
     "data": {
      "text/plain": [
       "101"
      ]
     },
     "execution_count": 92,
     "metadata": {},
     "output_type": "execute_result"
    }
   ],
   "source": [
    "# YOUR CODE HERE\n",
    "def get_full_numeric_value (s):\n",
    "    return sum (ord(i) - 96 for i in s.lower() if i != \" \")\n",
    "get_full_numeric_value (\"Ihsan Alaeddin\")"
   ]
  },
  {
   "cell_type": "markdown",
   "metadata": {
    "deletable": false,
    "editable": false,
    "nbgrader": {
     "cell_type": "markdown",
     "checksum": "282e3dc4c6c3db5502a08d0345d624fe",
     "grade": false,
     "grade_id": "Divider5",
     "locked": true,
     "schema_version": 3,
     "solution": false,
     "task": false
    }
   },
   "source": [
    "---\n",
    "### Exercise 5\n",
    "---\n",
    "An *acronym* is a word formed by taking the first letters of the words in a phrase and making a word from them. For example, RAM is an acronym for \"random access memory.\"\n",
    "\n",
    "Write a function called **to_acronym** that takes a string as a parameter and returns the acronym for that phrase. (Note: The acronym should be all uppercase, even if the words in the phrase are not capitalized.)\n",
    "\n",
    "Test your code with a few examples, like this:\n",
    "\n",
    "    print(to_acronym(\"random access memory\"))\n",
    "    print(to_acronym(\"computer science\"))\n",
    "    print(to_acronym(\"Helping Others Program\"))"
   ]
  },
  {
   "cell_type": "code",
   "execution_count": 109,
   "metadata": {
    "deletable": false,
    "nbgrader": {
     "cell_type": "code",
     "checksum": "e3cdb4cbadba2eefec146a5413712536",
     "grade": false,
     "grade_id": "Part5",
     "locked": false,
     "schema_version": 3,
     "solution": true,
     "task": false
    }
   },
   "outputs": [
    {
     "data": {
      "text/plain": [
       "'RAM'"
      ]
     },
     "execution_count": 109,
     "metadata": {},
     "output_type": "execute_result"
    }
   ],
   "source": [
    "# YOUR CODE HERE\n",
    "def to_acronym (s):\n",
    "    x= \"\".join(s[0] for s in s.split())\n",
    "    return x.upper()\n",
    "to_acronym (\"random access memory\")"
   ]
  },
  {
   "cell_type": "markdown",
   "metadata": {
    "deletable": false,
    "editable": false,
    "nbgrader": {
     "cell_type": "markdown",
     "checksum": "7b2a7c696b743b81497d6caf08b2431b",
     "grade": false,
     "grade_id": "Divider6",
     "locked": true,
     "schema_version": 3,
     "solution": false,
     "task": false
    }
   },
   "source": [
    "---\n",
    "### Exercise 6\n",
    "---\n",
    "Write a function called **create_email** that takes a person's first, middle, and last name as parameters. If the person has no middle name, \"\" should be used when the function is called.\n",
    "\n",
    "The function should create and **return** an email address for the given name. The formula you should use to create an email address is to take the first letter of the first name, the first letter of the middle name, and the entire last name. (This is different than the formula used by Earlham.) Make sure you add `@earlham.edu` to the end of the email address as well. **If there is no middle name, then the email address is the first two letters of the first name and the last name.** The whole email address should be in lower case. Here are some examples.\n",
    "\n",
    "**Example:**\n",
    "    \n",
    "    print(create_email(\"David\", \"Michael\", \"Barbella\"))\n",
    "    \n",
    "    print(create_email(\"Iain\", \"\", \"Banks\"))\n",
    "    \n",
    " The above should print:\n",
    " \n",
    "    dmbarbella@earlham.edu\n",
    "    \n",
    "    iabanks@earlham.edu"
   ]
  },
  {
   "cell_type": "code",
   "execution_count": 47,
   "metadata": {
    "deletable": false,
    "nbgrader": {
     "cell_type": "code",
     "checksum": "fdd1103eaf54dbad2968a8061af4577f",
     "grade": false,
     "grade_id": "Part6",
     "locked": false,
     "schema_version": 3,
     "solution": true,
     "task": false
    }
   },
   "outputs": [
    {
     "data": {
      "text/plain": [
       "'ihalaeddin@earlham.edu'"
      ]
     },
     "execution_count": 47,
     "metadata": {},
     "output_type": "execute_result"
    }
   ],
   "source": [
    "# YOUR CODE HERE\n",
    "def create_email(i,a,d):\n",
    "     if a == \"\":\n",
    "            email = i[0]  + i[1] + d+ '@earlham.edu'\n",
    "            return email.lower()\n",
    "     \n",
    "     else: \n",
    "            email = i[0]  + a[0] + d + '@earlham.edu'\n",
    "            return email.lower()\n",
    "   \n",
    "        \n",
    "create_email(\"Ihsan\", \"\" ,\"Alaeddin\")"
   ]
  },
  {
   "cell_type": "markdown",
   "metadata": {
    "deletable": false,
    "editable": false,
    "nbgrader": {
     "cell_type": "markdown",
     "checksum": "9317d85bfb84a7660a1d84a5862b3dbc",
     "grade": false,
     "grade_id": "Divider7",
     "locked": true,
     "schema_version": 3,
     "solution": false,
     "task": false
    }
   },
   "source": [
    "---\n",
    "### Exercise 7\n",
    "---\n",
    "Write a function called **string_reversal** that takes a string as a parameter and **returns** the same string, reversed.\n",
    "\n",
    "**Example:**\n",
    "\n",
    "If I where to call the following function:\n",
    "    \n",
    "    string_reversal(\"blahblahblah\")\n",
    "    \n",
    "The following should be returned:\n",
    "    \n",
    "    'halbhalbhalb'"
   ]
  },
  {
   "cell_type": "code",
   "execution_count": 68,
   "metadata": {
    "deletable": false,
    "nbgrader": {
     "cell_type": "code",
     "checksum": "288599826cd9708b30b0db4c8e2bbcf1",
     "grade": false,
     "grade_id": "Part7",
     "locked": false,
     "schema_version": 3,
     "solution": true,
     "task": false
    }
   },
   "outputs": [
    {
     "data": {
      "text/plain": [
       "'nashI'"
      ]
     },
     "execution_count": 68,
     "metadata": {},
     "output_type": "execute_result"
    }
   ],
   "source": [
    "# YOUR CODE HERE\n",
    "def string_reversal(s):\n",
    "    return s[::-1]\n",
    "string_reversal(\"Ihsan\")"
   ]
  },
  {
   "cell_type": "markdown",
   "metadata": {
    "deletable": false,
    "editable": false,
    "nbgrader": {
     "cell_type": "markdown",
     "checksum": "420144695e7ef9ec553b69d653e14d71",
     "grade": false,
     "grade_id": "Divider8",
     "locked": true,
     "schema_version": 3,
     "solution": false,
     "task": false
    }
   },
   "source": [
    "---\n",
    "### Exercise 8\n",
    "---\n",
    "A **palindrome** is a sequence of characters that is the same when read backwards. For example, \"racecar\" is a palindrome. \"Racecar\" spelt backwards is also \"racecar\". Capitalization, spaces, and punctuation are not part of the criteria of a palindrome. The only thing that makes something a palindrome is that the ***alphabetic characters*** are the same when read backwards. Think about how to design the algorithm to check if a character is an alphabetic character.\n",
    "\n",
    "Write a function called **is_palindrome** that takes a string as a parameter and\n",
    "tests to see if it is a palindrome. If the string is a palindrome, return **True** and if it is not a palindrome, return **False**.\n",
    "\n",
    "To do this you will have to reverse the input and check to see if it has the same characters as before. Make sure that spaces, punctuation and capital letters do not interfere.\n",
    "\n",
    "Here are some palidromes to try out:\n",
    "\n",
    "    \"No x in Nixon\"\n",
    "\n",
    "    \"Saippuakivikauppias\"\n",
    "\n",
    "    \"A man, a plan, a canal, Panama!\"\n",
    "    \n",
    "    \"Was it a car or a cat I saw?\"\n",
    "    \n",
    "    \"Dammit, I'm mad\"\n",
    "**Hint:** `\"hello\".isalpha()` is a function that returns `True` if all characters are letters and `False` otherwise. It will be useful in this problem. (There are also other ways to determine if a character is a letter.)  \n",
    "**Note:** You will be expanding on the code for this exercise in a later lab."
   ]
  },
  {
   "cell_type": "code",
   "execution_count": 46,
   "metadata": {
    "deletable": false,
    "nbgrader": {
     "cell_type": "code",
     "checksum": "b575a7661de48259b793defe82502f24",
     "grade": false,
     "grade_id": "Part8",
     "locked": false,
     "schema_version": 3,
     "solution": true,
     "task": false
    }
   },
   "outputs": [
    {
     "data": {
      "text/plain": [
       "True"
      ]
     },
     "execution_count": 46,
     "metadata": {},
     "output_type": "execute_result"
    }
   ],
   "source": [
    "# YOUR CODE HERE\n",
    "def is_palindrome (e):\n",
    "    x = \"\".join(i.lower() for i in e)\n",
    "    if x == x[::-1]:\n",
    "        return True\n",
    "    else:\n",
    "        return False\n",
    "is_palindrome (\"wow\")"
   ]
  },
  {
   "cell_type": "code",
   "execution_count": null,
   "metadata": {
    "deletable": false,
    "editable": false,
    "nbgrader": {
     "cell_type": "code",
     "checksum": "b8e1a931a8be5153586c6b8d9c4fe081",
     "grade": true,
     "grade_id": "Test1-1",
     "locked": true,
     "points": 5,
     "schema_version": 3,
     "solution": false,
     "task": false
    }
   },
   "outputs": [],
   "source": [
    "# Ignore this cell\n",
    "# DO NOT DELETE THIS CELL\n",
    "# BEGIN TEST\n",
    "from nose.tools import assert_equal\n",
    "\n",
    "assert_equal(string_fun(\"leopard\"), ['l', 'd', 'eopar', 'load', 'epr'])\n",
    "assert_equal(string_fun(\"I like computers and their science\"), ['I', 'e', ' like computers and their scienc', 'Ilk optr n hi cec', ' iecmuesadtersine'])\n",
    "assert_equal(string_fun(\"hakunah matata\"), ['h', 'a', 'akunah matat', 'hknhmtt', 'aua aaa'])\n",
    "# END TEST"
   ]
  },
  {
   "cell_type": "code",
   "execution_count": null,
   "metadata": {
    "deletable": false,
    "editable": false,
    "nbgrader": {
     "cell_type": "code",
     "checksum": "3ac67e5655655db14c8a407bc5a70c94",
     "grade": true,
     "grade_id": "Test1-2",
     "locked": true,
     "points": 5,
     "schema_version": 3,
     "solution": false,
     "task": false
    }
   },
   "outputs": [],
   "source": [
    "# Ignore this cell\n",
    "# DO NOT DELETE THIS CELL\n",
    "# BEGIN TEST\n",
    "from nose.tools import assert_equal\n",
    "assert_equal(list_join([\"I\", \"like\", \"computers\", \"and\", \"their\", \"science\"]), \"I like computers and their science\")\n",
    "assert_equal(list_join([\"I\", \"like\", \"pie\", \"so\", \"much\", \"I\", \"eat\", \"it\", \"every\", \"day\", \"for\", \"breakfast\"]), \"I like pie so much I eat it every day for breakfast\")\n",
    "# END TEST"
   ]
  },
  {
   "cell_type": "code",
   "execution_count": null,
   "metadata": {
    "deletable": false,
    "editable": false,
    "nbgrader": {
     "cell_type": "code",
     "checksum": "37d4e885a095d1b55a25283fdb251e37",
     "grade": true,
     "grade_id": "Test1-3",
     "locked": true,
     "points": 5,
     "schema_version": 3,
     "solution": false,
     "task": false
    }
   },
   "outputs": [],
   "source": [
    "# Ignore this cell\n",
    "# DO NOT DELETE THIS CELL\n",
    "# BEGIN TEST\n",
    "from nose.tools import assert_equal\n",
    "\n",
    "assert_equal(caps(\"i love computers and their science\"), 'I Love Computers And Their Science')\n",
    "assert_equal(caps(\"what time is it?\"), 'What Time Is It?')\n",
    "\n",
    "# END TEST"
   ]
  },
  {
   "cell_type": "code",
   "execution_count": null,
   "metadata": {
    "deletable": false,
    "editable": false,
    "nbgrader": {
     "cell_type": "code",
     "checksum": "424f0615e4cd741668f89a3fb5b02155",
     "grade": true,
     "grade_id": "Test2",
     "locked": true,
     "points": 5,
     "schema_version": 3,
     "solution": false,
     "task": false
    }
   },
   "outputs": [],
   "source": [
    "# Ignore this cell\n",
    "# DO NOT DELETE THIS CELL\n",
    "### BEGIN TEST\n",
    "from nose.tools import assert_equal\n",
    "\n",
    "assert_equal(to_numerical(\"S\"), 19)\n",
    "assert_equal(to_numerical(\"f\"), 6)\n",
    "### END TEST"
   ]
  },
  {
   "cell_type": "code",
   "execution_count": null,
   "metadata": {
    "deletable": false,
    "editable": false,
    "nbgrader": {
     "cell_type": "code",
     "checksum": "fa09321d8b53ba2ed220f0be86470f1f",
     "grade": true,
     "grade_id": "Test3",
     "locked": true,
     "points": 5,
     "schema_version": 3,
     "solution": false,
     "task": false
    }
   },
   "outputs": [],
   "source": [
    "# Ignore this cell\n",
    "# DO NOT DELETE THIS CELL\n",
    "### BEGIN TEST\n",
    "from nose.tools import assert_equal\n",
    "\n",
    "assert_equal(get_numeric_value(\"Shana\"), 43)\n",
    "assert_equal(get_numeric_value(\"Christopher\"), 139)\n",
    "\n",
    "### END TEST"
   ]
  },
  {
   "cell_type": "code",
   "execution_count": null,
   "metadata": {
    "deletable": false,
    "editable": false,
    "nbgrader": {
     "cell_type": "code",
     "checksum": "b7cf7718ae710ade6a74b37a1c4fba7f",
     "grade": true,
     "grade_id": "Test4",
     "locked": true,
     "points": 5,
     "schema_version": 3,
     "solution": false,
     "task": false
    }
   },
   "outputs": [],
   "source": [
    "# Ignore this cell\n",
    "# DO NOT DELETE THIS CELL\n",
    "### BEGIN TEST\n",
    "from nose.tools import assert_equal\n",
    "\n",
    "assert_equal(get_full_numeric_value(\"Shana Yvonne Weissman\"), 241)\n",
    "assert_equal(get_full_numeric_value(\"Christopher Beavis\"), 197)\n",
    "\n",
    "### END TEST"
   ]
  },
  {
   "cell_type": "code",
   "execution_count": null,
   "metadata": {
    "deletable": false,
    "editable": false,
    "nbgrader": {
     "cell_type": "code",
     "checksum": "f10e78aca88fe0983119cb7389a21ee5",
     "grade": true,
     "grade_id": "Test5",
     "locked": true,
     "points": 5,
     "schema_version": 3,
     "solution": false,
     "task": false
    }
   },
   "outputs": [],
   "source": [
    "# Ignore this cell\n",
    "# DO NOT DELETE THIS CELL\n",
    "### BEGIN TEST\n",
    "from nose.tools import assert_equal\n",
    "\n",
    "assert_equal(to_acronym(\"hit me up\"), \"HMU\")\n",
    "assert_equal(to_acronym(\"to be honest\"), \"TBH\")\n",
    "assert_equal(to_acronym(\"talk to you later\"), \"TTYL\")\n",
    "\n",
    "### END TEST"
   ]
  },
  {
   "cell_type": "code",
   "execution_count": null,
   "metadata": {
    "deletable": false,
    "editable": false,
    "nbgrader": {
     "cell_type": "code",
     "checksum": "a25d21a9dc8baf28b79e96891101c8ab",
     "grade": true,
     "grade_id": "Test6",
     "locked": true,
     "points": 2.5,
     "schema_version": 3,
     "solution": false,
     "task": false
    }
   },
   "outputs": [],
   "source": [
    "# Ignore this cell\n",
    "# DO NOT DELETE THIS CELL\n",
    "### BEGIN TEST\n",
    "from nose.tools import assert_equal\n",
    "\n",
    "assert_equal(create_email(\"Anna\", \"\", \"Newland\"), 'annewland@earlham.edu')\n",
    "\n",
    "\n",
    "### END TEST"
   ]
  },
  {
   "cell_type": "code",
   "execution_count": null,
   "metadata": {
    "deletable": false,
    "editable": false,
    "nbgrader": {
     "cell_type": "code",
     "checksum": "ee4b489d0b41aaba829d8e3c9f5691ab",
     "grade": true,
     "grade_id": "Test6-no2",
     "locked": true,
     "points": 2.5,
     "schema_version": 3,
     "solution": false,
     "task": false
    }
   },
   "outputs": [],
   "source": [
    "# Ignore this cell\n",
    "# DO NOT DELETE THIS CELL\n",
    "### BEGIN TEST\n",
    "from nose.tools import assert_equal\n",
    "\n",
    "\n",
    "assert_equal(create_email(\"Landrum\", \"Rymer\", \"Bolling\"), 'lrbolling@earlham.edu')\n",
    "\n",
    "### END TEST"
   ]
  },
  {
   "cell_type": "code",
   "execution_count": null,
   "metadata": {
    "deletable": false,
    "editable": false,
    "nbgrader": {
     "cell_type": "code",
     "checksum": "00e694a32daaf0e6ac7d5e435766e16f",
     "grade": true,
     "grade_id": "Test7",
     "locked": true,
     "points": 5,
     "schema_version": 3,
     "solution": false,
     "task": false
    }
   },
   "outputs": [],
   "source": [
    "# Ignore this cell\n",
    "# DO NOT DELETE THIS CELL\n",
    "### BEGIN TEST\n",
    "from nose.tools import assert_equal\n",
    "\n",
    "assert_equal(string_reversal(\"racecar\"), \"racecar\")\n",
    "assert_equal(string_reversal(\"sunrise sunset\"), 'tesnus esirnus')\n",
    "\n",
    "### END TEST"
   ]
  },
  {
   "cell_type": "code",
   "execution_count": null,
   "metadata": {
    "deletable": false,
    "editable": false,
    "nbgrader": {
     "cell_type": "code",
     "checksum": "f195811a772184af9a6af424cf663e30",
     "grade": true,
     "grade_id": "Test8",
     "locked": true,
     "points": 2.5,
     "schema_version": 3,
     "solution": false,
     "task": false
    }
   },
   "outputs": [],
   "source": [
    "# Ignore this cell\n",
    "# DO NOT DELETE THIS CELL\n",
    "### BEGIN TEST\n",
    "from nose.tools import assert_equal\n",
    "\n",
    "assert_equal(is_palindrome(\"racecar\"), True)\n",
    "assert_equal(is_palindrome(\"Racecar\"), True)\n",
    "assert_equal(is_palindrome(\"race my car\"), False)\n",
    "\n",
    "assert_equal(is_palindrome(\"A nut for a jar of tuna.\"), True)\n",
    "assert_equal(is_palindrome(\"A nut for a jar of tunafish.\"), False)\n",
    "\n",
    "### END TEST"
   ]
  },
  {
   "cell_type": "code",
   "execution_count": null,
   "metadata": {
    "deletable": false,
    "editable": false,
    "nbgrader": {
     "cell_type": "code",
     "checksum": "863141259b5cf3b8d38401c6eab0a116",
     "grade": true,
     "grade_id": "Test8-no2",
     "locked": true,
     "points": 2.5,
     "schema_version": 3,
     "solution": false,
     "task": false
    }
   },
   "outputs": [],
   "source": [
    "# Ignore this cell\n",
    "# DO NOT DELETE THIS CELL\n",
    "### BEGIN TEST\n",
    "from nose.tools import assert_equal\n",
    "\n",
    "#Test for punctuations and spaces\n",
    "assert_equal(is_palindrome(\"Racecar!!!!\"), True)\n",
    "assert_equal(is_palindrome(\"\\t Racecar \\n\"), True)\n",
    "assert_equal(is_palindrome(\"[Racecar \\n]\"), True)\n",
    "assert_equal(is_palindrome(\"....Race@car\"), True)\n",
    "assert_equal(is_palindrome(\"Race~!#$%^&*(){}car?><,./\\\\`-_+=\"), True)\n",
    "\n",
    "### END TEST"
   ]
  }
 ],
 "metadata": {
  "kernelspec": {
   "display_name": "Python 3",
   "language": "python",
   "name": "python3"
  },
  "language_info": {
   "codemirror_mode": {
    "name": "ipython",
    "version": 3
   },
   "file_extension": ".py",
   "mimetype": "text/x-python",
   "name": "python",
   "nbconvert_exporter": "python",
   "pygments_lexer": "ipython3",
   "version": "3.7.4"
  }
 },
 "nbformat": 4,
 "nbformat_minor": 2
}
