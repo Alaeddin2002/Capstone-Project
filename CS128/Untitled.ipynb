{
 "cells": [
  {
   "cell_type": "code",
   "execution_count": null,
   "metadata": {},
   "outputs": [],
   "source": [
    "import random\n",
    "def game():\n",
    "    print (\"The Rules are as follow: Rock beats Scissors, Scissors beat Paper, and Paper beats Rock.\")\n",
    "    print(input(\"type 'start' to play\"))\n",
    "    player = input(\"Rock, Paper, Scissors, Shoot!\")\n",
    "    list = [\"Rock\", \"Paper\", \"Scissors\"]\n",
    "    choice = random.choice(list)\n",
    "    print (\"Computer chose:\", choice)\n",
    "    \n",
    "    if player==choice:\n",
    "        print (\"tie\")\n",
    "\n",
    "game ()\n",
    "    "
   ]
  },
  {
   "cell_type": "code",
   "execution_count": null,
   "metadata": {},
   "outputs": [],
   "source": []
  }
 ],
 "metadata": {
  "kernelspec": {
   "display_name": "Python 3",
   "language": "python",
   "name": "python3"
  },
  "language_info": {
   "codemirror_mode": {
    "name": "ipython",
    "version": 3
   },
   "file_extension": ".py",
   "mimetype": "text/x-python",
   "name": "python",
   "nbconvert_exporter": "python",
   "pygments_lexer": "ipython3",
   "version": "3.7.4"
  }
 },
 "nbformat": 4,
 "nbformat_minor": 2
}
