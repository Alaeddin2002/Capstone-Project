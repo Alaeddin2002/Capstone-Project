{
 "cells": [
  {
   "cell_type": "markdown",
   "metadata": {},
   "source": [
    "Before you turn this problem in, make sure everything runs as expected. First, **restart the kernel** (in the menubar, select Kernel$\\rightarrow$Restart) and then **run all cells** (in the menubar, select Cell$\\rightarrow$Run All).\n",
    "\n",
    "Make sure you fill in any place that says `YOUR CODE HERE` or \"YOUR ANSWER HERE\", as well as your name and collaborators below:"
   ]
  },
  {
   "cell_type": "code",
   "execution_count": null,
   "metadata": {},
   "outputs": [],
   "source": [
    "NAME = \"Ihsan Alaeddin\"\n",
    "COLLABORATORS = \"Group 1\""
   ]
  },
  {
   "cell_type": "markdown",
   "metadata": {},
   "source": [
    "---"
   ]
  },
  {
   "cell_type": "markdown",
   "metadata": {
    "deletable": false,
    "editable": false,
    "nbgrader": {
     "cell_type": "markdown",
     "checksum": "152bab74d370f0f57ec96d51c057636a",
     "grade": false,
     "grade_id": "Intro",
     "locked": true,
     "schema_version": 3,
     "solution": false,
     "task": false
    }
   },
   "source": [
    "---\n",
    "# Lab 10: Representation\n",
    "---\n",
    "This lab has 4 short answer questions. You will also be using matplotlib to graph some interesting trends. \n",
    "\n",
    "This lab covers:\n",
    "\n",
    "* How things are represented in a computer\n",
    "* The consequences of those representations\n",
    "* More algorithm design\n"
   ]
  },
  {
   "cell_type": "markdown",
   "metadata": {
    "deletable": false,
    "editable": false,
    "nbgrader": {
     "cell_type": "markdown",
     "checksum": "bd4aca62c1df6f6f71706818c66662c1",
     "grade": false,
     "grade_id": "Divider1",
     "locked": true,
     "schema_version": 3,
     "solution": false,
     "task": false
    }
   },
   "source": [
    "---\n",
    "### Short Answer Question 1\n",
    "---\n",
    "How are integers represented in binary? (***Write your answer in a couple of sentences or so in the following cell. Be sure to double-click the cell below to edit it.***)"
   ]
  },
  {
   "cell_type": "markdown",
   "metadata": {
    "deletable": false,
    "nbgrader": {
     "cell_type": "markdown",
     "checksum": "906e306d2c009cbba7a9041ca6f3a9bd",
     "grade": true,
     "grade_id": "Part1",
     "locked": false,
     "points": 5,
     "schema_version": 3,
     "solution": true,
     "task": false
    }
   },
   "source": [
    "YOUR ANSWER HERE \n",
    "integers are represented as numbers of base 10, while binary takes the integers of base 2. binary numbers are represented by zeroes and ones which equals integers of base 2, and to find a number you add the binary numbers. Binary numbers are read from right to left. For example, 10010 would equal 18, so each place of a number, expressed as 0 or 1, corresponds to a power of 2. "
   ]
  },
  {
   "cell_type": "markdown",
   "metadata": {
    "deletable": false,
    "editable": false,
    "nbgrader": {
     "cell_type": "markdown",
     "checksum": "9580c754a0d91bfc39bacf1b61dc76a0",
     "grade": false,
     "grade_id": "Divider2",
     "locked": true,
     "schema_version": 3,
     "solution": false,
     "task": false
    }
   },
   "source": [
    "---\n",
    "### Short Answer Question 2\n",
    "---\n",
    "Convert the following integers into binary (by hand) and write how many ***bytes*** each requires to be stored in a computer: (***Write your answer in the following cell***)\n",
    "    \n",
    "    1\n",
    "    \n",
    "    3\n",
    "    \n",
    "    5\n",
    "    \n",
    "    7\n",
    "    \n",
    "    15\n",
    "    \n",
    "    34\n",
    "\n",
    "    138\n",
    "    \n",
    "    348\n",
    "    \n",
    "    784\n",
    "    \n",
    "    1024"
   ]
  },
  {
   "cell_type": "markdown",
   "metadata": {
    "deletable": false,
    "nbgrader": {
     "cell_type": "markdown",
     "checksum": "c5c06de79cd47f0b4b11ce7c308ba7f0",
     "grade": true,
     "grade_id": "Part2",
     "locked": false,
     "points": 5,
     "schema_version": 3,
     "solution": true,
     "task": false
    }
   },
   "source": [
    "# YOUR ANSWER HERE : \n",
    "1 = 0001 needs 1\\8 bytes to be stored.\n",
    "3 = 0011 needs 2\\8 bytes to be stored.\n",
    "5 = 0101 needs 3\\8 bytes to be stored.\n",
    "7 = 0111 needs 3\\8 bytes to be stored.\n",
    "15= 1111 needs 4\\8 bytes to be stored.\n",
    "34 = 100010 needs 6\\8 bytes to be stored.\n",
    "138 = 10001010 needs 1 byte to be stored.\n",
    "348 = 101011100 needs 1 1\\8 bytes to be stored.\n",
    "784 = 1100010000 needs 1 2\\8 bytes to be stored.\n",
    "1024 = 10000000000 needs 1 3\\8 bytes to be stored."
   ]
  },
  {
   "cell_type": "markdown",
   "metadata": {
    "deletable": false,
    "editable": false,
    "nbgrader": {
     "cell_type": "markdown",
     "checksum": "ec11971625cfb38d257fd4ca142275cb",
     "grade": false,
     "grade_id": "Divider3",
     "locked": true,
     "schema_version": 3,
     "solution": false,
     "task": false
    }
   },
   "source": [
    "---\n",
    "### Short Answer Question 3\n",
    "---\n",
    "Describe precisely how a 32-bit floating point number is represented. (***Write your answer in the following cell***)"
   ]
  },
  {
   "cell_type": "markdown",
   "metadata": {
    "deletable": false,
    "nbgrader": {
     "cell_type": "markdown",
     "checksum": "e3e5d5e9e5f961edadb7250290276c91",
     "grade": true,
     "grade_id": "Part3",
     "locked": false,
     "points": 5,
     "schema_version": 3,
     "solution": true,
     "task": false
    }
   },
   "source": [
    "YOUR ANSWER HERE\n",
    "\n",
    "the space available is devided into into three pieces:\n",
    "A sign bit, which controls whether the float is positive or negative\n",
    "An exponent, which controls where the decimal point is placed\n",
    "A fraction, sometimes called the mantissa or the significand, which controls the actual numbers in the float\n"
   ]
  },
  {
   "cell_type": "markdown",
   "metadata": {
    "deletable": false,
    "editable": false,
    "nbgrader": {
     "cell_type": "markdown",
     "checksum": "a0f12d32b7fe5a33f8cc5885f89472fb",
     "grade": false,
     "grade_id": "Divider4",
     "locked": true,
     "schema_version": 3,
     "solution": false,
     "task": false
    }
   },
   "source": [
    "---\n",
    "### Short Answer Question 4\n",
    "---\n",
    "What does Python think 17.0 - 10.0 is? \n",
    "\n",
    "What does Python think 10000000000000017.0 - 10000000000000010.0 is? \n",
    "\n",
    "How about 100000000000000017.0 - 100000000000000010.0?\n",
    "\n",
    "Why does Python give these specific outcomes to these expressions? \n",
    "(***Write your answer in the following cell***)"
   ]
  },
  {
   "cell_type": "markdown",
   "metadata": {
    "deletable": false,
    "nbgrader": {
     "cell_type": "markdown",
     "checksum": "7c63f35278d262f5d6eb1fcce0483c56",
     "grade": true,
     "grade_id": "Part4",
     "locked": false,
     "points": 5,
     "schema_version": 3,
     "solution": true,
     "task": false
    }
   },
   "source": [
    "YOUR ANSWER HERE\n",
    "7.0\n",
    "6.0\n",
    "0.0\n",
    "\n",
    "Because we can’t represent all possible numbers as floats, we have to pick and choose. The system we use does not space them out evenly. Instead, it makes it so that there are lots of available values close to 0, but fewer as you go further from zero,\n"
   ]
  },
  {
   "cell_type": "markdown",
   "metadata": {
    "deletable": false,
    "editable": false,
    "nbgrader": {
     "cell_type": "markdown",
     "checksum": "b6ed64aeb865fb39b689e15333d39168",
     "grade": false,
     "grade_id": "ExDivider1",
     "locked": true,
     "schema_version": 3,
     "solution": false,
     "task": false
    }
   },
   "source": [
    "---\n",
    "### Exercise 1\n",
    "---\n",
    "You have seen that the math library has a function for determining the square root of a number. In this exercise you will write your own square root function called **square_root** that estimates the square root of a number using Newton's method. \n",
    "\n",
    "This function will take **two paramenters**:\n",
    "* The first parameter will be the number you want to find the square root of. \n",
    "* The next parameter will be the total number of estimates. \n",
    "\n",
    "This function should **return** the last estimated value.\n",
    "\n",
    "Here is how Newton's method works for finding a square root: \n",
    "* `x` is the number that we want the square root of, \n",
    "* `E` is an estimate of the square root of `x`. \n",
    "\n",
    "To make a more accurate estimate, plug the estimate you currently have, `E`, and `x` into this equation:\n",
    "    \n",
    "    New Estimate = (E + (x/E))/2\n",
    "  \n",
    "The first estimate you use should be x/2. This **does** count as one of your estimates.\n",
    "\n",
    "**For Example**\n",
    "\n",
    "If I call the function `square_root(9, 4)` this is what should happen:\n",
    "    \n",
    "* First estimate: 9/2 = 4.5\n",
    "* Second estimate: (  4.5   +   ( 9 / 4.5 ) )  /   2 =   3.25\n",
    "* Third estimate:  (  3.25   +   ( 9 / 3.25 ) )  /   2 =   3.0096153846153846\n",
    "* Fourth estimate: (  3.0096153846153846   +   ( 9 / 3.0096153846153846 ) )  /   2 =   3.000015360039322\n",
    "* The function should return the value `3.000015360039322`"
   ]
  },
  {
   "cell_type": "code",
   "execution_count": 16,
   "metadata": {
    "deletable": false,
    "nbgrader": {
     "cell_type": "code",
     "checksum": "506d0b04ed2b90db690b4adcd1e73185",
     "grade": false,
     "grade_id": "Ex1",
     "locked": false,
     "schema_version": 3,
     "solution": true,
     "task": false
    }
   },
   "outputs": [
    {
     "data": {
      "text/plain": [
       "3.000015360039322"
      ]
     },
     "execution_count": 16,
     "metadata": {},
     "output_type": "execute_result"
    }
   ],
   "source": [
    "# YOUR CODE HERE\n",
    "def square_root(x, e):\n",
    "    s=(x/2)\n",
    "    for i in range (e-1):\n",
    "        s = (s + (x/s))/2\n",
    "    return (s)\n",
    "square_root(9, 4)"
   ]
  },
  {
   "cell_type": "markdown",
   "metadata": {
    "deletable": false,
    "editable": false,
    "nbgrader": {
     "cell_type": "markdown",
     "checksum": "074b451b00d27550dba30c4b8bdcd111",
     "grade": false,
     "grade_id": "ExDivider2",
     "locked": true,
     "schema_version": 3,
     "solution": false,
     "task": false
    }
   },
   "source": [
    "---\n",
    "### Exercise 2\n",
    "---\n",
    "Write a function called **graph_square_root**. \n",
    "* This function **takes** the same parameters as **square_root**.\n",
    "* It will be very similar to **square_root**, except that it will graph each of the estimates made using matplotlib.\n",
    "* Use **xticks** to be sure that the x labels are labeled using whole numbers only. Be sure to **title** the graph and **label** the x and y-axis.\n",
    "* This function should **return** your list of y values.\n",
    "\n",
    "Note:\n",
    "* You may wish to check past labs for information on how to use matplotlib."
   ]
  },
  {
   "cell_type": "code",
   "execution_count": 23,
   "metadata": {
    "deletable": false,
    "nbgrader": {
     "cell_type": "code",
     "checksum": "39c349a6f59572141bb80f15c3b8bc89",
     "grade": false,
     "grade_id": "Ex2",
     "locked": false,
     "schema_version": 3,
     "solution": true,
     "task": false
    }
   },
   "outputs": [
    {
     "data": {
      "image/png": "[encoded data removed]",
      "text/plain": [
       "<Figure size 432x288 with 1 Axes>"
      ]
     },
     "metadata": {
      "needs_background": "light"
     },
     "output_type": "display_data"
    },
    {
     "data": {
      "text/plain": [
       "[4.5, 3.25, 3.0096153846153846, 3.000015360039322]"
      ]
     },
     "execution_count": 23,
     "metadata": {},
     "output_type": "execute_result"
    }
   ],
   "source": [
    "# YOUR CODE HERE\n",
    "import matplotlib as plt\n",
    "import matplotlib.pyplot as plt\n",
    "def graph_square_root (x,e):\n",
    "    z = []\n",
    "    s=(x/2)\n",
    "    l=[s]\n",
    "    for i in range (e-1):\n",
    "        s = (s + (x/s))/2\n",
    "        z.append(s)\n",
    "        t = l + z \n",
    "    plt.plot(t)\n",
    "    plt.ylabel(\"Estimation Number\")\n",
    "    plt.xlabel(\"Estimation Order\")\n",
    "    plt.xticks(range (1,e))\n",
    "    plt.title (\"Estimation Graph\")\n",
    "    plt.show()\n",
    "    return (t)\n",
    "graph_square_root (9, 4)"
   ]
  },
  {
   "cell_type": "markdown",
   "metadata": {
    "deletable": false,
    "editable": false,
    "nbgrader": {
     "cell_type": "markdown",
     "checksum": "4ba7f7ef4dbc5834392fa88abe40c828",
     "grade": false,
     "grade_id": "ExDivider3",
     "locked": true,
     "schema_version": 3,
     "solution": false,
     "task": false
    }
   },
   "source": [
    "---\n",
    "### Exercise 3\n",
    "---\n",
    "Exercise 4 of Lab 4 discusses a particular geometric series. Go back to that specific exercise and review this series. Then write a function called **approaching_2** that: \n",
    "* takes one parameter, **n**, which is the number of values to plot and\n",
    "* graphs the values of this sum as it approaches 2.\n",
    "* Make sure that you **title** the graph and **label** the axes.\n",
    "* It should **return** a list of the y values.\n",
    "\n",
    "Note:\n",
    "* There should be **n** values in the return list."
   ]
  },
  {
   "cell_type": "code",
   "execution_count": 41,
   "metadata": {
    "deletable": false,
    "nbgrader": {
     "cell_type": "code",
     "checksum": "7f7e2fdb907b0c9bedf751d476871bfb",
     "grade": false,
     "grade_id": "Ex3",
     "locked": false,
     "schema_version": 3,
     "solution": true,
     "task": false
    }
   },
   "outputs": [
    {
     "data": {
      "image/png": "[encoded data removed]",
      "text/plain": [
       "<Figure size 432x288 with 1 Axes>"
      ]
     },
     "metadata": {
      "needs_background": "light"
     },
     "output_type": "display_data"
    },
    {
     "data": {
      "text/plain": [
       "[1, 1.5, 1.75, 1.875]"
      ]
     },
     "execution_count": 41,
     "metadata": {},
     "output_type": "execute_result"
    }
   ],
   "source": [
    "# YOUR CODE HERE\n",
    "import matplotlib as plt\n",
    "import matplotlib.pyplot as plt\n",
    "def approaching_2(n):\n",
    "    if n >=1:\n",
    "        e = []\n",
    "        d = [1]\n",
    "        p = 1\n",
    "        a = 1\n",
    "        b = 0.5\n",
    "        for i in range (n-1):\n",
    "            a = p +(a * b)\n",
    "            e.append (a)\n",
    "        r = d + e\n",
    "        plt.plot(r)\n",
    "        plt.ylabel(\"Estimation Number\")\n",
    "        plt.xlabel(\"Estimation Order\")\n",
    "        plt.xticks(range (1,n))\n",
    "        plt.title (\"Estimation Graph\")\n",
    "        plt.show()  \n",
    "        return r\n",
    "    if n == 0:\n",
    "        return []\n",
    "approaching_2 (4)"
   ]
  },
  {
   "cell_type": "markdown",
   "metadata": {
    "deletable": false,
    "editable": false,
    "nbgrader": {
     "cell_type": "markdown",
     "checksum": "aa5e1be1717b062d1f9de5e5f1cd97bd",
     "grade": false,
     "grade_id": "DividerExtraCredit",
     "locked": true,
     "schema_version": 3,
     "solution": false,
     "task": false
    }
   },
   "source": [
    "---\n",
    "### Extra Credit\n",
    "---\n",
    "The mathematical constant *e* can be represented in many different ways. One formula for e is as follows:\n",
    "\n",
    "      e = 1/(0!) + 1/(1!) + 1/(2!) + 1/(3!) + 1/(4!) + ... + 1/(n!)\n",
    "\n",
    "! means \"factorial\"\n",
    "\n",
    "    n! is n * n-1 * n-2 * ... * 1\n",
    "\n",
    "So \n",
    "\n",
    "    4! = 4 * 3 * 2 * 1 = 24\n",
    "\n",
    "    8! = 8 * 7 * 6 * 5 * 4 * 3 * 2 * 1 = 40320\n",
    "\n",
    "By convention,\n",
    "\n",
    "    0! = 1\n",
    "    \n",
    "Write a function called **approaching_e** that takes one parameter and graphs the values of this equation:\n",
    "* The parameter is the number of values to plot. \n",
    "* The first term you plot should be 1/(0!), then 1/(0!) + 1/(1!), and so on.\n",
    "* Make sure that you **title** the graph and **label** the axis.\n",
    "* This function should **return** a list of the y values as well as producing a plot.\n",
    "\n",
    "Note: \n",
    "* You may have to dig around to figure out how to do factorials in python, but checking the documentation for the math package is a good place to start. \n",
    "* You could also write a helper function that computes the factorial for a number."
   ]
  },
  {
   "cell_type": "code",
   "execution_count": null,
   "metadata": {
    "deletable": false,
    "nbgrader": {
     "cell_type": "code",
     "checksum": "18e7c1a643082f2f6cb5d5e92bfb463f",
     "grade": false,
     "grade_id": "ExtraCredit",
     "locked": false,
     "schema_version": 3,
     "solution": true,
     "task": false
    }
   },
   "outputs": [],
   "source": [
    "# YOUR CODE HERE\n",
    "raise NotImplementedError()"
   ]
  },
  {
   "cell_type": "code",
   "execution_count": null,
   "metadata": {
    "deletable": false,
    "editable": false,
    "nbgrader": {
     "cell_type": "code",
     "checksum": "c515e67e9eb0c8dce772979346eb1ba6",
     "grade": true,
     "grade_id": "Test1",
     "locked": true,
     "points": 6,
     "schema_version": 3,
     "solution": false,
     "task": false
    }
   },
   "outputs": [],
   "source": [
    "# Ignore this cell\n",
    "# DO NOT DELETE THIS CELL\n",
    "\n",
    "from nose.tools import assert_equal\n",
    "### BEGIN TEST\n",
    "assert_equal(round(square_root(100, 7)), 10)\n",
    "assert_equal(square_root(4, 2), 2)\n",
    "\n",
    "### END TEST"
   ]
  },
  {
   "cell_type": "code",
   "execution_count": null,
   "metadata": {
    "deletable": false,
    "editable": false,
    "nbgrader": {
     "cell_type": "code",
     "checksum": "0bda98d2f9c4c75a16536192e4980b1b",
     "grade": true,
     "grade_id": "Test1-2",
     "locked": true,
     "points": 2,
     "schema_version": 3,
     "solution": false,
     "task": false
    }
   },
   "outputs": [],
   "source": [
    "# Ignore this cell\n",
    "# DO NOT DELETE THIS CELL\n",
    "\n",
    "from nose.tools import assert_equal\n",
    "### BEGIN TEST\n",
    "assert_equal(round(square_root(59, 7), 2), 7.68)\n",
    "### END TEST"
   ]
  },
  {
   "cell_type": "code",
   "execution_count": null,
   "metadata": {
    "deletable": false,
    "editable": false,
    "nbgrader": {
     "cell_type": "code",
     "checksum": "823ca36b207874c8419d4ed951c3967d",
     "grade": true,
     "grade_id": "Test2",
     "locked": true,
     "points": 4,
     "schema_version": 3,
     "solution": false,
     "task": false
    }
   },
   "outputs": [],
   "source": [
    "# Ignore this cell\n",
    "# DO NOT DELETE THIS CELL\n",
    "\n",
    "from nose.tools import assert_equal\n",
    "### BEGIN TEST\n",
    "assert_equal(graph_square_root(25, 5), [12.5,\n",
    " 7.25,\n",
    " 5.349137931034482,\n",
    " 5.011394106532552,\n",
    " 5.000012953048684])\n",
    "assert_equal(graph_square_root(36, 5), [18.0, 10.0, 6.8, 6.047058823529412, 6.00018310826276])\n",
    "\n",
    "### END TEST"
   ]
  },
  {
   "cell_type": "code",
   "execution_count": null,
   "metadata": {
    "deletable": false,
    "editable": false,
    "nbgrader": {
     "cell_type": "code",
     "checksum": "adb6a00a6a71920d20fdf3c7294b0060",
     "grade": true,
     "grade_id": "Test2-2",
     "locked": true,
     "points": 4,
     "schema_version": 3,
     "solution": false,
     "task": false
    }
   },
   "outputs": [],
   "source": [
    "# Ignore this cell\n",
    "# DO NOT DELETE THIS CELL\n",
    "\n",
    "from nose.tools import assert_equal\n",
    "### BEGIN TEST\n",
    "\n",
    "assert_equal(graph_square_root(36, 5), [18.0, 10.0, 6.8, 6.047058823529412, 6.00018310826276])\n",
    "\n",
    "### END TEST"
   ]
  },
  {
   "cell_type": "code",
   "execution_count": null,
   "metadata": {
    "deletable": false,
    "editable": false,
    "nbgrader": {
     "cell_type": "code",
     "checksum": "5a96bd0cced57362a3368db9993755d7",
     "grade": true,
     "grade_id": "Test3",
     "locked": true,
     "points": 6,
     "schema_version": 3,
     "solution": false,
     "task": false
    }
   },
   "outputs": [],
   "source": [
    "# Ignore this cell\n",
    "# DO NOT DELETE THIS CELL\n",
    "\n",
    "from nose.tools import assert_equal\n",
    "### BEGIN TEST\n",
    "assert_equal(approaching_2(10), [1,\n",
    " 1.5,\n",
    " 1.75,\n",
    " 1.875,\n",
    " 1.9375,\n",
    " 1.96875,\n",
    " 1.984375,\n",
    " 1.9921875,\n",
    " 1.99609375,\n",
    " 1.998046875])\n",
    "\n",
    "\n",
    "### END TEST"
   ]
  },
  {
   "cell_type": "code",
   "execution_count": null,
   "metadata": {
    "deletable": false,
    "editable": false,
    "nbgrader": {
     "cell_type": "code",
     "checksum": "a4227015e41f0ce3e332c6c7acc3d739",
     "grade": true,
     "grade_id": "Test3-2",
     "locked": true,
     "points": 1,
     "schema_version": 3,
     "solution": false,
     "task": false
    }
   },
   "outputs": [],
   "source": [
    "# Ignore this cell\n",
    "# DO NOT DELETE THIS CELL\n",
    "\n",
    "from nose.tools import assert_equal\n",
    "### BEGIN TEST\n",
    "assert_equal(approaching_2(1), [1])\n",
    "\n",
    "\n",
    "### END TEST"
   ]
  },
  {
   "cell_type": "code",
   "execution_count": null,
   "metadata": {
    "deletable": false,
    "editable": false,
    "nbgrader": {
     "cell_type": "code",
     "checksum": "37d4a05de1ecd1afb9eebfd18485e3e9",
     "grade": true,
     "grade_id": "Test3-3",
     "locked": true,
     "points": 1,
     "schema_version": 3,
     "solution": false,
     "task": false
    }
   },
   "outputs": [],
   "source": [
    "# Ignore this cell\n",
    "# DO NOT DELETE THIS CELL\n",
    "\n",
    "from nose.tools import assert_equal\n",
    "### BEGIN TEST\n",
    "assert_equal(approaching_2(0), [])\n",
    "\n",
    "\n",
    "### END TEST"
   ]
  },
  {
   "cell_type": "code",
   "execution_count": null,
   "metadata": {
    "deletable": false,
    "editable": false,
    "nbgrader": {
     "cell_type": "code",
     "checksum": "2a18f9dfc6d862b5c675379aa6d4c678",
     "grade": true,
     "grade_id": "Test4",
     "locked": true,
     "points": 7,
     "schema_version": 3,
     "solution": false,
     "task": false
    }
   },
   "outputs": [],
   "source": [
    "# Ignore this cell\n",
    "# DO NOT DELETE THIS CELL\n",
    "# EXTRA CREDIT\n",
    "from nose.tools import assert_equal\n",
    "### BEGIN TEST\n",
    "try:\n",
    "    assert_equal (approaching_e(10),[1.0,\n",
    " 2.0,\n",
    " 2.5,\n",
    " 2.6666666666666665,\n",
    " 2.708333333333333,\n",
    " 2.7166666666666663,\n",
    " 2.7180555555555554,\n",
    " 2.7182539682539684,\n",
    " 2.71827876984127,\n",
    " 2.7182815255731922]) \n",
    "except (NameError):\n",
    "    print(\"not implemented\")\n",
    "\n",
    "### END TEST"
   ]
  },
  {
   "cell_type": "code",
   "execution_count": null,
   "metadata": {
    "deletable": false,
    "editable": false,
    "nbgrader": {
     "cell_type": "code",
     "checksum": "78345cd66f7a31fee98447ae51b2290a",
     "grade": true,
     "grade_id": "Test4-2",
     "locked": true,
     "points": 1,
     "schema_version": 3,
     "solution": false,
     "task": false
    }
   },
   "outputs": [],
   "source": [
    "# Ignore this cell\n",
    "# DO NOT DELETE THIS CELL\n",
    "# EXTRA CREDIT\n",
    "from nose.tools import assert_equal\n",
    "### BEGIN TEST\n",
    "try: \n",
    "    assert_equal (approaching_e(0),[]) \n",
    "    \n",
    "except (NameError):\n",
    "    print(\"not implemented\")\n",
    "\n",
    "### END TEST"
   ]
  }
 ],
 "metadata": {
  "kernelspec": {
   "display_name": "Python 3",
   "language": "python",
   "name": "python3"
  },
  "language_info": {
   "codemirror_mode": {
    "name": "ipython",
    "version": 3
   },
   "file_extension": ".py",
   "mimetype": "text/x-python",
   "name": "python",
   "nbconvert_exporter": "python",
   "pygments_lexer": "ipython3",
   "version": "3.7.4"
  }
 },
 "nbformat": 4,
 "nbformat_minor": 2
}
