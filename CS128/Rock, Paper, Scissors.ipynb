{
 "cells": [
  {
   "cell_type": "code",
   "execution_count": 40,
   "metadata": {},
   "outputs": [
    {
     "name": "stdout",
     "output_type": "stream",
     "text": [
      "The Rules are as follow:\n",
      "\n",
      "1.Rock beats Scissors\n",
      "\n",
      "2.Scissors beat Paper\n",
      "\n",
      "3.Paper beats Rock.\n",
      "\n",
      "type start to play:start\n",
      "\n",
      "Rock, Paper, Scissors, Shoot!Rock\n",
      "\n",
      "Player chose: Rock\n",
      "\n",
      "Computer chose: Scissors\n",
      "\n",
      "You Win!\n",
      "Do want to play Again?(yes/no)no\n",
      "\n",
      "Overall, How many times have you chosen Rock, Paper, or Scissors in the first 10 times that you have played?\n",
      "\n",
      "for Rock:7\n",
      "\n",
      "for Paper:3\n",
      "\n",
      "for Scissors:4\n",
      "\n"
     ]
    },
    {
     "data": {
      "image/png": "[encoded data removed]",
      "text/plain": [
       "<Figure size 432x288 with 1 Axes>"
      ]
     },
     "metadata": {
      "needs_background": "light"
     },
     "output_type": "display_data"
    },
    {
     "name": "stdout",
     "output_type": "stream",
     "text": [
      "You chose Rock the most which according to psychology indicates that you thing with aggression, symbolized by the fist. Players subconsciously think of rock as a weapon and will rely on it when other strategies are not working.\n"
     ]
    },
    {
     "data": {
      "text/plain": [
       "'Goodbye!'"
      ]
     },
     "execution_count": 40,
     "metadata": {},
     "output_type": "execute_result"
    }
   ],
   "source": [
    "import random\n",
    "import matplotlib.pyplot as plt\n",
    "def game():\n",
    "    print (\"The Rules are as follow:\")\n",
    "    print (\"\")\n",
    "    print (\"1.Rock beats Scissors\") \n",
    "    print (\"\")\n",
    "    print (\"2.Scissors beat Paper\") \n",
    "    print (\"\")\n",
    "    print (\"3.Paper beats Rock.\")\n",
    "    print (\"\")\n",
    "    w=(input(\"type start to play:\"))\n",
    "    if w==\"start\":\n",
    "        print (\"\")\n",
    "        player = input(\"Rock, Paper, Scissors, Shoot!\")\n",
    "        print (\"\")\n",
    "        print(\"Player chose:\",player)\n",
    "        print (\"\")\n",
    "        list = [\"Rock\", \"Paper\", \"Scissors\"]\n",
    "        choice = random.choice(list)\n",
    "        print (\"Computer chose:\", choice)\n",
    "        print (\"\")\n",
    "        if player == choice:\n",
    "            print (\"It's a Tie!\")\n",
    "        if player == \"Rock\" and choice == \"Scissors\":\n",
    "            print (\"You Win!\")\n",
    "        elif player == \"Rock\" and choice == \"paper\":\n",
    "            print (\"You lose :(\")\n",
    "        if player == \"Scissors\" and choice == \"Paper\":\n",
    "            print (\"You Win!\")\n",
    "        elif player == \"Scissors\" and choice == \"Rock\":\n",
    "            print (\"You lose :(\")\n",
    "        if player == \"Paper\" and choice == \"Rock\":\n",
    "            print (\"You Win!\")\n",
    "        elif player == \"Paper\" and choice == \"Scissors\":\n",
    "            print (\"You lose :(\")\n",
    "            \n",
    "        while True :\n",
    "            restart = input(\"Do want to play Again?(yes/no)\")\n",
    "            if restart == \"yes\" or restart == \"Yes\":\n",
    "                game()\n",
    "            if restart == \"no\" or restart == \"No\":\n",
    "                print (\"\")\n",
    "                print(\"Overall, How many times have you chosen Rock, Paper, or Scissors in the first 10 times that you have played?\")\n",
    "                print (\"\")\n",
    "                d = int (input(\"for Rock:\"))\n",
    "                print (\"\")\n",
    "                c = int (input(\"for Paper:\"))\n",
    "                print (\"\")\n",
    "                v = int (input(\"for Scissors:\") )\n",
    "                print (\"\")\n",
    "                \n",
    "                results = (d,c,v)\n",
    "                plt.bar([\"Rock\",\"Paper\",\"Scissors\"],[d,c,v])\n",
    "                plt.xlabel('')\n",
    "                plt.ylabel('Amount of times a symbol has been used')\n",
    "                plt.title('Game Results')\n",
    "                plt.show()\n",
    "                \n",
    "                if d > c and v:\n",
    "                    print(\"You chose Rock the most which according to psychology indicates that you thing with aggression, symbolized by the fist. Players subconsciously think of rock as a weapon and will rely on it when other strategies are not working.\")\n",
    "                if v > d and c:\n",
    "                    print (\"You chose Scissors the most which indicated that you think with some aggression, as Scissors are sharp and dangerous, but also a useful craft tools. Represent controlled aggression used as a clever throw—often when someone is confident or winning.\")\n",
    "                if c > d and v:\n",
    "                    print (\"You choose Paper the most. Paper is the most subtle move. An open hand is passive, peaceful, and friendly. Some players won’t use this when falling behind because it may symbolize weakness. Other players identify paper with writing and as such, the power of print is a subtle attack. In those cases, paper may be used to signify superiority.\")\n",
    "        ask = input(\"Do you want to save your results?\")\n",
    "        if ask == yes:\n",
    "            result_135 = open (\"files\", \"w\")\n",
    "            result_135.write(d)\n",
    "            result_135.write(c)\n",
    "            result_135.write(v)\n",
    "                return \"Goodbye!\"\n",
    "game ()"
   ]
  },
  {
   "cell_type": "code",
   "execution_count": 3,
   "metadata": {},
   "outputs": [
    {
     "ename": "NameError",
     "evalue": "name 'game' is not defined",
     "output_type": "error",
     "traceback": [
      "\u001b[0;31m---------------------------------------------------------------------------\u001b[0m",
      "\u001b[0;31mNameError\u001b[0m                                 Traceback (most recent call last)",
      "\u001b[0;32m<ipython-input-3-f8818ef47c4f>\u001b[0m in \u001b[0;36m<module>\u001b[0;34m\u001b[0m\n\u001b[1;32m      1\u001b[0m \u001b[0;32mdef\u001b[0m \u001b[0mfiles\u001b[0m\u001b[0;34m(\u001b[0m\u001b[0;34m)\u001b[0m\u001b[0;34m:\u001b[0m\u001b[0;34m\u001b[0m\u001b[0;34m\u001b[0m\u001b[0m\n\u001b[1;32m      2\u001b[0m     \u001b[0mgame\u001b[0m \u001b[0;34m(\u001b[0m\u001b[0;34m)\u001b[0m\u001b[0;34m\u001b[0m\u001b[0;34m\u001b[0m\u001b[0m\n\u001b[0;32m----> 3\u001b[0;31m \u001b[0mfiles\u001b[0m\u001b[0;34m(\u001b[0m\u001b[0;34m)\u001b[0m\u001b[0;34m\u001b[0m\u001b[0;34m\u001b[0m\u001b[0m\n\u001b[0m",
      "\u001b[0;32m<ipython-input-3-f8818ef47c4f>\u001b[0m in \u001b[0;36mfiles\u001b[0;34m()\u001b[0m\n\u001b[1;32m      1\u001b[0m \u001b[0;32mdef\u001b[0m \u001b[0mfiles\u001b[0m\u001b[0;34m(\u001b[0m\u001b[0;34m)\u001b[0m\u001b[0;34m:\u001b[0m\u001b[0;34m\u001b[0m\u001b[0;34m\u001b[0m\u001b[0m\n\u001b[0;32m----> 2\u001b[0;31m     \u001b[0mgame\u001b[0m \u001b[0;34m(\u001b[0m\u001b[0;34m)\u001b[0m\u001b[0;34m\u001b[0m\u001b[0;34m\u001b[0m\u001b[0m\n\u001b[0m\u001b[1;32m      3\u001b[0m \u001b[0mfiles\u001b[0m\u001b[0;34m(\u001b[0m\u001b[0;34m)\u001b[0m\u001b[0;34m\u001b[0m\u001b[0;34m\u001b[0m\u001b[0m\n",
      "\u001b[0;31mNameError\u001b[0m: name 'game' is not defined"
     ]
    }
   ],
   "source": []
  },
  {
   "cell_type": "markdown",
   "metadata": {},
   "source": []
  }
 ],
 "metadata": {
  "kernelspec": {
   "display_name": "Python 3",
   "language": "python",
   "name": "python3"
  },
  "language_info": {
   "codemirror_mode": {
    "name": "ipython",
    "version": 3
   },
   "file_extension": ".py",
   "mimetype": "text/x-python",
   "name": "python",
   "nbconvert_exporter": "python",
   "pygments_lexer": "ipython3",
   "version": "3.7.4"
  }
 },
 "nbformat": 4,
 "nbformat_minor": 2
}
