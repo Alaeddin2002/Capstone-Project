{
 "cells": [
  {
   "cell_type": "markdown",
   "metadata": {},
   "source": [
    "Before you turn this problem in, make sure everything runs as expected. First, **restart the kernel** (in the menubar, select Kernel$\\rightarrow$Restart) and then **run all cells** (in the menubar, select Cell$\\rightarrow$Run All).\n",
    "\n",
    "Make sure you fill in any place that says `YOUR CODE HERE` or \"YOUR ANSWER HERE\", as well as your name and collaborators below:"
   ]
  },
  {
   "cell_type": "code",
   "execution_count": null,
   "metadata": {},
   "outputs": [],
   "source": [
    "NAME = \"Ihsan Alaeddin\"\n",
    "COLLABORATORS = \"Group 1\""
   ]
  },
  {
   "cell_type": "markdown",
   "metadata": {},
   "source": [
    "---"
   ]
  },
  {
   "cell_type": "markdown",
   "metadata": {
    "deletable": false,
    "editable": false,
    "nbgrader": {
     "cell_type": "markdown",
     "checksum": "ba98f014e82577a27cdfe7de742bbf8a",
     "grade": false,
     "grade_id": "Intro",
     "locked": true,
     "schema_version": 3,
     "solution": false,
     "task": false
    }
   },
   "source": [
    "---\n",
    "# Lab 5: Design and Graphing\n",
    "---\n",
    "\n",
    "In this lab the main things you will be introduced to is graphing with matplotlib and using dictionaries. This lab will also help you get used to using outside resources to help you when writing code, I strongly suggest that you look at the tutorials and pages we have linked to help you with these new concepts. Feel free to reach out beyond the links I have provided for other resources that are out there. \n",
    "\n",
    "Much of this lab cannot be automatically validated. You will want to carefully analyze you results to ensure that they are sensible.\n",
    "\n",
    "This lab uses:\n",
    "* While loops\n",
    "* Graphing\n",
    "* Dictionaries\n",
    "* More complex design"
   ]
  },
  {
   "cell_type": "markdown",
   "metadata": {
    "deletable": false,
    "editable": false,
    "nbgrader": {
     "cell_type": "markdown",
     "checksum": "e7008c2d3a7e160d8aca71d20c5227a4",
     "grade": false,
     "grade_id": "ResponseQuestion",
     "locked": true,
     "schema_version": 3,
     "solution": false,
     "task": false
    }
   },
   "source": [
    "---\n",
    "### Short Answer Question\n",
    "---\n",
    "In the cell bellow, describe what a package is and how it works."
   ]
  },
  {
   "cell_type": "markdown",
   "metadata": {
    "deletable": false,
    "nbgrader": {
     "cell_type": "markdown",
     "checksum": "00c6bff474a0280b761e8145d95bb436",
     "grade": true,
     "grade_id": "QuestionResonse",
     "locked": false,
     "points": 5,
     "schema_version": 3,
     "solution": true,
     "task": false
    }
   },
   "source": [
    "YOUR ANSWER HERE"
   ]
  },
  {
   "cell_type": "markdown",
   "metadata": {
    "deletable": false,
    "editable": false,
    "nbgrader": {
     "cell_type": "markdown",
     "checksum": "3f229e17a791759065eacb304f2ce9d3",
     "grade": false,
     "grade_id": "Divider1",
     "locked": true,
     "schema_version": 3,
     "solution": false,
     "task": false
    }
   },
   "source": [
    "---\n",
    "### Exercise 1\n",
    "---\n",
    "Read this short article about octaves:\n",
    "\n",
    "http://www.sound-physics.com/Sound/Law-Of-Octaves/\n",
    "\n",
    "The first octave has the range of frequencies 32.7 Hz to 65.4 Hz. Using what you have learned from the article, write a function called **get_octave** in which a prarameter representing a frequency in Hz is given and returns the number for which octave it is. \n",
    "\n",
    "For example, if the frequency given as a parameter is **300 Hz** , the function should return **4**.\n",
    "This function should be able to take any frequency, no matter how high, (all frequencies are positive) and find what octave it is.\n",
    "\n",
    "In the **first cell**, describe your **design strategy** in about a paragraph. \n",
    "\n",
    "In the **code cell** below, write the function.\n",
    "\n",
    "**Note:** You may assume the parameter will always be 32.7 Hz or higher. Your function should use a while loop."
   ]
  },
  {
   "cell_type": "markdown",
   "metadata": {
    "deletable": false,
    "nbgrader": {
     "cell_type": "markdown",
     "checksum": "9fb80b9f020b663ff7a3997a7a2ecca9",
     "grade": true,
     "grade_id": "cell-9b85d0998f6Part1-Design8b189",
     "locked": false,
     "points": 5,
     "schema_version": 3,
     "solution": true,
     "task": false
    }
   },
   "source": [
    "YOUR ANSWER HERE"
   ]
  },
  {
   "cell_type": "code",
   "execution_count": null,
   "metadata": {
    "deletable": false,
    "nbgrader": {
     "cell_type": "code",
     "checksum": "b0bb962a3859a56f74c04e72efbff93e",
     "grade": false,
     "grade_id": "Part1",
     "locked": false,
     "schema_version": 3,
     "solution": true,
     "task": false
    }
   },
   "outputs": [],
   "source": [
    "# YOUR CODE HERE\n",
    "raise NotImplementedError()\n",
    "        "
   ]
  },
  {
   "cell_type": "markdown",
   "metadata": {
    "deletable": false,
    "editable": false,
    "nbgrader": {
     "cell_type": "markdown",
     "checksum": "71b5bc020f013d573baeabbe22b11c7e",
     "grade": false,
     "grade_id": "Divider2-1",
     "locked": true,
     "schema_version": 3,
     "solution": false,
     "task": false
    }
   },
   "source": [
    "---\n",
    "# Exercise 2\n",
    "---\n",
    "### Exercise 2.1\n",
    "\n",
    "Write a function called **moore_law** which plots the number of transistors in a processor over time using matplotlib. \n",
    "The list of y values necessary to write this function are in the file:\n",
    "\n",
    "    ~barbeda/cs128-share/moorelaw.txt \n",
    "    \n",
    "Use the **cp** command in the **terminal** to move this file into your **Lab5-DesignAndGraphing-S19** directory and the command **cat** to view its contents.\n",
    "\n",
    "The following lines should already be in your cell. You will need them to use matplotlib.    \n",
    "    \n",
    "    %matplotlib inline \n",
    "    import matplotlib.pyplot as plt\n",
    "    \n",
    "Some matplotlib functions you will need are:\n",
    "\n",
    "    plt.plot(values)\n",
    "\n",
    ", where values is the array of things to plot.\n",
    "\n",
    "    plt.xlabel('Number of years past 1970')\n",
    "    plt.ylabel('Transistors in Processors')\n",
    "    \n",
    "These label the axes.\n",
    "\n",
    "    plt.title(\"Moore's Law\")\n",
    "    \n",
    "This adds a title.\n",
    "\n",
    "    plt.show()\n",
    "\n",
    "This makes the plot actually appear.\n",
    "\n",
    "Here is a useful tutorial:\n",
    "https://bespokeblog.wordpress.com/2011/07/07/basic-data-plotting-with-matplotlib-part-2-lines-points-formatting/"
   ]
  },
  {
   "cell_type": "code",
   "execution_count": null,
   "metadata": {
    "deletable": false,
    "nbgrader": {
     "cell_type": "code",
     "checksum": "1d936c77f1338574424078eef497e716",
     "grade": false,
     "grade_id": "Part2-1",
     "locked": false,
     "schema_version": 3,
     "solution": true,
     "task": false
    }
   },
   "outputs": [],
   "source": [
    "# YOUR CODE HERE\n",
    "raise NotImplementedError()"
   ]
  },
  {
   "cell_type": "markdown",
   "metadata": {
    "deletable": false,
    "editable": false,
    "nbgrader": {
     "cell_type": "markdown",
     "checksum": "50a64f85686cb3985d5e8cfd13927562",
     "grade": false,
     "grade_id": "Divider2-2",
     "locked": true,
     "schema_version": 3,
     "solution": false,
     "task": false
    }
   },
   "source": [
    "---\n",
    "### Exercise 2.2\n",
    "---\n",
    "Write a function **more_moore_law** that is similar to moore_law, however, rather than having the x value labeled from 0 to \n",
    "25, it is labeled with the actual year that the y value corresponds to. \n",
    "\n",
    "Use this tutorial to figure out how to do this: \n",
    "\n",
    "https://bespokeblog.wordpress.com/2011/07/07/basic-data-plotting-with-matplotlib-part-2-lines-points-formatting/\n",
    "\n",
    "The list of years necessary to write this function are in the file:\n",
    "\n",
    "    ~barbeda/cs128-share/moremoorelaw.txt "
   ]
  },
  {
   "cell_type": "code",
   "execution_count": null,
   "metadata": {
    "deletable": false,
    "nbgrader": {
     "cell_type": "code",
     "checksum": "4a03ea117d1a30b9eab5cf5f24350b06",
     "grade": false,
     "grade_id": "Part2-2",
     "locked": false,
     "schema_version": 3,
     "solution": true,
     "task": false
    }
   },
   "outputs": [],
   "source": [
    "# YOUR CODE HERE\n",
    "raise NotImplementedError()"
   ]
  },
  {
   "cell_type": "markdown",
   "metadata": {
    "deletable": false,
    "editable": false,
    "nbgrader": {
     "cell_type": "markdown",
     "checksum": "70368b47850f189e65e86c530662f964",
     "grade": false,
     "grade_id": "Divider3-1",
     "locked": true,
     "schema_version": 3,
     "solution": false,
     "task": false
    }
   },
   "source": [
    "---\n",
    "# Exercise 3\n",
    "---\n",
    "### Exercise 3.1\n",
    "Write a function called **speed_of_falling_obj** which takes one parameter. The parameter represents the time (in seconds) that the object has been falling. The function should graph (using matplotlib) the speed of the object after it has been falling for the specified amount of time in seconds(on earth). \n",
    "\n",
    "The acceleration due to gravity on earth is 9.81 m^2/s. So, if something has been falling for one second, its speed will be 9.81 m/s and after two seconds it will be 19.62 m/s.\n",
    "\n",
    "Be sure to label the axes and title the graph appropriately. This function is complex enough that you will want to make sure your design is in place first. After you produce your graph, think about whether the results make sense."
   ]
  },
  {
   "cell_type": "code",
   "execution_count": null,
   "metadata": {
    "deletable": false,
    "nbgrader": {
     "cell_type": "code",
     "checksum": "080bb72ce929934ea33e4be142eecfd4",
     "grade": false,
     "grade_id": "Part3-1",
     "locked": false,
     "schema_version": 3,
     "solution": true,
     "task": false
    }
   },
   "outputs": [],
   "source": [
    "# YOUR CODE HERE\n",
    "raise NotImplementedError()"
   ]
  },
  {
   "cell_type": "markdown",
   "metadata": {
    "deletable": false,
    "editable": false,
    "nbgrader": {
     "cell_type": "markdown",
     "checksum": "e1f268c5094e3d05046055266363c4a0",
     "grade": false,
     "grade_id": "Divider3-2",
     "locked": true,
     "schema_version": 3,
     "solution": false,
     "task": false
    }
   },
   "source": [
    "---\n",
    "### Exercise 3.2\n",
    "---\n",
    "Write a function called **distance_of_falling_obj** that takes **time** (in seconds) as a paramater and graphs the distance an object has traveld after falling for the specified time.  \n",
    "\n",
    "The formula for distance in this case is:\n",
    "\n",
    "\n",
    "distance = (acceleration/2) * (time^2)\n",
    "\n",
    "Don't forget that the acceleration on earth is 9.81 m/s. Remember to label the axes and to include a title. As before, make sure to think about whether your results make sense intuitively."
   ]
  },
  {
   "cell_type": "code",
   "execution_count": null,
   "metadata": {
    "deletable": false,
    "nbgrader": {
     "cell_type": "code",
     "checksum": "b1bd6a4a1a3524fc1b9988bbb4506268",
     "grade": false,
     "grade_id": "Part3-2",
     "locked": false,
     "schema_version": 3,
     "solution": true,
     "task": false
    }
   },
   "outputs": [],
   "source": [
    "# YOUR CODE HERE\n",
    "raise NotImplementedError()"
   ]
  },
  {
   "cell_type": "markdown",
   "metadata": {
    "deletable": false,
    "editable": false,
    "nbgrader": {
     "cell_type": "markdown",
     "checksum": "45d1c8fb127e651653766e34ca92b334",
     "grade": false,
     "grade_id": "Divider4-1",
     "locked": true,
     "schema_version": 3,
     "solution": false,
     "task": false
    }
   },
   "source": [
    "---\n",
    "### Exercise 4.1\n",
    "---\n",
    "This exercise uses dictionaries. Read the section on dictionaries in your text or from the lecture notes if you are unfamiliar with them.\n",
    "\n",
    "Write a function called **phonebook_ops** that takes no arguments. The function should do the following:\n",
    "\n",
    "* Define a dictionary where the keys are names and the values are phone numbers which are stored as 7-digit integers with **no dashes**.\n",
    "* When you define the dictionary, it should contain the following names and numbers:\n",
    "\n",
    "    Alan: 555-2131\n",
    "    \n",
    "    Grace: 555-9090\n",
    "    \n",
    "    Ada: 555-1692\n",
    "    \n",
    "    Charles: 555-5297\n",
    "    \n",
    "    \n",
    "* After that, it should print Ada's number by doing a dictionary lookup.\n",
    "* Then, it should update Ada's number to 5558620.\n",
    "* Then, it should print Ada's new number by doing a dictionary lookup.\n",
    "* Then, it should add a new name and number, Margaret: 5553655\n",
    "* Then, it should print Margaret's number by doing a dictionary lookup.\n",
    "* Print out all of the names, one per line. \n",
    "* Print out all of the phone numbers, one per line.\n",
    "\n",
    "You may find methods\n",
    "  \n",
    "  .keys() and .values()\n",
    "  \n",
    "to be useful. These allow you to get a *view* of the keys and a list of the values. A view is a sequence that can be iterated over.\n",
    "\n",
    "Your function **shouldn't return anything**."
   ]
  },
  {
   "cell_type": "code",
   "execution_count": null,
   "metadata": {
    "deletable": false,
    "nbgrader": {
     "cell_type": "code",
     "checksum": "07d631c4a85ab536e7c7cac933c87ee9",
     "grade": false,
     "grade_id": "Part4-1",
     "locked": false,
     "schema_version": 3,
     "solution": true,
     "task": false
    }
   },
   "outputs": [],
   "source": [
    "# YOUR CODE HERE\n",
    "raise NotImplementedError()"
   ]
  },
  {
   "cell_type": "markdown",
   "metadata": {
    "deletable": false,
    "editable": false,
    "nbgrader": {
     "cell_type": "markdown",
     "checksum": "d3a98fb07c07b34a1cbcaf04a3734964",
     "grade": false,
     "grade_id": "Divider4-2",
     "locked": true,
     "schema_version": 3,
     "solution": false,
     "task": false
    }
   },
   "source": [
    "---\n",
    "### Exercise 4.2\n",
    "---\n",
    "\n",
    "Write a function called **largest_value** that takes a dictionary as an argument and returns the largest value. For example,\n",
    "  \n",
    "    largest_value({2:10, 15:3, 12:0}) should return 10.\n",
    "  \n",
    "You should **not** use the max() function. If you need to represent the smallest possible number, you can use\n",
    " \n",
    "    -float(\"inf\")\n",
    "  \n",
    "(This is not necessary for every type of solution, but may be useful.)"
   ]
  },
  {
   "cell_type": "code",
   "execution_count": null,
   "metadata": {
    "deletable": false,
    "nbgrader": {
     "cell_type": "code",
     "checksum": "e9311356e39be538b7161811d8bb5ee3",
     "grade": false,
     "grade_id": "Part4-2",
     "locked": false,
     "schema_version": 3,
     "solution": true,
     "task": false
    }
   },
   "outputs": [],
   "source": [
    "# YOUR CODE HERE\n",
    "raise NotImplementedError()"
   ]
  },
  {
   "cell_type": "markdown",
   "metadata": {
    "deletable": false,
    "editable": false,
    "nbgrader": {
     "cell_type": "markdown",
     "checksum": "6bec8f49b9fbdcbfba8dc25cd99a9ac0",
     "grade": false,
     "grade_id": "Divider4-3",
     "locked": true,
     "schema_version": 3,
     "solution": false,
     "task": false
    }
   },
   "source": [
    "---\n",
    "### Exercise 4.3\n",
    "---\n",
    "\n",
    "Write a function called **concat_dicts** that takes two dictionaries as arguments, manually concatenates them, and returns a new dictionary. For example,\n",
    "  \n",
    "    concat_dicts({2:10, 15:3, 12:0},{3:11, 1:3, 22:0}) should return {2:10, 15:3, 12:0, 3:11, 1:3, 22:0}.\n",
    "  \n",
    "Note that because dictionaries don't guarantee that their elements remain in any particular order, your function need not do that. If there is a key that is shared between your two dictionaries, only one should appear in the result, but it does not matter which one. For example, \n",
    "\n",
    "    concat_dicts({2:10, 15:3, 12:0},{3:11, 15:5, 22:0}) could return EITHER {2:10, 15:3, 12:0, 3:11, 22:0} OR {2:10, 15:5, 12:0, 3:11, 22:0}\n",
    "    \n",
    "Remember that the order of the elements in a dictionary does not matter."
   ]
  },
  {
   "cell_type": "code",
   "execution_count": null,
   "metadata": {
    "deletable": false,
    "nbgrader": {
     "cell_type": "code",
     "checksum": "b71134fd9d8bc0caf602828ee8f2a938",
     "grade": false,
     "grade_id": "Part4-3",
     "locked": false,
     "schema_version": 3,
     "solution": true,
     "task": false
    }
   },
   "outputs": [],
   "source": [
    "# YOUR CODE HERE\n",
    "raise NotImplementedError()"
   ]
  },
  {
   "cell_type": "markdown",
   "metadata": {
    "deletable": false,
    "editable": false,
    "nbgrader": {
     "cell_type": "markdown",
     "checksum": "52ce706e6998348828d490d8ab4fd346",
     "grade": false,
     "grade_id": "Divider4-4",
     "locked": true,
     "schema_version": 3,
     "solution": false,
     "task": false
    }
   },
   "source": [
    "---\n",
    "### Exercise 4.4\n",
    "---\n",
    "\n",
    "Write a function called **combine_dicts** that takes two dictionaries as arguments. The values in the dictionary should all be numbers. (Your function does not have to check this; it may assume that it is true of its input.) It then manually combines them, and returns a combined dictionary. This will differ from the previous function in that, if there are keys in common between the two dictionaries then it should ADD their values together.\n",
    "  \n",
    "    combine_dicts({2:10, 15:3, 12:0},{3:11, 1:3, 22:0}) should return {2:10, 15:3, 12:0, 3:11, 1:3, 22:0}, as above.\n",
    "  \n",
    "However, \n",
    "\n",
    "    combine_dicts({2:10, 15:3, 12:0},{3:11, 15:5, 22:0}) should return {2:10, 15:8, 12:0, 3:11, 22:0}\n",
    "    \n",
    "Remember that the order of the elements in a dictionary does not matter.\n",
    "\n",
    "You may find the pattern\n",
    "\n",
    "    if key1 in dict1:\n",
    "    \n",
    "ueseful. It tests to see if a key is in a dictionary."
   ]
  },
  {
   "cell_type": "code",
   "execution_count": null,
   "metadata": {
    "deletable": false,
    "nbgrader": {
     "cell_type": "code",
     "checksum": "cd7979435815a83fa3fda8b06d5c54fc",
     "grade": false,
     "grade_id": "Part4-4",
     "locked": false,
     "schema_version": 3,
     "solution": true,
     "task": false
    }
   },
   "outputs": [],
   "source": [
    "# YOUR CODE HERE\n",
    "raise NotImplementedError()"
   ]
  },
  {
   "cell_type": "code",
   "execution_count": null,
   "metadata": {
    "deletable": false,
    "editable": false,
    "nbgrader": {
     "cell_type": "code",
     "checksum": "349b1b470f7c044c24b85ad704ec03e9",
     "grade": true,
     "grade_id": "Test1",
     "locked": true,
     "points": 6,
     "schema_version": 3,
     "solution": false,
     "task": false
    }
   },
   "outputs": [],
   "source": [
    "# Ignore this cell\n",
    "# DO NOT DELETE THIS CELL\n",
    "from nose.tools import assert_equal\n",
    "### BEGIN TEST\n",
    "assert_equal(get_octave(50), 1)\n",
    "assert_equal(get_octave(500), 4)\n",
    "assert_equal(get_octave(100050), 12)\n",
    "### END TEST"
   ]
  },
  {
   "cell_type": "code",
   "execution_count": null,
   "metadata": {
    "deletable": false,
    "editable": false,
    "nbgrader": {
     "cell_type": "code",
     "checksum": "565665614fda3ac564fc1213a4e300b5",
     "grade": true,
     "grade_id": "Test2-1",
     "locked": true,
     "points": 4,
     "schema_version": 3,
     "solution": false,
     "task": false
    }
   },
   "outputs": [],
   "source": [
    "# Ignore this cell\n",
    "# DO NOT DELETE THIS CELL\n",
    "from nose.tools import assert_equal\n",
    "### BEGIN TEST\n",
    "moore_law()\n",
    "### END TEST"
   ]
  },
  {
   "cell_type": "code",
   "execution_count": null,
   "metadata": {
    "deletable": false,
    "editable": false,
    "nbgrader": {
     "cell_type": "code",
     "checksum": "a4bf4459bf7820c3088f7ffe0cebebbf",
     "grade": true,
     "grade_id": "Test2-2",
     "locked": true,
     "points": 4,
     "schema_version": 3,
     "solution": false,
     "task": false
    }
   },
   "outputs": [],
   "source": [
    "# Ignore this cell\n",
    "# DO NOT DELETE THIS CELL\n",
    "from nose.tools import assert_equal\n",
    "### BEGIN TEST\n",
    "more_moore_law()\n",
    "### END TEST"
   ]
  },
  {
   "cell_type": "code",
   "execution_count": null,
   "metadata": {
    "deletable": false,
    "editable": false,
    "nbgrader": {
     "cell_type": "code",
     "checksum": "5e3b3f4bfb3421408958b7a087631152",
     "grade": true,
     "grade_id": "Test3-1",
     "locked": true,
     "points": 4,
     "schema_version": 3,
     "solution": false,
     "task": false
    }
   },
   "outputs": [],
   "source": [
    "# Ignore this cell\n",
    "# DO NOT DELETE THIS CELL\n",
    "from nose.tools import assert_equal\n",
    "### BEGIN TEST\n",
    "speed_of_falling_obj(10)\n",
    "### END TEST"
   ]
  },
  {
   "cell_type": "code",
   "execution_count": null,
   "metadata": {
    "deletable": false,
    "editable": false,
    "nbgrader": {
     "cell_type": "code",
     "checksum": "3d05756625b9695b94ad7b2fb81c2a08",
     "grade": true,
     "grade_id": "Test3-2",
     "locked": true,
     "points": 4,
     "schema_version": 3,
     "solution": false,
     "task": false
    }
   },
   "outputs": [],
   "source": [
    "# Ignore this cell\n",
    "# DO NOT DELETE THIS CELL\n",
    "from nose.tools import assert_equal\n",
    "### BEGIN TEST\n",
    "distance_of_falling_obj(10)\n",
    "### END TEST"
   ]
  },
  {
   "cell_type": "code",
   "execution_count": null,
   "metadata": {
    "deletable": false,
    "editable": false,
    "nbgrader": {
     "cell_type": "code",
     "checksum": "63ddc7c2a719e08f203967f3896f29aa",
     "grade": true,
     "grade_id": "Test4-1",
     "locked": true,
     "points": 6,
     "schema_version": 3,
     "solution": false,
     "task": false
    }
   },
   "outputs": [],
   "source": [
    "# Ignore this cell\n",
    "# DO NOT DELETE THIS CELL\n",
    "from nose.tools import assert_equal\n",
    "### BEGIN TEST\n",
    "'''\n",
    "5551692\n",
    "5558620\n",
    "5553655\n",
    "Margaret\n",
    "Ada\n",
    "Grace\n",
    "Charles\n",
    "Alan\n",
    "5553655\n",
    "5558620\n",
    "5559090\n",
    "5555297\n",
    "5552131\n",
    "'''\n",
    "phonebook_ops()\n",
    "### END TEST"
   ]
  },
  {
   "cell_type": "code",
   "execution_count": null,
   "metadata": {
    "deletable": false,
    "editable": false,
    "nbgrader": {
     "cell_type": "code",
     "checksum": "b274c41d1979c9e4b46eed9cebd58718",
     "grade": true,
     "grade_id": "Test4-2-1",
     "locked": true,
     "points": 2,
     "schema_version": 3,
     "solution": false,
     "task": false
    }
   },
   "outputs": [],
   "source": [
    "# Ignore this cell\n",
    "# DO NOT DELETE THIS CELL\n",
    "from nose.tools import assert_equal\n",
    "### BEGIN TEST\n",
    "assert_equal(largest_value({2:10, 15:3, 12:0}),10)\n",
    "### END TEST"
   ]
  },
  {
   "cell_type": "code",
   "execution_count": null,
   "metadata": {
    "deletable": false,
    "editable": false,
    "nbgrader": {
     "cell_type": "code",
     "checksum": "bad08c875ce629f3b89bb3294c1a49d2",
     "grade": true,
     "grade_id": "Test4-2-2",
     "locked": true,
     "points": 2,
     "schema_version": 3,
     "solution": false,
     "task": false
    }
   },
   "outputs": [],
   "source": [
    "# Ignore this cell\n",
    "# DO NOT DELETE THIS CELL\n",
    "from nose.tools import assert_equal\n",
    "### BEGIN TEST\n",
    "assert_equal(largest_value({2:-110, 15:-13, 12:-10}),-10)\n",
    "### END TEST"
   ]
  },
  {
   "cell_type": "code",
   "execution_count": null,
   "metadata": {
    "deletable": false,
    "editable": false,
    "nbgrader": {
     "cell_type": "code",
     "checksum": "c6b680899394c987061641da1202acb1",
     "grade": true,
     "grade_id": "Test4-2-3",
     "locked": true,
     "points": 2,
     "schema_version": 3,
     "solution": false,
     "task": false
    }
   },
   "outputs": [],
   "source": [
    "# Ignore this cell\n",
    "# DO NOT DELETE THIS CELL\n",
    "from nose.tools import assert_equal\n",
    "### BEGIN TEST\n",
    "assert_equal(largest_value({2:0, 15:-13, 12:220}),220)\n",
    "### END TEST"
   ]
  },
  {
   "cell_type": "code",
   "execution_count": null,
   "metadata": {
    "deletable": false,
    "editable": false,
    "nbgrader": {
     "cell_type": "code",
     "checksum": "95a0244941b45060a645d4aa99aac056",
     "grade": true,
     "grade_id": "Test4-3-1",
     "locked": true,
     "points": 3,
     "schema_version": 3,
     "solution": false,
     "task": false
    }
   },
   "outputs": [],
   "source": [
    "# Ignore this cell\n",
    "# DO NOT DELETE THIS CELL\n",
    "from nose.tools import assert_equal\n",
    "### BEGIN TEST\n",
    "assert_equal(concat_dicts({2:10, 15:3, 12:0},{3:11, 1:3, 22:0}), {2:10, 15:3, 12:0, 3:11, 1:3, 22:0})\n",
    "assert_equal(concat_dicts({2:10, 15:3, 12:0},{3:11, 1:3, 22:0}), {2:10, 12:0, 15:3, 3:11, 1:3, 22:0})\n",
    "\n",
    "### END TEST"
   ]
  },
  {
   "cell_type": "code",
   "execution_count": null,
   "metadata": {
    "deletable": false,
    "editable": false,
    "nbgrader": {
     "cell_type": "code",
     "checksum": "c7fadde6e5ac5ff6d6a8bd93d8a5d52a",
     "grade": true,
     "grade_id": "Test4-3-2",
     "locked": true,
     "points": 3,
     "schema_version": 3,
     "solution": false,
     "task": false
    }
   },
   "outputs": [],
   "source": [
    "# Ignore this cell\n",
    "# DO NOT DELETE THIS CELL\n",
    "from nose.tools import assert_equal\n",
    "### BEGIN TEST\n",
    "assert_equal(concat_dicts({1:3, 22:0, 3:11},{3:11, 1:3, 22:0}), {3:11, 1:3, 22:0})\n",
    "assert_equal(concat_dicts({1:3, 22:0, 3:11, 9:100},{4:200, 3:11, 1:3, 22:0}), {3:11, 1:3, 22:0, 9:100, 4:200})\n",
    "\n",
    "### END TEST"
   ]
  },
  {
   "cell_type": "code",
   "execution_count": null,
   "metadata": {
    "deletable": false,
    "editable": false,
    "nbgrader": {
     "cell_type": "code",
     "checksum": "868f03417a2f2f3a69ece28512249f25",
     "grade": true,
     "grade_id": "Test4-4-1",
     "locked": true,
     "points": 3,
     "schema_version": 3,
     "solution": false,
     "task": false
    }
   },
   "outputs": [],
   "source": [
    "# Ignore this cell\n",
    "# DO NOT DELETE THIS CELL\n",
    "from nose.tools import assert_equal\n",
    "### BEGIN TEST\n",
    "assert_equal(combine_dicts({2:10, 15:3, 12:0},{3:11, 1:3, 22:0}), {2:10, 15:3, 12:0, 3:11, 1:3, 22:0})\n",
    "\n",
    "### END TEST"
   ]
  },
  {
   "cell_type": "code",
   "execution_count": null,
   "metadata": {
    "deletable": false,
    "editable": false,
    "nbgrader": {
     "cell_type": "code",
     "checksum": "0cd7f9f17e5b66d6eb87b738d42aee3c",
     "grade": true,
     "grade_id": "Test4-4-2",
     "locked": true,
     "points": 3,
     "schema_version": 3,
     "solution": false,
     "task": false
    }
   },
   "outputs": [],
   "source": [
    "# Ignore this cell\n",
    "# DO NOT DELETE THIS CELL\n",
    "from nose.tools import assert_equal\n",
    "### BEGIN TEST\n",
    "assert_equal(combine_dicts({1:3, 22:0, 3:11},{3:11, 1:3, 22:0}), {3:22, 1:6, 22:0})\n",
    "assert_equal(combine_dicts({1:3, 22:0, 23:5, 28:19, 2:0, 3:21},{3:11}), {1: 3, 2: 0, 3: 32, 22: 0, 23: 5, 28: 19})\n",
    "### END TEST"
   ]
  }
 ],
 "metadata": {
  "kernelspec": {
   "display_name": "Python 3",
   "language": "python",
   "name": "python3"
  },
  "language_info": {
   "codemirror_mode": {
    "name": "ipython",
    "version": 3
   },
   "file_extension": ".py",
   "mimetype": "text/x-python",
   "name": "python",
   "nbconvert_exporter": "python",
   "pygments_lexer": "ipython3",
   "version": "3.7.4"
  }
 },
 "nbformat": 4,
 "nbformat_minor": 2
}
