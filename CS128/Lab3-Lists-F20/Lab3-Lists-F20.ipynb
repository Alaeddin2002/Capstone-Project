{
 "cells": [
  {
   "cell_type": "markdown",
   "metadata": {},
   "source": [
    "Before you turn this problem in, make sure everything runs as expected. First, **restart the kernel** (in the menubar, select Kernel$\\rightarrow$Restart) and then **run all cells** (in the menubar, select Cell$\\rightarrow$Run All).\n",
    "\n",
    "Make sure you fill in any place that says `YOUR CODE HERE` or \"YOUR ANSWER HERE\", as well as your name and collaborators below:"
   ]
  },
  {
   "cell_type": "code",
   "execution_count": null,
   "metadata": {},
   "outputs": [],
   "source": [
    "NAME = \"Ihsan Alaeddin \"\n",
    "COLLABORATORS = \"Group 1\""
   ]
  },
  {
   "cell_type": "markdown",
   "metadata": {},
   "source": [
    "---"
   ]
  },
  {
   "cell_type": "markdown",
   "metadata": {
    "deletable": false,
    "editable": false,
    "nbgrader": {
     "cell_type": "markdown",
     "checksum": "68c46ac0d6182c57ed9adf6daeec9406",
     "grade": false,
     "grade_id": "Instructions",
     "locked": true,
     "schema_version": 3,
     "solution": false
    }
   },
   "source": [
    "---\n",
    "# Lab 3: Practice with lists, conditionals, loops\n",
    "---\n",
    "## Read All Instructions Carefully\n",
    "---\n",
    "Ideas introduced or practiced in this lab:\n",
    "\n",
    "    Lists and appending\n",
    "\n",
    "    Counters in for loops\n",
    "    \n",
    "    sums in for loops \n",
    "    \n",
    "    If statements\n",
    "\n"
   ]
  },
  {
   "cell_type": "markdown",
   "metadata": {
    "deletable": false,
    "editable": false,
    "nbgrader": {
     "cell_type": "markdown",
     "checksum": "fc95f09c6693b38aee13c05ff3f8777c",
     "grade": false,
     "grade_id": "Divider1_1",
     "locked": true,
     "schema_version": 3,
     "solution": false
    }
   },
   "source": [
    "---\n",
    "### Exercise 1.1\n",
    "---\n",
    "Design and write a function called **summation** that takes a number, n, as a parameter, and returns the sum of all the numbers from 1 to n (inclusive). For the design of this function, use a **for** loop and an accumulator. "
   ]
  },
  {
   "cell_type": "code",
   "execution_count": 12,
   "metadata": {
    "deletable": false,
    "nbgrader": {
     "cell_type": "code",
     "checksum": "3b63bdaa6bad8448fba5b442fd4c39d2",
     "grade": false,
     "grade_id": "Part1_1",
     "locked": false,
     "schema_version": 3,
     "solution": true
    }
   },
   "outputs": [
    {
     "data": {
      "text/plain": [
       "55"
      ]
     },
     "execution_count": 12,
     "metadata": {},
     "output_type": "execute_result"
    }
   ],
   "source": [
    "# YOUR CODE HERE\n",
    "def summation(n):\n",
    "    x=0\n",
    "    for i in range (n+1):\n",
    "        x=x+i\n",
    "    return x\n",
    "    \n",
    "summation(10)"
   ]
  },
  {
   "cell_type": "markdown",
   "metadata": {
    "deletable": false,
    "editable": false,
    "nbgrader": {
     "cell_type": "markdown",
     "checksum": "43824a84dac3aa88c3bb97456ec260dc",
     "grade": false,
     "grade_id": "Divider1_2",
     "locked": true,
     "schema_version": 3,
     "solution": false
    }
   },
   "source": [
    "---\n",
    "### Exercise 1.2\n",
    "---\n",
    "Design and write a function called **sum_squares** that takes a number, n, as a parameter, and returns the sum of *the squares of* all the numbers from 1 to n (inclusive). For example, sum_squares(4) should return 30, which is the sum of 1, 4, 9, and 16. Again, use a **for** loop and an accumulator. "
   ]
  },
  {
   "cell_type": "code",
   "execution_count": 17,
   "metadata": {
    "deletable": false,
    "nbgrader": {
     "cell_type": "code",
     "checksum": "2bb642cff5511c07f31c700c8bfe1c8b",
     "grade": false,
     "grade_id": "Part1_2",
     "locked": false,
     "schema_version": 3,
     "solution": true
    }
   },
   "outputs": [
    {
     "data": {
      "text/plain": [
       "30"
      ]
     },
     "execution_count": 17,
     "metadata": {},
     "output_type": "execute_result"
    }
   ],
   "source": [
    "# YOUR CODE HERE\n",
    "def sum_squares(n):\n",
    "    x=0\n",
    "    for i in range (n+1):\n",
    "        x=(i**2)+x\n",
    "    return x\n",
    "sum_squares (4)\n",
    "    "
   ]
  },
  {
   "cell_type": "markdown",
   "metadata": {
    "deletable": false,
    "editable": false,
    "nbgrader": {
     "cell_type": "markdown",
     "checksum": "59046350e9d7496e0946668835f24297",
     "grade": false,
     "grade_id": "Divider1_3",
     "locked": true,
     "schema_version": 3,
     "solution": false
    }
   },
   "source": [
    "---\n",
    "### Exercise 1.3\n",
    "---\n",
    "Design and write a function called **sum_squares_str** that takes a number, n, as a parameter, and returns a string which displays the summing of *the squares of* all the numbers from 1 to n (inclusive). For example, sum_squares(4) should return \"1 + 4 + 9 + 16\". Again, use a **for** loop and an accumulator string. "
   ]
  },
  {
   "cell_type": "code",
   "execution_count": 73,
   "metadata": {
    "deletable": false,
    "nbgrader": {
     "cell_type": "code",
     "checksum": "374590b36809727ca3b936197821d10b",
     "grade": false,
     "grade_id": "Part1_3",
     "locked": false,
     "schema_version": 3,
     "solution": true
    }
   },
   "outputs": [
    {
     "data": {
      "text/plain": [
       "'1+4+9+16'"
      ]
     },
     "execution_count": 73,
     "metadata": {},
     "output_type": "execute_result"
    }
   ],
   "source": [
    "# YOUR CODE HERE\n",
    "def sum_squares_str (n):\n",
    "    v=\"\"\n",
    "    for i in range (1,n):\n",
    "        v += str(i**2) + (\" + \")\n",
    "    return v + str(n*n)\n",
    "sum_squares_str (4)"
   ]
  },
  {
   "cell_type": "markdown",
   "metadata": {
    "deletable": false,
    "editable": false,
    "nbgrader": {
     "cell_type": "markdown",
     "checksum": "a1ef6090d808206d094a44876430ced0",
     "grade": false,
     "grade_id": "Divider2",
     "locked": true,
     "schema_version": 3,
     "solution": false
    }
   },
   "source": [
    "---\n",
    "### Exercise 2\n",
    "---\n",
    "Design and write a function called **make_list** that returns a list of all the numbers\n",
    "between 0 and some number, n, including 0 and n. It should take one parameter, n. For this function, use a for loop and the built in python method **append** to add each number to the end of the list. Your accumulator will begin as an empty list."
   ]
  },
  {
   "cell_type": "code",
   "execution_count": 51,
   "metadata": {
    "deletable": false,
    "nbgrader": {
     "cell_type": "code",
     "checksum": "d53289e8c6687b33ce965daf82462361",
     "grade": false,
     "grade_id": "Part2",
     "locked": false,
     "schema_version": 3,
     "solution": true
    }
   },
   "outputs": [
    {
     "data": {
      "text/plain": [
       "[0, 1, 2, 3, 4, 5]"
      ]
     },
     "execution_count": 51,
     "metadata": {},
     "output_type": "execute_result"
    }
   ],
   "source": [
    "# YOUR CODE HERE\n",
    "def make_list(n): \n",
    "    a=[]\n",
    "    for i in range (0,n+1):\n",
    "        a.append (i)\n",
    "    return a\n",
    "make_list(5)\n",
    "        \n",
    "    "
   ]
  },
  {
   "cell_type": "markdown",
   "metadata": {
    "deletable": false,
    "editable": false,
    "nbgrader": {
     "cell_type": "markdown",
     "checksum": "dffdf2869fb6cd893ddd8b443d545904",
     "grade": false,
     "grade_id": "Divider3",
     "locked": true,
     "schema_version": 3,
     "solution": false
    }
   },
   "source": [
    "---\n",
    "### Exercise 3\n",
    "---\n",
    "Design and write a function called **make_list_span** that returns a list of all the numbers\n",
    "between two specified numbers. For this function, use a for loop and the function **append**\n",
    "to add each number in the range to the end of the list. This function should take two parameters, a starting number and an ending number, in that order. \n",
    "\n",
    "**Example**\n",
    "\n",
    "Calling the function with the following parameters:\n",
    "\n",
    "    make_list_span(5, 10)\n",
    "\n",
    "Should return the list:\n",
    "\n",
    "    [5, 6, 7, 8, 9, 10]"
   ]
  },
  {
   "cell_type": "code",
   "execution_count": 54,
   "metadata": {
    "deletable": false,
    "nbgrader": {
     "cell_type": "code",
     "checksum": "b8cc1baa4a8ef4cd339431b361022d5d",
     "grade": false,
     "grade_id": "Part3",
     "locked": false,
     "schema_version": 3,
     "solution": true
    }
   },
   "outputs": [
    {
     "data": {
      "text/plain": [
       "[5, 6, 7, 8, 9, 10]"
      ]
     },
     "execution_count": 54,
     "metadata": {},
     "output_type": "execute_result"
    }
   ],
   "source": [
    "# YOUR CODE HERE\n",
    "def make_list_span(s,n):\n",
    "    a=[]\n",
    "    for i in range (s,n+1):\n",
    "        a.append (i)\n",
    "    return a\n",
    "make_list_span(5,10)"
   ]
  },
  {
   "cell_type": "markdown",
   "metadata": {
    "deletable": false,
    "editable": false,
    "nbgrader": {
     "cell_type": "markdown",
     "checksum": "96e02ee086b33ef80c79e7c0207f8e70",
     "grade": false,
     "grade_id": "Divider4",
     "locked": true,
     "schema_version": 3,
     "solution": false
    }
   },
   "source": [
    "---\n",
    "### Exercise 4\n",
    "---\n",
    "Write a function called **my_len_loop** that takes a list as a parameter and returns the length of the list. This function should use an accumulator to find the length. (Do **NOT** just use the len() function.)"
   ]
  },
  {
   "cell_type": "code",
   "execution_count": 71,
   "metadata": {
    "deletable": false,
    "nbgrader": {
     "cell_type": "code",
     "checksum": "e3c2c87a7b236ad24295d957dda9d400",
     "grade": false,
     "grade_id": "Part4",
     "locked": false,
     "schema_version": 3,
     "solution": true
    }
   },
   "outputs": [
    {
     "data": {
      "text/plain": [
       "5"
      ]
     },
     "execution_count": 71,
     "metadata": {},
     "output_type": "execute_result"
    }
   ],
   "source": [
    "# YOUR CODE HERE\n",
    "def  my_len_loop (list):\n",
    "    x=0\n",
    "    for i in (list):\n",
    "        x= x+1\n",
    "    return x\n",
    "my_len_loop ([2,3,4,5,6])\n",
    "        \n",
    "    "
   ]
  },
  {
   "cell_type": "markdown",
   "metadata": {
    "deletable": false,
    "editable": false,
    "nbgrader": {
     "cell_type": "markdown",
     "checksum": "f724bf570880d6d2cd2920d82f11e5d6",
     "grade": false,
     "grade_id": "Divider5",
     "locked": true,
     "schema_version": 3,
     "solution": false
    }
   },
   "source": [
    "---\n",
    "### Exercise 5\n",
    "---\n",
    "Write a function called **list_summation** that takes a list as a parameter and finds\n",
    "the sum of the numbers in the list by using a for loop and an accumulator. (Don't just use the sum() function.)"
   ]
  },
  {
   "cell_type": "code",
   "execution_count": 75,
   "metadata": {
    "deletable": false,
    "nbgrader": {
     "cell_type": "code",
     "checksum": "e3cdb4cbadba2eefec146a5413712536",
     "grade": false,
     "grade_id": "Part5",
     "locked": false,
     "schema_version": 3,
     "solution": true
    }
   },
   "outputs": [
    {
     "data": {
      "text/plain": [
       "6"
      ]
     },
     "execution_count": 75,
     "metadata": {},
     "output_type": "execute_result"
    }
   ],
   "source": [
    "# YOUR CODE HERE\n",
    "def list_summation(list):\n",
    "    x=0\n",
    "    for i in list:\n",
    "        x= x+i\n",
    "    return x\n",
    "\n",
    "list_summation([1,2,3])    "
   ]
  },
  {
   "cell_type": "markdown",
   "metadata": {
    "deletable": false,
    "editable": false,
    "nbgrader": {
     "cell_type": "markdown",
     "checksum": "dd21c09ea80a1a7e549befe601417c19",
     "grade": false,
     "grade_id": "Divider6",
     "locked": true,
     "schema_version": 3,
     "solution": false
    }
   },
   "source": [
    "---\n",
    "### Exercise 6\n",
    "---\n",
    "A certain CS professor gives 5-point quizzes that are graded on the scale:\n",
    "\n",
    "5-A, 4-B, 3-C, 2-D, 1-F, 0-F\n",
    "\n",
    "In the cell below, write a function called **get_quiz_grade** that takes a quiz score as a parameter and uses a control block to calculate and return the corresponding grade as a string.\n",
    "\n",
    "**Hint:** Look carefully at which values are associated with which grades.\n",
    "Also, **if** statements will come in handy!"
   ]
  },
  {
   "cell_type": "code",
   "execution_count": 95,
   "metadata": {
    "deletable": false,
    "nbgrader": {
     "cell_type": "code",
     "checksum": "fdd1103eaf54dbad2968a8061af4577f",
     "grade": false,
     "grade_id": "Part6",
     "locked": false,
     "schema_version": 3,
     "solution": true
    }
   },
   "outputs": [
    {
     "data": {
      "text/plain": [
       "'C'"
      ]
     },
     "execution_count": 95,
     "metadata": {},
     "output_type": "execute_result"
    }
   ],
   "source": [
    "# YOUR CODE HERE\n",
    "def get_quiz_grade(n):\n",
    "    if n == 5:return \"A\"\n",
    "    if n == 4:return \"B\"\n",
    "    if n == 3:return \"C\"\n",
    "    if n == 2:return \"D\"\n",
    "    if n == 1:return \"F\"\n",
    "    if n == 0:return \"F\"\n",
    "\n",
    "get_quiz_grade(3)   "
   ]
  },
  {
   "cell_type": "markdown",
   "metadata": {
    "deletable": false,
    "editable": false,
    "nbgrader": {
     "cell_type": "markdown",
     "checksum": "8bf0bf388e6d96d02dd166a59ccff8c9",
     "grade": false,
     "grade_id": "Divider6-5",
     "locked": true,
     "schema_version": 3,
     "solution": false
    }
   },
   "source": [
    "---\n",
    "### Exercise 6.5\n",
    "---\n",
    "A certain CS professor gives 100-point exams that are graded on the scale 90-100:A, 80-89:B, 70-79:C, 60-69:D, < 60:F. In the cell below, write a function called **get_exam_grade** that takes an exam score as a parameter and uses a decision structure to calculate and return the corresponding grade as a string. If the test score entered is not between 0 and 100 (inclusive), it should return the string \"Invalid number of points\"."
   ]
  },
  {
   "cell_type": "code",
   "execution_count": 117,
   "metadata": {
    "deletable": false,
    "nbgrader": {
     "cell_type": "code",
     "checksum": "d692de8aca425fb7011b5415cce61485",
     "grade": false,
     "grade_id": "Part6-5",
     "locked": false,
     "schema_version": 3,
     "solution": true
    }
   },
   "outputs": [
    {
     "data": {
      "text/plain": [
       "'Invalid number of points'"
      ]
     },
     "execution_count": 117,
     "metadata": {},
     "output_type": "execute_result"
    }
   ],
   "source": [
    "# YOUR CODE HERE\n",
    "def get_exam_grade(n):\n",
    "    if n >= 101: return \"Invalid number of points\"\n",
    "    if n >= 90:return \"A\"\n",
    "    if n >= 80:return \"B\"\n",
    "    if n >= 70:return \"C\"\n",
    "    if n >= 60:return \"D\"\n",
    "    if n >= 0:return \"F\"\n",
    "    if n <= -1: return \"Invalid number of points\"\n",
    "get_exam_grade(-1)"
   ]
  },
  {
   "cell_type": "markdown",
   "metadata": {
    "deletable": false,
    "editable": false,
    "nbgrader": {
     "cell_type": "markdown",
     "checksum": "e0be3900ffb0965214bf027ee2e93bc0",
     "grade": false,
     "grade_id": "Divider7",
     "locked": true,
     "schema_version": 3,
     "solution": false
    }
   },
   "source": [
    "---\n",
    "### Exercise 7\n",
    "---\n",
    "Write a function called **name_available** that takes a desired username as a \n",
    "parameter. The function will determine whether or not this username is available \n",
    "by checking to see if it is in a list of taken usernames. The list of taken usernames\n",
    "is in the file\n",
    "\n",
    "~barbeda/cs128-share/usernames.dat\n",
    "\n",
    "Use the **cp** command to move this file into your Lab3 directory and the \n",
    "command **cat** to view its contents. You will need to copy the contents of that file in order to write this function. Your code does not need to interact with the file directly - just copy its contents out by hand. \n",
    "\n",
    "**Return** **True** if the username is available and **False** if it is taken"
   ]
  },
  {
   "cell_type": "code",
   "execution_count": 21,
   "metadata": {
    "deletable": false,
    "nbgrader": {
     "cell_type": "code",
     "checksum": "c2b6ada1b9a8460fb6ba616d7808a6b0",
     "grade": false,
     "grade_id": "Divider",
     "locked": false,
     "schema_version": 3,
     "solution": true
    }
   },
   "outputs": [
    {
     "data": {
      "text/plain": [
       "False"
      ]
     },
     "execution_count": 21,
     "metadata": {},
     "output_type": "execute_result"
    }
   ],
   "source": [
    "# YOUR CODE HERE\n",
    "def name_available (n):\n",
    "    Names = [\"cats4eva88\",\"XxXemonameXxX\",\"surftime12\", \"luv2surf12\",\"letssurf12\",\"CoolPikachu85\",\"InfernusX\"]\n",
    "    if n in Names:\n",
    "        return False\n",
    "    else: return True\n",
    "    \n",
    "name_available (\"cats4eva88\")"
   ]
  },
  {
   "cell_type": "markdown",
   "metadata": {
    "deletable": false,
    "editable": false,
    "nbgrader": {
     "cell_type": "markdown",
     "checksum": "da29e118afe1d4a7abd10db6720116a8",
     "grade": false,
     "grade_id": "Divider8",
     "locked": true,
     "schema_version": 3,
     "solution": false
    }
   },
   "source": [
    "---\n",
    "### Exercise 8\n",
    "---\n",
    "Many companies pay time-and-a-half for any hours worked above 40 in a given week (meaning that employees earn 50% more per hour after 40 hours than they normally earn). An employee earns their normal hourly pay for the first 40 hours, but any hours worked after that are paid at a 50% greater rate. \n",
    "\n",
    "In the cell below, write a function called **get_wages** that takes the number of hours worked and the hourly rate (in that order) as parameters and returns the total wages earned for the week."
   ]
  },
  {
   "cell_type": "code",
   "execution_count": 175,
   "metadata": {
    "deletable": false,
    "nbgrader": {
     "cell_type": "code",
     "checksum": "b575a7661de48259b793defe82502f24",
     "grade": false,
     "grade_id": "Part8",
     "locked": false,
     "schema_version": 3,
     "solution": true
    }
   },
   "outputs": [
    {
     "data": {
      "text/plain": [
       "124.5"
      ]
     },
     "execution_count": 175,
     "metadata": {},
     "output_type": "execute_result"
    }
   ],
   "source": [
    "# YOUR CODE HERE\n",
    "def get_wages(a,n):\n",
    "    if a <= 40:\n",
    "        Total_Normal_Wage= a*n\n",
    "        return Total_Normal_Wage\n",
    "    if a >= 41:\n",
    "        extra_hours= a-40\n",
    "        Maximum_Normal_Payment =40*n\n",
    "        Total_Wages=(n*1.5)*(extra_hours) + Maximum_Normal_Payment\n",
    "        return Total_Wages\n",
    "    \n",
    "get_wages(41,3)\n",
    "    \n",
    "    "
   ]
  },
  {
   "cell_type": "markdown",
   "metadata": {
    "deletable": false,
    "editable": false,
    "nbgrader": {
     "cell_type": "markdown",
     "checksum": "60942ab15eb5ee0dba4aaed0e83f4337",
     "grade": false,
     "grade_id": "Divider9",
     "locked": true,
     "schema_version": 3,
     "solution": false
    }
   },
   "source": [
    "---\n",
    "### Exercise 9\n",
    "---\n",
    "Write a function **is_leap_year** that takes a year as a parameter and returns **True** if it is a leap year and **False** if it is not a leap year. A year is usually a leap year if it is divisible by 4. But, if it is divisible by 100, it is not a leap year unless it is also divisble by 400. For example, 2000 is a leap year and so is 2004, but 1900 is not a leap year and neither is 1995. \n",
    "\n",
    "Underneath your function definition, test your function with those four years."
   ]
  },
  {
   "cell_type": "code",
   "execution_count": 7,
   "metadata": {
    "deletable": false,
    "nbgrader": {
     "cell_type": "code",
     "checksum": "ac8b018575339cfb6c40d9f20fdb073f",
     "grade": false,
     "grade_id": "Part9",
     "locked": false,
     "schema_version": 3,
     "solution": true
    }
   },
   "outputs": [
    {
     "data": {
      "text/plain": [
       "False"
      ]
     },
     "execution_count": 7,
     "metadata": {},
     "output_type": "execute_result"
    }
   ],
   "source": [
    "# YOUR CODE HERE\n",
    "def  is_leap_year(y):\n",
    "    if y % 4 == 0 and y%100!=0:\n",
    "        return (True)\n",
    "    elif y%100==0 and y%400 == 0:\n",
    "        return (True)\n",
    "    else:\n",
    "        return (False)\n",
    "    \n",
    "is_leap_year(1900)\n",
    "    "
   ]
  },
  {
   "cell_type": "markdown",
   "metadata": {
    "deletable": false,
    "editable": false,
    "nbgrader": {
     "cell_type": "markdown",
     "checksum": "17f21c31b195503ae26a803130fca39c",
     "grade": false,
     "grade_id": "Divider10",
     "locked": true,
     "schema_version": 3,
     "solution": false
    }
   },
   "source": [
    "---\n",
    "### Exercise 10\n",
    "---\n",
    "Write a function called **fizzbuzz**. The function will create and return a list of all the numbers between 1 and 35 (inclusive). The catch is that, for every multiple of 3, instead of adding that number to the list, you will add the string \"fizz\" and for every multiple of 5, instead of that number you wil add the string \"buzz\". For numbers that are both multiples of 3 and 5, you will instead add the word \"fizzbuzz\". Your function doesn't need to take any parameters.\n",
    "\n",
    "The first part of the list should look like:\n",
    "\n",
    "    1, 2, 'fizz', 4, 'buzz', 'fizz', 7...\n",
    "\n",
    "You can detect if a number is a multiple of another number using the modulo operator, %.\n",
    "\n",
    "    if k % 13 == 0:\n",
    "    \n",
    "Will test to see if k is a multiple of 13.\n",
    "\n",
    "When you are done with your work, make sure to validate your answers using the validator in Jupyter.\n",
    "\n"
   ]
  },
  {
   "cell_type": "code",
   "execution_count": 263,
   "metadata": {
    "deletable": false,
    "nbgrader": {
     "cell_type": "code",
     "checksum": "1aeba5b09004fb16baeef6039533bdc5",
     "grade": false,
     "grade_id": "Part10",
     "locked": false,
     "schema_version": 3,
     "solution": true
    }
   },
   "outputs": [
    {
     "data": {
      "text/plain": [
       "[1,\n",
       " 2,\n",
       " 'Fizz',\n",
       " 4,\n",
       " 'Buzz',\n",
       " 'Fizz',\n",
       " 7,\n",
       " 8,\n",
       " 'Fizz',\n",
       " 'Buzz',\n",
       " 11,\n",
       " 'Fizz',\n",
       " 13,\n",
       " 14,\n",
       " 'FizzBuzz',\n",
       " 16,\n",
       " 17,\n",
       " 'Fizz',\n",
       " 19,\n",
       " 'Buzz',\n",
       " 'Fizz',\n",
       " 22,\n",
       " 23,\n",
       " 'Fizz',\n",
       " 'Buzz',\n",
       " 26,\n",
       " 'Fizz',\n",
       " 28,\n",
       " 29,\n",
       " 'FizzBuzz',\n",
       " 31,\n",
       " 32,\n",
       " 'Fizz',\n",
       " 34,\n",
       " 'Buzz']"
      ]
     },
     "execution_count": 263,
     "metadata": {},
     "output_type": "execute_result"
    }
   ],
   "source": [
    "# YOUR CODE HERE\n",
    "def fizzbuzz ():\n",
    "    result = []\n",
    "    for x in range (1,36):\n",
    "        if x % 3 == 0 and x % 5 == 0:\n",
    "            result.append('fizzbuzz')\n",
    "        elif x % 3 == 0:\n",
    "            result.append('fizz')\n",
    "        elif x % 5 == 0:\n",
    "            result.append('buzz')\n",
    "        else:\n",
    "            result.append (x)\n",
    "    return result\n",
    "fizzbuzz ()"
   ]
  },
  {
   "cell_type": "code",
   "execution_count": null,
   "metadata": {
    "deletable": false,
    "editable": false,
    "nbgrader": {
     "cell_type": "code",
     "checksum": "64d9689adc95001ba6d081710c4f2f79",
     "grade": true,
     "grade_id": "Exercise1-1Test",
     "locked": true,
     "points": 5,
     "schema_version": 3,
     "solution": false
    }
   },
   "outputs": [],
   "source": [
    "# Ignore this cell\n",
    "# DO NOT DELETE THIS CELL\n",
    "from nose.tools import assert_equal\n",
    "### BEGIN TEST\n",
    "assert_equal(summation(20), 210)\n",
    "assert_equal(summation(10), 55)\n",
    "### END TEST"
   ]
  },
  {
   "cell_type": "code",
   "execution_count": null,
   "metadata": {
    "deletable": false,
    "editable": false,
    "nbgrader": {
     "cell_type": "code",
     "checksum": "b6f503e25f81cf2272346bd1b8897538",
     "grade": true,
     "grade_id": "Exercise1-2Test",
     "locked": true,
     "points": 5,
     "schema_version": 3,
     "solution": false
    }
   },
   "outputs": [],
   "source": [
    "# Ignore this cell\n",
    "# DO NOT DELETE THIS CELL\n",
    "from nose.tools import assert_equal\n",
    "### BEGIN TEST\n",
    "assert_equal(sum_squares(5), 55)\n",
    "assert_equal(sum_squares(10), 385)"
   ]
  },
  {
   "cell_type": "code",
   "execution_count": null,
   "metadata": {
    "deletable": false,
    "editable": false,
    "nbgrader": {
     "cell_type": "code",
     "checksum": "6ab70b8e0cafc54e9a608af3c4b77d0d",
     "grade": true,
     "grade_id": "Exercise1-3Test",
     "locked": true,
     "points": 5,
     "schema_version": 3,
     "solution": false
    }
   },
   "outputs": [],
   "source": [
    "# Ignore this cell\n",
    "# DO NOT DELETE THIS CELL\n",
    "from nose.tools import assert_equal\n",
    "### BEGIN TEST\n",
    "assert_equal(sum_squares_str(5), \"1 + 4 + 9 + 16 + 25\")\n",
    "assert_equal(sum_squares_str(7), \"1 + 4 + 9 + 16 + 25 + 36 + 49\")"
   ]
  },
  {
   "cell_type": "code",
   "execution_count": null,
   "metadata": {
    "deletable": false,
    "editable": false,
    "nbgrader": {
     "cell_type": "code",
     "checksum": "1dd4956ce40ca21b98118bc260262ae4",
     "grade": true,
     "grade_id": "Exercise2Test",
     "locked": true,
     "points": 5,
     "schema_version": 3,
     "solution": false
    }
   },
   "outputs": [],
   "source": [
    "# Ignore this cell\n",
    "# DO NOT DELETE THIS CELL\n",
    "from nose.tools import assert_equal\n",
    "### BEGIN TEST\n",
    "assert_equal(make_list(10), [0, 1, 2, 3, 4, 5, 6, 7, 8, 9, 10])\n",
    "### END TEST"
   ]
  },
  {
   "cell_type": "code",
   "execution_count": null,
   "metadata": {
    "deletable": false,
    "editable": false,
    "nbgrader": {
     "cell_type": "code",
     "checksum": "033254c1bc978423ea9237bb21bdf110",
     "grade": true,
     "grade_id": "Exercise3Test",
     "locked": true,
     "points": 5,
     "schema_version": 3,
     "solution": false
    }
   },
   "outputs": [],
   "source": [
    "# Ignore this cell\n",
    "# DO NOT DELETE THIS CELL\n",
    "from nose.tools import assert_equal\n",
    "### BEGIN TEST\n",
    "assert_equal(make_list_span(11, 19), [11, 12, 13, 14, 15, 16, 17, 18, 19])\n",
    "### END TEST"
   ]
  },
  {
   "cell_type": "code",
   "execution_count": null,
   "metadata": {
    "deletable": false,
    "editable": false,
    "nbgrader": {
     "cell_type": "code",
     "checksum": "58e974a5dd3a9c50cea4dc000ebe51b0",
     "grade": true,
     "grade_id": "Exercise4Test",
     "locked": true,
     "points": 5,
     "schema_version": 3,
     "solution": false
    }
   },
   "outputs": [],
   "source": [
    "# Ignore this cell\n",
    "# DO NOT DELETE THIS CELL\n",
    "from nose.tools import assert_equal\n",
    "### BEGIN TEST\n",
    "assert_equal(my_len_loop([7, 5, 2, 8, 4, 7, 4, 5]), 8)\n",
    "### END TEST"
   ]
  },
  {
   "cell_type": "code",
   "execution_count": null,
   "metadata": {
    "deletable": false,
    "editable": false,
    "nbgrader": {
     "cell_type": "code",
     "checksum": "c4b08c9eee00405bd2af8179e25461f5",
     "grade": true,
     "grade_id": "Exercise5Test",
     "locked": true,
     "points": 5,
     "schema_version": 3,
     "solution": false
    }
   },
   "outputs": [],
   "source": [
    "# Ignore this cell\n",
    "# DO NOT DELETE THIS CELL\n",
    "from nose.tools import assert_equal\n",
    "### BEGIN TEST\n",
    "assert_equal(list_summation([7, 5, 2, 8, 4, 7, 4, 5]), 42)\n",
    "### END TEST"
   ]
  },
  {
   "cell_type": "code",
   "execution_count": null,
   "metadata": {
    "deletable": false,
    "editable": false,
    "nbgrader": {
     "cell_type": "code",
     "checksum": "961b06c9ef59ac752f3cc7d0daff686b",
     "grade": true,
     "grade_id": "Exercise6Test",
     "locked": true,
     "points": 5,
     "schema_version": 3,
     "solution": false
    }
   },
   "outputs": [],
   "source": [
    "# Ignore this cell\n",
    "# DO NOT DELETE THIS CELL\n",
    "from nose.tools import assert_equal\n",
    "### BEGIN TEST\n",
    "assert_equal(get_quiz_grade(3), 'C')\n",
    "assert_equal(get_quiz_grade(4), 'B')\n",
    "### END TEST"
   ]
  },
  {
   "cell_type": "code",
   "execution_count": null,
   "metadata": {
    "deletable": false,
    "editable": false,
    "nbgrader": {
     "cell_type": "code",
     "checksum": "d91d2038dc2f25f2d2e94833b79788db",
     "grade": true,
     "grade_id": "Exercise6-5Test",
     "locked": true,
     "points": 5,
     "schema_version": 3,
     "solution": false
    }
   },
   "outputs": [],
   "source": [
    "# Ignore this cell\n",
    "# DO NOT DELETE THIS CELL\n",
    "from nose.tools import assert_equal\n",
    "### BEGIN TEST\n",
    "assert_equal(get_exam_grade(56), 'F')\n",
    "assert_equal(get_exam_grade(88), 'B')\n",
    "assert_equal(get_exam_grade(87.5), 'B')\n",
    "### END TEST"
   ]
  },
  {
   "cell_type": "code",
   "execution_count": null,
   "metadata": {
    "deletable": false,
    "editable": false,
    "nbgrader": {
     "cell_type": "code",
     "checksum": "08c364f629876863c5244df2c8298114",
     "grade": true,
     "grade_id": "Exercise7Test",
     "locked": true,
     "points": 5,
     "schema_version": 3,
     "solution": false
    }
   },
   "outputs": [],
   "source": [
    "# Ignore this cell\n",
    "# DO NOT DELETE THIS CELL\n",
    "from nose.tools import assert_equal\n",
    "### BEGIN TEST\n",
    "assert_equal(name_available(\"cats4eva89\"), True)\n",
    "assert_equal(name_available(\"cats4eva88\"), False)\n",
    "### END TEST"
   ]
  },
  {
   "cell_type": "code",
   "execution_count": null,
   "metadata": {
    "deletable": false,
    "editable": false,
    "nbgrader": {
     "cell_type": "code",
     "checksum": "4e5c7a9c082220c1150e36e16c786e4f",
     "grade": true,
     "grade_id": "Exercise8Test",
     "locked": true,
     "points": 5,
     "schema_version": 3,
     "solution": false
    }
   },
   "outputs": [],
   "source": [
    "# Ignore this cell\n",
    "# DO NOT DELETE THIS CELL\n",
    "from nose.tools import assert_equal\n",
    "### BEGIN TEST\n",
    "assert_equal(get_wages(50, 10), 550.0)\n",
    "assert_equal(get_wages(30, 10), 300.0)\n",
    "### END TEST"
   ]
  },
  {
   "cell_type": "code",
   "execution_count": null,
   "metadata": {
    "deletable": false,
    "editable": false,
    "nbgrader": {
     "cell_type": "code",
     "checksum": "a6406dff87e4941b47dac680b9375de0",
     "grade": true,
     "grade_id": "Exercise9Test",
     "locked": true,
     "points": 2,
     "schema_version": 3,
     "solution": false
    }
   },
   "outputs": [],
   "source": [
    "# Ignore this cell\n",
    "# DO NOT DELETE THIS CELL\n",
    "from nose.tools import assert_equal\n",
    "### BEGIN TEST\n",
    "assert_equal(is_leap_year(2000), True)\n",
    "### END TEST"
   ]
  },
  {
   "cell_type": "code",
   "execution_count": null,
   "metadata": {
    "deletable": false,
    "editable": false,
    "nbgrader": {
     "cell_type": "code",
     "checksum": "84ed30936e0fbfdd00b4d062be032c7d",
     "grade": true,
     "grade_id": "Exercise9Test2",
     "locked": true,
     "points": 1,
     "schema_version": 3,
     "solution": false
    }
   },
   "outputs": [],
   "source": [
    "# Ignore this cell\n",
    "# DO NOT DELETE THIS CELL\n",
    "from nose.tools import assert_equal\n",
    "### BEGIN TEST\n",
    "assert_equal(is_leap_year(2016), True)\n",
    "### END TEST"
   ]
  },
  {
   "cell_type": "code",
   "execution_count": null,
   "metadata": {
    "deletable": false,
    "editable": false,
    "nbgrader": {
     "cell_type": "code",
     "checksum": "dfc980f0692ffb4064d22bca444f00cc",
     "grade": true,
     "grade_id": "Exercise9Test3",
     "locked": true,
     "points": 1,
     "schema_version": 3,
     "solution": false
    }
   },
   "outputs": [],
   "source": [
    "# Ignore this cell\n",
    "# DO NOT DELETE THIS CELL\n",
    "from nose.tools import assert_equal\n",
    "### BEGIN TEST\n",
    "assert_equal(is_leap_year(1900), False)\n",
    "### END TEST"
   ]
  },
  {
   "cell_type": "code",
   "execution_count": null,
   "metadata": {
    "deletable": false,
    "editable": false,
    "nbgrader": {
     "cell_type": "code",
     "checksum": "0fc8ce5a58ebd7800a39c27b24efcd08",
     "grade": true,
     "grade_id": "Exercise9Test4",
     "locked": true,
     "points": 1,
     "schema_version": 3,
     "solution": false
    }
   },
   "outputs": [],
   "source": [
    "# Ignore this cell\n",
    "# DO NOT DELETE THIS CELL\n",
    "from nose.tools import assert_equal\n",
    "### BEGIN TEST\n",
    "assert_equal(is_leap_year(2015), False)\n",
    "### END TEST"
   ]
  },
  {
   "cell_type": "code",
   "execution_count": null,
   "metadata": {
    "deletable": false,
    "editable": false,
    "nbgrader": {
     "cell_type": "code",
     "checksum": "6d828f7174d4c97d8dc71f95c54dc446",
     "grade": true,
     "grade_id": "Exercise10Test",
     "locked": true,
     "points": 10,
     "schema_version": 3,
     "solution": false
    }
   },
   "outputs": [],
   "source": [
    "# Ignore this cell\n",
    "# DO NOT DELETE THIS CELL\n",
    "from nose.tools import assert_equal\n",
    "### BEGIN TEST\n",
    "assert_equal(fizzbuzz(), [1, 2, 'fizz', 4, 'buzz', 'fizz', 7, 8, 'fizz', 'buzz', 11, 'fizz', 13, 14, 'fizzbuzz', 16, 17, 'fizz', 19, 'buzz', 'fizz', 22, 23, 'fizz', 'buzz', 26, 'fizz', 28, 29, 'fizzbuzz', 31, 32, 'fizz', 34, 'buzz'])\n",
    "### END TEST"
   ]
  },
  {
   "cell_type": "code",
   "execution_count": null,
   "metadata": {},
   "outputs": [],
   "source": []
  }
 ],
 "metadata": {
  "kernelspec": {
   "display_name": "Python 3",
   "language": "python",
   "name": "python3"
  },
  "language_info": {
   "codemirror_mode": {
    "name": "ipython",
    "version": 3
   },
   "file_extension": ".py",
   "mimetype": "text/x-python",
   "name": "python",
   "nbconvert_exporter": "python",
   "pygments_lexer": "ipython3",
   "version": "3.7.4"
  }
 },
 "nbformat": 4,
 "nbformat_minor": 1
}
