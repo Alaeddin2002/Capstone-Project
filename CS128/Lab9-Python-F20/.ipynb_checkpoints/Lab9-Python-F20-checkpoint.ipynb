{
 "cells": [
  {
   "cell_type": "markdown",
   "metadata": {},
   "source": [
    "Before you turn this problem in, make sure everything runs as expected. First, **restart the kernel** (in the menubar, select Kernel$\\rightarrow$Restart) and then **run all cells** (in the menubar, select Cell$\\rightarrow$Run All).\n",
    "\n",
    "Make sure you fill in any place that says `YOUR CODE HERE` or \"YOUR ANSWER HERE\", as well as your name and collaborators below:"
   ]
  },
  {
   "cell_type": "code",
   "execution_count": null,
   "metadata": {},
   "outputs": [],
   "source": [
    "NAME = \"Ihsan Alaeddin\"\n",
    "COLLABORATORS = \"Group 1\""
   ]
  },
  {
   "cell_type": "markdown",
   "metadata": {},
   "source": [
    "---"
   ]
  },
  {
   "cell_type": "markdown",
   "metadata": {},
   "source": [
    "---\n",
    "# Lab 9: Python in the Command Line\n",
    "---\n",
    "\n",
    "**Make sure to have a file with the name \"`lab9_<myloginid>.py`\" inside your Lab9-Python-F20 folder. Replace \"`<myloginid>`\" with your own log in id.**\n",
    "\n",
    "\n",
    "**The rationale**\n",
    "\n",
    "This lab is designed to show you another way to run Python scripts, from the command line in a terminal window. Running scripts from the command line is actually much more common than using a Jupyter notebook environment, it’s just that the latter is a much easier place to start programming. You will also use the text editor built-in to Jupyter rather than a notebook. This lab also offers a peek at how computer languages are “equivalent” in the sense that they can solve the same class of problems. However, not all tools are equally easy to use for a given problem. In this case, the shell is a more natural tool for solving the problem.\n",
    "\n",
    "\n",
    "**Getting started**\n",
    "\n",
    "This lab closely follows the tasks that you worked on during last week’s shell lab. This week, you will do the same work using Python, in a script that you run from the command line. To get started, follow the steps below. These steps should be followed when you first start this lab. After that you can just edit the existing Python script and run it in the terminal. It is a file that is saved just like a notebook is, just in a different format (remember file formats?).  \n",
    "\n",
    "\n",
    "**1.** Login to Jupyter\n",
    "\n",
    "**2.** Open the directory for this lab, Lab9-Python-F20.\n",
    "\n",
    "**3.** Create a new text file (New -> Text File) in this directory (Lab9-Python-F20). This opens a Jupyter text editor window\n",
    "\n",
    "**4.** Rename the file from Untitled.txt to lab9_myloginid.py (From the File menu, select Rename.) The .py is required. myloginid should be your login id, like dmbarbe04.\n",
    "\n",
    "**5.** Put the following Python code in your file (copy and paste should work):\n",
    "\n",
    "        def printString(whatToPrint):\n",
    "            print(whatToPrint)\n",
    "            return\n",
    "\n",
    "        if __name__ == '__main__':\n",
    "            printString('hello world')\n",
    "            exit()\n",
    "\n",
    "\n",
    "**6.** Save the file (File -> Save)\n",
    "\n",
    "**7.** Open a new terminal window in Jupyter (New -> Terminal)\n",
    "\n",
    "**8.** Use the cd command to navigate to the directory you created for this lab\n",
    "\n",
    "**9.** Use the ls -l command to confirm that your python script is there \n",
    "\n",
    "**10.** Run your script with the command :\n",
    "\n",
    "    $ python3 lab9_myloginid.py\n",
    "\n",
    "The next time you work on it you can just click on the file to open it in the text editor, then you could open a terminal window, cd to the directory, and run your script. You will again need to use the cp command to make copies of `~charliep/courses/cs128/{first,second,third}.dat.` These should be copied into the directory you created for this lab so you can use them with your Python script later.\n",
    "\n",
    "**THE WORK**\n",
    "\n",
    "The specific tasks your Python script needs to accomplish are listed below. They closely resemble those of the shell lab from last week. **You need to write python programs to accomplish the following tasks.**\n",
    "\n",
    "\n",
    "* Extract all the lines from first.dat and second.dat that contain the string `‘AACCTTNN’`. All of those sequences should end up together in one file called fourth.dat. Do **NOT** just use the **find()** function for this - do it by writing code that checks the lines one at a time.\n",
    "    \n",
    "* Combine the contents of fourth.dat and third.dat to create fifth.dat. Inside fifth.dat, the material from fourth.dat should appear before the material from third.dat.\n",
    "    \n",
    "* Your program should save the **number of lines and words** that are in fifth.dat (words do not span lines) in a new file called `fifth-count.dat`\n",
    "\n",
    "You should start with a piece of paper and design the functions you will need and how you will use them. Look through the list of tasks and see how many of them are the same work being done on a different input. If there are similar things being done multiple times, that task may be something that should be a function.\n",
    "\n",
    "Break the problem down into logical chunks, each of which can be solved independently and then assembled together into a whole. One approach would be to have functions like findStrings(inputFileHandle, outputFileHandle, targetString), appendFiles(inputFileHandle1, inputFileHandle2, outputFileHandle), and countContents(inputFileHandle). There are other plans that work too. Think about when you will need to open files and when you can close them. \n",
    "\n",
    "\n",
    "Writing this code in Python will be more work than it was using the terminal and the tools available there. Thinking through the problem on paper and then building small, testable chunks will make it much more tractable. **When you ask for help from the TAs, make sure you have your design document(s) handy so they can understand your approach.**\n",
    "\n",
    "Since we don’t have autograding for this lab, we are going to use the `diff` command (from the terminal) and a canon to test if you solution is correct. The diff command compares two files line by line and displays the ones that differ. There are two canons, one for fourth.dat and one for fifth.dat. Here are examples of using `diff and redirect the results to files`:\n",
    "\n",
    "        diff fourth.dat ~charliep/courses/cs128/fourth-canon.dat > fourth-diff.txt\n",
    "        diff fifth.dat ~charliep/courses/cs128/fifth-canon.dat > fifth-diff.txt\n",
    "        \n",
    "If there are no differences between the two files then diff will not print anything to the file. If there are differences, diff will display them. Your goal is to have diff return no differences for each of the two output files your Python script creates. Both canons are in the same directory. Make sure that the two files generated using the diff command are empty.\n",
    "\n",
    "**Important details**\n",
    "\n",
    "* You may find this Python file handling reference useful: http://www.pythonforbeginners.com/cheatsheet/python-file-handling  \n",
    "* You can use the Up arrow key to efficiently re-run commands and the history command to look at what you’ve run before. "
   ]
  },
  {
   "cell_type": "code",
   "execution_count": null,
   "metadata": {},
   "outputs": [],
   "source": []
  }
 ],
 "metadata": {
  "kernelspec": {
   "display_name": "Python 3",
   "language": "python",
   "name": "python3"
  },
  "language_info": {
   "codemirror_mode": {
    "name": "ipython",
    "version": 3
   },
   "file_extension": ".py",
   "mimetype": "text/x-python",
   "name": "python",
   "nbconvert_exporter": "python",
   "pygments_lexer": "ipython3",
   "version": "3.7.4"
  }
 },
 "nbformat": 4,
 "nbformat_minor": 2
}
