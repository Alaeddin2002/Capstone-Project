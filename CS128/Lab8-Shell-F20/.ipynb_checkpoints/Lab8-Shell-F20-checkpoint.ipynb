{
 "cells": [
  {
   "cell_type": "markdown",
   "metadata": {},
   "source": [
    "Before you turn this problem in, make sure everything runs as expected. First, **restart the kernel** (in the menubar, select Kernel$\\rightarrow$Restart) and then **run all cells** (in the menubar, select Cell$\\rightarrow$Run All).\n",
    "\n",
    "Make sure you fill in any place that says `YOUR CODE HERE` or \"YOUR ANSWER HERE\", as well as your name and collaborators below:"
   ]
  },
  {
   "cell_type": "code",
   "execution_count": null,
   "metadata": {},
   "outputs": [],
   "source": [
    "NAME = \"Ihsan Alaeddin\"\n",
    "COLLABORATORS = \"Group 1\""
   ]
  },
  {
   "cell_type": "markdown",
   "metadata": {},
   "source": [
    "---"
   ]
  },
  {
   "cell_type": "markdown",
   "metadata": {},
   "source": [
    "---\n",
    "# Lab 8: The Shell\n",
    "---\n",
    "\n",
    "This assignment is designed to reinforce and build on what you have learned about the shell, and demonstrate how you can write programs using command-line tools. The commands you will need to complete it are **mkdir**, **cd**, **cp**, **grep**, **cat**, **wc**, **|**, and **>**. \n",
    "\n",
    "Figure out how to do each of these tasks, **in the order they are given** (the output from one task is often used as the input to the next task):\n"
   ]
  },
  {
   "cell_type": "markdown",
   "metadata": {},
   "source": [
    "**1.** Create a new file called **command.txt** in the directory **Lab8-Shell-F20**. The commands you write for parts 2 - 12 should be stored in this file. \n",
    "\n",
    "\n",
    "* You can use the normal Jupyter interface to create and edit this text file if you wish. \n",
    "* You could also use the history command to find your command history and remind yourself of the commands you used."
   ]
  },
  {
   "cell_type": "markdown",
   "metadata": {},
   "source": [
    "**2.** Open a **Terminal** in Jupyter and enter the directory **Lab8-Shell-F20** using the command cd.\n",
    "    \n",
    "---"
   ]
  },
  {
   "cell_type": "markdown",
   "metadata": {},
   "source": [
    "**3.** Copy the following three sequence data files to your directory Lab8-Shell-F20. The file paths for the three data files are:\n",
    "\n",
    "~charliep/courses/cs128/first.dat\n",
    "\n",
    "~charliep/courses/cs128/second.dat\n",
    "\n",
    "~charliep/courses/cs128/third.dat\n",
    "\n",
    "These are small subsets of the actual output (FASTQ, Illumina format) from sequencing 16S rRNA genes extracted from soil microbes at an archaeological site in Iceland. It is about 1/2,000,000th of the total sequencer output from eight samples. Each entry, called a read, contains four lines. The first starts with @ and contains the unique ID, the second is the actual read (DNA), the + is a separator, and the last line is the quality data for the read. "
   ]
  },
  {
   "cell_type": "markdown",
   "metadata": {},
   "source": [
    "**4.** Find all the lines from first.dat and second.dat that contain the string `‘AACCTTNN’` and save them into one file called `fourth.dat`. All of those sequences should end up together in one file called `fourth.dat`.\n",
    "**Hint:**\n",
    "* `cat` has an additional use that we haven’t seen yet. \"`cat file1 file2`\" will output the contents of both of those files, in order. By default, this output will go to the screen, but we can pipe it to another command.\n",
    "* Think about how you can find all of the lines that contain a certain sequence. \n",
    "* Think about how you can make the output of that command end up in a new file.\n",
    "\n"
   ]
  },
  {
   "cell_type": "markdown",
   "metadata": {},
   "source": [
    "**5.** Append the contents of `third.dat` **to** `fourth.dat` to create `fifth.dat`. (The contents of `third.dat` should come after those of `fourth.dat`.)"
   ]
  },
  {
   "cell_type": "markdown",
   "metadata": {},
   "source": [
    "**6.** Save the number of lines, words and characters in `fifth.dat` to a new file `fifth-count.txt`."
   ]
  },
  {
   "cell_type": "markdown",
   "metadata": {},
   "source": [
    "**7.**  Save all the lines in `fifth.dat` that do not contain the string `‘AACCTTNN’` in one file called `sixth.dat`\n",
    "* Check to see if there are special flags that can be given to grep to make this task easier. "
   ]
  },
  {
   "cell_type": "markdown",
   "metadata": {},
   "source": [
    "**8.** Using one command line, display the number of **lines** in `fourth.dat` and `sixth.dat` combined. You should only display the number of lines, and nothing else."
   ]
  },
  {
   "cell_type": "markdown",
   "metadata": {},
   "source": [
    "**9.** Using one command line, extract sequences in `first.dat`, `second.dat`, and `third.dat` that contain the string `‘ATG’`  **but** do **not** contain the string `‘TAG’`. The results should end up together in one file called `seventh.dat`.\n"
   ]
  },
  {
   "cell_type": "markdown",
   "metadata": {},
   "source": [
    "**10.** Using one command line, extract sequences in `first.dat`, `second.dat`, and `third.dat` that contain  `‘CAT’` and contain `‘TAG’`. The results should end-up together in one file called `eighth.dat`."
   ]
  },
  {
   "cell_type": "markdown",
   "metadata": {},
   "source": [
    "**11.** Using one command line, display only the number of **words** in `seventh.dat`  and `eighth.dat`."
   ]
  },
  {
   "cell_type": "markdown",
   "metadata": {},
   "source": [
    "**12.** Use `history > history.txt` to create an archive of your command history. **You need to do this last; if you do other things after doing this, then you should do it again so you have an updated archive of your command history.**"
   ]
  },
  {
   "cell_type": "markdown",
   "metadata": {},
   "source": [
    "***Note for future***: add to the assignment something about getting the tail and head of a file.\n",
    "Also, perhaps make them use the help (i.e. documentation). (Catch a man a fish and he'll eat one meal. Teach him to fish and he'll eat for a lifetime....)"
   ]
  },
  {
   "cell_type": "markdown",
   "metadata": {},
   "source": [
    "All of these tasks can be accomplished with basic terminal commands, and while they could also be done with Python the point of this exercise is shell programming so let’s stick with terminal for now. \n",
    "\n",
    "This part is **optional**, and requires doing a lot of things we haven’t discussed at all in class. Email the instructor if you are interested.\n",
    "You may wish to collect all the command-lines you figure out into a single Bash script, ordered as above, that can be run with the command `$ ./script-name.sh`"
   ]
  }
 ],
 "metadata": {
  "kernelspec": {
   "display_name": "Python 3",
   "language": "python",
   "name": "python3"
  },
  "language_info": {
   "codemirror_mode": {
    "name": "ipython",
    "version": 3
   },
   "file_extension": ".py",
   "mimetype": "text/x-python",
   "name": "python",
   "nbconvert_exporter": "python",
   "pygments_lexer": "ipython3",
   "version": "3.7.4"
  }
 },
 "nbformat": 4,
 "nbformat_minor": 2
}
