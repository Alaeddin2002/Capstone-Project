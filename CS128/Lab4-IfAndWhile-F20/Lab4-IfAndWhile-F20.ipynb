{
 "cells": [
  {
   "cell_type": "markdown",
   "metadata": {},
   "source": [
    "Before you turn this problem in, make sure everything runs as expected. First, **restart the kernel** (in the menubar, select Kernel$\\rightarrow$Restart) and then **run all cells** (in the menubar, select Cell$\\rightarrow$Run All).\n",
    "\n",
    "Make sure you fill in any place that says `YOUR CODE HERE` or \"YOUR ANSWER HERE\", as well as your name and collaborators below:"
   ]
  },
  {
   "cell_type": "code",
   "execution_count": null,
   "metadata": {},
   "outputs": [],
   "source": [
    "NAME = \"\"\n",
    "COLLABORATORS = \"\""
   ]
  },
  {
   "cell_type": "markdown",
   "metadata": {},
   "source": [
    "---"
   ]
  },
  {
   "cell_type": "markdown",
   "metadata": {
    "deletable": false,
    "editable": false,
    "nbgrader": {
     "cell_type": "markdown",
     "checksum": "47e178294473a3b011acbb6434200f70",
     "grade": false,
     "grade_id": "Introduction",
     "locked": true,
     "schema_version": 3,
     "solution": false
    }
   },
   "source": [
    "---\n",
    "# Lab 4: If and While\n",
    "---\n",
    "**This is a pair-programming lab.**\n",
    "\n",
    "**You should do all portions of this lab with your partner, including design of the algorithm and implementation. You should not divide the problems in this lab and work on them individually; all of the work should be done with both people present and actively engaged.**\n",
    "\n",
    "The purpose of this lab is to introduce you to while loops and expose you to pair programming for the first time in this class. This lab will also get you used to writing code that is a little longer than code from other labs. For these exercises, you and your partner should work together to create a design before you get started coding. For exercises 5, 6, and 7, the autograder cannot assist in checking your work, because the code you are writing is interactive. You will have to check these manually.\n",
    "\n",
    "**This lab represents an increase in complexity. If you're feeling stuck, don't hesitate to reach out for help.**\n",
    "\n",
    "---\n",
    "This lab introduces:\n",
    "    \n",
    "    while loops\n",
    "    \n",
    "    random module\n",
    "    \n",
    "And provides practice for:\n",
    "\n",
    "    if statements\n",
    "    \n",
    "    design \n",
    "    \n",
    "    sums and counters in loops\n",
    "\n"
   ]
  },
  {
   "cell_type": "markdown",
   "metadata": {
    "deletable": false,
    "editable": false,
    "nbgrader": {
     "cell_type": "markdown",
     "checksum": "60f43de16692abd6f23a49440a6d8ba1",
     "grade": false,
     "grade_id": "Divider1",
     "locked": true,
     "schema_version": 3,
     "solution": false
    }
   },
   "source": [
    "---\n",
    "### Exercise 1\n",
    "---\n",
    "Write a function called **valid_date** that takes 3 parameters: A month, day, \n",
    "and year, in that order. This function should return **True** if it is a valid\n",
    "date and **False** if it is **not** a valid date.\n",
    "\n",
    "You will need to check that the month is between 1 and 12. For different months, there are different ranges of days that are valid, be sure to account for this. Additionally, the valid ranges of days for the month February will vary depending on what year it is. Use the function **is_leap_year** from Lab 3 to determine this. (You can copy that function into the cell. If you weren't able to get isLeapYear working last time, you can try again here.)"
   ]
  },
  {
   "cell_type": "code",
   "execution_count": null,
   "metadata": {
    "deletable": false,
    "nbgrader": {
     "cell_type": "code",
     "checksum": "3f6cab71a6f9942671a96cd9b81e96e3",
     "grade": false,
     "grade_id": "Part1",
     "locked": false,
     "schema_version": 3,
     "solution": true
    }
   },
   "outputs": [],
   "source": [
    "# YOUR CODE HERE\n",
    "raise NotImplementedError()"
   ]
  },
  {
   "cell_type": "markdown",
   "metadata": {
    "deletable": false,
    "editable": false,
    "nbgrader": {
     "cell_type": "markdown",
     "checksum": "bfb367d704e1d2066da1617d3c6b06cf",
     "grade": false,
     "grade_id": "Divider2",
     "locked": true,
     "schema_version": 3,
     "solution": false
    }
   },
   "source": [
    "---\n",
    "### Exercise 2\n",
    "---\n",
    "As a continuation of the exercise above, write a function called **get_day_number**. It should take the same parameters as **valid_date** and return what day of the year the date is. (1 to 365 on a regular year and 1 to 366 on a leap year)\n",
    "\n",
    "To calculate the day number (assume using the variable **day_num**), you could use the following three steps:\n",
    "    1. day_num = 31 * (month-1) + day\n",
    "    2. if the month is after February, subtract (4 * month + 23) // 10 from day_num\n",
    "    3. if it's a leap year and after February 29th, add 1 to day_num\n",
    "\n",
    "Be sure call **valid_date** inside **get_day_number** to make sure it is a valid date. If the date is invalid, return **False**."
   ]
  },
  {
   "cell_type": "code",
   "execution_count": null,
   "metadata": {
    "deletable": false,
    "nbgrader": {
     "cell_type": "code",
     "checksum": "d53289e8c6687b33ce965daf82462361",
     "grade": false,
     "grade_id": "Part2",
     "locked": false,
     "schema_version": 3,
     "solution": true
    }
   },
   "outputs": [],
   "source": [
    "# YOUR CODE HERE\n",
    "raise NotImplementedError()"
   ]
  },
  {
   "cell_type": "markdown",
   "metadata": {
    "deletable": false,
    "editable": false,
    "nbgrader": {
     "cell_type": "markdown",
     "checksum": "a890137f4281e9c69afc687c2e9e6fdd",
     "grade": false,
     "grade_id": "Divider3",
     "locked": true,
     "schema_version": 3,
     "solution": false
    }
   },
   "source": [
    "---\n",
    "### Exercise 3\n",
    "---\n",
    "**If n is a positive whole number greater than 2, we say that n is *prime* if no number between 2 and the square root of n (inclusive) evenly divides n.** \n",
    "For example, 5 is prime because no number aside from 1 and 5 goes into 5 evenly. 8 is not prime, because 2 goes into 8 evenly. 57 is not prime, because 3 goes into it evenly, but 59 is prime.\n",
    "\n",
    "In the cell below, write a function called **is_prime** that takes a value of n as a parameter and returns True if n is prime and False otherwise. Use a while loop in your solution. Your solution should not loop more times than is necessary to confirm that the number is or is not prime.\n",
    "\n",
    "To find the square root of the parameter, you can use the math.sqrt() function. If you\n",
    "\n",
    "    import math\n",
    "    \n",
    "At the top of the cell, you will have access to this function and can use it to find the square root of a number."
   ]
  },
  {
   "cell_type": "code",
   "execution_count": null,
   "metadata": {
    "deletable": false,
    "nbgrader": {
     "cell_type": "code",
     "checksum": "b8cc1baa4a8ef4cd339431b361022d5d",
     "grade": false,
     "grade_id": "Part3",
     "locked": false,
     "schema_version": 3,
     "solution": true
    }
   },
   "outputs": [],
   "source": [
    "# YOUR CODE HERE\n",
    "raise NotImplementedError()"
   ]
  },
  {
   "cell_type": "markdown",
   "metadata": {
    "deletable": false,
    "editable": false,
    "nbgrader": {
     "cell_type": "markdown",
     "checksum": "d050d9d02df53a5bda6e356931eea470",
     "grade": false,
     "grade_id": "Divider4",
     "locked": true,
     "schema_version": 3,
     "solution": false
    }
   },
   "source": [
    "---\n",
    "### Exercise 4\n",
    "---\n",
    "There is a geometric series: 1 + 1/2 + 1/4 + 1/8 + 1/16 + 1/32 + ... + 1/(2^n). Every time the next, fraction is added, the sum gets closer and closer to 2. \n",
    "\n",
    "Write a function called **geometric_series** that takes one parameter that must be between 0 and 2. The function should calculate and return how many additions it takes to reach the parameter, including the first 1. One way to do this is to use a while loop and to increment a counter variable every time the while loop runs.\n",
    "\n",
    "**Example**\n",
    "\n",
    "If the parameter is 1.80, the returned value shoud be 4.\n",
    "\n",
    "Here is why:\n",
    "\n",
    "    1.) The first number to be added to the sum is 1, total sum is 1\n",
    "\n",
    "    2.) The second number to be added to the sum is 1/2(0.5), total sum is 1.5\n",
    "\n",
    "    3.) The third number to be added to the sum is 1/4(0.25), total sum is 1.75\n",
    "\n",
    "    4.) The fourth number to be added to the sum is 1/8(0.125), total  sum is 1.875.\n",
    "\n",
    "It takes four steps for the sum the reach 1.8\n",
    "\n",
    "Think carefully about what values you will need to keep track of as the while loop runs.\n",
    "\n",
    "**Note:**\n",
    "\n",
    "Here is a short Khan Academy video about this geometric series: https://www.khanacademy.org/math/algebra2/sequences-and-series/copy-of-geometric-sequence-series/v/series-as-sum-of-sequence\n",
    "\n",
    "**Note 2:**\n",
    "\n",
    "You will be using this in a future exercise. "
   ]
  },
  {
   "cell_type": "code",
   "execution_count": null,
   "metadata": {
    "deletable": false,
    "nbgrader": {
     "cell_type": "code",
     "checksum": "e3c2c87a7b236ad24295d957dda9d400",
     "grade": false,
     "grade_id": "Part4",
     "locked": false,
     "schema_version": 3,
     "solution": true
    }
   },
   "outputs": [],
   "source": [
    "# YOUR CODE HERE\n",
    "raise NotImplementedError()"
   ]
  },
  {
   "cell_type": "markdown",
   "metadata": {
    "deletable": false,
    "editable": false,
    "nbgrader": {
     "cell_type": "markdown",
     "checksum": "4e2ce8bdb359ee1b6d3ceb9c19a9414e",
     "grade": false,
     "grade_id": "Divider5",
     "locked": true,
     "schema_version": 3,
     "solution": false
    }
   },
   "source": [
    "---\n",
    "### Exercise 5\n",
    "---\n",
    "Write a function called **guessing_game** in which the user can play a guessing game against the computer. The function will take one parameter, a maximum value. This game will prompt the user for an integer between 0 and that maximum value (inclusive) as a guess. The correct answer should be determined randomly. For example, if guessing_game(20) is called, then the maximum value that can be generated should be 20.\n",
    "\n",
    "Use the **randrange** or **randint** function from the **random** pythom library in order to generate the correct guess. \n",
    "https://docs.python.org/3/library/random.html#random.randrange\n",
    "\n",
    "Be sure to print whether or not the user guessed correctly. If they didn't guess correctly, communicate to the user what the correct guess would have been. (This game is not very fun, but we will design more interesting versions later.)\n",
    "\n",
    "**Note:** Prompting the user means the function will take user input rather than a parameter. You will use the `input()` function. Since user input is taken as a string, you will need to change it into an integer using the `int()` function. This function and the ones like it cannot be automatically validated; you will need to test it yourself."
   ]
  },
  {
   "cell_type": "code",
   "execution_count": null,
   "metadata": {
    "deletable": false,
    "nbgrader": {
     "cell_type": "code",
     "checksum": "e3cdb4cbadba2eefec146a5413712536",
     "grade": false,
     "grade_id": "Part5",
     "locked": false,
     "schema_version": 3,
     "solution": true
    }
   },
   "outputs": [],
   "source": [
    "# YOUR CODE HERE\n",
    "raise NotImplementedError()"
   ]
  },
  {
   "cell_type": "markdown",
   "metadata": {
    "deletable": false,
    "editable": false,
    "nbgrader": {
     "cell_type": "markdown",
     "checksum": "540735ac5977a9c25e21d9b61359391b",
     "grade": false,
     "grade_id": "Divider6",
     "locked": true,
     "schema_version": 3,
     "solution": false
    }
   },
   "source": [
    "---\n",
    "### Exercise 6\n",
    "---\n",
    "Write a function called **slightly_better_guessing_game**. It should work the same as **guessing_game**, but it will continue to give the user guesses until the user has guessed the correct number. \n",
    "\n",
    "Be sure to communicate with the user when they have won and when they have guessed incorrectly and need to guess again. \n",
    "\n",
    "**Note**: Use a while loop so that the game is still played while the user has yet to guess the correct number. "
   ]
  },
  {
   "cell_type": "code",
   "execution_count": null,
   "metadata": {
    "deletable": false,
    "nbgrader": {
     "cell_type": "code",
     "checksum": "fdd1103eaf54dbad2968a8061af4577f",
     "grade": false,
     "grade_id": "Part6",
     "locked": false,
     "schema_version": 3,
     "solution": true
    }
   },
   "outputs": [],
   "source": [
    "# YOUR CODE HERE\n",
    "raise NotImplementedError()"
   ]
  },
  {
   "cell_type": "markdown",
   "metadata": {
    "deletable": false,
    "editable": false,
    "nbgrader": {
     "cell_type": "markdown",
     "checksum": "9974c0f8e911626f6e3c78f5aa18b6d8",
     "grade": false,
     "grade_id": "Divider7",
     "locked": true,
     "schema_version": 3,
     "solution": false
    }
   },
   "source": [
    "---\n",
    "### Exercise 7\n",
    "---\n",
    "Write a function called **rock_paper_scissors** in which a user can play the game rock paper scissors against a computer. Your function should take no parameters.\n",
    "\n",
    "Take user input using the statement: \"rock, paper, scissors, shoot!\". Design the game such that the game will **not** end until the user **beats** the computer (use a while loop for this).\n",
    "\n",
    "The easiest way to do this might be to use the random.choice function. You can also use the randrange or randint function from the **random** pythom library in order to generate the computer's move. \n",
    "https://docs.python.org/3/library/random.html#random.randrange\n",
    "\n",
    "Print **what the computer played**, and print **whether the user lost, tied or won** the game. "
   ]
  },
  {
   "cell_type": "code",
   "execution_count": null,
   "metadata": {
    "deletable": false,
    "nbgrader": {
     "cell_type": "code",
     "checksum": "288599826cd9708b30b0db4c8e2bbcf1",
     "grade": false,
     "grade_id": "Part7",
     "locked": false,
     "schema_version": 3,
     "solution": true
    }
   },
   "outputs": [],
   "source": [
    "import random\n",
    "def  rock_paper_scissors():\n",
    "    game = True\n",
    "    while game:\n",
    "        user_choice = input (\"rock, paper, scissors, shoot!\")\n",
    "        computer = [\"rock\",\"paper\",\"scissors\"]\n",
    "        r = random.choice (computer)\n",
    "        print (\"what the computer played:\", r)\n",
    "        if user_choice == \"paper\" and r == \"scissors\": \n",
    "            print (\"you lose\")\n",
    "            game = True\n",
    "        if user_choice == \"rock\" and r == \"paper\":\n",
    "            print (\"You lose :(\")\n",
    "            game = True\n",
    "        if user_choice == \"scissors\" and r == \"rock\":\n",
    "            print (\"You lose :(\")\n",
    "            game = True\n",
    "        if user_choice == \"rock\" and r == \"scissors\":\n",
    "            print (\"You Win!\")\n",
    "            game = False\n",
    "        if user_choice == \"scissors\" and r == \"paper\":\n",
    "            print (\"You Win!\")\n",
    "            game = False\n",
    "        if user_choice == \"paper\" and r == \"rock\":\n",
    "            print (\"You Win!\")\n",
    "            game = False\n",
    "        if user_choice == r:\n",
    "            print (\"It's a Tie!\")\n",
    "            game = False\n",
    "        \n",
    "rock_paper_scissors()\n",
    "    "
   ]
  },
  {
   "cell_type": "code",
   "execution_count": 9,
   "metadata": {
    "deletable": false,
    "editable": false,
    "nbgrader": {
     "cell_type": "code",
     "checksum": "3691b8d227236809974f18f47d079011",
     "grade": true,
     "grade_id": "Test1-case0",
     "locked": true,
     "points": 2,
     "schema_version": 3,
     "solution": false
    }
   },
   "outputs": [
    {
     "ename": "NameError",
     "evalue": "name 'is_leap_year' is not defined",
     "output_type": "error",
     "traceback": [
      "\u001b[0;31m---------------------------------------------------------------------------\u001b[0m",
      "\u001b[0;31mNameError\u001b[0m                                 Traceback (most recent call last)",
      "\u001b[0;32m<ipython-input-9-9c1013bb70f5>\u001b[0m in \u001b[0;36m<module>\u001b[0;34m\u001b[0m\n\u001b[1;32m      3\u001b[0m \u001b[0;32mfrom\u001b[0m \u001b[0mnose\u001b[0m\u001b[0;34m.\u001b[0m\u001b[0mtools\u001b[0m \u001b[0;32mimport\u001b[0m \u001b[0massert_equal\u001b[0m\u001b[0;34m\u001b[0m\u001b[0;34m\u001b[0m\u001b[0m\n\u001b[1;32m      4\u001b[0m \u001b[0;31m### BEGIN TEST\u001b[0m\u001b[0;34m\u001b[0m\u001b[0;34m\u001b[0m\u001b[0;34m\u001b[0m\u001b[0m\n\u001b[0;32m----> 5\u001b[0;31m \u001b[0massert_equal\u001b[0m\u001b[0;34m(\u001b[0m\u001b[0mis_leap_year\u001b[0m\u001b[0;34m(\u001b[0m\u001b[0;36m2000\u001b[0m\u001b[0;34m)\u001b[0m\u001b[0;34m,\u001b[0m \u001b[0;32mTrue\u001b[0m\u001b[0;34m)\u001b[0m\u001b[0;34m\u001b[0m\u001b[0;34m\u001b[0m\u001b[0m\n\u001b[0m\u001b[1;32m      6\u001b[0m \u001b[0massert_equal\u001b[0m\u001b[0;34m(\u001b[0m\u001b[0mis_leap_year\u001b[0m\u001b[0;34m(\u001b[0m\u001b[0;36m2016\u001b[0m\u001b[0;34m)\u001b[0m\u001b[0;34m,\u001b[0m \u001b[0;32mTrue\u001b[0m\u001b[0;34m)\u001b[0m\u001b[0;34m\u001b[0m\u001b[0;34m\u001b[0m\u001b[0m\n\u001b[1;32m      7\u001b[0m \u001b[0massert_equal\u001b[0m\u001b[0;34m(\u001b[0m\u001b[0mis_leap_year\u001b[0m\u001b[0;34m(\u001b[0m\u001b[0;36m1900\u001b[0m\u001b[0;34m)\u001b[0m\u001b[0;34m,\u001b[0m \u001b[0;32mFalse\u001b[0m\u001b[0;34m)\u001b[0m\u001b[0;34m\u001b[0m\u001b[0;34m\u001b[0m\u001b[0m\n",
      "\u001b[0;31mNameError\u001b[0m: name 'is_leap_year' is not defined"
     ]
    }
   ],
   "source": [
    "# Ignore this cell\n",
    "# DO NOT DELETE THIS CELL\n",
    "from nose.tools import assert_equal\n",
    "### BEGIN TEST\n",
    "assert_equal(is_leap_year(2000), True)\n",
    "assert_equal(is_leap_year(2016), True)\n",
    "assert_equal(is_leap_year(1900), False)\n",
    "assert_equal(is_leap_year(2015), False)\n",
    "### END TEST"
   ]
  },
  {
   "cell_type": "code",
   "execution_count": null,
   "metadata": {
    "deletable": false,
    "editable": false,
    "nbgrader": {
     "cell_type": "code",
     "checksum": "747a3548e31149f8f2a1d872c368c3c6",
     "grade": true,
     "grade_id": "Test1-case1",
     "locked": true,
     "points": 1,
     "schema_version": 3,
     "solution": false
    }
   },
   "outputs": [],
   "source": [
    "# Ignore this cell\n",
    "# DO NOT DELETE THIS CELL\n",
    "\n",
    "from nose.tools import assert_equal\n",
    "### BEGIN TEST\n",
    "assert_equal(valid_date(13, 29, 1200), False)\n",
    "### END TEST"
   ]
  },
  {
   "cell_type": "code",
   "execution_count": null,
   "metadata": {
    "deletable": false,
    "editable": false,
    "nbgrader": {
     "cell_type": "code",
     "checksum": "10f9fb6e0cc58fb4c5ef7215946a906a",
     "grade": true,
     "grade_id": "Test1-case2",
     "locked": true,
     "points": 1,
     "schema_version": 3,
     "solution": false
    }
   },
   "outputs": [],
   "source": [
    "# Ignore this cell\n",
    "# DO NOT DELETE THIS CELL\n",
    "\n",
    "from nose.tools import assert_equal\n",
    "### BEGIN TEST\n",
    "assert_equal(valid_date(10, 20, 0), False)\n",
    "### END TEST"
   ]
  },
  {
   "cell_type": "code",
   "execution_count": null,
   "metadata": {
    "deletable": false,
    "editable": false,
    "nbgrader": {
     "cell_type": "code",
     "checksum": "0ac54da470ffd81e627931d5e9218139",
     "grade": true,
     "grade_id": "Test1-case3",
     "locked": true,
     "points": 1,
     "schema_version": 3,
     "solution": false
    }
   },
   "outputs": [],
   "source": [
    "# Ignore this cell\n",
    "# DO NOT DELETE THIS CELL\n",
    "\n",
    "from nose.tools import assert_equal\n",
    "### BEGIN TEST\n",
    "assert_equal(valid_date(1, 31, 2004), True)\n",
    "### END TEST"
   ]
  },
  {
   "cell_type": "code",
   "execution_count": null,
   "metadata": {
    "deletable": false,
    "editable": false,
    "nbgrader": {
     "cell_type": "code",
     "checksum": "6c72094f174e9339ed361605e87e66b4",
     "grade": true,
     "grade_id": "Test1-case4",
     "locked": true,
     "points": 1,
     "schema_version": 3,
     "solution": false
    }
   },
   "outputs": [],
   "source": [
    "# Ignore this cell\n",
    "# DO NOT DELETE THIS CELL\n",
    "\n",
    "from nose.tools import assert_equal\n",
    "### BEGIN TEST\n",
    "assert_equal(valid_date(5, 32, 2004), False)\n",
    "### END TEST"
   ]
  },
  {
   "cell_type": "code",
   "execution_count": null,
   "metadata": {
    "deletable": false,
    "editable": false,
    "nbgrader": {
     "cell_type": "code",
     "checksum": "2481519a573ed5a2f49e22e9868123e0",
     "grade": true,
     "grade_id": "Test1-case5",
     "locked": true,
     "points": 1,
     "schema_version": 3,
     "solution": false
    }
   },
   "outputs": [],
   "source": [
    "# Ignore this cell\n",
    "# DO NOT DELETE THIS CELL\n",
    "\n",
    "from nose.tools import assert_equal\n",
    "### BEGIN TEST\n",
    "assert_equal(valid_date(2, 29, 1200), True)\n",
    "### END TEST"
   ]
  },
  {
   "cell_type": "code",
   "execution_count": null,
   "metadata": {
    "deletable": false,
    "editable": false,
    "nbgrader": {
     "cell_type": "code",
     "checksum": "ff1ee67400fc93238833bb9277e8d56c",
     "grade": true,
     "grade_id": "Test1-case6",
     "locked": true,
     "points": 1,
     "schema_version": 3,
     "solution": false
    }
   },
   "outputs": [],
   "source": [
    "# Ignore this cell\n",
    "# DO NOT DELETE THIS CELL\n",
    "\n",
    "from nose.tools import assert_equal\n",
    "### BEGIN TEST\n",
    "assert_equal(valid_date(2, 30, 1200), False)\n",
    "### END TEST"
   ]
  },
  {
   "cell_type": "code",
   "execution_count": null,
   "metadata": {
    "deletable": false,
    "editable": false,
    "nbgrader": {
     "cell_type": "code",
     "checksum": "b2f7298fb1e4cbb41e7c105608229e39",
     "grade": true,
     "grade_id": "Test1-case7",
     "locked": true,
     "points": 1,
     "schema_version": 3,
     "solution": false
    }
   },
   "outputs": [],
   "source": [
    "# Ignore this cell\n",
    "# DO NOT DELETE THIS CELL\n",
    "\n",
    "from nose.tools import assert_equal\n",
    "### BEGIN TEST\n",
    "assert_equal(valid_date(2, 28, 1201), True)\n",
    "### END TEST"
   ]
  },
  {
   "cell_type": "code",
   "execution_count": null,
   "metadata": {
    "deletable": false,
    "editable": false,
    "nbgrader": {
     "cell_type": "code",
     "checksum": "59c1189ed322ebb061a8fec88e8a7bb8",
     "grade": true,
     "grade_id": "Test1-case8",
     "locked": true,
     "points": 1,
     "schema_version": 3,
     "solution": false
    }
   },
   "outputs": [],
   "source": [
    "# Ignore this cell\n",
    "# DO NOT DELETE THIS CELL\n",
    "\n",
    "from nose.tools import assert_equal\n",
    "### BEGIN TEST\n",
    "assert_equal(valid_date(2, 29, 1201), False)\n",
    "### END TEST"
   ]
  },
  {
   "cell_type": "code",
   "execution_count": null,
   "metadata": {
    "deletable": false,
    "editable": false,
    "nbgrader": {
     "cell_type": "code",
     "checksum": "da31a9e0a72555d01bb31c7af0d2504f",
     "grade": true,
     "grade_id": "Test1-case9",
     "locked": true,
     "points": 1,
     "schema_version": 3,
     "solution": false
    }
   },
   "outputs": [],
   "source": [
    "# Ignore this cell\n",
    "# DO NOT DELETE THIS CELL\n",
    "\n",
    "from nose.tools import assert_equal\n",
    "### BEGIN TEST\n",
    "assert_equal(valid_date(11, 31, 1901), False)\n",
    "### END TEST"
   ]
  },
  {
   "cell_type": "code",
   "execution_count": null,
   "metadata": {
    "deletable": false,
    "editable": false,
    "nbgrader": {
     "cell_type": "code",
     "checksum": "4ac89aba7d8174de830a0b8cf4bf8693",
     "grade": true,
     "grade_id": "Test1-case10",
     "locked": true,
     "points": 1,
     "schema_version": 3,
     "solution": false
    }
   },
   "outputs": [],
   "source": [
    "# Ignore this cell\n",
    "# DO NOT DELETE THIS CELL\n",
    "\n",
    "from nose.tools import assert_equal\n",
    "### BEGIN TEST\n",
    "assert_equal(valid_date(11, 30, 1901), True)\n",
    "### END TEST"
   ]
  },
  {
   "cell_type": "code",
   "execution_count": null,
   "metadata": {
    "deletable": false,
    "editable": false,
    "nbgrader": {
     "cell_type": "code",
     "checksum": "cd760f372f575c5784d20aa0525235bd",
     "grade": true,
     "grade_id": "Test1-case11",
     "locked": true,
     "points": 1,
     "schema_version": 3,
     "solution": false
    }
   },
   "outputs": [],
   "source": [
    "# Ignore this cell\n",
    "# DO NOT DELETE THIS CELL\n",
    "\n",
    "from nose.tools import assert_equal\n",
    "### BEGIN TEST\n",
    "assert_equal(valid_date(-1, -30, 1901), False)\n",
    "### END TEST"
   ]
  },
  {
   "cell_type": "code",
   "execution_count": null,
   "metadata": {
    "deletable": false,
    "editable": false,
    "nbgrader": {
     "cell_type": "code",
     "checksum": "5eec37468bdb90a80c6aef2a56070a41",
     "grade": true,
     "grade_id": "Test2-case1",
     "locked": true,
     "points": 1,
     "schema_version": 3,
     "solution": false
    }
   },
   "outputs": [],
   "source": [
    "# Ignore this cell\n",
    "# DO NOT DELETE THIS CELL\n",
    "\n",
    "from nose.tools import assert_equal\n",
    "### BEGIN TEST\n",
    "assert_equal(get_day_number(2, 1, 2016), 32)\n",
    "### END TEST"
   ]
  },
  {
   "cell_type": "code",
   "execution_count": null,
   "metadata": {
    "deletable": false,
    "editable": false,
    "nbgrader": {
     "cell_type": "code",
     "checksum": "dde3384b7e9c503f5e96e98c8046dcde",
     "grade": true,
     "grade_id": "Test2-case2",
     "locked": true,
     "points": 1,
     "schema_version": 3,
     "solution": false
    }
   },
   "outputs": [],
   "source": [
    "# Ignore this cell\n",
    "# DO NOT DELETE THIS CELL\n",
    "\n",
    "from nose.tools import assert_equal\n",
    "### BEGIN TEST\n",
    "assert_equal(get_day_number(12, 31, 2015), 365)\n",
    "### END TEST"
   ]
  },
  {
   "cell_type": "code",
   "execution_count": null,
   "metadata": {
    "deletable": false,
    "editable": false,
    "nbgrader": {
     "cell_type": "code",
     "checksum": "94fc878f4fa3819567d7d1fc88da0440",
     "grade": true,
     "grade_id": "Test2-case3",
     "locked": true,
     "points": 1,
     "schema_version": 3,
     "solution": false
    }
   },
   "outputs": [],
   "source": [
    "# Ignore this cell\n",
    "# DO NOT DELETE THIS CELL\n",
    "\n",
    "from nose.tools import assert_equal\n",
    "### BEGIN TEST\n",
    "assert_equal(get_day_number(12, 31, 2016), 366)\n",
    "### END TEST"
   ]
  },
  {
   "cell_type": "code",
   "execution_count": null,
   "metadata": {
    "deletable": false,
    "editable": false,
    "nbgrader": {
     "cell_type": "code",
     "checksum": "638911aee4ff0e477a257af1812137c1",
     "grade": true,
     "grade_id": "Test2-case4",
     "locked": true,
     "points": 1,
     "schema_version": 3,
     "solution": false
    }
   },
   "outputs": [],
   "source": [
    "# Ignore this cell\n",
    "# DO NOT DELETE THIS CELL\n",
    "\n",
    "from nose.tools import assert_equal\n",
    "### BEGIN TEST\n",
    "assert_equal(get_day_number(13, 15, 2016), False)\n",
    "### END TEST"
   ]
  },
  {
   "cell_type": "code",
   "execution_count": null,
   "metadata": {
    "deletable": false,
    "editable": false,
    "nbgrader": {
     "cell_type": "code",
     "checksum": "c87b780dfe90862ff3fbafb0fc04dae1",
     "grade": true,
     "grade_id": "Test2-case5",
     "locked": true,
     "points": 1,
     "schema_version": 3,
     "solution": false
    }
   },
   "outputs": [],
   "source": [
    "# Ignore this cell\n",
    "# DO NOT DELETE THIS CELL\n",
    "\n",
    "from nose.tools import assert_equal\n",
    "### BEGIN TEST\n",
    "assert_equal(get_day_number(12, -1, 2016), False)\n",
    "### END TEST"
   ]
  },
  {
   "cell_type": "code",
   "execution_count": null,
   "metadata": {
    "deletable": false,
    "editable": false,
    "nbgrader": {
     "cell_type": "code",
     "checksum": "ccb768db4d7ec6fd17352c78e313e20b",
     "grade": true,
     "grade_id": "Test3-Case1",
     "locked": true,
     "points": 3,
     "schema_version": 3,
     "solution": false
    }
   },
   "outputs": [],
   "source": [
    "# Ignore this cell\n",
    "# DO NOT DELETE THIS CELL\n",
    "\n",
    "from nose.tools import assert_equal\n",
    "\n",
    "### BEGIN TEST\n",
    "assert_equal(is_prime(101), True)\n",
    "assert_equal(is_prime(103), True)\n",
    "assert_equal(is_prime(17), True)\n",
    "### END TEST"
   ]
  },
  {
   "cell_type": "code",
   "execution_count": null,
   "metadata": {
    "deletable": false,
    "editable": false,
    "nbgrader": {
     "cell_type": "code",
     "checksum": "35924fae41e66478cee03b455dfeb5ce",
     "grade": true,
     "grade_id": "Test3-Case2",
     "locked": true,
     "points": 3,
     "schema_version": 3,
     "solution": false
    }
   },
   "outputs": [],
   "source": [
    "# Ignore this cell\n",
    "# DO NOT DELETE THIS CELL\n",
    "\n",
    "from nose.tools import assert_equal\n",
    "\n",
    "### BEGIN TEST\n",
    "assert_equal(is_prime(105), False)\n",
    "assert_equal(is_prime(51), False)\n",
    "### END TEST"
   ]
  },
  {
   "cell_type": "code",
   "execution_count": null,
   "metadata": {
    "deletable": false,
    "editable": false,
    "nbgrader": {
     "cell_type": "code",
     "checksum": "b57e6ad2f724f0bea1cccdfdf8250434",
     "grade": true,
     "grade_id": "Test4-Case1",
     "locked": true,
     "points": 3,
     "schema_version": 3,
     "solution": false
    }
   },
   "outputs": [],
   "source": [
    "# Ignore this cell\n",
    "# DO NOT DELETE THIS CELL\n",
    "\n",
    "from nose.tools import assert_equal\n",
    "### BEGIN TEST\n",
    "assert_equal(geometric_series(1.89), 5)\n",
    "### END TEST"
   ]
  },
  {
   "cell_type": "code",
   "execution_count": null,
   "metadata": {
    "deletable": false,
    "editable": false,
    "nbgrader": {
     "cell_type": "code",
     "checksum": "425b652aedf3139265a9d710a2540cd0",
     "grade": true,
     "grade_id": "Test4-Case2",
     "locked": true,
     "points": 3,
     "schema_version": 3,
     "solution": false
    }
   },
   "outputs": [],
   "source": [
    "# Ignore this cell\n",
    "# DO NOT DELETE THIS CELL\n",
    "\n",
    "from nose.tools import assert_equal\n",
    "### BEGIN TEST\n",
    "assert_equal(geometric_series(1.999999), 21)\n",
    "### END TEST"
   ]
  },
  {
   "cell_type": "code",
   "execution_count": null,
   "metadata": {
    "deletable": false,
    "editable": false,
    "nbgrader": {
     "cell_type": "code",
     "checksum": "fde519766a6c9b0781189ae935d3b06a",
     "grade": true,
     "grade_id": "Test5",
     "locked": true,
     "points": 6,
     "schema_version": 3,
     "solution": false
    }
   },
   "outputs": [],
   "source": [
    "# Ignore this cell\n",
    "# DO NOT DELETE THIS CELL\n",
    "# Test for guessing_game\n",
    "### BEGIN TEST\n",
    "### END TEST"
   ]
  },
  {
   "cell_type": "code",
   "execution_count": null,
   "metadata": {
    "deletable": false,
    "editable": false,
    "nbgrader": {
     "cell_type": "code",
     "checksum": "ae8dada080eeb3ee2ee464144132d44e",
     "grade": true,
     "grade_id": "Test6",
     "locked": true,
     "points": 6,
     "schema_version": 3,
     "solution": false
    }
   },
   "outputs": [],
   "source": [
    "# Ignore this cell\n",
    "# DO NOT DELETE THIS CELL\n",
    "# Test for slightly_better_guessing_game\n",
    "### BEGIN TEST\n",
    "### END TEST"
   ]
  },
  {
   "cell_type": "code",
   "execution_count": null,
   "metadata": {
    "deletable": false,
    "editable": false,
    "nbgrader": {
     "cell_type": "code",
     "checksum": "db87bdb12ba6fb1192dc80e25776d2fb",
     "grade": true,
     "grade_id": "Test7",
     "locked": true,
     "points": 10,
     "schema_version": 3,
     "solution": false
    }
   },
   "outputs": [],
   "source": [
    "# Ignore this cell\n",
    "# DO NOT DELETE THIS CELL\n",
    "# Test for rock, paper, scissors\n",
    "### BEGIN TESTS\n",
    "#rock_paper_scissors()\n",
    "### END TEST"
   ]
  },
  {
   "cell_type": "code",
   "execution_count": null,
   "metadata": {},
   "outputs": [],
   "source": []
  }
 ],
 "metadata": {
  "kernelspec": {
   "display_name": "Python 3",
   "language": "python",
   "name": "python3"
  },
  "language_info": {
   "codemirror_mode": {
    "name": "ipython",
    "version": 3
   },
   "file_extension": ".py",
   "mimetype": "text/x-python",
   "name": "python",
   "nbconvert_exporter": "python",
   "pygments_lexer": "ipython3",
   "version": "3.7.4"
  }
 },
 "nbformat": 4,
 "nbformat_minor": 1
}
