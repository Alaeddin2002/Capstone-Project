{
 "cells": [
  {
   "cell_type": "code",
   "execution_count": 65,
   "id": "48dc8a90",
   "metadata": {},
   "outputs": [
    {
     "name": "stderr",
     "output_type": "stream",
     "text": [
      "`summarise()` ungrouping output (override with `.groups` argument)\n",
      "\n"
     ]
    },
    {
     "data": {
      "text/html": [
       "<table>\n",
       "<caption>A tibble: 6 × 2</caption>\n",
       "<thead>\n",
       "\t<tr><th scope=col>Age.Group</th><th scope=col>mean_place</th></tr>\n",
       "\t<tr><th scope=col>&lt;fct&gt;</th><th scope=col>&lt;dbl&gt;</th></tr>\n",
       "</thead>\n",
       "<tbody>\n",
       "\t<tr><td>20-29</td><td>26.89062</td></tr>\n",
       "\t<tr><td>30-39</td><td>33.35106</td></tr>\n",
       "\t<tr><td>40-49</td><td>36.33663</td></tr>\n",
       "\t<tr><td>50-59</td><td>38.57692</td></tr>\n",
       "\t<tr><td>60+  </td><td>45.66667</td></tr>\n",
       "\t<tr><td>U20  </td><td>35.73913</td></tr>\n",
       "</tbody>\n",
       "</table>\n"
      ],
      "text/latex": [
       "A tibble: 6 × 2\n",
       "\\begin{tabular}{ll}\n",
       " Age.Group & mean\\_place\\\\\n",
       " <fct> & <dbl>\\\\\n",
       "\\hline\n",
       "\t 20-29 & 26.89062\\\\\n",
       "\t 30-39 & 33.35106\\\\\n",
       "\t 40-49 & 36.33663\\\\\n",
       "\t 50-59 & 38.57692\\\\\n",
       "\t 60+   & 45.66667\\\\\n",
       "\t U20   & 35.73913\\\\\n",
       "\\end{tabular}\n"
      ],
      "text/markdown": [
       "\n",
       "A tibble: 6 × 2\n",
       "\n",
       "| Age.Group &lt;fct&gt; | mean_place &lt;dbl&gt; |\n",
       "|---|---|\n",
       "| 20-29 | 26.89062 |\n",
       "| 30-39 | 33.35106 |\n",
       "| 40-49 | 36.33663 |\n",
       "| 50-59 | 38.57692 |\n",
       "| 60+   | 45.66667 |\n",
       "| U20   | 35.73913 |\n",
       "\n"
      ],
      "text/plain": [
       "  Age.Group mean_place\n",
       "1 20-29     26.89062  \n",
       "2 30-39     33.35106  \n",
       "3 40-49     36.33663  \n",
       "4 50-59     38.57692  \n",
       "5 60+       45.66667  \n",
       "6 U20       35.73913  "
      ]
     },
     "metadata": {},
     "output_type": "display_data"
    },
    {
     "data": {
      "image/png": "[encoded data removed]",
      "text/plain": [
       "plot without title"
      ]
     },
     "metadata": {
      "image/png": {
       "height": 420,
       "width": 420
      }
     },
     "output_type": "display_data"
    }
   ],
   "source": [
    "library(ggplot2)\n",
    "library(dplyr)\n",
    "\n",
    "myData2 = read.csv(\"Cross_Sectional_Data.csv\", header = TRUE)\n",
    "\n",
    "#Year Over all measured for each age group\n",
    "myData2 %>%\n",
    "    group_by(Age.Group) %>%\n",
    "    summarize(mean_place = mean(Year_Overall_Place))\n",
    "ggplot(myData2,aes(x=Age.Group,y=Year_Overall_Place))+geom_boxplot()\n"
   ]
  },
  {
   "cell_type": "code",
   "execution_count": 66,
   "id": "d57e2c90",
   "metadata": {},
   "outputs": [
    {
     "data": {
      "text/plain": [
       "\n",
       "Call:\n",
       "lm(formula = Year_Overall_Place ~ Age.Group, data = myData2)\n",
       "\n",
       "Residuals:\n",
       "    Min      1Q  Median      3Q     Max \n",
       "-36.577 -14.891  -2.337  13.109  60.109 \n",
       "\n",
       "Coefficients:\n",
       "               Estimate Std. Error t value Pr(>|t|)    \n",
       "(Intercept)      26.891      1.425  18.876  < 2e-16 ***\n",
       "Age.Group30-39    6.460      2.025   3.190 0.001502 ** \n",
       "Age.Group40-49    9.446      2.426   3.893 0.000111 ***\n",
       "Age.Group50-59   11.686      3.086   3.787 0.000169 ***\n",
       "Age.Group60+     18.776      4.866   3.859 0.000127 ***\n",
       "Age.GroupU20      8.849      4.356   2.032 0.042663 *  \n",
       "---\n",
       "Signif. codes:  0 ‘***’ 0.001 ‘**’ 0.01 ‘*’ 0.05 ‘.’ 0.1 ‘ ’ 1\n",
       "\n",
       "Residual standard error: 19.74 on 568 degrees of freedom\n",
       "Multiple R-squared:  0.0552,\tAdjusted R-squared:  0.04688 \n",
       "F-statistic: 6.637 on 5 and 568 DF,  p-value: 5.101e-06\n"
      ]
     },
     "metadata": {},
     "output_type": "display_data"
    },
    {
     "data": {
      "text/html": [
       "<table>\n",
       "<caption>A anova: 2 × 5</caption>\n",
       "<thead>\n",
       "\t<tr><th></th><th scope=col>Df</th><th scope=col>Sum Sq</th><th scope=col>Mean Sq</th><th scope=col>F value</th><th scope=col>Pr(&gt;F)</th></tr>\n",
       "\t<tr><th></th><th scope=col>&lt;int&gt;</th><th scope=col>&lt;dbl&gt;</th><th scope=col>&lt;dbl&gt;</th><th scope=col>&lt;dbl&gt;</th><th scope=col>&lt;dbl&gt;</th></tr>\n",
       "</thead>\n",
       "<tbody>\n",
       "\t<tr><th scope=row>Age.Group</th><td>  5</td><td> 12929.55</td><td>2585.9108</td><td>6.636556</td><td>5.100816e-06</td></tr>\n",
       "\t<tr><th scope=row>Residuals</th><td>568</td><td>221319.21</td><td> 389.6465</td><td>      NA</td><td>          NA</td></tr>\n",
       "</tbody>\n",
       "</table>\n"
      ],
      "text/latex": [
       "A anova: 2 × 5\n",
       "\\begin{tabular}{r|lllll}\n",
       "  & Df & Sum Sq & Mean Sq & F value & Pr(>F)\\\\\n",
       "  & <int> & <dbl> & <dbl> & <dbl> & <dbl>\\\\\n",
       "\\hline\n",
       "\tAge.Group &   5 &  12929.55 & 2585.9108 & 6.636556 & 5.100816e-06\\\\\n",
       "\tResiduals & 568 & 221319.21 &  389.6465 &       NA &           NA\\\\\n",
       "\\end{tabular}\n"
      ],
      "text/markdown": [
       "\n",
       "A anova: 2 × 5\n",
       "\n",
       "| <!--/--> | Df &lt;int&gt; | Sum Sq &lt;dbl&gt; | Mean Sq &lt;dbl&gt; | F value &lt;dbl&gt; | Pr(&gt;F) &lt;dbl&gt; |\n",
       "|---|---|---|---|---|---|\n",
       "| Age.Group |   5 |  12929.55 | 2585.9108 | 6.636556 | 5.100816e-06 |\n",
       "| Residuals | 568 | 221319.21 |  389.6465 |       NA |           NA |\n",
       "\n"
      ],
      "text/plain": [
       "          Df  Sum Sq    Mean Sq   F value  Pr(>F)      \n",
       "Age.Group   5  12929.55 2585.9108 6.636556 5.100816e-06\n",
       "Residuals 568 221319.21  389.6465       NA           NA"
      ]
     },
     "metadata": {},
     "output_type": "display_data"
    }
   ],
   "source": [
    "Linear_Model = lm(Year_Overall_Place ~ Age.Group, data = myData2) #linear model for year overall place and age group\n",
    "summary(Linear_Model)\n",
    "#anova and linear model disregards the null hypothesis, which are that the means of the year overall place for the different age groups do not equal each other\n",
    "anova(Linear_Model)"
   ]
  },
  {
   "cell_type": "code",
   "execution_count": 15,
   "id": "35e6cbdb",
   "metadata": {},
   "outputs": [
    {
     "name": "stderr",
     "output_type": "stream",
     "text": [
      "`summarise()` ungrouping output (override with `.groups` argument)\n",
      "\n"
     ]
    },
    {
     "data": {
      "text/html": [
       "<table>\n",
       "<caption>A tibble: 6 × 2</caption>\n",
       "<thead>\n",
       "\t<tr><th scope=col>Age.Group</th><th scope=col>mean_place</th></tr>\n",
       "\t<tr><th scope=col>&lt;fct&gt;</th><th scope=col>&lt;dbl&gt;</th></tr>\n",
       "</thead>\n",
       "<tbody>\n",
       "\t<tr><td>20-29</td><td>64.92335</td></tr>\n",
       "\t<tr><td>30-39</td><td>67.34699</td></tr>\n",
       "\t<tr><td>40-49</td><td>70.06485</td></tr>\n",
       "\t<tr><td>50-59</td><td>73.10064</td></tr>\n",
       "\t<tr><td>60+  </td><td>75.71574</td></tr>\n",
       "\t<tr><td>U20  </td><td>67.40072</td></tr>\n",
       "</tbody>\n",
       "</table>\n"
      ],
      "text/latex": [
       "A tibble: 6 × 2\n",
       "\\begin{tabular}{ll}\n",
       " Age.Group & mean\\_place\\\\\n",
       " <fct> & <dbl>\\\\\n",
       "\\hline\n",
       "\t 20-29 & 64.92335\\\\\n",
       "\t 30-39 & 67.34699\\\\\n",
       "\t 40-49 & 70.06485\\\\\n",
       "\t 50-59 & 73.10064\\\\\n",
       "\t 60+   & 75.71574\\\\\n",
       "\t U20   & 67.40072\\\\\n",
       "\\end{tabular}\n"
      ],
      "text/markdown": [
       "\n",
       "A tibble: 6 × 2\n",
       "\n",
       "| Age.Group &lt;fct&gt; | mean_place &lt;dbl&gt; |\n",
       "|---|---|\n",
       "| 20-29 | 64.92335 |\n",
       "| 30-39 | 67.34699 |\n",
       "| 40-49 | 70.06485 |\n",
       "| 50-59 | 73.10064 |\n",
       "| 60+   | 75.71574 |\n",
       "| U20   | 67.40072 |\n",
       "\n"
      ],
      "text/plain": [
       "  Age.Group mean_place\n",
       "1 20-29     64.92335  \n",
       "2 30-39     67.34699  \n",
       "3 40-49     70.06485  \n",
       "4 50-59     73.10064  \n",
       "5 60+       75.71574  \n",
       "6 U20       67.40072  "
      ]
     },
     "metadata": {},
     "output_type": "display_data"
    },
    {
     "data": {
      "image/png": "[encoded data removed]",
      "text/plain": [
       "plot without title"
      ]
     },
     "metadata": {
      "image/png": {
       "height": 420,
       "width": 420
      }
     },
     "output_type": "display_data"
    }
   ],
   "source": [
    "myData2 %>%\n",
    "    group_by(Age.Group) %>%\n",
    "    summarize(mean_place = mean(Ascent))\n",
    "#Average Ascent for differetn age groups\n",
    "#Same trend as above\n",
    "ggplot(myData2,aes(x=Age.Group,y=Ascent))+geom_boxplot()\n"
   ]
  },
  {
   "cell_type": "code",
   "execution_count": 32,
   "id": "b3b0d16e",
   "metadata": {},
   "outputs": [
    {
     "name": "stderr",
     "output_type": "stream",
     "text": [
      "`summarise()` ungrouping output (override with `.groups` argument)\n",
      "\n"
     ]
    },
    {
     "data": {
      "text/html": [
       "<table>\n",
       "<caption>A tibble: 6 × 2</caption>\n",
       "<thead>\n",
       "\t<tr><th scope=col>Age.Group</th><th scope=col>mean_place</th></tr>\n",
       "\t<tr><th scope=col>&lt;fct&gt;</th><th scope=col>&lt;dbl&gt;</th></tr>\n",
       "</thead>\n",
       "<tbody>\n",
       "\t<tr><td>20-29</td><td>43.03018</td></tr>\n",
       "\t<tr><td>30-39</td><td>44.25648</td></tr>\n",
       "\t<tr><td>40-49</td><td>47.15050</td></tr>\n",
       "\t<tr><td>50-59</td><td>48.58522</td></tr>\n",
       "\t<tr><td>60+  </td><td>50.74742</td></tr>\n",
       "\t<tr><td>U20  </td><td>45.72159</td></tr>\n",
       "</tbody>\n",
       "</table>\n"
      ],
      "text/latex": [
       "A tibble: 6 × 2\n",
       "\\begin{tabular}{ll}\n",
       " Age.Group & mean\\_place\\\\\n",
       " <fct> & <dbl>\\\\\n",
       "\\hline\n",
       "\t 20-29 & 43.03018\\\\\n",
       "\t 30-39 & 44.25648\\\\\n",
       "\t 40-49 & 47.15050\\\\\n",
       "\t 50-59 & 48.58522\\\\\n",
       "\t 60+   & 50.74742\\\\\n",
       "\t U20   & 45.72159\\\\\n",
       "\\end{tabular}\n"
      ],
      "text/markdown": [
       "\n",
       "A tibble: 6 × 2\n",
       "\n",
       "| Age.Group &lt;fct&gt; | mean_place &lt;dbl&gt; |\n",
       "|---|---|\n",
       "| 20-29 | 43.03018 |\n",
       "| 30-39 | 44.25648 |\n",
       "| 40-49 | 47.15050 |\n",
       "| 50-59 | 48.58522 |\n",
       "| 60+   | 50.74742 |\n",
       "| U20   | 45.72159 |\n",
       "\n"
      ],
      "text/plain": [
       "  Age.Group mean_place\n",
       "1 20-29     43.03018  \n",
       "2 30-39     44.25648  \n",
       "3 40-49     47.15050  \n",
       "4 50-59     48.58522  \n",
       "5 60+       50.74742  \n",
       "6 U20       45.72159  "
      ]
     },
     "metadata": {},
     "output_type": "display_data"
    },
    {
     "data": {
      "image/png": "[encoded data removed]",
      "text/plain": [
       "plot without title"
      ]
     },
     "metadata": {
      "image/png": {
       "height": 420,
       "width": 420
      }
     },
     "output_type": "display_data"
    }
   ],
   "source": [
    "myData2 %>%\n",
    "    group_by(Age.Group) %>%\n",
    "    summarize(mean_place = mean(Descent))\n",
    "#Average Descent for differetn age groups\n",
    "#Same trend as above\n",
    "ggplot(myData2,aes(x=Age.Group,y=Descent))+geom_boxplot()"
   ]
  },
  {
   "cell_type": "code",
   "execution_count": 30,
   "id": "256787b8",
   "metadata": {},
   "outputs": [
    {
     "name": "stderr",
     "output_type": "stream",
     "text": [
      "`summarise()` ungrouping output (override with `.groups` argument)\n",
      "\n"
     ]
    },
    {
     "data": {
      "text/html": [
       "<table>\n",
       "<caption>A tibble: 6 × 2</caption>\n",
       "<thead>\n",
       "\t<tr><th scope=col>Age.Group</th><th scope=col>mean_place</th></tr>\n",
       "\t<tr><th scope=col>&lt;fct&gt;</th><th scope=col>&lt;dbl&gt;</th></tr>\n",
       "</thead>\n",
       "<tbody>\n",
       "\t<tr><td>20-29</td><td>247.0677</td></tr>\n",
       "\t<tr><td>30-39</td><td>276.1543</td></tr>\n",
       "\t<tr><td>40-49</td><td>325.8515</td></tr>\n",
       "\t<tr><td>50-59</td><td>361.8846</td></tr>\n",
       "\t<tr><td>60+  </td><td>405.7778</td></tr>\n",
       "\t<tr><td>U20  </td><td>288.0000</td></tr>\n",
       "</tbody>\n",
       "</table>\n"
      ],
      "text/latex": [
       "A tibble: 6 × 2\n",
       "\\begin{tabular}{ll}\n",
       " Age.Group & mean\\_place\\\\\n",
       " <fct> & <dbl>\\\\\n",
       "\\hline\n",
       "\t 20-29 & 247.0677\\\\\n",
       "\t 30-39 & 276.1543\\\\\n",
       "\t 40-49 & 325.8515\\\\\n",
       "\t 50-59 & 361.8846\\\\\n",
       "\t 60+   & 405.7778\\\\\n",
       "\t U20   & 288.0000\\\\\n",
       "\\end{tabular}\n"
      ],
      "text/markdown": [
       "\n",
       "A tibble: 6 × 2\n",
       "\n",
       "| Age.Group &lt;fct&gt; | mean_place &lt;dbl&gt; |\n",
       "|---|---|\n",
       "| 20-29 | 247.0677 |\n",
       "| 30-39 | 276.1543 |\n",
       "| 40-49 | 325.8515 |\n",
       "| 50-59 | 361.8846 |\n",
       "| 60+   | 405.7778 |\n",
       "| U20   | 288.0000 |\n",
       "\n"
      ],
      "text/plain": [
       "  Age.Group mean_place\n",
       "1 20-29     247.0677  \n",
       "2 30-39     276.1543  \n",
       "3 40-49     325.8515  \n",
       "4 50-59     361.8846  \n",
       "5 60+       405.7778  \n",
       "6 U20       288.0000  "
      ]
     },
     "metadata": {},
     "output_type": "display_data"
    },
    {
     "data": {
      "text/plain": [
       "\n",
       "Call:\n",
       "lm(formula = OverallPlace_CS_AT ~ Age.Group, data = myData2)\n",
       "\n",
       "Residuals:\n",
       "    Min      1Q  Median      3Q     Max \n",
       "-332.88 -138.01   -8.11  137.90  326.93 \n",
       "\n",
       "Coefficients:\n",
       "               Estimate Std. Error t value Pr(>|t|)    \n",
       "(Intercept)      247.07      11.62  21.257  < 2e-16 ***\n",
       "Age.Group30-39    29.09      16.52   1.760   0.0789 .  \n",
       "Age.Group40-49    78.78      19.80   3.980 7.79e-05 ***\n",
       "Age.Group50-59   114.82      25.18   4.560 6.26e-06 ***\n",
       "Age.Group60+     158.71      39.70   3.998 7.24e-05 ***\n",
       "Age.GroupU20      40.93      35.54   1.152   0.2499    \n",
       "---\n",
       "Signif. codes:  0 ‘***’ 0.001 ‘**’ 0.01 ‘*’ 0.05 ‘.’ 0.1 ‘ ’ 1\n",
       "\n",
       "Residual standard error: 161 on 568 degrees of freedom\n",
       "Multiple R-squared:  0.06512,\tAdjusted R-squared:  0.05689 \n",
       "F-statistic: 7.913 on 5 and 568 DF,  p-value: 3.213e-07\n"
      ]
     },
     "metadata": {},
     "output_type": "display_data"
    },
    {
     "name": "stderr",
     "output_type": "stream",
     "text": [
      "Warning message in abline(Linear_Model):\n",
      "“only using the first two of 6 regression coefficients”\n"
     ]
    },
    {
     "data": {
      "image/png": "[encoded data removed]",
      "text/plain": [
       "plot without title"
      ]
     },
     "metadata": {
      "image/png": {
       "height": 420,
       "width": 420
      }
     },
     "output_type": "display_data"
    }
   ],
   "source": [
    "myData2 %>%\n",
    "    group_by(Age.Group) %>%\n",
    "    summarize(mean_place = mean(OverallPlace_CS_AT))\n",
    "#Average OverallPlace_CS_AT for differetn age groups\n",
    "\n",
    "Linear_Model = lm(OverallPlace_CS_AT ~ Age.Group, data = myData2) \n",
    "#Summary gives p-value and correlation\n",
    "summary(Linear_Model)\n",
    "plot(myData2$Age.Group, myData2$OverallPlace_CS_AT, xlab = \"Age.Group\", ylab = \"OverallPlace_CS_AT\")\n",
    "#absolute line for graph\n",
    "abline(Linear_Model)\n"
   ]
  },
  {
   "cell_type": "code",
   "execution_count": 55,
   "id": "0a9a97a4",
   "metadata": {},
   "outputs": [
    {
     "name": "stderr",
     "output_type": "stream",
     "text": [
      "`summarise()` ungrouping output (override with `.groups` argument)\n",
      "\n"
     ]
    },
    {
     "data": {
      "text/html": [
       "<table>\n",
       "<caption>A tibble: 5 × 2</caption>\n",
       "<thead>\n",
       "\t<tr><th scope=col>Age.Group</th><th scope=col>mean_place</th></tr>\n",
       "\t<tr><th scope=col>&lt;fct&gt;</th><th scope=col>&lt;dbl&gt;</th></tr>\n",
       "</thead>\n",
       "<tbody>\n",
       "\t<tr><td>20-29</td><td>344.3978</td></tr>\n",
       "\t<tr><td>30-39</td><td>368.8556</td></tr>\n",
       "\t<tr><td>40-49</td><td>399.7895</td></tr>\n",
       "\t<tr><td>50-59</td><td>429.6842</td></tr>\n",
       "\t<tr><td>U20  </td><td>360.5833</td></tr>\n",
       "</tbody>\n",
       "</table>\n"
      ],
      "text/latex": [
       "A tibble: 5 × 2\n",
       "\\begin{tabular}{ll}\n",
       " Age.Group & mean\\_place\\\\\n",
       " <fct> & <dbl>\\\\\n",
       "\\hline\n",
       "\t 20-29 & 344.3978\\\\\n",
       "\t 30-39 & 368.8556\\\\\n",
       "\t 40-49 & 399.7895\\\\\n",
       "\t 50-59 & 429.6842\\\\\n",
       "\t U20   & 360.5833\\\\\n",
       "\\end{tabular}\n"
      ],
      "text/markdown": [
       "\n",
       "A tibble: 5 × 2\n",
       "\n",
       "| Age.Group &lt;fct&gt; | mean_place &lt;dbl&gt; |\n",
       "|---|---|\n",
       "| 20-29 | 344.3978 |\n",
       "| 30-39 | 368.8556 |\n",
       "| 40-49 | 399.7895 |\n",
       "| 50-59 | 429.6842 |\n",
       "| U20   | 360.5833 |\n",
       "\n"
      ],
      "text/plain": [
       "  Age.Group mean_place\n",
       "1 20-29     344.3978  \n",
       "2 30-39     368.8556  \n",
       "3 40-49     399.7895  \n",
       "4 50-59     429.6842  \n",
       "5 U20       360.5833  "
      ]
     },
     "metadata": {},
     "output_type": "display_data"
    },
    {
     "name": "stderr",
     "output_type": "stream",
     "text": [
      "`summarise()` ungrouping output (override with `.groups` argument)\n",
      "\n"
     ]
    },
    {
     "data": {
      "text/html": [
       "<table>\n",
       "<caption>A tibble: 6 × 2</caption>\n",
       "<thead>\n",
       "\t<tr><th scope=col>Age.Group</th><th scope=col>mean_place</th></tr>\n",
       "\t<tr><th scope=col>&lt;fct&gt;</th><th scope=col>&lt;dbl&gt;</th></tr>\n",
       "</thead>\n",
       "<tbody>\n",
       "\t<tr><td>20-29</td><td>155.6364</td></tr>\n",
       "\t<tr><td>30-39</td><td>191.0204</td></tr>\n",
       "\t<tr><td>40-49</td><td>281.2540</td></tr>\n",
       "\t<tr><td>50-59</td><td>322.8485</td></tr>\n",
       "\t<tr><td>60+  </td><td>405.7778</td></tr>\n",
       "\t<tr><td>U20  </td><td>208.8182</td></tr>\n",
       "</tbody>\n",
       "</table>\n"
      ],
      "text/latex": [
       "A tibble: 6 × 2\n",
       "\\begin{tabular}{ll}\n",
       " Age.Group & mean\\_place\\\\\n",
       " <fct> & <dbl>\\\\\n",
       "\\hline\n",
       "\t 20-29 & 155.6364\\\\\n",
       "\t 30-39 & 191.0204\\\\\n",
       "\t 40-49 & 281.2540\\\\\n",
       "\t 50-59 & 322.8485\\\\\n",
       "\t 60+   & 405.7778\\\\\n",
       "\t U20   & 208.8182\\\\\n",
       "\\end{tabular}\n"
      ],
      "text/markdown": [
       "\n",
       "A tibble: 6 × 2\n",
       "\n",
       "| Age.Group &lt;fct&gt; | mean_place &lt;dbl&gt; |\n",
       "|---|---|\n",
       "| 20-29 | 155.6364 |\n",
       "| 30-39 | 191.0204 |\n",
       "| 40-49 | 281.2540 |\n",
       "| 50-59 | 322.8485 |\n",
       "| 60+   | 405.7778 |\n",
       "| U20   | 208.8182 |\n",
       "\n"
      ],
      "text/plain": [
       "  Age.Group mean_place\n",
       "1 20-29     155.6364  \n",
       "2 30-39     191.0204  \n",
       "3 40-49     281.2540  \n",
       "4 50-59     322.8485  \n",
       "5 60+       405.7778  \n",
       "6 U20       208.8182  "
      ]
     },
     "metadata": {},
     "output_type": "display_data"
    },
    {
     "data": {
      "image/png": "[encoded data removed]",
      "text/plain": [
       "plot without title"
      ]
     },
     "metadata": {
      "image/png": {
       "height": 420,
       "width": 420
      }
     },
     "output_type": "display_data"
    },
    {
     "data": {
      "image/png": "[encoded data removed]",
      "text/plain": [
       "plot without title"
      ]
     },
     "metadata": {
      "image/png": {
       "height": 420,
       "width": 420
      }
     },
     "output_type": "display_data"
    }
   ],
   "source": [
    "#Gender performance based on their age\n",
    "female <- myData2 %>%\n",
    "    group_by(Age.Group) %>%\n",
    "    filter(Gender== \"F\")%>%\n",
    "    summarize(mean_place = mean(OverallPlace_CS_AT))\n",
    "female\n",
    "plot(female)\n",
    "\n",
    "\n",
    "Male = myData2 %>%\n",
    "    group_by(Age.Group) %>%\n",
    "    filter(Gender== \"M\")%>%\n",
    "    summarize(mean_place = mean(OverallPlace_CS_AT))\n",
    "Male\n",
    "\n",
    "plot(Male)\n",
    "\n"
   ]
  },
  {
   "cell_type": "code",
   "execution_count": 69,
   "id": "02d80606",
   "metadata": {},
   "outputs": [
    {
     "name": "stderr",
     "output_type": "stream",
     "text": [
      "`summarise()` ungrouping output (override with `.groups` argument)\n",
      "\n"
     ]
    },
    {
     "data": {
      "text/html": [
       "<table>\n",
       "<caption>A tibble: 6 × 2</caption>\n",
       "<thead>\n",
       "\t<tr><th scope=col>Age_Group</th><th scope=col>mean_place</th></tr>\n",
       "\t<tr><th scope=col>&lt;fct&gt;</th><th scope=col>&lt;dbl&gt;</th></tr>\n",
       "</thead>\n",
       "<tbody>\n",
       "\t<tr><td>20-29</td><td>378.0896</td></tr>\n",
       "\t<tr><td>30-39</td><td>455.5972</td></tr>\n",
       "\t<tr><td>40-49</td><td>536.8324</td></tr>\n",
       "\t<tr><td>50-59</td><td>675.6321</td></tr>\n",
       "\t<tr><td>60+  </td><td>810.7714</td></tr>\n",
       "\t<tr><td>U20  </td><td>415.4615</td></tr>\n",
       "</tbody>\n",
       "</table>\n"
      ],
      "text/latex": [
       "A tibble: 6 × 2\n",
       "\\begin{tabular}{ll}\n",
       " Age\\_Group & mean\\_place\\\\\n",
       " <fct> & <dbl>\\\\\n",
       "\\hline\n",
       "\t 20-29 & 378.0896\\\\\n",
       "\t 30-39 & 455.5972\\\\\n",
       "\t 40-49 & 536.8324\\\\\n",
       "\t 50-59 & 675.6321\\\\\n",
       "\t 60+   & 810.7714\\\\\n",
       "\t U20   & 415.4615\\\\\n",
       "\\end{tabular}\n"
      ],
      "text/markdown": [
       "\n",
       "A tibble: 6 × 2\n",
       "\n",
       "| Age_Group &lt;fct&gt; | mean_place &lt;dbl&gt; |\n",
       "|---|---|\n",
       "| 20-29 | 378.0896 |\n",
       "| 30-39 | 455.5972 |\n",
       "| 40-49 | 536.8324 |\n",
       "| 50-59 | 675.6321 |\n",
       "| 60+   | 810.7714 |\n",
       "| U20   | 415.4615 |\n",
       "\n"
      ],
      "text/plain": [
       "  Age_Group mean_place\n",
       "1 20-29     378.0896  \n",
       "2 30-39     455.5972  \n",
       "3 40-49     536.8324  \n",
       "4 50-59     675.6321  \n",
       "5 60+       810.7714  \n",
       "6 U20       415.4615  "
      ]
     },
     "metadata": {},
     "output_type": "display_data"
    },
    {
     "name": "stderr",
     "output_type": "stream",
     "text": [
      "`summarise()` ungrouping output (override with `.groups` argument)\n",
      "\n"
     ]
    },
    {
     "data": {
      "text/html": [
       "<table>\n",
       "<caption>A tibble: 6 × 2</caption>\n",
       "<thead>\n",
       "\t<tr><th scope=col>Age_Group</th><th scope=col>mean_attempt</th></tr>\n",
       "\t<tr><th scope=col>&lt;fct&gt;</th><th scope=col>&lt;dbl&gt;</th></tr>\n",
       "</thead>\n",
       "<tbody>\n",
       "\t<tr><td>20-29</td><td>1.686567</td></tr>\n",
       "\t<tr><td>30-39</td><td>2.384259</td></tr>\n",
       "\t<tr><td>40-49</td><td>2.897297</td></tr>\n",
       "\t<tr><td>50-59</td><td>3.792453</td></tr>\n",
       "\t<tr><td>60+  </td><td>4.085714</td></tr>\n",
       "\t<tr><td>U20  </td><td>1.307692</td></tr>\n",
       "</tbody>\n",
       "</table>\n"
      ],
      "text/latex": [
       "A tibble: 6 × 2\n",
       "\\begin{tabular}{ll}\n",
       " Age\\_Group & mean\\_attempt\\\\\n",
       " <fct> & <dbl>\\\\\n",
       "\\hline\n",
       "\t 20-29 & 1.686567\\\\\n",
       "\t 30-39 & 2.384259\\\\\n",
       "\t 40-49 & 2.897297\\\\\n",
       "\t 50-59 & 3.792453\\\\\n",
       "\t 60+   & 4.085714\\\\\n",
       "\t U20   & 1.307692\\\\\n",
       "\\end{tabular}\n"
      ],
      "text/markdown": [
       "\n",
       "A tibble: 6 × 2\n",
       "\n",
       "| Age_Group &lt;fct&gt; | mean_attempt &lt;dbl&gt; |\n",
       "|---|---|\n",
       "| 20-29 | 1.686567 |\n",
       "| 30-39 | 2.384259 |\n",
       "| 40-49 | 2.897297 |\n",
       "| 50-59 | 3.792453 |\n",
       "| 60+   | 4.085714 |\n",
       "| U20   | 1.307692 |\n",
       "\n"
      ],
      "text/plain": [
       "  Age_Group mean_attempt\n",
       "1 20-29     1.686567    \n",
       "2 30-39     2.384259    \n",
       "3 40-49     2.897297    \n",
       "4 50-59     3.792453    \n",
       "5 60+       4.085714    \n",
       "6 U20       1.307692    "
      ]
     },
     "metadata": {},
     "output_type": "display_data"
    },
    {
     "name": "stderr",
     "output_type": "stream",
     "text": [
      "`summarise()` ungrouping output (override with `.groups` argument)\n",
      "\n"
     ]
    },
    {
     "data": {
      "text/html": [
       "<table>\n",
       "<caption>A tibble: 6 × 2</caption>\n",
       "<thead>\n",
       "\t<tr><th scope=col>Age_Group</th><th scope=col>mean_avg</th></tr>\n",
       "\t<tr><th scope=col>&lt;fct&gt;</th><th scope=col>&lt;dbl&gt;</th></tr>\n",
       "</thead>\n",
       "<tbody>\n",
       "\t<tr><td>20-29</td><td>102.0918</td></tr>\n",
       "\t<tr><td>30-39</td><td>108.4220</td></tr>\n",
       "\t<tr><td>40-49</td><td>113.6440</td></tr>\n",
       "\t<tr><td>50-59</td><td>122.3187</td></tr>\n",
       "\t<tr><td>60+  </td><td>136.7830</td></tr>\n",
       "\t<tr><td>U20  </td><td>104.3426</td></tr>\n",
       "</tbody>\n",
       "</table>\n"
      ],
      "text/latex": [
       "A tibble: 6 × 2\n",
       "\\begin{tabular}{ll}\n",
       " Age\\_Group & mean\\_avg\\\\\n",
       " <fct> & <dbl>\\\\\n",
       "\\hline\n",
       "\t 20-29 & 102.0918\\\\\n",
       "\t 30-39 & 108.4220\\\\\n",
       "\t 40-49 & 113.6440\\\\\n",
       "\t 50-59 & 122.3187\\\\\n",
       "\t 60+   & 136.7830\\\\\n",
       "\t U20   & 104.3426\\\\\n",
       "\\end{tabular}\n"
      ],
      "text/markdown": [
       "\n",
       "A tibble: 6 × 2\n",
       "\n",
       "| Age_Group &lt;fct&gt; | mean_avg &lt;dbl&gt; |\n",
       "|---|---|\n",
       "| 20-29 | 102.0918 |\n",
       "| 30-39 | 108.4220 |\n",
       "| 40-49 | 113.6440 |\n",
       "| 50-59 | 122.3187 |\n",
       "| 60+   | 136.7830 |\n",
       "| U20   | 104.3426 |\n",
       "\n"
      ],
      "text/plain": [
       "  Age_Group mean_avg\n",
       "1 20-29     102.0918\n",
       "2 30-39     108.4220\n",
       "3 40-49     113.6440\n",
       "4 50-59     122.3187\n",
       "5 60+       136.7830\n",
       "6 U20       104.3426"
      ]
     },
     "metadata": {},
     "output_type": "display_data"
    },
    {
     "data": {
      "text/plain": [
       "\n",
       "\tPairwise comparisons using t tests with pooled SD \n",
       "\n",
       "data:  myData$Personal_Average and myData$Age_Group \n",
       "\n",
       "      20-29   30-39   40-49   50-59  60+    \n",
       "30-39 0.0205  -       -       -      -      \n",
       "40-49 4.5e-06 0.0372  -       -      -      \n",
       "50-59 3.5e-13 7.8e-08 0.0027  -      -      \n",
       "60+   < 2e-16 3.5e-13 7.2e-09 0.0018 -      \n",
       "U20   0.9500  0.9500  0.3158  0.0138 6.6e-06\n",
       "\n",
       "P value adjustment method: holm "
      ]
     },
     "metadata": {},
     "output_type": "display_data"
    },
    {
     "data": {
      "image/png": "[encoded data removed]",
      "text/plain": [
       "plot without title"
      ]
     },
     "metadata": {
      "image/png": {
       "height": 420,
       "width": 420
      }
     },
     "output_type": "display_data"
    }
   ],
   "source": [
    "#Measuring performance for Longitudinal_Data.csv for AT_Place, attempt, and personal average based on age group.\n",
    "myData = read.csv(\"Longitudinal_Data.csv\", header = TRUE)\n",
    "\n",
    "\n",
    "myData %>%\n",
    "    group_by(Age_Group) %>%\n",
    "    summarize(mean_place = mean(AT_Place))\n",
    "myData %>%\n",
    "    group_by(Age_Group) %>%\n",
    "    summarize(mean_attempt = mean(Attempt.))\n",
    "myData %>%\n",
    "    group_by(Age_Group) %>%\n",
    "    summarize(mean_avg = mean(Personal_Average))\n",
    "#t test to test null hypothesis\n",
    "pairwise.t.test(myData$Personal_Average,myData$Age_Group)\n",
    "ggplot(myData,aes(x=Age_Group,y=AT_Place))+geom_boxplot()\n"
   ]
  },
  {
   "cell_type": "code",
   "execution_count": 85,
   "id": "eec1e982",
   "metadata": {},
   "outputs": [
    {
     "name": "stderr",
     "output_type": "stream",
     "text": [
      "`summarise()` ungrouping output (override with `.groups` argument)\n",
      "\n"
     ]
    },
    {
     "data": {
      "text/html": [
       "<table>\n",
       "<caption>A tibble: 18 × 3</caption>\n",
       "<thead>\n",
       "\t<tr><th scope=col>Year</th><th scope=col>mean_Temp</th><th scope=col>speed</th></tr>\n",
       "\t<tr><th scope=col>&lt;int&gt;</th><th scope=col>&lt;dbl&gt;</th><th scope=col>&lt;dbl&gt;</th></tr>\n",
       "</thead>\n",
       "<tbody>\n",
       "\t<tr><td>2002</td><td>51</td><td>13</td></tr>\n",
       "\t<tr><td>2003</td><td>52</td><td>13</td></tr>\n",
       "\t<tr><td>2004</td><td>32</td><td> 0</td></tr>\n",
       "\t<tr><td>2005</td><td>70</td><td>12</td></tr>\n",
       "\t<tr><td>2006</td><td>53</td><td> 9</td></tr>\n",
       "\t<tr><td>2007</td><td>53</td><td>17</td></tr>\n",
       "\t<tr><td>2008</td><td>50</td><td> 8</td></tr>\n",
       "\t<tr><td>2010</td><td>61</td><td>10</td></tr>\n",
       "\t<tr><td>2011</td><td>52</td><td> 3</td></tr>\n",
       "\t<tr><td>2012</td><td>51</td><td>10</td></tr>\n",
       "\t<tr><td>2013</td><td>58</td><td> 9</td></tr>\n",
       "\t<tr><td>2014</td><td>54</td><td> 3</td></tr>\n",
       "\t<tr><td>2015</td><td>46</td><td> 7</td></tr>\n",
       "\t<tr><td>2016</td><td>37</td><td> 7</td></tr>\n",
       "\t<tr><td>2017</td><td>43</td><td>10</td></tr>\n",
       "\t<tr><td>2018</td><td>59</td><td>15</td></tr>\n",
       "\t<tr><td>2019</td><td>49</td><td>18</td></tr>\n",
       "\t<tr><td>2020</td><td>62</td><td>10</td></tr>\n",
       "</tbody>\n",
       "</table>\n"
      ],
      "text/latex": [
       "A tibble: 18 × 3\n",
       "\\begin{tabular}{lll}\n",
       " Year & mean\\_Temp & speed\\\\\n",
       " <int> & <dbl> & <dbl>\\\\\n",
       "\\hline\n",
       "\t 2002 & 51 & 13\\\\\n",
       "\t 2003 & 52 & 13\\\\\n",
       "\t 2004 & 32 &  0\\\\\n",
       "\t 2005 & 70 & 12\\\\\n",
       "\t 2006 & 53 &  9\\\\\n",
       "\t 2007 & 53 & 17\\\\\n",
       "\t 2008 & 50 &  8\\\\\n",
       "\t 2010 & 61 & 10\\\\\n",
       "\t 2011 & 52 &  3\\\\\n",
       "\t 2012 & 51 & 10\\\\\n",
       "\t 2013 & 58 &  9\\\\\n",
       "\t 2014 & 54 &  3\\\\\n",
       "\t 2015 & 46 &  7\\\\\n",
       "\t 2016 & 37 &  7\\\\\n",
       "\t 2017 & 43 & 10\\\\\n",
       "\t 2018 & 59 & 15\\\\\n",
       "\t 2019 & 49 & 18\\\\\n",
       "\t 2020 & 62 & 10\\\\\n",
       "\\end{tabular}\n"
      ],
      "text/markdown": [
       "\n",
       "A tibble: 18 × 3\n",
       "\n",
       "| Year &lt;int&gt; | mean_Temp &lt;dbl&gt; | speed &lt;dbl&gt; |\n",
       "|---|---|---|\n",
       "| 2002 | 51 | 13 |\n",
       "| 2003 | 52 | 13 |\n",
       "| 2004 | 32 |  0 |\n",
       "| 2005 | 70 | 12 |\n",
       "| 2006 | 53 |  9 |\n",
       "| 2007 | 53 | 17 |\n",
       "| 2008 | 50 |  8 |\n",
       "| 2010 | 61 | 10 |\n",
       "| 2011 | 52 |  3 |\n",
       "| 2012 | 51 | 10 |\n",
       "| 2013 | 58 |  9 |\n",
       "| 2014 | 54 |  3 |\n",
       "| 2015 | 46 |  7 |\n",
       "| 2016 | 37 |  7 |\n",
       "| 2017 | 43 | 10 |\n",
       "| 2018 | 59 | 15 |\n",
       "| 2019 | 49 | 18 |\n",
       "| 2020 | 62 | 10 |\n",
       "\n"
      ],
      "text/plain": [
       "   Year mean_Temp speed\n",
       "1  2002 51        13   \n",
       "2  2003 52        13   \n",
       "3  2004 32         0   \n",
       "4  2005 70        12   \n",
       "5  2006 53         9   \n",
       "6  2007 53        17   \n",
       "7  2008 50         8   \n",
       "8  2010 61        10   \n",
       "9  2011 52         3   \n",
       "10 2012 51        10   \n",
       "11 2013 58         9   \n",
       "12 2014 54         3   \n",
       "13 2015 46         7   \n",
       "14 2016 37         7   \n",
       "15 2017 43        10   \n",
       "16 2018 59        15   \n",
       "17 2019 49        18   \n",
       "18 2020 62        10   "
      ]
     },
     "metadata": {},
     "output_type": "display_data"
    },
    {
     "name": "stderr",
     "output_type": "stream",
     "text": [
      "`summarise()` ungrouping output (override with `.groups` argument)\n",
      "\n",
      "`summarise()` ungrouping output (override with `.groups` argument)\n",
      "\n",
      "`summarise()` ungrouping output (override with `.groups` argument)\n",
      "\n"
     ]
    },
    {
     "data": {
      "text/html": [
       "<table>\n",
       "<caption>A tibble: 6 × 2</caption>\n",
       "<thead>\n",
       "\t<tr><th scope=col>Age.Group</th><th scope=col>mean_place</th></tr>\n",
       "\t<tr><th scope=col>&lt;fct&gt;</th><th scope=col>&lt;dbl&gt;</th></tr>\n",
       "</thead>\n",
       "<tbody>\n",
       "\t<tr><td>20-29</td><td>139.7500</td></tr>\n",
       "\t<tr><td>30-39</td><td>242.6500</td></tr>\n",
       "\t<tr><td>40-49</td><td>297.0000</td></tr>\n",
       "\t<tr><td>50-59</td><td>468.6000</td></tr>\n",
       "\t<tr><td>60+  </td><td>344.3333</td></tr>\n",
       "\t<tr><td>U20  </td><td>337.3333</td></tr>\n",
       "</tbody>\n",
       "</table>\n"
      ],
      "text/latex": [
       "A tibble: 6 × 2\n",
       "\\begin{tabular}{ll}\n",
       " Age.Group & mean\\_place\\\\\n",
       " <fct> & <dbl>\\\\\n",
       "\\hline\n",
       "\t 20-29 & 139.7500\\\\\n",
       "\t 30-39 & 242.6500\\\\\n",
       "\t 40-49 & 297.0000\\\\\n",
       "\t 50-59 & 468.6000\\\\\n",
       "\t 60+   & 344.3333\\\\\n",
       "\t U20   & 337.3333\\\\\n",
       "\\end{tabular}\n"
      ],
      "text/markdown": [
       "\n",
       "A tibble: 6 × 2\n",
       "\n",
       "| Age.Group &lt;fct&gt; | mean_place &lt;dbl&gt; |\n",
       "|---|---|\n",
       "| 20-29 | 139.7500 |\n",
       "| 30-39 | 242.6500 |\n",
       "| 40-49 | 297.0000 |\n",
       "| 50-59 | 468.6000 |\n",
       "| 60+   | 344.3333 |\n",
       "| U20   | 337.3333 |\n",
       "\n"
      ],
      "text/plain": [
       "  Age.Group mean_place\n",
       "1 20-29     139.7500  \n",
       "2 30-39     242.6500  \n",
       "3 40-49     297.0000  \n",
       "4 50-59     468.6000  \n",
       "5 60+       344.3333  \n",
       "6 U20       337.3333  "
      ]
     },
     "metadata": {},
     "output_type": "display_data"
    },
    {
     "data": {
      "image/png": "[encoded data removed]",
      "text/plain": [
       "plot without title"
      ]
     },
     "metadata": {
      "image/png": {
       "height": 420,
       "width": 420
      }
     },
     "output_type": "display_data"
    }
   ],
   "source": [
    "#Measuring if weather affects the average OverallPlace_CS_AT for different age groups\n",
    "myData3 = read.csv(\"Weather_JMR.csv\", header = TRUE)\n",
    "\n",
    "myData3 %>% \n",
    "    group_by(Year) %>%\n",
    "    summarize(mean_Temp = mean(Temperature), speed = (mean(Wind_Speed)))\n",
    "\n",
    "coldest <- myData2 %>%\n",
    "    group_by(Age.Group) %>%\n",
    "    filter(Year == 2004) %>%\n",
    "    summarize(mean_place = mean(OverallPlace_CS_AT))\n",
    "\n",
    "hottest <- myData2 %>%\n",
    "    group_by(Age.Group) %>%\n",
    "    filter(Year == 2005) %>%\n",
    "    summarize(mean_place = mean(OverallPlace_CS_AT))\n",
    "\n",
    "medium <- myData2 %>%\n",
    "    group_by(Age.Group) %>%\n",
    "    filter(Year == 2012) %>%\n",
    "    summarize(mean_place = mean(OverallPlace_CS_AT))\n",
    "medium\n",
    "\n",
    "#Graphing for all coldest, hotest, and medium days\n",
    "plot(coldest)\n",
    "\n",
    "#add second line to plot\n",
    "lines(hottest, col = \"red\")\n",
    "lines(medium, col = \"blue\")\n",
    "legend(x = \"topright\",\n",
    "        legend = c(\"hottest\",\"median\",\"coldest\"),\n",
    "        col = c(\"red\",\"blue\",\"black\"), lwd=1, lty=c(5,5,5),\n",
    "        pch=c(NA,NA), cex = 1 )"
   ]
  },
  {
   "cell_type": "code",
   "execution_count": 88,
   "id": "de20f348",
   "metadata": {},
   "outputs": [
    {
     "data": {
      "text/html": [
       "<table>\n",
       "<caption>A grouped_df: 11 × 3</caption>\n",
       "<thead>\n",
       "\t<tr><th scope=col>Year</th><th scope=col>Age.Group</th><th scope=col>n</th></tr>\n",
       "\t<tr><th scope=col>&lt;int&gt;</th><th scope=col>&lt;fct&gt;</th><th scope=col>&lt;int&gt;</th></tr>\n",
       "</thead>\n",
       "<tbody>\n",
       "\t<tr><td>2004</td><td>U20</td><td>3</td></tr>\n",
       "\t<tr><td>2008</td><td>U20</td><td>1</td></tr>\n",
       "\t<tr><td>2010</td><td>U20</td><td>1</td></tr>\n",
       "\t<tr><td>2012</td><td>U20</td><td>3</td></tr>\n",
       "\t<tr><td>2013</td><td>U20</td><td>2</td></tr>\n",
       "\t<tr><td>2014</td><td>U20</td><td>2</td></tr>\n",
       "\t<tr><td>2015</td><td>U20</td><td>4</td></tr>\n",
       "\t<tr><td>2016</td><td>U20</td><td>2</td></tr>\n",
       "\t<tr><td>2017</td><td>U20</td><td>1</td></tr>\n",
       "\t<tr><td>2018</td><td>U20</td><td>1</td></tr>\n",
       "\t<tr><td>2019</td><td>U20</td><td>3</td></tr>\n",
       "</tbody>\n",
       "</table>\n"
      ],
      "text/latex": [
       "A grouped\\_df: 11 × 3\n",
       "\\begin{tabular}{lll}\n",
       " Year & Age.Group & n\\\\\n",
       " <int> & <fct> & <int>\\\\\n",
       "\\hline\n",
       "\t 2004 & U20 & 3\\\\\n",
       "\t 2008 & U20 & 1\\\\\n",
       "\t 2010 & U20 & 1\\\\\n",
       "\t 2012 & U20 & 3\\\\\n",
       "\t 2013 & U20 & 2\\\\\n",
       "\t 2014 & U20 & 2\\\\\n",
       "\t 2015 & U20 & 4\\\\\n",
       "\t 2016 & U20 & 2\\\\\n",
       "\t 2017 & U20 & 1\\\\\n",
       "\t 2018 & U20 & 1\\\\\n",
       "\t 2019 & U20 & 3\\\\\n",
       "\\end{tabular}\n"
      ],
      "text/markdown": [
       "\n",
       "A grouped_df: 11 × 3\n",
       "\n",
       "| Year &lt;int&gt; | Age.Group &lt;fct&gt; | n &lt;int&gt; |\n",
       "|---|---|---|\n",
       "| 2004 | U20 | 3 |\n",
       "| 2008 | U20 | 1 |\n",
       "| 2010 | U20 | 1 |\n",
       "| 2012 | U20 | 3 |\n",
       "| 2013 | U20 | 2 |\n",
       "| 2014 | U20 | 2 |\n",
       "| 2015 | U20 | 4 |\n",
       "| 2016 | U20 | 2 |\n",
       "| 2017 | U20 | 1 |\n",
       "| 2018 | U20 | 1 |\n",
       "| 2019 | U20 | 3 |\n",
       "\n"
      ],
      "text/plain": [
       "   Year Age.Group n\n",
       "1  2004 U20       3\n",
       "2  2008 U20       1\n",
       "3  2010 U20       1\n",
       "4  2012 U20       3\n",
       "5  2013 U20       2\n",
       "6  2014 U20       2\n",
       "7  2015 U20       4\n",
       "8  2016 U20       2\n",
       "9  2017 U20       1\n",
       "10 2018 U20       1\n",
       "11 2019 U20       3"
      ]
     },
     "metadata": {},
     "output_type": "display_data"
    },
    {
     "data": {
      "text/html": [
       "<table>\n",
       "<caption>A grouped_df: 18 × 3</caption>\n",
       "<thead>\n",
       "\t<tr><th scope=col>Year</th><th scope=col>Age.Group</th><th scope=col>n</th></tr>\n",
       "\t<tr><th scope=col>&lt;int&gt;</th><th scope=col>&lt;fct&gt;</th><th scope=col>&lt;int&gt;</th></tr>\n",
       "</thead>\n",
       "<tbody>\n",
       "\t<tr><td>2002</td><td>20-29</td><td>15</td></tr>\n",
       "\t<tr><td>2003</td><td>20-29</td><td>14</td></tr>\n",
       "\t<tr><td>2004</td><td>20-29</td><td> 8</td></tr>\n",
       "\t<tr><td>2005</td><td>20-29</td><td> 8</td></tr>\n",
       "\t<tr><td>2006</td><td>20-29</td><td> 2</td></tr>\n",
       "\t<tr><td>2007</td><td>20-29</td><td> 6</td></tr>\n",
       "\t<tr><td>2008</td><td>20-29</td><td>16</td></tr>\n",
       "\t<tr><td>2010</td><td>20-29</td><td>17</td></tr>\n",
       "\t<tr><td>2011</td><td>20-29</td><td>15</td></tr>\n",
       "\t<tr><td>2012</td><td>20-29</td><td>12</td></tr>\n",
       "\t<tr><td>2013</td><td>20-29</td><td> 9</td></tr>\n",
       "\t<tr><td>2014</td><td>20-29</td><td> 7</td></tr>\n",
       "\t<tr><td>2015</td><td>20-29</td><td>10</td></tr>\n",
       "\t<tr><td>2016</td><td>20-29</td><td> 6</td></tr>\n",
       "\t<tr><td>2017</td><td>20-29</td><td>15</td></tr>\n",
       "\t<tr><td>2018</td><td>20-29</td><td>13</td></tr>\n",
       "\t<tr><td>2019</td><td>20-29</td><td>13</td></tr>\n",
       "\t<tr><td>2020</td><td>20-29</td><td> 6</td></tr>\n",
       "</tbody>\n",
       "</table>\n"
      ],
      "text/latex": [
       "A grouped\\_df: 18 × 3\n",
       "\\begin{tabular}{lll}\n",
       " Year & Age.Group & n\\\\\n",
       " <int> & <fct> & <int>\\\\\n",
       "\\hline\n",
       "\t 2002 & 20-29 & 15\\\\\n",
       "\t 2003 & 20-29 & 14\\\\\n",
       "\t 2004 & 20-29 &  8\\\\\n",
       "\t 2005 & 20-29 &  8\\\\\n",
       "\t 2006 & 20-29 &  2\\\\\n",
       "\t 2007 & 20-29 &  6\\\\\n",
       "\t 2008 & 20-29 & 16\\\\\n",
       "\t 2010 & 20-29 & 17\\\\\n",
       "\t 2011 & 20-29 & 15\\\\\n",
       "\t 2012 & 20-29 & 12\\\\\n",
       "\t 2013 & 20-29 &  9\\\\\n",
       "\t 2014 & 20-29 &  7\\\\\n",
       "\t 2015 & 20-29 & 10\\\\\n",
       "\t 2016 & 20-29 &  6\\\\\n",
       "\t 2017 & 20-29 & 15\\\\\n",
       "\t 2018 & 20-29 & 13\\\\\n",
       "\t 2019 & 20-29 & 13\\\\\n",
       "\t 2020 & 20-29 &  6\\\\\n",
       "\\end{tabular}\n"
      ],
      "text/markdown": [
       "\n",
       "A grouped_df: 18 × 3\n",
       "\n",
       "| Year &lt;int&gt; | Age.Group &lt;fct&gt; | n &lt;int&gt; |\n",
       "|---|---|---|\n",
       "| 2002 | 20-29 | 15 |\n",
       "| 2003 | 20-29 | 14 |\n",
       "| 2004 | 20-29 |  8 |\n",
       "| 2005 | 20-29 |  8 |\n",
       "| 2006 | 20-29 |  2 |\n",
       "| 2007 | 20-29 |  6 |\n",
       "| 2008 | 20-29 | 16 |\n",
       "| 2010 | 20-29 | 17 |\n",
       "| 2011 | 20-29 | 15 |\n",
       "| 2012 | 20-29 | 12 |\n",
       "| 2013 | 20-29 |  9 |\n",
       "| 2014 | 20-29 |  7 |\n",
       "| 2015 | 20-29 | 10 |\n",
       "| 2016 | 20-29 |  6 |\n",
       "| 2017 | 20-29 | 15 |\n",
       "| 2018 | 20-29 | 13 |\n",
       "| 2019 | 20-29 | 13 |\n",
       "| 2020 | 20-29 |  6 |\n",
       "\n"
      ],
      "text/plain": [
       "   Year Age.Group n \n",
       "1  2002 20-29     15\n",
       "2  2003 20-29     14\n",
       "3  2004 20-29      8\n",
       "4  2005 20-29      8\n",
       "5  2006 20-29      2\n",
       "6  2007 20-29      6\n",
       "7  2008 20-29     16\n",
       "8  2010 20-29     17\n",
       "9  2011 20-29     15\n",
       "10 2012 20-29     12\n",
       "11 2013 20-29      9\n",
       "12 2014 20-29      7\n",
       "13 2015 20-29     10\n",
       "14 2016 20-29      6\n",
       "15 2017 20-29     15\n",
       "16 2018 20-29     13\n",
       "17 2019 20-29     13\n",
       "18 2020 20-29      6"
      ]
     },
     "metadata": {},
     "output_type": "display_data"
    },
    {
     "data": {
      "text/html": [
       "<table>\n",
       "<caption>A grouped_df: 18 × 3</caption>\n",
       "<thead>\n",
       "\t<tr><th scope=col>Year</th><th scope=col>Age.Group</th><th scope=col>n</th></tr>\n",
       "\t<tr><th scope=col>&lt;int&gt;</th><th scope=col>&lt;fct&gt;</th><th scope=col>&lt;int&gt;</th></tr>\n",
       "</thead>\n",
       "<tbody>\n",
       "\t<tr><td>2002</td><td>30-39</td><td>14</td></tr>\n",
       "\t<tr><td>2003</td><td>30-39</td><td> 5</td></tr>\n",
       "\t<tr><td>2004</td><td>30-39</td><td> 9</td></tr>\n",
       "\t<tr><td>2005</td><td>30-39</td><td> 7</td></tr>\n",
       "\t<tr><td>2006</td><td>30-39</td><td> 2</td></tr>\n",
       "\t<tr><td>2007</td><td>30-39</td><td> 5</td></tr>\n",
       "\t<tr><td>2008</td><td>30-39</td><td> 6</td></tr>\n",
       "\t<tr><td>2010</td><td>30-39</td><td> 7</td></tr>\n",
       "\t<tr><td>2011</td><td>30-39</td><td> 5</td></tr>\n",
       "\t<tr><td>2012</td><td>30-39</td><td>20</td></tr>\n",
       "\t<tr><td>2013</td><td>30-39</td><td>15</td></tr>\n",
       "\t<tr><td>2014</td><td>30-39</td><td>20</td></tr>\n",
       "\t<tr><td>2015</td><td>30-39</td><td> 8</td></tr>\n",
       "\t<tr><td>2016</td><td>30-39</td><td>14</td></tr>\n",
       "\t<tr><td>2017</td><td>30-39</td><td>14</td></tr>\n",
       "\t<tr><td>2018</td><td>30-39</td><td>19</td></tr>\n",
       "\t<tr><td>2019</td><td>30-39</td><td>12</td></tr>\n",
       "\t<tr><td>2020</td><td>30-39</td><td> 6</td></tr>\n",
       "</tbody>\n",
       "</table>\n"
      ],
      "text/latex": [
       "A grouped\\_df: 18 × 3\n",
       "\\begin{tabular}{lll}\n",
       " Year & Age.Group & n\\\\\n",
       " <int> & <fct> & <int>\\\\\n",
       "\\hline\n",
       "\t 2002 & 30-39 & 14\\\\\n",
       "\t 2003 & 30-39 &  5\\\\\n",
       "\t 2004 & 30-39 &  9\\\\\n",
       "\t 2005 & 30-39 &  7\\\\\n",
       "\t 2006 & 30-39 &  2\\\\\n",
       "\t 2007 & 30-39 &  5\\\\\n",
       "\t 2008 & 30-39 &  6\\\\\n",
       "\t 2010 & 30-39 &  7\\\\\n",
       "\t 2011 & 30-39 &  5\\\\\n",
       "\t 2012 & 30-39 & 20\\\\\n",
       "\t 2013 & 30-39 & 15\\\\\n",
       "\t 2014 & 30-39 & 20\\\\\n",
       "\t 2015 & 30-39 &  8\\\\\n",
       "\t 2016 & 30-39 & 14\\\\\n",
       "\t 2017 & 30-39 & 14\\\\\n",
       "\t 2018 & 30-39 & 19\\\\\n",
       "\t 2019 & 30-39 & 12\\\\\n",
       "\t 2020 & 30-39 &  6\\\\\n",
       "\\end{tabular}\n"
      ],
      "text/markdown": [
       "\n",
       "A grouped_df: 18 × 3\n",
       "\n",
       "| Year &lt;int&gt; | Age.Group &lt;fct&gt; | n &lt;int&gt; |\n",
       "|---|---|---|\n",
       "| 2002 | 30-39 | 14 |\n",
       "| 2003 | 30-39 |  5 |\n",
       "| 2004 | 30-39 |  9 |\n",
       "| 2005 | 30-39 |  7 |\n",
       "| 2006 | 30-39 |  2 |\n",
       "| 2007 | 30-39 |  5 |\n",
       "| 2008 | 30-39 |  6 |\n",
       "| 2010 | 30-39 |  7 |\n",
       "| 2011 | 30-39 |  5 |\n",
       "| 2012 | 30-39 | 20 |\n",
       "| 2013 | 30-39 | 15 |\n",
       "| 2014 | 30-39 | 20 |\n",
       "| 2015 | 30-39 |  8 |\n",
       "| 2016 | 30-39 | 14 |\n",
       "| 2017 | 30-39 | 14 |\n",
       "| 2018 | 30-39 | 19 |\n",
       "| 2019 | 30-39 | 12 |\n",
       "| 2020 | 30-39 |  6 |\n",
       "\n"
      ],
      "text/plain": [
       "   Year Age.Group n \n",
       "1  2002 30-39     14\n",
       "2  2003 30-39      5\n",
       "3  2004 30-39      9\n",
       "4  2005 30-39      7\n",
       "5  2006 30-39      2\n",
       "6  2007 30-39      5\n",
       "7  2008 30-39      6\n",
       "8  2010 30-39      7\n",
       "9  2011 30-39      5\n",
       "10 2012 30-39     20\n",
       "11 2013 30-39     15\n",
       "12 2014 30-39     20\n",
       "13 2015 30-39      8\n",
       "14 2016 30-39     14\n",
       "15 2017 30-39     14\n",
       "16 2018 30-39     19\n",
       "17 2019 30-39     12\n",
       "18 2020 30-39      6"
      ]
     },
     "metadata": {},
     "output_type": "display_data"
    },
    {
     "data": {
      "text/html": [
       "<table>\n",
       "<caption>A grouped_df: 18 × 3</caption>\n",
       "<thead>\n",
       "\t<tr><th scope=col>Year</th><th scope=col>Age.Group</th><th scope=col>n</th></tr>\n",
       "\t<tr><th scope=col>&lt;int&gt;</th><th scope=col>&lt;fct&gt;</th><th scope=col>&lt;int&gt;</th></tr>\n",
       "</thead>\n",
       "<tbody>\n",
       "\t<tr><td>2002</td><td>40-49</td><td>13</td></tr>\n",
       "\t<tr><td>2003</td><td>40-49</td><td> 9</td></tr>\n",
       "\t<tr><td>2004</td><td>40-49</td><td> 6</td></tr>\n",
       "\t<tr><td>2005</td><td>40-49</td><td> 2</td></tr>\n",
       "\t<tr><td>2006</td><td>40-49</td><td> 3</td></tr>\n",
       "\t<tr><td>2007</td><td>40-49</td><td> 5</td></tr>\n",
       "\t<tr><td>2008</td><td>40-49</td><td> 2</td></tr>\n",
       "\t<tr><td>2010</td><td>40-49</td><td> 2</td></tr>\n",
       "\t<tr><td>2011</td><td>40-49</td><td> 5</td></tr>\n",
       "\t<tr><td>2012</td><td>40-49</td><td> 7</td></tr>\n",
       "\t<tr><td>2013</td><td>40-49</td><td> 5</td></tr>\n",
       "\t<tr><td>2014</td><td>40-49</td><td> 5</td></tr>\n",
       "\t<tr><td>2015</td><td>40-49</td><td> 6</td></tr>\n",
       "\t<tr><td>2016</td><td>40-49</td><td> 2</td></tr>\n",
       "\t<tr><td>2017</td><td>40-49</td><td> 7</td></tr>\n",
       "\t<tr><td>2018</td><td>40-49</td><td> 9</td></tr>\n",
       "\t<tr><td>2019</td><td>40-49</td><td>11</td></tr>\n",
       "\t<tr><td>2020</td><td>40-49</td><td> 2</td></tr>\n",
       "</tbody>\n",
       "</table>\n"
      ],
      "text/latex": [
       "A grouped\\_df: 18 × 3\n",
       "\\begin{tabular}{lll}\n",
       " Year & Age.Group & n\\\\\n",
       " <int> & <fct> & <int>\\\\\n",
       "\\hline\n",
       "\t 2002 & 40-49 & 13\\\\\n",
       "\t 2003 & 40-49 &  9\\\\\n",
       "\t 2004 & 40-49 &  6\\\\\n",
       "\t 2005 & 40-49 &  2\\\\\n",
       "\t 2006 & 40-49 &  3\\\\\n",
       "\t 2007 & 40-49 &  5\\\\\n",
       "\t 2008 & 40-49 &  2\\\\\n",
       "\t 2010 & 40-49 &  2\\\\\n",
       "\t 2011 & 40-49 &  5\\\\\n",
       "\t 2012 & 40-49 &  7\\\\\n",
       "\t 2013 & 40-49 &  5\\\\\n",
       "\t 2014 & 40-49 &  5\\\\\n",
       "\t 2015 & 40-49 &  6\\\\\n",
       "\t 2016 & 40-49 &  2\\\\\n",
       "\t 2017 & 40-49 &  7\\\\\n",
       "\t 2018 & 40-49 &  9\\\\\n",
       "\t 2019 & 40-49 & 11\\\\\n",
       "\t 2020 & 40-49 &  2\\\\\n",
       "\\end{tabular}\n"
      ],
      "text/markdown": [
       "\n",
       "A grouped_df: 18 × 3\n",
       "\n",
       "| Year &lt;int&gt; | Age.Group &lt;fct&gt; | n &lt;int&gt; |\n",
       "|---|---|---|\n",
       "| 2002 | 40-49 | 13 |\n",
       "| 2003 | 40-49 |  9 |\n",
       "| 2004 | 40-49 |  6 |\n",
       "| 2005 | 40-49 |  2 |\n",
       "| 2006 | 40-49 |  3 |\n",
       "| 2007 | 40-49 |  5 |\n",
       "| 2008 | 40-49 |  2 |\n",
       "| 2010 | 40-49 |  2 |\n",
       "| 2011 | 40-49 |  5 |\n",
       "| 2012 | 40-49 |  7 |\n",
       "| 2013 | 40-49 |  5 |\n",
       "| 2014 | 40-49 |  5 |\n",
       "| 2015 | 40-49 |  6 |\n",
       "| 2016 | 40-49 |  2 |\n",
       "| 2017 | 40-49 |  7 |\n",
       "| 2018 | 40-49 |  9 |\n",
       "| 2019 | 40-49 | 11 |\n",
       "| 2020 | 40-49 |  2 |\n",
       "\n"
      ],
      "text/plain": [
       "   Year Age.Group n \n",
       "1  2002 40-49     13\n",
       "2  2003 40-49      9\n",
       "3  2004 40-49      6\n",
       "4  2005 40-49      2\n",
       "5  2006 40-49      3\n",
       "6  2007 40-49      5\n",
       "7  2008 40-49      2\n",
       "8  2010 40-49      2\n",
       "9  2011 40-49      5\n",
       "10 2012 40-49      7\n",
       "11 2013 40-49      5\n",
       "12 2014 40-49      5\n",
       "13 2015 40-49      6\n",
       "14 2016 40-49      2\n",
       "15 2017 40-49      7\n",
       "16 2018 40-49      9\n",
       "17 2019 40-49     11\n",
       "18 2020 40-49      2"
      ]
     },
     "metadata": {},
     "output_type": "display_data"
    },
    {
     "data": {
      "text/html": [
       "<table>\n",
       "<caption>A grouped_df: 16 × 3</caption>\n",
       "<thead>\n",
       "\t<tr><th scope=col>Year</th><th scope=col>Age.Group</th><th scope=col>n</th></tr>\n",
       "\t<tr><th scope=col>&lt;int&gt;</th><th scope=col>&lt;fct&gt;</th><th scope=col>&lt;int&gt;</th></tr>\n",
       "</thead>\n",
       "<tbody>\n",
       "\t<tr><td>2002</td><td>50-59</td><td>5</td></tr>\n",
       "\t<tr><td>2003</td><td>50-59</td><td>5</td></tr>\n",
       "\t<tr><td>2004</td><td>50-59</td><td>3</td></tr>\n",
       "\t<tr><td>2005</td><td>50-59</td><td>6</td></tr>\n",
       "\t<tr><td>2006</td><td>50-59</td><td>1</td></tr>\n",
       "\t<tr><td>2007</td><td>50-59</td><td>3</td></tr>\n",
       "\t<tr><td>2010</td><td>50-59</td><td>2</td></tr>\n",
       "\t<tr><td>2011</td><td>50-59</td><td>3</td></tr>\n",
       "\t<tr><td>2012</td><td>50-59</td><td>5</td></tr>\n",
       "\t<tr><td>2013</td><td>50-59</td><td>2</td></tr>\n",
       "\t<tr><td>2014</td><td>50-59</td><td>4</td></tr>\n",
       "\t<tr><td>2015</td><td>50-59</td><td>4</td></tr>\n",
       "\t<tr><td>2016</td><td>50-59</td><td>3</td></tr>\n",
       "\t<tr><td>2017</td><td>50-59</td><td>3</td></tr>\n",
       "\t<tr><td>2019</td><td>50-59</td><td>1</td></tr>\n",
       "\t<tr><td>2020</td><td>50-59</td><td>2</td></tr>\n",
       "</tbody>\n",
       "</table>\n"
      ],
      "text/latex": [
       "A grouped\\_df: 16 × 3\n",
       "\\begin{tabular}{lll}\n",
       " Year & Age.Group & n\\\\\n",
       " <int> & <fct> & <int>\\\\\n",
       "\\hline\n",
       "\t 2002 & 50-59 & 5\\\\\n",
       "\t 2003 & 50-59 & 5\\\\\n",
       "\t 2004 & 50-59 & 3\\\\\n",
       "\t 2005 & 50-59 & 6\\\\\n",
       "\t 2006 & 50-59 & 1\\\\\n",
       "\t 2007 & 50-59 & 3\\\\\n",
       "\t 2010 & 50-59 & 2\\\\\n",
       "\t 2011 & 50-59 & 3\\\\\n",
       "\t 2012 & 50-59 & 5\\\\\n",
       "\t 2013 & 50-59 & 2\\\\\n",
       "\t 2014 & 50-59 & 4\\\\\n",
       "\t 2015 & 50-59 & 4\\\\\n",
       "\t 2016 & 50-59 & 3\\\\\n",
       "\t 2017 & 50-59 & 3\\\\\n",
       "\t 2019 & 50-59 & 1\\\\\n",
       "\t 2020 & 50-59 & 2\\\\\n",
       "\\end{tabular}\n"
      ],
      "text/markdown": [
       "\n",
       "A grouped_df: 16 × 3\n",
       "\n",
       "| Year &lt;int&gt; | Age.Group &lt;fct&gt; | n &lt;int&gt; |\n",
       "|---|---|---|\n",
       "| 2002 | 50-59 | 5 |\n",
       "| 2003 | 50-59 | 5 |\n",
       "| 2004 | 50-59 | 3 |\n",
       "| 2005 | 50-59 | 6 |\n",
       "| 2006 | 50-59 | 1 |\n",
       "| 2007 | 50-59 | 3 |\n",
       "| 2010 | 50-59 | 2 |\n",
       "| 2011 | 50-59 | 3 |\n",
       "| 2012 | 50-59 | 5 |\n",
       "| 2013 | 50-59 | 2 |\n",
       "| 2014 | 50-59 | 4 |\n",
       "| 2015 | 50-59 | 4 |\n",
       "| 2016 | 50-59 | 3 |\n",
       "| 2017 | 50-59 | 3 |\n",
       "| 2019 | 50-59 | 1 |\n",
       "| 2020 | 50-59 | 2 |\n",
       "\n"
      ],
      "text/plain": [
       "   Year Age.Group n\n",
       "1  2002 50-59     5\n",
       "2  2003 50-59     5\n",
       "3  2004 50-59     3\n",
       "4  2005 50-59     6\n",
       "5  2006 50-59     1\n",
       "6  2007 50-59     3\n",
       "7  2010 50-59     2\n",
       "8  2011 50-59     3\n",
       "9  2012 50-59     5\n",
       "10 2013 50-59     2\n",
       "11 2014 50-59     4\n",
       "12 2015 50-59     4\n",
       "13 2016 50-59     3\n",
       "14 2017 50-59     3\n",
       "15 2019 50-59     1\n",
       "16 2020 50-59     2"
      ]
     },
     "metadata": {},
     "output_type": "display_data"
    },
    {
     "data": {
      "text/html": [
       "<table>\n",
       "<caption>A grouped_df: 10 × 3</caption>\n",
       "<thead>\n",
       "\t<tr><th scope=col>Year</th><th scope=col>Age.Group</th><th scope=col>n</th></tr>\n",
       "\t<tr><th scope=col>&lt;int&gt;</th><th scope=col>&lt;fct&gt;</th><th scope=col>&lt;int&gt;</th></tr>\n",
       "</thead>\n",
       "<tbody>\n",
       "\t<tr><td>2002</td><td>60+</td><td>3</td></tr>\n",
       "\t<tr><td>2004</td><td>60+</td><td>2</td></tr>\n",
       "\t<tr><td>2005</td><td>60+</td><td>1</td></tr>\n",
       "\t<tr><td>2007</td><td>60+</td><td>1</td></tr>\n",
       "\t<tr><td>2010</td><td>60+</td><td>1</td></tr>\n",
       "\t<tr><td>2012</td><td>60+</td><td>3</td></tr>\n",
       "\t<tr><td>2014</td><td>60+</td><td>1</td></tr>\n",
       "\t<tr><td>2017</td><td>60+</td><td>2</td></tr>\n",
       "\t<tr><td>2018</td><td>60+</td><td>2</td></tr>\n",
       "\t<tr><td>2020</td><td>60+</td><td>2</td></tr>\n",
       "</tbody>\n",
       "</table>\n"
      ],
      "text/latex": [
       "A grouped\\_df: 10 × 3\n",
       "\\begin{tabular}{lll}\n",
       " Year & Age.Group & n\\\\\n",
       " <int> & <fct> & <int>\\\\\n",
       "\\hline\n",
       "\t 2002 & 60+ & 3\\\\\n",
       "\t 2004 & 60+ & 2\\\\\n",
       "\t 2005 & 60+ & 1\\\\\n",
       "\t 2007 & 60+ & 1\\\\\n",
       "\t 2010 & 60+ & 1\\\\\n",
       "\t 2012 & 60+ & 3\\\\\n",
       "\t 2014 & 60+ & 1\\\\\n",
       "\t 2017 & 60+ & 2\\\\\n",
       "\t 2018 & 60+ & 2\\\\\n",
       "\t 2020 & 60+ & 2\\\\\n",
       "\\end{tabular}\n"
      ],
      "text/markdown": [
       "\n",
       "A grouped_df: 10 × 3\n",
       "\n",
       "| Year &lt;int&gt; | Age.Group &lt;fct&gt; | n &lt;int&gt; |\n",
       "|---|---|---|\n",
       "| 2002 | 60+ | 3 |\n",
       "| 2004 | 60+ | 2 |\n",
       "| 2005 | 60+ | 1 |\n",
       "| 2007 | 60+ | 1 |\n",
       "| 2010 | 60+ | 1 |\n",
       "| 2012 | 60+ | 3 |\n",
       "| 2014 | 60+ | 1 |\n",
       "| 2017 | 60+ | 2 |\n",
       "| 2018 | 60+ | 2 |\n",
       "| 2020 | 60+ | 2 |\n",
       "\n"
      ],
      "text/plain": [
       "   Year Age.Group n\n",
       "1  2002 60+       3\n",
       "2  2004 60+       2\n",
       "3  2005 60+       1\n",
       "4  2007 60+       1\n",
       "5  2010 60+       1\n",
       "6  2012 60+       3\n",
       "7  2014 60+       1\n",
       "8  2017 60+       2\n",
       "9  2018 60+       2\n",
       "10 2020 60+       2"
      ]
     },
     "metadata": {},
     "output_type": "display_data"
    },
    {
     "name": "stderr",
     "output_type": "stream",
     "text": [
      "`summarise()` ungrouping output (override with `.groups` argument)\n",
      "\n"
     ]
    },
    {
     "data": {
      "text/html": [
       "<table>\n",
       "<caption>A tibble: 1 × 2</caption>\n",
       "<thead>\n",
       "\t<tr><th scope=col>Age.Group</th><th scope=col>mean_place</th></tr>\n",
       "\t<tr><th scope=col>&lt;fct&gt;</th><th scope=col>&lt;dbl&gt;</th></tr>\n",
       "</thead>\n",
       "<tbody>\n",
       "\t<tr><td>U20</td><td>100.9292</td></tr>\n",
       "</tbody>\n",
       "</table>\n"
      ],
      "text/latex": [
       "A tibble: 1 × 2\n",
       "\\begin{tabular}{ll}\n",
       " Age.Group & mean\\_place\\\\\n",
       " <fct> & <dbl>\\\\\n",
       "\\hline\n",
       "\t U20 & 100.9292\\\\\n",
       "\\end{tabular}\n"
      ],
      "text/markdown": [
       "\n",
       "A tibble: 1 × 2\n",
       "\n",
       "| Age.Group &lt;fct&gt; | mean_place &lt;dbl&gt; |\n",
       "|---|---|\n",
       "| U20 | 100.9292 |\n",
       "\n"
      ],
      "text/plain": [
       "  Age.Group mean_place\n",
       "1 U20       100.9292  "
      ]
     },
     "metadata": {},
     "output_type": "display_data"
    },
    {
     "name": "stderr",
     "output_type": "stream",
     "text": [
      "`summarise()` ungrouping output (override with `.groups` argument)\n",
      "\n"
     ]
    },
    {
     "data": {
      "text/html": [
       "<table>\n",
       "<caption>A tibble: 1 × 2</caption>\n",
       "<thead>\n",
       "\t<tr><th scope=col>Age.Group</th><th scope=col>mean_place</th></tr>\n",
       "\t<tr><th scope=col>&lt;fct&gt;</th><th scope=col>&lt;dbl&gt;</th></tr>\n",
       "</thead>\n",
       "<tbody>\n",
       "\t<tr><td>20-29</td><td>103.6937</td></tr>\n",
       "</tbody>\n",
       "</table>\n"
      ],
      "text/latex": [
       "A tibble: 1 × 2\n",
       "\\begin{tabular}{ll}\n",
       " Age.Group & mean\\_place\\\\\n",
       " <fct> & <dbl>\\\\\n",
       "\\hline\n",
       "\t 20-29 & 103.6937\\\\\n",
       "\\end{tabular}\n"
      ],
      "text/markdown": [
       "\n",
       "A tibble: 1 × 2\n",
       "\n",
       "| Age.Group &lt;fct&gt; | mean_place &lt;dbl&gt; |\n",
       "|---|---|\n",
       "| 20-29 | 103.6937 |\n",
       "\n"
      ],
      "text/plain": [
       "  Age.Group mean_place\n",
       "1 20-29     103.6937  "
      ]
     },
     "metadata": {},
     "output_type": "display_data"
    },
    {
     "name": "stderr",
     "output_type": "stream",
     "text": [
      "`summarise()` ungrouping output (override with `.groups` argument)\n",
      "\n"
     ]
    },
    {
     "data": {
      "text/html": [
       "<table>\n",
       "<caption>A tibble: 2 × 2</caption>\n",
       "<thead>\n",
       "\t<tr><th scope=col>Age.Group</th><th scope=col>mean_place</th></tr>\n",
       "\t<tr><th scope=col>&lt;fct&gt;</th><th scope=col>&lt;dbl&gt;</th></tr>\n",
       "</thead>\n",
       "<tbody>\n",
       "\t<tr><td>30-39</td><td>108.2758</td></tr>\n",
       "\t<tr><td>60+  </td><td>118.5889</td></tr>\n",
       "</tbody>\n",
       "</table>\n"
      ],
      "text/latex": [
       "A tibble: 2 × 2\n",
       "\\begin{tabular}{ll}\n",
       " Age.Group & mean\\_place\\\\\n",
       " <fct> & <dbl>\\\\\n",
       "\\hline\n",
       "\t 30-39 & 108.2758\\\\\n",
       "\t 60+   & 118.5889\\\\\n",
       "\\end{tabular}\n"
      ],
      "text/markdown": [
       "\n",
       "A tibble: 2 × 2\n",
       "\n",
       "| Age.Group &lt;fct&gt; | mean_place &lt;dbl&gt; |\n",
       "|---|---|\n",
       "| 30-39 | 108.2758 |\n",
       "| 60+   | 118.5889 |\n",
       "\n"
      ],
      "text/plain": [
       "  Age.Group mean_place\n",
       "1 30-39     108.2758  \n",
       "2 60+       118.5889  "
      ]
     },
     "metadata": {},
     "output_type": "display_data"
    },
    {
     "name": "stderr",
     "output_type": "stream",
     "text": [
      "`summarise()` ungrouping output (override with `.groups` argument)\n",
      "\n"
     ]
    },
    {
     "data": {
      "text/html": [
       "<table>\n",
       "<caption>A tibble: 2 × 2</caption>\n",
       "<thead>\n",
       "\t<tr><th scope=col>Age.Group</th><th scope=col>mean_place</th></tr>\n",
       "\t<tr><th scope=col>&lt;fct&gt;</th><th scope=col>&lt;dbl&gt;</th></tr>\n",
       "</thead>\n",
       "<tbody>\n",
       "\t<tr><td>40-49</td><td>108.8628</td></tr>\n",
       "\t<tr><td>60+  </td><td>121.0111</td></tr>\n",
       "</tbody>\n",
       "</table>\n"
      ],
      "text/latex": [
       "A tibble: 2 × 2\n",
       "\\begin{tabular}{ll}\n",
       " Age.Group & mean\\_place\\\\\n",
       " <fct> & <dbl>\\\\\n",
       "\\hline\n",
       "\t 40-49 & 108.8628\\\\\n",
       "\t 60+   & 121.0111\\\\\n",
       "\\end{tabular}\n"
      ],
      "text/markdown": [
       "\n",
       "A tibble: 2 × 2\n",
       "\n",
       "| Age.Group &lt;fct&gt; | mean_place &lt;dbl&gt; |\n",
       "|---|---|\n",
       "| 40-49 | 108.8628 |\n",
       "| 60+   | 121.0111 |\n",
       "\n"
      ],
      "text/plain": [
       "  Age.Group mean_place\n",
       "1 40-49     108.8628  \n",
       "2 60+       121.0111  "
      ]
     },
     "metadata": {},
     "output_type": "display_data"
    },
    {
     "name": "stderr",
     "output_type": "stream",
     "text": [
      "`summarise()` ungrouping output (override with `.groups` argument)\n",
      "\n"
     ]
    },
    {
     "data": {
      "text/html": [
       "<table>\n",
       "<caption>A tibble: 1 × 2</caption>\n",
       "<thead>\n",
       "\t<tr><th scope=col>Age.Group</th><th scope=col>mean_place</th></tr>\n",
       "\t<tr><th scope=col>&lt;fct&gt;</th><th scope=col>&lt;dbl&gt;</th></tr>\n",
       "</thead>\n",
       "<tbody>\n",
       "\t<tr><td>50-59</td><td>121.2667</td></tr>\n",
       "</tbody>\n",
       "</table>\n"
      ],
      "text/latex": [
       "A tibble: 1 × 2\n",
       "\\begin{tabular}{ll}\n",
       " Age.Group & mean\\_place\\\\\n",
       " <fct> & <dbl>\\\\\n",
       "\\hline\n",
       "\t 50-59 & 121.2667\\\\\n",
       "\\end{tabular}\n"
      ],
      "text/markdown": [
       "\n",
       "A tibble: 1 × 2\n",
       "\n",
       "| Age.Group &lt;fct&gt; | mean_place &lt;dbl&gt; |\n",
       "|---|---|\n",
       "| 50-59 | 121.2667 |\n",
       "\n"
      ],
      "text/plain": [
       "  Age.Group mean_place\n",
       "1 50-59     121.2667  "
      ]
     },
     "metadata": {},
     "output_type": "display_data"
    }
   ],
   "source": [
    "#caculating the amount of particiants for each age group for each year, and then seeing what their finish time ws for the highest participants they had in that year\n",
    "myData2 %>%\n",
    "    group_by(Year) %>%\n",
    "    filter(Age.Group == \"U20\") %>%\n",
    "    count(Age.Group)\n",
    "\n",
    "myData2 %>%\n",
    "    group_by(Year) %>%\n",
    "    filter(Age.Group == \"20-29\") %>%\n",
    "    count(Age.Group)\n",
    "\n",
    "myData2 %>%\n",
    "    group_by(Year) %>%\n",
    "    filter(Age.Group == \"30-39\") %>%\n",
    "    count(Age.Group)\n",
    "\n",
    "myData2 %>%\n",
    "    group_by(Year) %>%\n",
    "    filter(Age.Group == \"40-49\") %>%\n",
    "    count(Age.Group)\n",
    "\n",
    "myData2 %>%\n",
    "    group_by(Year) %>%\n",
    "    filter(Age.Group == \"50-59\") %>%\n",
    "    count(Age.Group)\n",
    "\n",
    "myData2 %>%\n",
    "    group_by(Year) %>%\n",
    "    filter(Age.Group == \"60+\") %>%\n",
    "    count(Age.Group)\n",
    "myData2 %>%\n",
    "    group_by(Age.Group) %>%\n",
    "    filter(Year == 2015, Age.Group == \"U20\") %>%\n",
    "    summarize(mean_place = mean(Finish))\n",
    "\n",
    "myData2 %>%\n",
    "    group_by(Age.Group) %>%\n",
    "    filter(Year == 2010, Age.Group == \"20-29\") %>%\n",
    "    summarize(mean_place = mean(Finish))\n",
    "\n",
    "myData2 %>%\n",
    "    group_by(Age.Group) %>%\n",
    "    filter(Year == 2012, Age.Group == \"30-39\"| Age.Group == \"60+\") %>%\n",
    "    summarize(mean_place = mean(Finish))\n",
    "myData2 %>%\n",
    "    group_by(Age.Group) %>%\n",
    "    filter(Year == 2002,Age.Group == \"40-49\" | Age.Group == \"60+\" ) %>%\n",
    "    summarize(mean_place = mean(Finish))\n",
    "\n",
    " myData2 %>%\n",
    "    group_by(Age.Group) %>%\n",
    "    filter(Year == 2005, Age.Group == \"50-59\") %>%\n",
    "    summarize(mean_place = mean(Finish))\n",
    "           "
   ]
  },
  {
   "cell_type": "code",
   "execution_count": 89,
   "id": "c9f93fff",
   "metadata": {},
   "outputs": [
    {
     "data": {
      "text/plain": [
       "\n",
       "Call:\n",
       "lm(formula = Finish ~ c(1, 2, 3, 4, 5, 6))\n",
       "\n",
       "Residuals:\n",
       "      1       2       3       4       5       6 \n",
       " 1.2357 -0.3917 -0.2015 -4.0064  4.0057 -0.6418 \n",
       "\n",
       "Coefficients:\n",
       "                    Estimate Std. Error t value Pr(>|t|)    \n",
       "(Intercept)          95.3017     2.7233  34.995 3.98e-06 ***\n",
       "c(1, 2, 3, 4, 5, 6)   4.3919     0.6993   6.281  0.00328 ** \n",
       "---\n",
       "Signif. codes:  0 ‘***’ 0.001 ‘**’ 0.01 ‘*’ 0.05 ‘.’ 0.1 ‘ ’ 1\n",
       "\n",
       "Residual standard error: 2.925 on 4 degrees of freedom\n",
       "Multiple R-squared:  0.9079,\tAdjusted R-squared:  0.8849 \n",
       "F-statistic: 39.45 on 1 and 4 DF,  p-value: 0.003282\n"
      ]
     },
     "metadata": {},
     "output_type": "display_data"
    },
    {
     "data": {
      "text/html": [
       "<table>\n",
       "<caption>A anova: 2 × 5</caption>\n",
       "<thead>\n",
       "\t<tr><th></th><th scope=col>Df</th><th scope=col>Sum Sq</th><th scope=col>Mean Sq</th><th scope=col>F value</th><th scope=col>Pr(&gt;F)</th></tr>\n",
       "\t<tr><th></th><th scope=col>&lt;int&gt;</th><th scope=col>&lt;dbl&gt;</th><th scope=col>&lt;dbl&gt;</th><th scope=col>&lt;dbl&gt;</th><th scope=col>&lt;dbl&gt;</th></tr>\n",
       "</thead>\n",
       "<tbody>\n",
       "\t<tr><th scope=row>c(1, 2, 3, 4, 5, 6)</th><td>1</td><td>337.54936</td><td>337.549356</td><td>39.4459</td><td>0.003281668</td></tr>\n",
       "\t<tr><th scope=row>Residuals</th><td>4</td><td> 34.22909</td><td>  8.557273</td><td>     NA</td><td>         NA</td></tr>\n",
       "</tbody>\n",
       "</table>\n"
      ],
      "text/latex": [
       "A anova: 2 × 5\n",
       "\\begin{tabular}{r|lllll}\n",
       "  & Df & Sum Sq & Mean Sq & F value & Pr(>F)\\\\\n",
       "  & <int> & <dbl> & <dbl> & <dbl> & <dbl>\\\\\n",
       "\\hline\n",
       "\tc(1, 2, 3, 4, 5, 6) & 1 & 337.54936 & 337.549356 & 39.4459 & 0.003281668\\\\\n",
       "\tResiduals & 4 &  34.22909 &   8.557273 &      NA &          NA\\\\\n",
       "\\end{tabular}\n"
      ],
      "text/markdown": [
       "\n",
       "A anova: 2 × 5\n",
       "\n",
       "| <!--/--> | Df &lt;int&gt; | Sum Sq &lt;dbl&gt; | Mean Sq &lt;dbl&gt; | F value &lt;dbl&gt; | Pr(&gt;F) &lt;dbl&gt; |\n",
       "|---|---|---|---|---|---|\n",
       "| c(1, 2, 3, 4, 5, 6) | 1 | 337.54936 | 337.549356 | 39.4459 | 0.003281668 |\n",
       "| Residuals | 4 |  34.22909 |   8.557273 |      NA |          NA |\n",
       "\n"
      ],
      "text/plain": [
       "                    Df Sum Sq    Mean Sq    F value Pr(>F)     \n",
       "c(1, 2, 3, 4, 5, 6) 1  337.54936 337.549356 39.4459 0.003281668\n",
       "Residuals           4   34.22909   8.557273      NA          NA"
      ]
     },
     "metadata": {},
     "output_type": "display_data"
    },
    {
     "data": {
      "image/png": "[encoded data removed]",
      "text/plain": [
       "plot without title"
      ]
     },
     "metadata": {
      "image/png": {
       "height": 420,
       "width": 420
      }
     },
     "output_type": "display_data"
    }
   ],
   "source": [
    "#Plotting the results gained from above and doing a anova test\n",
    "Age <- c(\"U20\",\"20-29\",\"30-39\",\"40-49\",\"50-59\",\"60+\") \n",
    "Finish <- c(100.9292,103.6937,108.2758, 108.8628, 121.2667,121.0111)\n",
    "\n",
    "plot(c(1,2,3,4,5,6),Finish)\n",
    "linear_model = lm(Finish~c(1,2,3,4,5,6))\n",
    "summary(linear_model)\n",
    "abline(linear_model)\n",
    "\n",
    "anova(linear_model)"
   ]
  },
  {
   "cell_type": "code",
   "execution_count": null,
   "id": "c705ef6a",
   "metadata": {},
   "outputs": [],
   "source": []
  }
 ],
 "metadata": {
  "kernelspec": {
   "display_name": "R",
   "language": "R",
   "name": "ir"
  },
  "language_info": {
   "codemirror_mode": "r",
   "file_extension": ".r",
   "mimetype": "text/x-r-source",
   "name": "R",
   "pygments_lexer": "r",
   "version": "3.3.3"
  }
 },
 "nbformat": 4,
 "nbformat_minor": 5
}
