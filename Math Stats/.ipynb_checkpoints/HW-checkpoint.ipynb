{
 "cells": [
  {
   "cell_type": "code",
   "execution_count": 13,
   "id": "71700f85",
   "metadata": {},
   "outputs": [
    {
     "name": "stderr",
     "output_type": "stream",
     "text": [
      "\n",
      "Attaching package: ‘dplyr’\n",
      "\n",
      "\n",
      "The following objects are masked from ‘package:stats’:\n",
      "\n",
      "    filter, lag\n",
      "\n",
      "\n",
      "The following objects are masked from ‘package:base’:\n",
      "\n",
      "    intersect, setdiff, setequal, union\n",
      "\n",
      "\n"
     ]
    },
    {
     "data": {
      "text/plain": [
       "\n",
       "Call:\n",
       "lm(formula = Petal.Length ~ Petal.Width, data = iris)\n",
       "\n",
       "Residuals:\n",
       "     Min       1Q   Median       3Q      Max \n",
       "-1.33542 -0.30347 -0.02955  0.25776  1.39453 \n",
       "\n",
       "Coefficients:\n",
       "            Estimate Std. Error t value Pr(>|t|)    \n",
       "(Intercept)  1.08356    0.07297   14.85   <2e-16 ***\n",
       "Petal.Width  2.22994    0.05140   43.39   <2e-16 ***\n",
       "---\n",
       "Signif. codes:  0 ‘***’ 0.001 ‘**’ 0.01 ‘*’ 0.05 ‘.’ 0.1 ‘ ’ 1\n",
       "\n",
       "Residual standard error: 0.4782 on 148 degrees of freedom\n",
       "Multiple R-squared:  0.9271,\tAdjusted R-squared:  0.9266 \n",
       "F-statistic:  1882 on 1 and 148 DF,  p-value: < 2.2e-16\n"
      ]
     },
     "metadata": {},
     "output_type": "display_data"
    }
   ],
   "source": [
    "library(ggplot2)\n",
    "library(dplyr)\n",
    "\n",
    " \n",
    "fit <- lm(Petal.Length ~ Petal.Width, data=iris)\n",
    "summary(fit)\n",
    "## the 2.2e-16 is the probability of testing H_0: There is no linear relationship between the length of petals and the width\n",
    "#and H_1: There is a linear relationship. Since the probability of H_0 is low then we can assume that H_1 \n",
    "#will take place which is that there is a linear relationship, meaning that when the length if the petal increases\n",
    "#the width of the petal increases"
   ]
  },
  {
   "cell_type": "code",
   "execution_count": 21,
   "id": "827f1af6",
   "metadata": {},
   "outputs": [
    {
     "data": {
      "text/html": [
       "<table>\n",
       "<caption>A anova: 2 × 5</caption>\n",
       "<thead>\n",
       "\t<tr><th></th><th scope=col>Df</th><th scope=col>Sum Sq</th><th scope=col>Mean Sq</th><th scope=col>F value</th><th scope=col>Pr(&gt;F)</th></tr>\n",
       "\t<tr><th></th><th scope=col>&lt;int&gt;</th><th scope=col>&lt;dbl&gt;</th><th scope=col>&lt;dbl&gt;</th><th scope=col>&lt;dbl&gt;</th><th scope=col>&lt;dbl&gt;</th></tr>\n",
       "</thead>\n",
       "<tbody>\n",
       "\t<tr><th scope=row>Petal.Width</th><td>  1</td><td>430.48065</td><td>430.4806468</td><td>1882.452</td><td>4.675004e-86</td></tr>\n",
       "\t<tr><th scope=row>Residuals</th><td>148</td><td> 33.84475</td><td>  0.2286808</td><td>      NA</td><td>          NA</td></tr>\n",
       "</tbody>\n",
       "</table>\n"
      ],
      "text/latex": [
       "A anova: 2 × 5\n",
       "\\begin{tabular}{r|lllll}\n",
       "  & Df & Sum Sq & Mean Sq & F value & Pr(>F)\\\\\n",
       "  & <int> & <dbl> & <dbl> & <dbl> & <dbl>\\\\\n",
       "\\hline\n",
       "\tPetal.Width &   1 & 430.48065 & 430.4806468 & 1882.452 & 4.675004e-86\\\\\n",
       "\tResiduals & 148 &  33.84475 &   0.2286808 &       NA &           NA\\\\\n",
       "\\end{tabular}\n"
      ],
      "text/markdown": [
       "\n",
       "A anova: 2 × 5\n",
       "\n",
       "| <!--/--> | Df &lt;int&gt; | Sum Sq &lt;dbl&gt; | Mean Sq &lt;dbl&gt; | F value &lt;dbl&gt; | Pr(&gt;F) &lt;dbl&gt; |\n",
       "|---|---|---|---|---|---|\n",
       "| Petal.Width |   1 | 430.48065 | 430.4806468 | 1882.452 | 4.675004e-86 |\n",
       "| Residuals | 148 |  33.84475 |   0.2286808 |       NA |           NA |\n",
       "\n"
      ],
      "text/plain": [
       "            Df  Sum Sq    Mean Sq     F value  Pr(>F)      \n",
       "Petal.Width   1 430.48065 430.4806468 1882.452 4.675004e-86\n",
       "Residuals   148  33.84475   0.2286808       NA           NA"
      ]
     },
     "metadata": {},
     "output_type": "display_data"
    }
   ],
   "source": [
    "anova(fit)\n",
    "\n",
    "#The probability of 4.675004e-86 the F statistic shows how likely it is that the F value calculated \n",
    "#from the test would have occurred if the null hypothesis of no difference among the means of the the petal width and the petal length were true.\n",
    "#Since it is very small we can see that H_1 will probably occur which is that the means of the the petal width and the petal length are different"
   ]
  },
  {
   "cell_type": "code",
   "execution_count": 20,
   "id": "5320c1dd",
   "metadata": {},
   "outputs": [
    {
     "data": {
      "text/plain": [
       "\n",
       "\tPairwise comparisons using t tests with pooled SD \n",
       "\n",
       "data:  mtcars$vs and mtcars$gear \n",
       "\n",
       "  3      4     \n",
       "4 0.0012 -     \n",
       "5 1.0000 0.0139\n",
       "\n",
       "P value adjustment method: holm "
      ]
     },
     "metadata": {},
     "output_type": "display_data"
    }
   ],
   "source": [
    "\n",
    "res <- pairwise.t.test(mtcars$vs, mtcars$gear)\n",
    "res\n",
    "\n",
    "#H_o is that the difference of means for vs and gear is 0( M1 - M2 = 0), meaning that the means are the same\n",
    "#H_1 is that the difference of means is more than 0 (M1-M2>0), meaning that the means are not the same\n",
    "\n",
    "#From the otputs we can see that the difference of means is larger than zero, meaning that vs and gear do not have the same means\n",
    "\n"
   ]
  },
  {
   "cell_type": "code",
   "execution_count": null,
   "id": "6a8f0c7d",
   "metadata": {},
   "outputs": [],
   "source": []
  }
 ],
 "metadata": {
  "kernelspec": {
   "display_name": "R",
   "language": "R",
   "name": "ir"
  },
  "language_info": {
   "codemirror_mode": "r",
   "file_extension": ".r",
   "mimetype": "text/x-r-source",
   "name": "R",
   "pygments_lexer": "r",
   "version": "3.3.3"
  }
 },
 "nbformat": 4,
 "nbformat_minor": 5
}
