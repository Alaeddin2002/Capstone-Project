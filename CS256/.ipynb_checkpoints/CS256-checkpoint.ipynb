{
 "cells": [
  {
   "cell_type": "code",
   "execution_count": 152,
   "metadata": {},
   "outputs": [
    {
     "name": "stdout",
     "output_type": "stream",
     "text": [
      "Please enter the courses you have taken previously with letter grades:MATH101:A;SPS101:b;CS201:B+;HIST191:D;CS204:F;CS210:u\n",
      "Please enter the courses you have taken this semester with letterCS210:F;CS306:b+;MATH203:C;HIST192:F;CS204:b\n",
      "Please enter the course you want to check:CS210\n",
      "Your grade for CS210 is U\n",
      "Your grade for CS210 is U\n",
      "Your grade for CS210 is U\n",
      "Your grade for CS210 is U\n",
      "Your grade for CS210 is U\n",
      "Your grade for CS210 is U\n",
      "Your grade for CS210 is U\n",
      "Your grade for CS210 is U\n",
      "Your grade for CS210 is U\n",
      "Your grade for CS210 is U\n",
      "Your grade for CS210 is U\n",
      "Your grade for CS210 is U\n"
     ]
    }
   ],
   "source": [
    "def grades():\n",
    "    chacracters = \": ;\"    \n",
    "    previous_course = (input(\"Please enter the courses you have taken previously with letter grades:\"))\n",
    "    previous_courses = previous_course\n",
    "    for i in chacracters:\n",
    "        previous_courses = previous_courses.replace(i,\",\")\n",
    "    x = previous_courses.split(\",\")\n",
    "\n",
    "    \n",
    "\n",
    "\n",
    "    current_course = (input(\"Please enter the courses you have taken this semester with letter\"))\n",
    "    current_courses = current_course\n",
    "    for i in chacracters:\n",
    "        current_courses = current_courses.replace(i,\",\")\n",
    "    v =current_courses.split(\",\")\n",
    "\n",
    "    Course = (input(\"Please enter the course you want to check:\"))\n",
    "    if Course in current_courses:\n",
    "        for j in range (len(v)):\n",
    "            if v[j] == Course:\n",
    "                if v[j+1].upper() == \"F\":\n",
    "                    if Course in previous_courses:\n",
    "                        for i in range (len(x)):\n",
    "                            if x[i] == Course:\n",
    "                                if x[i+1].upper() != \"U\":\n",
    "                                    print(\"Your grade for\",Course,\"is F\")\n",
    "                                else:\n",
    "                                    print (\"Your grade for\",Course,\"is U\")\n",
    "                            else:\n",
    "                                print (\"Your grade for\",Course,\"is U\")\n",
    "                    else:\n",
    "                        print(\"Your grade for\",Course,\"is U\")\n",
    "        \n",
    "    \n",
    "                else:\n",
    "                    print (\"You can choose between S and\", v[j+1].upper(), \"for Course.\")\n",
    "    \n",
    "\n",
    "    \n",
    "    else:\n",
    "        print(\"you have not taken\",Course)\n",
    "     \n",
    "    \n",
    "grades()\n",
    "\n",
    "\n",
    "    \n",
    "        "
   ]
  },
  {
   "cell_type": "code",
   "execution_count": null,
   "metadata": {},
   "outputs": [],
   "source": []
  },
  {
   "cell_type": "code",
   "execution_count": null,
   "metadata": {},
   "outputs": [],
   "source": []
  },
  {
   "cell_type": "code",
   "execution_count": null,
   "metadata": {},
   "outputs": [],
   "source": []
  },
  {
   "cell_type": "code",
   "execution_count": null,
   "metadata": {},
   "outputs": [],
   "source": [
    "\n"
   ]
  },
  {
   "cell_type": "code",
   "execution_count": null,
   "metadata": {},
   "outputs": [],
   "source": []
  },
  {
   "cell_type": "code",
   "execution_count": null,
   "metadata": {},
   "outputs": [],
   "source": []
  },
  {
   "cell_type": "code",
   "execution_count": null,
   "metadata": {},
   "outputs": [],
   "source": [
    "\n",
    "        \n",
    "\n",
    "        \n",
    "        \n"
   ]
  },
  {
   "cell_type": "code",
   "execution_count": null,
   "metadata": {},
   "outputs": [],
   "source": [
    "\n",
    "        "
   ]
  },
  {
   "cell_type": "code",
   "execution_count": null,
   "metadata": {},
   "outputs": [],
   "source": []
  }
 ],
 "metadata": {
  "kernelspec": {
   "display_name": "Python 3",
   "language": "python",
   "name": "python3"
  },
  "language_info": {
   "codemirror_mode": {
    "name": "ipython",
    "version": 3
   },
   "file_extension": ".py",
   "mimetype": "text/x-python",
   "name": "python",
   "nbconvert_exporter": "python",
   "pygments_lexer": "ipython3",
   "version": "3.7.4"
  }
 },
 "nbformat": 4,
 "nbformat_minor": 2
}
