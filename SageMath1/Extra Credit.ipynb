{
 "cells": [
  {
   "cell_type": "code",
   "execution_count": 39,
   "metadata": {},
   "outputs": [
    {
     "name": "stdout",
     "output_type": "stream",
     "text": [
      "[ 256 2048 9216]\n",
      "[   0  256 2048]\n",
      "[   0    0  256]\n"
     ]
    }
   ],
   "source": [
    "#Formula for the n-th term\n",
    "#Along the main diagonal is a^n\n",
    "#Along the diagonal above the main diagonal is (n*b)*(a^(n-1))\n",
    "#The top right most entery is (n*a^(n-2)*(a*c+b^2*(n-1)/2)\n",
    "#Rest of enteries are zeros\n",
    "\n",
    "n = 8\n",
    "a = 2\n",
    "b = 2\n",
    "c = 2\n",
    "A = Matrix ([[a**n,((n*b)*(a**(n-1))), (n*a^(n-2)*(a*c+b^2*(n-1)/2))],[0,a**n,(n*b)*(a**(n-1))],[0,0,a**n]])\n",
    "\n",
    "print(A)"
   ]
  },
  {
   "cell_type": "code",
   "execution_count": null,
   "metadata": {},
   "outputs": [],
   "source": []
  },
  {
   "cell_type": "code",
   "execution_count": null,
   "metadata": {},
   "outputs": [],
   "source": []
  }
 ],
 "metadata": {
  "kernelspec": {
   "display_name": "SageMath 9.1",
   "language": "sage",
   "name": "sagemath-9.1"
  },
  "language_info": {
   "codemirror_mode": {
    "name": "ipython",
    "version": 3
   },
   "file_extension": ".py",
   "mimetype": "text/x-python",
   "name": "python",
   "nbconvert_exporter": "python",
   "pygments_lexer": "ipython3",
   "version": "3.7.3"
  }
 },
 "nbformat": 4,
 "nbformat_minor": 2
}
