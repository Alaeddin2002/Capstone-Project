{
 "cells": [
  {
   "cell_type": "code",
   "execution_count": 22,
   "metadata": {},
   "outputs": [],
   "source": [
    "def change_to_string(code):\n",
    "    code = code.split()\n",
    "    code = \"\".join(code)\n",
    "    new_code = \"\"\n",
    "    for i in code:\n",
    "        if i.isalpha():\n",
    "            new_code += i\n",
    "    return new_code\n",
    "change_to_string(\"i like to move it move it\")\n",
    "\n",
    "def create_matrix():\n",
    "    identity = matrix.identity(3)\n",
    "    A = random_matrix(Zmod(26),3,3)\n",
    "    while gcd(A.det(),26) > 1:\n",
    "        A = random_matrix(Zmod(26),3,3)\n",
    "    return A\n",
    "n = create_matrix()"
   ]
  },
  {
   "cell_type": "code",
   "execution_count": 23,
   "metadata": {},
   "outputs": [],
   "source": [
    "import textwrap\n",
    "def hill_cipher(code,n):\n",
    "    code = change_to_string(code.lower())\n",
    "    new_code = textwrap.wrap(code, 3) \n",
    "    message = []\n",
    "    for i in new_code:\n",
    "        li = []\n",
    "        for j in i:\n",
    "            x = ord(j)\n",
    "            li.append(x)\n",
    "        message.append(li)\n",
    "#     B = Matrix(Zmod(26),3,[3,0,1,2,3,0,1,4,0])\n",
    "    Encrypted = \"\"\n",
    "    b = 0\n",
    "    for y in message:\n",
    "        if len(y) < 3:\n",
    "            b = 3 - len(y) \n",
    "        while len(y) < 3:\n",
    "            y.append(0)\n",
    "        new_message = n * vector(Zmod(26), y)\n",
    "        for x in new_message:\n",
    "            x = chr(int(x) + 97)\n",
    "            Encrypted += x \n",
    "    return (Encrypted, b) #returns encoded message\n",
    "# hill_cipher(\"i like greens, beans, potatoes, tomatoes\",n)\n",
    "        "
   ]
  },
  {
   "cell_type": "code",
   "execution_count": 24,
   "metadata": {},
   "outputs": [],
   "source": [
    "example = hill_cipher(\"i like greens, beans, potatoes, tomatoes\",n) #Called the hill cipher function to decode it\n",
    "def decode(message,unnecessary,n):\n",
    "    new_code = textwrap.wrap(message, 3) # we would split the message into a list of 3 of the characters\n",
    "    message = []\n",
    "    for i in new_code:\n",
    "        li = []\n",
    "        for j in i:\n",
    "            t = ord(j) - 97 #We would then switch the ord of the numbers back to their Z26 state\n",
    "            li.append(t)\n",
    "        message.append(li)\n",
    "#     B = Matrix(Zmod(26),3,[3,0,1,2,3,0,1,4,0])\n",
    "    B = n**-1 #We create the inverse of our original matrix which we used to encryt the message\n",
    "    Encrypted = \"\"\n",
    "    b = 0\n",
    "    for y in message:\n",
    "        new_message = B * vector(Zmod(26), y) # New message gives us the original message in Z26\n",
    "        for x in new_message:\n",
    "            x = int(x)  \n",
    "            if x < 27 and x > 18: #since We are using mod 26 and the ASCII values of a in mod 26 is 18 we would need to add 78 to that value to get its ascii value from a to \n",
    "                x = chr(int(x) + 78)\n",
    "            else:\n",
    "                x = chr(int(x) + 104)\n",
    "            Encrypted += x\n",
    "    if unnecessary != 0:\n",
    "        return Encrypted[0:-unnecessary]\n",
    "    else:\n",
    "        return Encrypted\n",
    "# decode(example[0],example[1],n) #taken from earlier example on line 1 that had decrypted message"
   ]
  },
  {
   "cell_type": "code",
   "execution_count": 25,
   "metadata": {},
   "outputs": [
    {
     "name": "stdout",
     "output_type": "stream",
     "text": [
      "('bsqyundxoqrzcvnbffuzgetgthdftyvxyihoqnlgtggmu', 2)\n"
     ]
    }
   ],
   "source": [
    "ciphered = hill_cipher(\"I am about to climb the highest point of the mountain\",n)\n",
    "print(ciphered)"
   ]
  },
  {
   "cell_type": "code",
   "execution_count": 26,
   "metadata": {},
   "outputs": [
    {
     "name": "stdout",
     "output_type": "stream",
     "text": [
      "iamabouttoclimbthehighestpointofthemountain\n"
     ]
    }
   ],
   "source": [
    "decrypted = decode(ciphered[0],ciphered[1],n)\n",
    "print(decrypted)"
   ]
  },
  {
   "cell_type": "code",
   "execution_count": 27,
   "metadata": {},
   "outputs": [
    {
     "name": "stdout",
     "output_type": "stream",
     "text": [
      "[\n",
      "(1, -4/11, -7/11)\n",
      "]\n"
     ]
    }
   ],
   "source": [
    "def Independence ():\n",
    "    B = create_matrix()\n",
    "    l = []\n",
    "    for i in range (3):\n",
    "        for j in B.column(i):\n",
    "            v1 = vector(QQ, [j,j+1,j+2])\n",
    "        l.append(v1)\n",
    "    V = QQ^3\n",
    "    print(V.linear_dependence([l[0],l[1],l[2]]))\n",
    "Independence ()"
   ]
  },
  {
   "cell_type": "code",
   "execution_count": null,
   "metadata": {},
   "outputs": [],
   "source": []
  },
  {
   "cell_type": "code",
   "execution_count": null,
   "metadata": {},
   "outputs": [],
   "source": []
  },
  {
   "cell_type": "code",
   "execution_count": null,
   "metadata": {},
   "outputs": [],
   "source": []
  }
 ],
 "metadata": {
  "kernelspec": {
   "display_name": "SageMath 9.1",
   "language": "sage",
   "name": "sagemath-9.1"
  },
  "language_info": {
   "codemirror_mode": {
    "name": "ipython",
    "version": 3
   },
   "file_extension": ".py",
   "mimetype": "text/x-python",
   "name": "python",
   "nbconvert_exporter": "python",
   "pygments_lexer": "ipython3",
   "version": "3.7.3"
  }
 },
 "nbformat": 4,
 "nbformat_minor": 2
}
