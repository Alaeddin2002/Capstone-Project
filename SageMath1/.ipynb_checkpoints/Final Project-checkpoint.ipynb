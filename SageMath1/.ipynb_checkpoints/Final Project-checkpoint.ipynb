{
 "cells": [
  {
   "cell_type": "code",
   "execution_count": 253,
   "metadata": {},
   "outputs": [
    {
     "data": {
      "text/plain": [
       "'iliketomoveitmoveit'"
      ]
     },
     "execution_count": 253,
     "metadata": {},
     "output_type": "execute_result"
    }
   ],
   "source": [
    "def change_to_string(code):\n",
    "    code = code.split()\n",
    "    code = \"\".join(code)\n",
    "    new_code = \"\"\n",
    "    for i in code:\n",
    "        if i.isalpha():\n",
    "            new_code += i\n",
    "    return new_code\n",
    "change_to_string(\"i like to move it move it\")"
   ]
  },
  {
   "cell_type": "code",
   "execution_count": 269,
   "metadata": {},
   "outputs": [
    {
     "data": {
      "text/plain": [
       "[25  9 24]\n",
       "[20 21 18]\n",
       "[24 23 22]"
      ]
     },
     "execution_count": 269,
     "metadata": {},
     "output_type": "execute_result"
    }
   ],
   "source": [
    "def matrix_key():\n",
    "    l = []\n",
    "    E = []\n",
    "    D = []\n",
    "    M= []\n",
    "    for i in range (9):\n",
    "        V = round(RR.random_element(0,50))\n",
    "        l.append(V)\n",
    "    b = Matrix(QQ,3,l)\n",
    "    C = b % 26\n",
    "    if C.det() != 0:\n",
    "        for i in C:\n",
    "            E.append(i)\n",
    "        Final = Matrix(Zmod(26),3,E)\n",
    "        return Final\n",
    "    \n",
    "    if C.det() == 0:\n",
    "        for i in range (9):\n",
    "            R = round(RR.random_element(0,50))\n",
    "            D.append(R)\n",
    "        b = Matrix(QQ,3,l)\n",
    "        C = b % 26\n",
    "        if C.det() != 0:\n",
    "            for i in C:\n",
    "                M.append(i)\n",
    "        Final = Matrix(Zmod(26),3,E)\n",
    "        return Final\n",
    "    \n",
    "\n",
    "matrix_key()"
   ]
  },
  {
   "cell_type": "code",
   "execution_count": 259,
   "metadata": {},
   "outputs": [
    {
     "data": {
      "text/plain": [
       "('bzmuvlrhofhlguptllsyrfhjlegtaxklzebzjdd', 1)"
      ]
     },
     "execution_count": 259,
     "metadata": {},
     "output_type": "execute_result"
    }
   ],
   "source": [
    "import textwrap\n",
    "def hill_cipher(code):\n",
    "    code = change_to_string(code.lower())\n",
    "    new_code = textwrap.wrap(code, 3) \n",
    "    message = []\n",
    "    for i in new_code:\n",
    "        li = []\n",
    "        for j in i:\n",
    "            x = ord(j)\n",
    "            li.append(x)\n",
    "        message.append(li)\n",
    "    B = Matrix(Zmod(26),3,[10,13,3,21,8,8,9,6,19])\n",
    "    Encrypted = \"\"\n",
    "    b = 0\n",
    "    for y in message:\n",
    "        if len(y) < 3:\n",
    "            b = 3 - len(y) \n",
    "        while len(y) < 3:\n",
    "            y.append(0)\n",
    "        new_message = B * vector(Zmod(26), y)\n",
    "        for x in new_message:\n",
    "            x = chr(int(x) + 97)\n",
    "            Encrypted += x \n",
    "    return (Encrypted, b) #returns encoded message\n",
    "hill_cipher(\"i really like'd how well!!! we solved this problem@\")\n",
    "        "
   ]
  },
  {
   "cell_type": "code",
   "execution_count": 260,
   "metadata": {},
   "outputs": [
    {
     "data": {
      "text/plain": [
       "'ireallylikedhowwellwesolvedthisproblem'"
      ]
     },
     "execution_count": 260,
     "metadata": {},
     "output_type": "execute_result"
    }
   ],
   "source": [
    "example = hill_cipher(\"i really like'd how well!!! we solved this problem@\") #Called the hill cipher function to decode it\n",
    "def decode(message,unnecessary):\n",
    "    new_code = textwrap.wrap(message, 3)\n",
    "    message = []\n",
    "    for i in new_code:\n",
    "        li = []\n",
    "        for j in i:\n",
    "            t = ord(j) - 97\n",
    "            li.append(t)\n",
    "        message.append(li)\n",
    "    B = Matrix(Zmod(26),3,[10,13,3,21,8,8,9,6,19])\n",
    "    B = B**-1\n",
    "    Encrypted = \"\"\n",
    "    b = 0\n",
    "    for y in message:\n",
    "        while len(y) < 3:\n",
    "            y.append(0)\n",
    "        new_message = B * vector(Zmod(26), y)\n",
    "       \n",
    "        for x in new_message:\n",
    "            x = int(x)\n",
    "            if x < 27 and x > 18:\n",
    "                x = chr(int(x) + 78)\n",
    "            else:\n",
    "                x = chr(int(x) + 104)\n",
    "            Encrypted += x\n",
    "    if unnecessary != 0:\n",
    "        return Encrypted[0:-unnecessary]\n",
    "    else:\n",
    "        return Encrypted\n",
    "decode(example[0],example[1]) #taken from earlier example on line 1 that had decrypted message"
   ]
  },
  {
   "cell_type": "code",
   "execution_count": 327,
   "metadata": {},
   "outputs": [
    {
     "name": "stdout",
     "output_type": "stream",
     "text": [
      "[\n",
      "\n",
      "]\n"
     ]
    }
   ],
   "source": [
    "def Independence ():\n",
    "    B = matrix_key()\n",
    "    l = []\n",
    "    for i in range (3):\n",
    "        for j in B.column(i):\n",
    "            v1 = vector(QQ, [j,j+1,j+2])\n",
    "        l.append(v1)\n",
    "    V = QQ^3\n",
    "    print(V.linear_dependence([l[0],l[1],l[2]]))\n",
    "Independence ()"
   ]
  },
  {
   "cell_type": "code",
   "execution_count": null,
   "metadata": {},
   "outputs": [],
   "source": []
  },
  {
   "cell_type": "code",
   "execution_count": null,
   "metadata": {},
   "outputs": [],
   "source": []
  }
 ],
 "metadata": {
  "kernelspec": {
   "display_name": "SageMath 9.1",
   "language": "sage",
   "name": "sagemath-9.1"
  },
  "language_info": {
   "codemirror_mode": {
    "name": "ipython",
    "version": 3
   },
   "file_extension": ".py",
   "mimetype": "text/x-python",
   "name": "python",
   "nbconvert_exporter": "python",
   "pygments_lexer": "ipython3",
   "version": "3.7.3"
  }
 },
 "nbformat": 4,
 "nbformat_minor": 2
}
