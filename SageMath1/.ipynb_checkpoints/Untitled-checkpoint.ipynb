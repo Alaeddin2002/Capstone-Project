{
 "cells": [
  {
   "cell_type": "code",
   "execution_count": 92,
   "metadata": {},
   "outputs": [
    {
     "data": {
      "text/plain": [
       "([7, 31, 151], 7)"
      ]
     },
     "execution_count": 92,
     "metadata": {},
     "output_type": "execute_result"
    }
   ],
   "source": [
    "def mersenne(a):\n",
    "    x = str(a.binary())\n",
    "    lst = []\n",
    "    factors=[]\n",
    "    i = 0\n",
    "    number = 0\n",
    "    square = 1\n",
    "    for j in x:\n",
    "        lst.append(j)\n",
    "    while len(lst) != 0:\n",
    "        \n",
    "        i = i+1\n",
    "        number = int(lst[0])\n",
    "        square =square*square\n",
    "        \n",
    "        if number == 1:\n",
    "            \n",
    "            square = square*2\n",
    "        lst.remove(lst[0])\n",
    "    mers = (2^a-1)\n",
    "    c = 0\n",
    "    while mers!=1:\n",
    "        \n",
    "        c = c.next_prime()\n",
    "#         if c%8== 1 and c%8== 7:\n",
    "        if square%c == 1:\n",
    "            mers = mers/c\n",
    "            factors.append(c)\n",
    "                \n",
    "        \n",
    "    return factors,31%8\n",
    "        \n",
    "        \n",
    "mersenne(15)"
   ]
  },
  {
   "cell_type": "code",
   "execution_count": null,
   "metadata": {},
   "outputs": [],
   "source": [
    "sage.rings.factorint.factor_cunningham(2^301-1)"
   ]
  },
  {
   "cell_type": "code",
   "execution_count": 7,
   "metadata": {},
   "outputs": [
    {
     "data": {
      "text/plain": [
       "[490631,\n",
       " 8303739373722761449107152578656375814212589068631767053594821563881537447749272696521]"
      ]
     },
     "execution_count": 7,
     "metadata": {},
     "output_type": "execute_result"
    }
   ],
   "source": [
    "def Number(a):\n",
    "    i = 0\n",
    "    s= ''\n",
    "    factors = []\n",
    "    non_prime=[]\n",
    "    mersenne = (2**a - 1)\n",
    "    while i!=1000000:\n",
    "        i = i+1\n",
    "        c = 2*i*a + 1\n",
    "        if mersenne%c == 0 and c.is_prime() == True:\n",
    "            mersenne= mersenne/c\n",
    "            factors.append(c)\n",
    "        elif mersenne%c == 0 and c.is_prime() == False:\n",
    "            mersenne= mersenne/c\n",
    "            non_prime.append(c)\n",
    "    for prime,power in (factor(prod(non_prime))):\n",
    "        factors.append(prime)\n",
    "    factors.sort()\n",
    "    factors.append(mersenne)\n",
    "    return factors\n",
    "\n",
    "    \n",
    "Number(301)"
   ]
  },
  {
   "cell_type": "code",
   "execution_count": null,
   "metadata": {},
   "outputs": [],
   "source": [
    "def euler_phi(a):\n",
    "    phi =[]\n",
    "    for prime, power in factor(a):\n",
    "        phi.append(prime^(power-1)*(prime-1))\n",
    "    return prod(phi)\n",
    "euler_phi(5040)"
   ]
  },
  {
   "cell_type": "code",
   "execution_count": null,
   "metadata": {},
   "outputs": [],
   "source": [
    "factor(1000)"
   ]
  },
  {
   "cell_type": "code",
   "execution_count": null,
   "metadata": {},
   "outputs": [],
   "source": [
    "factor(2^(2^3)-1),factor(2^(5^3)-1)"
   ]
  },
  {
   "cell_type": "code",
   "execution_count": null,
   "metadata": {},
   "outputs": [],
   "source": [
    "factor((2^800-1)/(3 * 5 * 17 * 31 * 601 * 1801 * 269089806001 * 4710883168879506001))"
   ]
  },
  {
   "cell_type": "code",
   "execution_count": null,
   "metadata": {},
   "outputs": [],
   "source": [
    "factor(2^400+1)"
   ]
  },
  {
   "cell_type": "code",
   "execution_count": null,
   "metadata": {},
   "outputs": [],
   "source": [
    "factor(100)"
   ]
  },
  {
   "cell_type": "code",
   "execution_count": 6,
   "metadata": {},
   "outputs": [
    {
     "data": {
      "text/plain": [
       "7 * 1609 * 22111 * 193707721 * 761838257287 * 87449423397425857942678833145441"
      ]
     },
     "execution_count": 6,
     "metadata": {},
     "output_type": "execute_result"
    }
   ],
   "source": [
    "factor(2^201-1)"
   ]
  },
  {
   "cell_type": "code",
   "execution_count": 36,
   "metadata": {},
   "outputs": [
    {
     "data": {
      "text/plain": [
       "17 * 241 * 401 * 61681 * 340801 * 2787601 * 3173389601 * 4562284561 * 1461503031127477825099979369543473122548042956801"
      ]
     },
     "execution_count": 36,
     "metadata": {},
     "output_type": "execute_result"
    }
   ],
   "source": [
    "factor(2^300+1)"
   ]
  },
  {
   "cell_type": "code",
   "execution_count": 35,
   "metadata": {},
   "outputs": [
    {
     "data": {
      "text/plain": [
       "2^2 * 3 * 5^2"
      ]
     },
     "execution_count": 35,
     "metadata": {},
     "output_type": "execute_result"
    }
   ],
   "source": [
    "factor(300)"
   ]
  },
  {
   "cell_type": "code",
   "execution_count": null,
   "metadata": {},
   "outputs": [],
   "source": [
    "#Here we'll use a similar approach to factor 2^100 + 1\n",
    "R = QQ[x]\n",
    "prod = 1 #We'll multiply together all the factors we get\n",
    "prod2 = 1\n",
    "more = 0\n",
    "power = factor(340)\n",
    "for f in str(factor(x^340 + 1)).split(\"*\"): \n",
    "    cur_f = R(f)\n",
    "    prod *= factor(cur_f(2)) #cur_f(2) then plugs in 2 into that polynomial\n",
    "    break\n",
    "\n",
    "for i in range(len(power)):\n",
    "    z = power[i][0]\n",
    "    if int(str(power[i][1])) !=1:\n",
    "        v = int(str(power[i][1]))-i\n",
    "    elif int(str(power[i][1])) ==1:\n",
    "        v = 1\n",
    "    prod2 *= z^v\n",
    "more= (2^(prod2) +1)\n",
    "prod*= factor(more)\n",
    "if (2^340+1)/(prod+0) != 1:\n",
    "    prod*= factor(more)\n",
    "print(prod) #"
   ]
  },
  {
   "cell_type": "code",
   "execution_count": 3,
   "metadata": {},
   "outputs": [
    {
     "data": {
      "text/plain": [
       "6*x^4 + x^3 + 5*x^2 + 6*x + 4"
      ]
     },
     "execution_count": 3,
     "metadata": {},
     "output_type": "execute_result"
    }
   ],
   "source": [
    "R.<x> = Zmod(7)[]\n",
    "(4*x + 2*x^2 +6*x^3) * (x^(-1)+1+x)"
   ]
  },
  {
   "cell_type": "code",
   "execution_count": 1,
   "metadata": {},
   "outputs": [
    {
     "ename": "NameError",
     "evalue": "name 'p_n_noM' is not defined",
     "output_type": "error",
     "traceback": [
      "\u001b[0;31m---------------------------------------------------------------------------\u001b[0m",
      "\u001b[0;31mNameError\u001b[0m                                 Traceback (most recent call last)",
      "\u001b[0;32m<ipython-input-1-0867144a38e3>\u001b[0m in \u001b[0;36m<module>\u001b[0;34m()\u001b[0m\n\u001b[1;32m      1\u001b[0m \u001b[0mp\u001b[0m \u001b[0;34m=\u001b[0m \u001b[0mInteger\u001b[0m\u001b[0;34m(\u001b[0m\u001b[0;36m7\u001b[0m\u001b[0;34m)\u001b[0m\u001b[0;34m\u001b[0m\u001b[0;34m\u001b[0m\u001b[0m\n\u001b[1;32m      2\u001b[0m \u001b[0mR\u001b[0m \u001b[0;34m=\u001b[0m \u001b[0mZmod\u001b[0m\u001b[0;34m(\u001b[0m\u001b[0mp\u001b[0m\u001b[0;34m)\u001b[0m\u001b[0;34m[\u001b[0m\u001b[0;34m'x'\u001b[0m\u001b[0;34m]\u001b[0m\u001b[0;34m;\u001b[0m \u001b[0;34m(\u001b[0m\u001b[0mx\u001b[0m\u001b[0;34m,\u001b[0m\u001b[0;34m)\u001b[0m \u001b[0;34m=\u001b[0m \u001b[0mR\u001b[0m\u001b[0;34m.\u001b[0m\u001b[0m_first_ngens\u001b[0m\u001b[0;34m(\u001b[0m\u001b[0;36m1\u001b[0m\u001b[0;34m)\u001b[0m\u001b[0;34m\u001b[0m\u001b[0;34m\u001b[0m\u001b[0m\n\u001b[0;32m----> 3\u001b[0;31m \u001b[0mf\u001b[0m \u001b[0;34m=\u001b[0m \u001b[0mp_n_noM\u001b[0m\u001b[0;34m(\u001b[0m\u001b[0mInteger\u001b[0m\u001b[0;34m(\u001b[0m\u001b[0;36m20\u001b[0m\u001b[0;34m)\u001b[0m\u001b[0;34m,\u001b[0m \u001b[0mp\u001b[0m\u001b[0;34m)\u001b[0m\u001b[0;34m\u001b[0m\u001b[0;34m\u001b[0m\u001b[0m\n\u001b[0m\u001b[1;32m      4\u001b[0m \u001b[0mprint\u001b[0m\u001b[0;34m(\u001b[0m\u001b[0mfactor\u001b[0m\u001b[0;34m(\u001b[0m\u001b[0mf\u001b[0m\u001b[0;34m(\u001b[0m\u001b[0mx\u001b[0m\u001b[0;34m**\u001b[0m\u001b[0;34m(\u001b[0m\u001b[0;34m-\u001b[0m\u001b[0mInteger\u001b[0m\u001b[0;34m(\u001b[0m\u001b[0;36m1\u001b[0m\u001b[0;34m)\u001b[0m\u001b[0;34m)\u001b[0m\u001b[0;34m+\u001b[0m\u001b[0mInteger\u001b[0m\u001b[0;34m(\u001b[0m\u001b[0;36m1\u001b[0m\u001b[0;34m)\u001b[0m\u001b[0;34m+\u001b[0m\u001b[0mx\u001b[0m\u001b[0;34m)\u001b[0m\u001b[0;34m)\u001b[0m\u001b[0;34m)\u001b[0m\u001b[0;34m\u001b[0m\u001b[0;34m\u001b[0m\u001b[0m\n",
      "\u001b[0;31mNameError\u001b[0m: name 'p_n_noM' is not defined"
     ]
    }
   ],
   "source": [
    "p = 7\n",
    "R.<x> = Zmod(p)[]\n",
    "f = p_n_noM(20, p)\n",
    "print(factor(f(x^(-1)+1+x)))"
   ]
  },
  {
   "cell_type": "code",
   "execution_count": 56,
   "metadata": {},
   "outputs": [
    {
     "data": {
      "text/plain": [
       "17 * 401 * 4001 * 61681 * 340801 * 1074001 * 2020001 * 2787601 * 22624001 * 3173389601 * 1481124532001 * 8877945148742945001146041439025147034098690503591013177336356694416517527310181938001"
      ]
     },
     "execution_count": 56,
     "metadata": {},
     "output_type": "execute_result"
    }
   ],
   "source": [
    "factor(2^500+1)"
   ]
  },
  {
   "cell_type": "code",
   "execution_count": 98,
   "metadata": {},
   "outputs": [
    {
     "data": {
      "text/plain": [
       "17 * 401 * 4001 * 61681 * 340801 * 1074001 * 2020001 * 2787601 * 22624001 * 3173389601 * 1481124532001 * 8877945148742945001146041439025147034098690503591013177336356694416517527310181938001"
      ]
     },
     "execution_count": 98,
     "metadata": {},
     "output_type": "execute_result"
    }
   ],
   "source": [
    "factor(2^500+1)"
   ]
  },
  {
   "cell_type": "code",
   "execution_count": 59,
   "metadata": {},
   "outputs": [
    {
     "data": {
      "text/plain": [
       "17 * 401 * 61681 * 340801 * 2787601 * 3173389601"
      ]
     },
     "execution_count": 59,
     "metadata": {},
     "output_type": "execute_result"
    }
   ],
   "source": [
    "factor(2^100+1)"
   ]
  },
  {
   "cell_type": "code",
   "execution_count": 95,
   "metadata": {},
   "outputs": [
    {
     "data": {
      "text/plain": [
       "17 * 61681"
      ]
     },
     "execution_count": 95,
     "metadata": {},
     "output_type": "execute_result"
    }
   ],
   "source": [
    "factor(2^20+1)"
   ]
  },
  {
   "cell_type": "code",
   "execution_count": 99,
   "metadata": {},
   "outputs": [
    {
     "data": {
      "text/plain": [
       "[4001]"
      ]
     },
     "execution_count": 99,
     "metadata": {},
     "output_type": "execute_result"
    }
   ],
   "source": [
    "def fctr(a):\n",
    "    factr = factor(a)\n",
    "    factors = []\n",
    "    number = int(str(factr[0][1]))\n",
    "    if len (factr) == 2:\n",
    "        for i in range(15):\n",
    "            number = number + 1\n",
    "            if (2^a+1) % ((int(str(factr[0][0]))^number)*(int(str(factr[1][0]))^factr[1][1])+1) ==0:\n",
    "                factors.append((int(str(factr[0][0]))^number)*(int(str(factr[1][0]))^factr[1][1])+1)\n",
    "    return factors\n",
    "fctr(500)\n",
    "    "
   ]
  },
  {
   "cell_type": "code",
   "execution_count": 103,
   "metadata": {},
   "outputs": [
    {
     "data": {
      "text/plain": [
       "[4001, 3, 31]"
      ]
     },
     "execution_count": 103,
     "metadata": {},
     "output_type": "execute_result"
    }
   ],
   "source": [
    "def even(a):\n",
    "    factors = []\n",
    "    fact = factor(a)\n",
    "    if len(fctr(a))!=0:\n",
    "        factors+=(fctr(a))\n",
    "    for i,j in fact:\n",
    "        if len(factor(2^i-1)) >1:\n",
    "            for k,s in factor(2^i-1):\n",
    "                factors.append(k)\n",
    "        else:\n",
    "            factors.append(int(str(factor(2^i-1))))\n",
    "    return factors\n",
    "even(500)\n",
    "    "
   ]
  },
  {
   "cell_type": "code",
   "execution_count": null,
   "metadata": {},
   "outputs": [],
   "source": []
  }
 ],
 "metadata": {
  "kernelspec": {
   "display_name": "SageMath 9.1",
   "language": "sage",
   "name": "sagemath-9.1"
  },
  "language_info": {
   "codemirror_mode": {
    "name": "ipython",
    "version": 3
   },
   "file_extension": ".py",
   "mimetype": "text/x-python",
   "name": "python",
   "nbconvert_exporter": "python",
   "pygments_lexer": "ipython3",
   "version": "3.7.3"
  }
 },
 "nbformat": 4,
 "nbformat_minor": 2
}
