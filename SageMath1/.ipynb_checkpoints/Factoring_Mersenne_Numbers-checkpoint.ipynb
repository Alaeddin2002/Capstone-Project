{
 "cells": [
  {
   "cell_type": "code",
   "execution_count": null,
   "metadata": {},
   "outputs": [],
   "source": [
    "'''\n",
    "***For any number n, x^n - 1 can be factored***\n",
    "x^n - 1 = (x-1)(x^(n-1) + x^(n-2) + x^(n-3) + ... + 1)\n",
    "x = 2^25, n = 5\n",
    "x^(n-1) = (2^25)^4 = 2^100\n",
    "'''"
   ]
  },
  {
   "cell_type": "code",
   "execution_count": null,
   "metadata": {},
   "outputs": [],
   "source": [
    "'''\n",
    "***x^n + 1 can only be factored when n is odd***\n",
    "x^(2k+1) + 1 = ...\n",
    "x^n + 1 = (x+1)(x^(n-1)-x^(n-2)+x^(n-3)-x^(n-4)+... +1)\n",
    "x^3 + 1 = (x+1)(x^2-x+1)\n",
    "x^5 + 1 = (x+1)(x^4-x^3+x^2-x+1)\n",
    "x^7 + 1 = (x+1)(x^6-x^5+x^4-x^3+x^2-x+1)\n",
    "x^9 + 1 = (x+1)(x^8-x^7+x^6-x^5 + ...+1)\n",
    "x^5 - 1 = (x-1)(x^4+x^3+x^2+x+1)\n",
    "substitute x = -u\n",
    "(-u)^5 - 1 = (-u-1)((-u)^4+(-u)^3+(-u)^2+(-u)+1)\n",
    "-u^5 - 1 = (-u-1)(u^4-u^3+u^2-u+1)\n",
    "u^5 + 1 = (u+1)(u^4-u^3+u^2-u+1)\n",
    "\n",
    "(-u)^4 - 1 = (-u-1)((-u)^3+(-u)^2+(-u)+1)\n",
    "u^4 - 1 = (-u-1)(-u^3+u^2-u+1)\n",
    "1 - u^4 = (u+1)(-u^3+u^2-u+1)\n",
    "u^4 + 1 = ??? You can't factor it\n",
    "x^2 + 1, x^4 + 1, etc. can't really be factored this way\n",
    "You can't do x^6 + 1 = (x^3 + 1)(something)\n",
    "But you can do x^6 + 1 = (x^2 + 1)(x^4 - x^2 + 1)\n",
    "because you're treating x^6 + 1 as u^3 + 1, with u = x^2\n",
    "'''"
   ]
  },
  {
   "cell_type": "code",
   "execution_count": 11,
   "metadata": {
    "scrolled": true
   },
   "outputs": [
    {
     "data": {
      "text/plain": [
       "2^2 * 5^3"
      ]
     },
     "execution_count": 11,
     "metadata": {},
     "output_type": "execute_result"
    }
   ],
   "source": [
    "factor(500)\n",
    "#2^500 - 1 = (2^250-1)(2^250+1)\n",
    "#(2^125 - 1)(2^125 + 1)(2^250+1)\n",
    "#(2^25 - 1)(2^100 + 2^75 + 2^50 + 2^25 + 1)(2^125 + 1)(2^250+1)\n",
    "#factors:\n",
    "#(2^25 - 1) = (2^5 - 1)(2^20 + 2^15 + 2^10 + 2^5 + 1)\n",
    "#(2^100 + 2^75 + 2^50 + 2^25 + 1)\n",
    "#(2^25 + 1) = (2^5 + 1)(2^20 - 2^15 + 2^10 - 2^5 + 1)\n",
    "#(2^100 - 2^75 + 2^50 - 2^25 + 1)\n",
    "#(2^50 + 1) = (2^10 + 1)(2^40 - 2^30 + 2^20 - 2^10 + 1)\n",
    "#(2^200 - 2^150 + 2^100 - 2^50 + 1)"
   ]
  },
  {
   "cell_type": "code",
   "execution_count": 14,
   "metadata": {},
   "outputs": [
    {
     "name": "stdout",
     "output_type": "stream",
     "text": [
      "3^2\n",
      "11 * 331\n"
     ]
    }
   ],
   "source": [
    "#2^15 + 1 = (2^3 + 1)(2^12 - 2^9 + 2^6 - 2^3 + 1)\n",
    "#2^15 + 1 = (2^5 + 1)(2^10 - 2^5 + 1)\n",
    "#2^15 + 1 = (2 + 1)(2^14 - 2^13 + 2^12 - ... + 1)\n",
    "print(factor(2^3 + 1))\n",
    "print(factor(2^12 - 2^9 + 2^6 - 2^3 + 1))"
   ]
  },
  {
   "cell_type": "code",
   "execution_count": 22,
   "metadata": {},
   "outputs": [
    {
     "name": "stdout",
     "output_type": "stream",
     "text": [
      "3 * 11\n",
      "3 * 331\n"
     ]
    }
   ],
   "source": [
    "print(factor(2^5 + 1))\n",
    "print(factor(2^10 - 2^5 + 1))"
   ]
  },
  {
   "cell_type": "code",
   "execution_count": null,
   "metadata": {},
   "outputs": [],
   "source": [
    "#15 = 3*5\n",
    "#2^15 + 1 = (2^3 + 1)(...) = (2^5 + 1)(...)\n",
    "#Let m, n be odd\n",
    "#2^(mn) + 1 = (2^m + 1)(...) = (2^n + 1)(...)\n",
    "#factor 2^m + 1 and 2^n + 1\n",
    "#take the union of the factors and divide by all of those"
   ]
  },
  {
   "cell_type": "code",
   "execution_count": 15,
   "metadata": {},
   "outputs": [
    {
     "name": "stdout",
     "output_type": "stream",
     "text": [
      "3641 993 331\n"
     ]
    }
   ],
   "source": [
    "x = 2^12 - 2^9 + 2^6 - 2^3 + 1\n",
    "y = 2^10 - 2^5 + 1\n",
    "print(x, y, gcd(x, y))\n",
    "#The gcd of these leftovers might be the best way of moving forward with\n",
    "#factoring the whole number, so the total factorization would be the union\n",
    "#of the factors of 2^3 + 1 and 2^5 + 1, plus the factorization of the gcd\n",
    "#of x & y\n",
    "#Question: what if you have 2^(3*5*7) + 1 so you can factor out\n",
    "#2^3 + 1, 2^5 + 1, and 2^7 + 1? Does the gcd of the three leftovers give\n",
    "#you the rest of the factorization? How about if you have other primes\n",
    "#instead? Or more than 3 odd primes?"
   ]
  },
  {
   "cell_type": "code",
   "execution_count": 16,
   "metadata": {},
   "outputs": [
    {
     "data": {
      "text/plain": [
       "(31, 3 * 11, 3, 3)"
      ]
     },
     "execution_count": 16,
     "metadata": {},
     "output_type": "execute_result"
    }
   ],
   "source": [
    "#2^10 - 1 has factors 2^5 - 1, 2^5 + 1, 2^2 - 1, 2 + 1\n",
    "factor(2^5 - 1), factor(2^5 + 1), factor(2^2 - 1), factor(2 + 1)"
   ]
  },
  {
   "cell_type": "code",
   "execution_count": 20,
   "metadata": {},
   "outputs": [
    {
     "data": {
      "text/plain": [
       "True"
      ]
     },
     "execution_count": 20,
     "metadata": {},
     "output_type": "execute_result"
    }
   ],
   "source": [
    "3*5^2*31*11*41 == 2^20-1"
   ]
  },
  {
   "cell_type": "code",
   "execution_count": 22,
   "metadata": {},
   "outputs": [
    {
     "name": "stdout",
     "output_type": "stream",
     "text": [
      "7 * 31 * 151\n",
      "7 31\n"
     ]
    }
   ],
   "source": [
    "print(factor(2^15 - 1))\n",
    "#2^15 - 1 has factors 2^3 - 1 and 2^5 - 1\n",
    "print(factor(2^3 - 1), factor(2^5 - 1))\n"
   ]
  },
  {
   "cell_type": "code",
   "execution_count": 23,
   "metadata": {},
   "outputs": [
    {
     "data": {
      "text/plain": [
       "151"
      ]
     },
     "execution_count": 23,
     "metadata": {},
     "output_type": "execute_result"
    }
   ],
   "source": [
    "#Note that we did not get all of the factors of 2^15 - 1 just from the\n",
    "#smaller factors 2^3 - 1 and 2^5 - 1 so we still need to factor the rest:\n",
    "#Take the union of the factors - that's 7*31 - and divide the original\n",
    "#number by that union.\n",
    "factor((2^15 - 1)/(7*31))"
   ]
  },
  {
   "cell_type": "code",
   "execution_count": 13,
   "metadata": {},
   "outputs": [
    {
     "data": {
      "text/plain": [
       "8589934591"
      ]
     },
     "execution_count": 13,
     "metadata": {},
     "output_type": "execute_result"
    }
   ],
   "source": [
    "(2^11 - 1)*(2^22 + 2^11 + 1)"
   ]
  },
  {
   "cell_type": "code",
   "execution_count": 19,
   "metadata": {},
   "outputs": [
    {
     "data": {
      "text/plain": [
       "5^2 * 13 * 41 * 61 * 1321"
      ]
     },
     "execution_count": 19,
     "metadata": {},
     "output_type": "execute_result"
    }
   ],
   "source": [
    "factor(2^(30)+1)"
   ]
  },
  {
   "cell_type": "code",
   "execution_count": 18,
   "metadata": {},
   "outputs": [
    {
     "data": {
      "text/plain": [
       "3^2 * 7 * 11 * 31 * 151 * 331"
      ]
     },
     "execution_count": 18,
     "metadata": {},
     "output_type": "execute_result"
    }
   ],
   "source": [
    "factor((2^(5)+1)*(2^25-2^20+2^15-2^10+2^5 - 1))"
   ]
  },
  {
   "cell_type": "code",
   "execution_count": 36,
   "metadata": {},
   "outputs": [
    {
     "data": {
      "text/plain": [
       "5^2 * 41"
      ]
     },
     "execution_count": 36,
     "metadata": {},
     "output_type": "execute_result"
    }
   ],
   "source": [
    "factor(2^10+1)"
   ]
  },
  {
   "cell_type": "code",
   "execution_count": null,
   "metadata": {},
   "outputs": [],
   "source": [
    "factor(2^5-1)"
   ]
  },
  {
   "cell_type": "code",
   "execution_count": 65,
   "metadata": {},
   "outputs": [
    {
     "data": {
      "text/plain": [
       "3 * 11 * 31"
      ]
     },
     "execution_count": 65,
     "metadata": {},
     "output_type": "execute_result"
    }
   ],
   "source": [
    "factor(2^10-1)"
   ]
  }
 ],
 "metadata": {
  "kernelspec": {
   "display_name": "SageMath 9.1",
   "language": "sage",
   "name": "sagemath-9.1"
  },
  "language_info": {
   "codemirror_mode": {
    "name": "ipython",
    "version": 3
   },
   "file_extension": ".py",
   "mimetype": "text/x-python",
   "name": "python",
   "nbconvert_exporter": "python",
   "pygments_lexer": "ipython3",
   "version": "3.7.3"
  }
 },
 "nbformat": 4,
 "nbformat_minor": 2
}
