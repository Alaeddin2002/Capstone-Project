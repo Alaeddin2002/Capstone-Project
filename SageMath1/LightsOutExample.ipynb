{
 "cells": [
  {
   "cell_type": "code",
   "execution_count": 8,
   "metadata": {},
   "outputs": [
    {
     "data": {
      "text/plain": [
       "[1 0 0 0 0 0]\n",
       "[1 1 0 0 0 0]\n",
       "[0 1 1 0 0 0]\n",
       "[0 0 0 1 0 0]\n",
       "[0 0 0 1 1 0]\n",
       "[0 0 0 0 1 1]"
      ]
     },
     "execution_count": 8,
     "metadata": {},
     "output_type": "execute_result"
    }
   ],
   "source": [
    "#M = #rows, N = #cols, k = #colors\n",
    "#This function produces the activation matrix for the R = 1, D = L = U = 0 puzzle\n",
    "def RonlyLightsOutActivation(M, N, k):\n",
    "    A = Matrix(Zmod(k), M*N, M*N)\n",
    "    #Go through all the squares and in the row corresponding to that square,\n",
    "    #Put a 1 in all the columns for squares that are affected by it\n",
    "    #for x in range(M*N):\n",
    "    #    col = x % M\n",
    "    \n",
    "    for i in range(M): #i is the row number in the puzzle (not the matrix)\n",
    "        for j in range(N): #j is the column number in the puzzle\n",
    "            matrix_row = i*N + j #row number for the square in row i, col j\n",
    "            \n",
    "            A[matrix_row, matrix_row] = 1 #the square affects itself\n",
    "            \n",
    "            #If the square is not on the right edge, set the 1 to affect the\n",
    "            #square to the right of it\n",
    "            if j != N-1:\n",
    "                A[matrix_row+1, matrix_row] = 1\n",
    "            #The square to the right of (i, j) is (i, j+1)\n",
    "            #The square to the left of (i, j) is (i, j-1)\n",
    "            #The square above (i, j) is (i-1, j)\n",
    "            #The square below (i, j) is (i+1, j)\n",
    "                \n",
    "    \n",
    "    return A\n",
    "RonlyLightsOutActivation(2, 3, 2)"
   ]
  },
  {
   "cell_type": "code",
   "execution_count": 248,
   "metadata": {},
   "outputs": [
    {
     "data": {
      "text/plain": [
       "[1 1 0 0 0 1]\n",
       "[1 1 1 0 0 0]\n",
       "[0 1 1 1 0 0]\n",
       "[0 0 1 1 1 0]\n",
       "[0 0 0 1 1 1]\n",
       "[1 0 0 0 1 1]"
      ]
     },
     "execution_count": 248,
     "metadata": {},
     "output_type": "execute_result"
    }
   ],
   "source": [
    "def RonlyLightsOutActivation1(M, N, k):\n",
    "    A = Matrix(Zmod(k), M*N, M*N)\n",
    "    #Go through all the squares and in the row corresponding to that square,\n",
    "    #Put a 1 in all the columns for squares that are affected by it\n",
    "    #for x in range(M*N):\n",
    "    #    col = x % M\n",
    "    \n",
    "    for i in range(M): #i is the row number in the puzzle (not the matrix)\n",
    "        for j in range(N): #j is the column number in the puzzle\n",
    "            matrix_row = i*N + j #row number for the square in row i, col j\n",
    "            \n",
    "            A[matrix_row, matrix_row] = 1 #the square affects itself\n",
    "            \n",
    "            #If the square is not on the right edge, set the 1 to affect the\n",
    "            #square to the right of it\n",
    "\n",
    "            if j != N-1:\n",
    "                A[matrix_row, matrix_row-1] = 1\n",
    "                if j != N+1:\n",
    "                    A[matrix_row, matrix_row+1] = 1\n",
    "            \n",
    "            if j != 0: \n",
    "                A[matrix_row, matrix_row-1] = 1\n",
    "                if j == 0: \n",
    "                    A[matrix_row, matrix_row+1] = 1\n",
    "            if i!= 0:\n",
    "                A[matrix_row-1, matrix_row] = 1\n",
    "                if i == 0:\n",
    "                    A[matrix_row+1, matrix_row] = 1\n",
    "            if i != M-1:\n",
    "                A[matrix_row-1, matrix_row] = 1\n",
    "                if i != M+1:\n",
    "                    A[matrix_row+1, matrix_row] = 1\n",
    "            \n",
    "            \n",
    "            #The square to the right of (i, j) is (i, j+1)\n",
    "            #The square to the left of (i, j) is (i, j-1)\n",
    "            #The square above (i, j) is (i-1, j)\n",
    "            #The square below (i, j) is (i+1, j)\n",
    "                \n",
    "    \n",
    "    return A\n",
    "RonlyLightsOutActivation1(2, 3, 2)"
   ]
  },
  {
   "cell_type": "code",
   "execution_count": null,
   "metadata": {},
   "outputs": [],
   "source": []
  }
 ],
 "metadata": {
  "kernelspec": {
   "display_name": "SageMath 9.1",
   "language": "sage",
   "name": "sagemath-9.1"
  },
  "language_info": {
   "codemirror_mode": {
    "name": "ipython",
    "version": 3
   },
   "file_extension": ".py",
   "mimetype": "text/x-python",
   "name": "python",
   "nbconvert_exporter": "python",
   "pygments_lexer": "ipython3",
   "version": "3.7.3"
  }
 },
 "nbformat": 4,
 "nbformat_minor": 2
}
