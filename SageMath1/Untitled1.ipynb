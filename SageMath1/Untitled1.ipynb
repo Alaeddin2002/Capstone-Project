{
 "cells": [
  {
   "cell_type": "code",
   "execution_count": null,
   "metadata": {},
   "outputs": [],
   "source": [
    "def primeFactors(n):\n",
    " \n",
    "    c = 2\n",
    "    while(n > 1):\n",
    "\n",
    "        if(n % c == 0):\n",
    "            print(c, end=\" \")\n",
    "            n = n // c\n",
    "        else:\n",
    "            c = c.next_prime()\n",
    "    print('done')\n",
    "n = (2**300-1)\n",
    "print(n) \n",
    "\n",
    "primeFactors(n)"
   ]
  },
  {
   "cell_type": "code",
   "execution_count": 17,
   "metadata": {},
   "outputs": [
    {
     "name": "stdout",
     "output_type": "stream",
     "text": [
      "40122362455616221971122353 * 396645227028138890415611220710757921643910743103031701971222447\n",
      "508.1740698814392\n"
     ]
    }
   ],
   "source": [
    "from time import time\n",
    "start = time()\n",
    "print(factor(2**293-1))\n",
    "print(time()-start)"
   ]
  },
  {
   "cell_type": "code",
   "execution_count": null,
   "metadata": {},
   "outputs": [],
   "source": []
  },
  {
   "cell_type": "code",
   "execution_count": null,
   "metadata": {},
   "outputs": [],
   "source": []
  }
 ],
 "metadata": {
  "kernelspec": {
   "display_name": "SageMath 9.1",
   "language": "sage",
   "name": "sagemath-9.1"
  },
  "language_info": {
   "codemirror_mode": {
    "name": "ipython",
    "version": 3
   },
   "file_extension": ".py",
   "mimetype": "text/x-python",
   "name": "python",
   "nbconvert_exporter": "python",
   "pygments_lexer": "ipython3",
   "version": "3.7.3"
  }
 },
 "nbformat": 4,
 "nbformat_minor": 2
}
