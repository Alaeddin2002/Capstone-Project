{
 "cells": [
  {
   "cell_type": "markdown",
   "metadata": {},
   "source": [
    "***Converting between clicks and states in a one-column puzzle***"
   ]
  },
  {
   "cell_type": "code",
   "execution_count": 9,
   "metadata": {},
   "outputs": [
    {
     "data": {
      "text/plain": [
       "3*x^5 + x^4 + 3*x^2 + 1"
      ]
     },
     "execution_count": 9,
     "metadata": {},
     "output_type": "execute_result"
    }
   ],
   "source": [
    "#clicks: x + 4x^2 + 3x^3\n",
    "#states: 1 + 3x^2 + 2x^3 + 3x^4\n",
    "R.<x> = Zmod(5)[]\n",
    "(x + 4*x^2 + 3*x^3 + 3*x^4)*(x^(-1) + 1 + x)"
   ]
  },
  {
   "cell_type": "code",
   "execution_count": 13,
   "metadata": {},
   "outputs": [
    {
     "data": {
      "text/plain": [
       "4*x^5 + 4*x^4 + x^2 + x"
      ]
     },
     "execution_count": 13,
     "metadata": {},
     "output_type": "execute_result"
    }
   ],
   "source": [
    "#clicks: x + 3x^2 + 2x^4 + 4x^5\n",
    "#states: 1 + 4x + 4x^2 + x^4 + x^5\n",
    "R.<x> = Zmod(5)[]\n",
    "-R((x + 3*x^2 + 2*x^4 + 4*x^5)*(x^(-1)+1+x)) % (x^6 - 1)"
   ]
  },
  {
   "cell_type": "markdown",
   "metadata": {},
   "source": [
    "# Functions for generating the polynomials $p_j$"
   ]
  },
  {
   "cell_type": "code",
   "execution_count": 1,
   "metadata": {},
   "outputs": [
    {
     "name": "stdout",
     "output_type": "stream",
     "text": [
      "Loaded basic commands.\n"
     ]
    }
   ],
   "source": [
    "dict_p = {} #We use memoization to find the polynomials we need\n",
    "\n",
    "#This function generates the polynomials, with integer coefficients (not mod k)\n",
    "def p_n_nokM(n):\n",
    "    R.<x> = ZZ[]\n",
    "    first = [0, 1, -x, x^2 - 1]\n",
    "\n",
    "    #Base cases\n",
    "    if n <= 3:\n",
    "        return first[n]\n",
    "    \n",
    "    #Start the array of indices needed\n",
    "    indicesNeeded = [n]\n",
    "    placeInList = -1\n",
    "    curIndex = n\n",
    "    \n",
    "    #Go through the array and get all the indices needed\n",
    "    while curIndex > 3:\n",
    "        placeInList += 1\n",
    "        curIndex = indicesNeeded[placeInList]\n",
    "        \n",
    "        # if the two indices below the current one are also needed, skip this one (we'll get it by recursive def.)\n",
    "        if curIndex - 1 in indicesNeeded and curIndex - 2 in indicesNeeded:\n",
    "            continue\n",
    "        \n",
    "        # Check parity and add the indices into the list, in decreasing order\n",
    "        half = curIndex // 2\n",
    "        if curIndex % 2:\n",
    "            if half+1 not in indicesNeeded:\n",
    "                indicesNeeded.append(half+1)\n",
    "            if half not in indicesNeeded:\n",
    "                indicesNeeded.append(half)\n",
    "        else:\n",
    "            if half+1 not in indicesNeeded:\n",
    "                indicesNeeded.append(half+1)\n",
    "            if half not in indicesNeeded:\n",
    "                indicesNeeded.append(half)\n",
    "            if half-1 not in indicesNeeded:\n",
    "                indicesNeeded.append(half-1)\n",
    "        \n",
    "    #Initialize a dictionary that will store the results\n",
    "    dict_p_n_nokM = {}\n",
    "    for i in range(4):\n",
    "        dict_p_n_nokM[i] = first[i]\n",
    "    \n",
    "    #Go back through the list backwards and compute each index\n",
    "    for i in range(1, len(indicesNeeded)+1):\n",
    "        curIndex = indicesNeeded[-i]\n",
    "        if curIndex - 1 in dict_p_n_nokM.keys() and curIndex - 2 in dict_p_n_nokM.keys():\n",
    "            dict_p_n_nokM[curIndex] = -x*dict_p_n_nokM[curIndex-1] - dict_p_n_nokM[curIndex-2]\n",
    "            continue\n",
    "        \n",
    "        half = curIndex // 2\n",
    "        if curIndex % 2:\n",
    "            dict_p_n_nokM[curIndex] = (dict_p_n_nokM[half+1])^2 - (dict_p_n_nokM[half])^2\n",
    "        else:\n",
    "            dict_p_n_nokM[curIndex] = dict_p_n_nokM[half] * dict_p_n_nokM[half+1] - dict_p_n_nokM[half-1] * dict_p_n_nokM[half]\n",
    "            \n",
    "    return dict_p_n_nokM[n]\n",
    "\n",
    "#This function generates the polynomials (mod k)\n",
    "def p_n_noM(n, k):\n",
    "    if k:\n",
    "        R.<x> = Zmod(k)[]\n",
    "    else:\n",
    "        R.<x> = ZZ[]\n",
    "    \n",
    "    #Base cases\n",
    "    if n <= 5:\n",
    "        return (linear_p_n(n, k))\n",
    "    \n",
    "    #Start the array of indices needed\n",
    "    indicesNeeded = [n]\n",
    "    placeInList = -1\n",
    "    curIndex = n\n",
    "    \n",
    "    #Go through the array and get all the indices needed\n",
    "    while curIndex > 9:\n",
    "        placeInList += 1\n",
    "        curIndex = indicesNeeded[placeInList]\n",
    "        \n",
    "        # if the two indices below the current one are also needed, skip this one (we'll get it by recursive def.)\n",
    "        if curIndex - 1 in indicesNeeded and curIndex - 2 in indicesNeeded:\n",
    "            continue\n",
    "        \n",
    "        # Check parity and add the indices into the list, in decreasing order\n",
    "        half = curIndex // 2\n",
    "        if curIndex % 2:\n",
    "            if half+1 not in indicesNeeded:\n",
    "                indicesNeeded.append(half+1)\n",
    "            if half not in indicesNeeded:\n",
    "                indicesNeeded.append(half)\n",
    "        else:\n",
    "            if half+1 not in indicesNeeded:\n",
    "                indicesNeeded.append(half+1)\n",
    "            if half not in indicesNeeded:\n",
    "                indicesNeeded.append(half)\n",
    "            if half-1 not in indicesNeeded:\n",
    "                indicesNeeded.append(half-1)\n",
    "        \n",
    "    #Initialize a dictionary that will store the results\n",
    "    dict_p_n_noM = {}\n",
    "    for i in range(6):\n",
    "        dict_p_n_noM[i] = linear_p_n(i, k)\n",
    "    \n",
    "    #Go back through the list backwards and compute each index\n",
    "    for i in range(1, len(indicesNeeded)+1):\n",
    "        curIndex = indicesNeeded[-i]\n",
    "        if curIndex - 1 in dict_p_n_noM.keys() and curIndex - 2 in dict_p_n_noM.keys():\n",
    "            dict_p_n_noM[curIndex] = -x*dict_p_n_noM[curIndex-1] - dict_p_n_noM[curIndex-2]\n",
    "            continue\n",
    "        \n",
    "        half = curIndex // 2\n",
    "        if curIndex % 2:\n",
    "            dict_p_n_noM[curIndex] = (dict_p_n_noM[half+1])^2 - (dict_p_n_noM[half])^2\n",
    "        else:\n",
    "            dict_p_n_noM[curIndex] = dict_p_n_noM[half] * dict_p_n_noM[half+1] - dict_p_n_noM[half-1] * dict_p_n_noM[half]\n",
    "    \n",
    "    return dict_p_n_noM[n]\n",
    "\n",
    "#This function is used when computing p_j(A)e_1; this takes p_j % χ_j\n",
    "#where χ_j is the characteristic polynomial of the matrix A = A_M\n",
    "#We probably won't use this function much\n",
    "def p_n(n, k, M):\n",
    "    R.<x> = Zmod(k)[]\n",
    "    chi = chi_n(M+1, k)\n",
    "    \n",
    "    #Base cases\n",
    "    if n <= 5:\n",
    "        return (linear_p_n(n, k) % chi)\n",
    "    \n",
    "    #Start the array of indices needed\n",
    "    indicesNeeded = [n]\n",
    "    placeInList = -1\n",
    "    curIndex = n\n",
    "    \n",
    "    #Go through the array and get all the indices needed\n",
    "    while curIndex > 9:\n",
    "        placeInList += 1\n",
    "        curIndex = indicesNeeded[placeInList]\n",
    "        \n",
    "        # if the two indices below the current one are also needed, skip this one (we'll get it by recursive def.)\n",
    "        if curIndex - 1 in indicesNeeded and curIndex - 2 in indicesNeeded:\n",
    "            continue\n",
    "        \n",
    "        # Check parity and add the indices into the list, in decreasing order\n",
    "        half = curIndex // 2\n",
    "        if curIndex % 2:\n",
    "            if half+1 not in indicesNeeded:\n",
    "                indicesNeeded.append(half+1)\n",
    "            if half not in indicesNeeded:\n",
    "                indicesNeeded.append(half)\n",
    "        else:\n",
    "            if half+1 not in indicesNeeded:\n",
    "                indicesNeeded.append(half+1)\n",
    "            if half not in indicesNeeded:\n",
    "                indicesNeeded.append(half)\n",
    "            if half-1 not in indicesNeeded:\n",
    "                indicesNeeded.append(half-1)\n",
    "        \n",
    "    #Initialize a dictionary that will store the results\n",
    "    dict_p_n = {}\n",
    "    for i in range(6):\n",
    "        dict_p_n[i] = linear_p_n(i, k) % chi\n",
    "    \n",
    "    #Go back through the list backwards and compute each index\n",
    "    for i in range(1, len(indicesNeeded)+1):\n",
    "        curIndex = indicesNeeded[-i]\n",
    "        if curIndex - 1 in dict_p_n.keys() and curIndex - 2 in dict_p_n.keys():\n",
    "            dict_p_n[curIndex] = (-x*dict_p_n[curIndex-1] - dict_p_n[curIndex-2]) % chi\n",
    "            continue\n",
    "        \n",
    "        half = curIndex // 2\n",
    "        if curIndex % 2:\n",
    "            dict_p_n[curIndex] = ((dict_p_n[half+1])^2 - (dict_p_n[half])^2) % chi\n",
    "        else:\n",
    "            dict_p_n[curIndex] = (dict_p_n[half] * dict_p_n[half+1] - dict_p_n[half-1] * dict_p_n[half]) % chi\n",
    "    \n",
    "    return dict_p_n[n]\n",
    "    \n",
    "#This is a bad implementation, using recursion instead of storing things in a dictionary\n",
    "def old_p_n(n, k, M):    \n",
    "    R.<x> = Zmod(k)[]\n",
    "    if (n, k, M) in dict_p.keys():\n",
    "        return dict_p[(n, k, M)]\n",
    "    \n",
    "    chi_M = chi_n(M+1, k)\n",
    "    \n",
    "    #Base cases of recursion\n",
    "    if n <= 5:\n",
    "        return (linear_p_n(n, k) % chi_M)\n",
    "    \n",
    "    if n % 2:\n",
    "        ans = (p_n(n//2+1, k, M)^2 - p_n(n//2, k, M)^2) % chi_M\n",
    "        dict_p[(n, k, M)] = ans\n",
    "        return ans\n",
    "    else:\n",
    "        ans = (p_n(n//2, k, M) * p_n(n//2+1, k, M) - p_n(n//2 - 1, k, M) * p_n(n//2, k, M)) % chi_M\n",
    "        dict_p[(n, k, M)] = ans\n",
    "        return ans\n",
    "\n",
    "#This is not an efficient function for large n\n",
    "def linear_p_n(n, k):\n",
    "    R.<x> = Zmod(k)[]\n",
    "    prev = 0\n",
    "    cur = 1\n",
    "    for i in range(n):\n",
    "        new = -x*cur - prev\n",
    "        prev = cur\n",
    "        cur = new\n",
    "    return prev\n",
    "\n",
    "#This computes the characteristic polynomial of A = A_n\n",
    "#Another formula for this polynomial: χ_n(n, k) = p_n_noM(n, k)(x-1)\n",
    "def chi_n(n, k=0):\n",
    "    if not k:\n",
    "        R.<x> = ZZ[]\n",
    "    else:\n",
    "        R.<x> = Zmod(k)[]\n",
    "    prev = 0\n",
    "    cur = 1\n",
    "    for i in range(n):\n",
    "        new = (x-1)*cur - prev\n",
    "        prev = cur\n",
    "        cur = new\n",
    "    return prev\n",
    "\n",
    "# from time import time\n",
    "# start = time()\n",
    "# print(p_n(10034578923408923705973495871295723049872896740957820598347089572096847256345234567, 5, 100))\n",
    "# print()\n",
    "\n",
    "print(\"Loaded basic commands.\")"
   ]
  },
  {
   "cell_type": "code",
   "execution_count": 7,
   "metadata": {
    "collapsed": true
   },
   "outputs": [
    {
     "name": "stdout",
     "output_type": "stream",
     "text": [
      "True\n",
      "True\n",
      "True\n",
      "True\n",
      "True\n",
      "True\n",
      "True\n",
      "True\n",
      "True\n",
      "True\n",
      "True\n",
      "True\n",
      "True\n",
      "True\n",
      "True\n",
      "True\n",
      "True\n",
      "True\n",
      "True\n",
      "True\n",
      "True\n",
      "True\n",
      "True\n",
      "True\n",
      "True\n",
      "True\n",
      "True\n",
      "True\n",
      "True\n",
      "True\n",
      "True\n",
      "True\n",
      "True\n",
      "True\n",
      "True\n",
      "True\n",
      "True\n",
      "True\n",
      "True\n",
      "True\n",
      "True\n",
      "True\n",
      "True\n",
      "True\n",
      "True\n",
      "True\n",
      "True\n",
      "True\n",
      "True\n",
      "True\n",
      "True\n",
      "True\n",
      "True\n",
      "True\n",
      "True\n",
      "True\n",
      "True\n",
      "True\n",
      "True\n",
      "True\n",
      "True\n",
      "True\n",
      "True\n",
      "True\n",
      "True\n",
      "True\n",
      "True\n",
      "True\n",
      "True\n",
      "True\n",
      "True\n",
      "True\n",
      "True\n",
      "True\n",
      "True\n",
      "True\n",
      "True\n",
      "True\n",
      "True\n",
      "True\n",
      "True\n",
      "True\n",
      "True\n",
      "True\n",
      "True\n",
      "True\n",
      "True\n",
      "True\n",
      "True\n",
      "True\n",
      "True\n",
      "True\n",
      "True\n",
      "True\n",
      "True\n",
      "True\n",
      "True\n",
      "True\n",
      "True\n",
      "True\n"
     ]
    }
   ],
   "source": [
    "chi_n(4)\n",
    "\n",
    "for m in range(1,11):\n",
    "    for n in range (1,11):\n",
    "        print(chi_n(m+n)==chi_n(m)*chi_n(n+1)-chi_n(m-1) * chi_n(n))"
   ]
  },
  {
   "cell_type": "code",
   "execution_count": 3,
   "metadata": {},
   "outputs": [
    {
     "data": {
      "text/plain": [
       "0"
      ]
     },
     "execution_count": 3,
     "metadata": {},
     "output_type": "execute_result"
    }
   ],
   "source": [
    "#Example computation showing that o(11, 5) divides 780\n",
    "p = 5\n",
    "R.<x> = Zmod(p)[]\n",
    "f = p_n_noM(780, p)\n",
    "factor(f(x^(-1)+1+x))\n",
    "M = 4\n",
    "poly = (x^(2*M+2)-1)/(x^2-1)\n",
    "#f % poly?\n",
    "R(f*x^779) % poly"
   ]
  },
  {
   "cell_type": "code",
   "execution_count": 4,
   "metadata": {},
   "outputs": [
    {
     "name": "stdout",
     "output_type": "stream",
     "text": [
      "x^-14 * (x + 4)^4 * (x + 2)^5 * (x + 3)^5 * (x + 1)^10 * (x^2 + 4*x + 1)^2\n",
      "x^8 + x^6 + x^4 + x^2 + 1\n",
      "Note that all the factors in the bottom polynomial are also found in the top polynomial, so the top one is divisible by the bottom one.\n"
     ]
    }
   ],
   "source": [
    "#Example computation showing that o(4, 5) divides 15\n",
    "p = 5\n",
    "R.<x> = Zmod(p)[]\n",
    "f = p_n_noM(15, p)\n",
    "print(factor(f(x^(-1)+1+x)))\n",
    "M = 4\n",
    "print((x^(2*M+2)-1)/(x^2-1))\n",
    "print(\"Note that all the factors in the bottom polynomial are also found in the top polynomial, so the top one is divisible by the bottom one.\")"
   ]
  },
  {
   "cell_type": "code",
   "execution_count": 5,
   "metadata": {},
   "outputs": [
    {
     "name": "stdout",
     "output_type": "stream",
     "text": [
      "(6) * x^-19 * (x + 3) * (x + 5) * (x + 6)^2 * (x^2 + 4*x + 1) * (x^4 + x^3 + x^2 + x + 1) * (x^4 + 2*x^3 + 2*x + 5) * (x^4 + 3*x^3 + 3*x^2 + 3*x + 1) * (x^4 + 6*x^3 + 6*x + 3) * (x^8 + 2*x^6 + 5*x^5 + 5*x^3 + 2*x^2 + 1) * (x^8 + 4*x^7 + 5*x^6 + 6*x^5 + 2*x^4 + 6*x^3 + 5*x^2 + 4*x + 1)\n"
     ]
    }
   ],
   "source": [
    "p = 7\n",
    "R.<x> = Zmod(p)[]\n",
    "f = p_n_noM(20, p)\n",
    "print(factor(f(x^(-1)+1+x)))"
   ]
  },
  {
   "cell_type": "code",
   "execution_count": 5,
   "metadata": {},
   "outputs": [
    {
     "name": "stdout",
     "output_type": "stream",
     "text": [
      "x^-71 * (x + 1)^32 * (x^2 + x + 1)^7 * (x^3 + x + 1)^16 * (x^3 + x^2 + 1)^16\n",
      "0\n",
      "(x + 1)^14 * (x^3 + x + 1)^16 * (x^3 + x^2 + 1)^16\n"
     ]
    }
   ],
   "source": [
    "p = 2\n",
    "R.<x> = Zmod(p)[]\n",
    "f = p_n_noM(72, p)\n",
    "print(factor(f(x^(-1)+1+x)))\n",
    "M = 55\n",
    "poly = (x^(2*M+2)-1)/(x^2-1)\n",
    "print(R(f)%poly)\n",
    "print(factor(poly))"
   ]
  },
  {
   "cell_type": "code",
   "execution_count": 4,
   "metadata": {},
   "outputs": [
    {
     "name": "stdout",
     "output_type": "stream",
     "text": [
      "(2) * x^-121 * (x + 2)^2 * (x^5 + x^2 + x + 2) * (x^5 + 2*x^2 + x + 1) * (x^5 + x^3 + x + 1) * (x^5 + x^3 + x + 2) * (x^5 + x^3 + x^2 + 2*x + 2) * (x^5 + x^3 + 2*x^2 + 2*x + 1) * (x^5 + 2*x^3 + x^2 + 2*x + 2) * (x^5 + 2*x^3 + 2*x^2 + 2*x + 1) * (x^5 + x^4 + x^2 + 1) * (x^5 + x^4 + x^2 + x + 1) * (x^5 + x^4 + x^3 + x + 1) * (x^5 + x^4 + x^3 + x^2 + 2*x + 1) * (x^5 + x^4 + x^3 + 2*x^2 + x + 2) * (x^5 + x^4 + 2*x^3 + 1) * (x^5 + x^4 + 2*x^3 + x^2 + 2) * (x^5 + x^4 + 2*x^3 + 2*x^2 + 2) * (x^5 + 2*x^4 + 2*x^2 + 2) * (x^5 + 2*x^4 + 2*x^2 + x + 2) * (x^5 + 2*x^4 + x^3 + x + 2) * (x^5 + 2*x^4 + x^3 + x^2 + x + 1) * (x^5 + 2*x^4 + x^3 + 2*x^2 + 2*x + 2) * (x^5 + 2*x^4 + 2*x^3 + 2) * (x^5 + 2*x^4 + 2*x^3 + x^2 + 1) * (x^5 + 2*x^4 + 2*x^3 + 2*x^2 + 1) * (x^10 + x^7 + x^5 + x^3 + 1) * (x^10 + 2*x^7 + x^6 + 2*x^5 + x^4 + 2*x^3 + 1) * (x^10 + x^8 + x^7 + 2*x^6 + x^5 + 2*x^4 + x^3 + x^2 + 1) * (x^10 + x^8 + 2*x^7 + 2*x^5 + 2*x^3 + x^2 + 1) * (x^10 + 2*x^8 + 2*x^7 + 2*x^6 + 2*x^5 + 2*x^4 + 2*x^3 + 2*x^2 + 1) * (x^10 + x^9 + 2*x^8 + x^7 + x^6 + 2*x^5 + x^4 + x^3 + 2*x^2 + x + 1) * (x^10 + x^9 + 2*x^8 + 2*x^7 + 2*x^6 + 2*x^4 + 2*x^3 + 2*x^2 + x + 1) * (x^10 + 2*x^9 + x^7 + x^3 + 2*x + 1) * (x^10 + 2*x^9 + x^8 + x^7 + 2*x^6 + 2*x^4 + x^3 + x^2 + 2*x + 1) * (x^10 + 2*x^9 + x^8 + 2*x^7 + x^5 + 2*x^3 + x^2 + 2*x + 1) * (x^10 + 2*x^9 + 2*x^8 + x^7 + x^6 + x^4 + x^3 + 2*x^2 + 2*x + 1) * (x^10 + 2*x^9 + 2*x^8 + 2*x^7 + 2*x^6 + x^5 + 2*x^4 + 2*x^3 + 2*x^2 + 2*x + 1)\n",
      "0\n",
      "(x^5 + 2*x^3 + x^2 + 2*x + 2) * (x^5 + 2*x^3 + 2*x^2 + 2*x + 1) * (x^5 + x^4 + 2*x^3 + x^2 + 2) * (x^5 + 2*x^4 + 2*x^3 + 2*x^2 + 1)\n"
     ]
    }
   ],
   "source": [
    "p = 3\n",
    "R.<x> = Zmod(p)[]\n",
    "f = p_n_noM(122, p)\n",
    "print(factor(f(x^(-1)+1+x)))\n",
    "M = 10\n",
    "poly = ((x^(2*M+2)-1)/(x^2-1))\n",
    "print(R(f)%poly)\n",
    "print(factor(poly))"
   ]
  },
  {
   "cell_type": "code",
   "execution_count": 8,
   "metadata": {},
   "outputs": [
    {
     "name": "stdout",
     "output_type": "stream",
     "text": [
      "(6) * x^-83 * (x + 2)^3 * (x + 4)^3 * (x + 3)^7 * (x + 5)^7 * (x + 1)^14 * (x + 6)^14 * (x^2 + 3*x + 1)^3 * (x^2 + 1)^7 * (x^2 + x + 3)^7 * (x^2 + 4*x + 1)^7 * (x^2 + 4*x + 5)^7 * (x^2 + 5*x + 3)^7 * (x^2 + 5*x + 5)^7 * (x^4 + 5*x^3 + 5*x^2 + 5*x + 1)^7\n",
      "x^26 + x^24 + x^22 + x^20 + x^18 + x^16 + x^14 + x^12 + x^10 + x^8 + x^6 + x^4 + x^2 + 1\n"
     ]
    }
   ],
   "source": [
    "p = 7\n",
    "R.<x> = Zmod(p)[]\n",
    "f = p_n_noM(84, p)\n",
    "print(factor(f(x^(-1)+1+x)))\n",
    "M = 13\n",
    "print((x^(2*M+2)-1)/(x^2-1))"
   ]
  },
  {
   "cell_type": "code",
   "execution_count": 6,
   "metadata": {},
   "outputs": [
    {
     "name": "stdout",
     "output_type": "stream",
     "text": [
      "(2) * x^-17 * (x + 1)^8 * (x + 2)^18 * (x^2 + 1)^4\n",
      "0\n",
      "(x + 1)^2 * (x + 2)^2 * (x^2 + 1)^3\n"
     ]
    }
   ],
   "source": [
    "p = 3\n",
    "R.<x> = Zmod(p)[]\n",
    "f = p_n_noM(18, p)\n",
    "print(factor(f(x^(-1)+1+x)))\n",
    "M = 5\n",
    "poly = ((x^(2*M+2)-1)/(x^2-1))\n",
    "print(R(f)%poly)\n",
    "print(factor(poly))"
   ]
  },
  {
   "cell_type": "code",
   "execution_count": 7,
   "metadata": {},
   "outputs": [
    {
     "name": "stdout",
     "output_type": "stream",
     "text": [
      "x^-164 * (x + 5)^5 * (x + 9)^5 * (x + 2)^11 * (x + 6)^11 * (x + 7)^11 * (x + 8)^11 * (x + 1)^22 * (x + 10)^22 * (x^2 + 10*x + 1)^5 * (x^2 + 1)^11 * (x^2 + x + 7)^11 * (x^2 + 4*x + 8)^11 * (x^2 + 5*x + 1)^11 * (x^2 + 6*x + 7)^11 * (x^2 + 8*x + 8)^11 * (x^4 + 5*x^3 + x^2 + 5*x + 1)^11 * (x^4 + 6*x^3 + 9*x^2 + 6*x + 1)^11\n",
      "0\n",
      "(x + 1)^10 * (x + 10)^10\n"
     ]
    }
   ],
   "source": [
    "p = 11\n",
    "R.<x> = Zmod(p)[]\n",
    "f = p_n_noM(165, p)\n",
    "print(factor(f(x^(-1)+1+x)))\n",
    "M = 10\n",
    "poly = ((x^(2*M+2)-1)/(x^2-1))\n",
    "print(R(f)%poly)\n",
    "print(factor(poly))"
   ]
  },
  {
   "cell_type": "code",
   "execution_count": 8,
   "metadata": {},
   "outputs": [
    {
     "name": "stdout",
     "output_type": "stream",
     "text": [
      "x^-272 * (x + 3)^6 * (x + 9)^6 * (x + 2)^13 * (x + 5)^13 * (x + 6)^13 * (x + 7)^13 * (x + 8)^13 * (x + 11)^13 * (x + 1)^26 * (x + 12)^26 * (x^2 + 3*x + 1)^6 * (x^2 + x + 2)^13 * (x^2 + 6*x + 1)^13 * (x^2 + 7*x + 1)^13 * (x^2 + 7*x + 7)^13 * (x^2 + 8*x + 1)^13 * (x^2 + 9*x + 2)^13 * (x^2 + 11*x + 7)^13 * (x^4 + 5*x^3 + 12*x^2 + 5*x + 1)^13 * (x^4 + 9*x^3 + 4*x^2 + 9*x + 1)^13 * (x^4 + 10*x^3 + 7*x^2 + 10*x + 1)^13 * (x^4 + 12*x^3 + 6*x^2 + 12*x + 1)^13\n",
      "0\n",
      "(x + 1)^12 * (x + 12)^12\n"
     ]
    }
   ],
   "source": [
    "p = 13\n",
    "R.<x> = Zmod(p)[]\n",
    "f = p_n_noM(273, p)\n",
    "print(factor(f(x^(-1)+1+x)))\n",
    "M = 12\n",
    "poly = ((x^(2*M+2)-1)/(x^2-1))\n",
    "print(R(f)%poly)\n",
    "print(factor(poly))"
   ]
  },
  {
   "cell_type": "code",
   "execution_count": 10,
   "metadata": {},
   "outputs": [
    {
     "name": "stdout",
     "output_type": "stream",
     "text": [
      "2*x^6 + 2*x^3 + 1\n"
     ]
    }
   ],
   "source": [
    "def w(p,M):\n",
    "    return p*(p^(2*euler_phi(M+1))-1)\n",
    "p = 7\n",
    "M = 4\n",
    "#w(p,M)\n",
    "\n",
    "R.<x> = Zmod(p)[]\n",
    "f = p_n_noM(w(p,M), p)\n",
    "print((f%(x-1)^((p-1)/2)))\n",
    "#print((f%(x^2-2*x-1)^(p)))\n",
    "#print(factor(f))\n",
    "poly = chi_n(M)\n",
    "#((x^(2*M+2)-1)/(x^2-1))\n",
    "#print(R(f)%poly)\n",
    "#print(factor(poly))"
   ]
  },
  {
   "cell_type": "code",
   "execution_count": null,
   "metadata": {},
   "outputs": [],
   "source": [
    "(x^2 + 1) * (x^2 + x + 2) * (x^2 + 2*x + 2) * (x^4 + x^2 + 2) * (x^4 + 2*x^2 + 2)"
   ]
  },
  {
   "cell_type": "code",
   "execution_count": 7,
   "metadata": {},
   "outputs": [
    {
     "data": {
      "text/plain": [
       "x^-1 * (x + 2) * (x + 3)"
      ]
     },
     "execution_count": 7,
     "metadata": {},
     "output_type": "execute_result"
    }
   ],
   "source": [
    "y = x^-1+1+x\n",
    "g = x-1\n",
    "factor(g(y))"
   ]
  },
  {
   "cell_type": "code",
   "execution_count": 13,
   "metadata": {},
   "outputs": [
    {
     "name": "stdout",
     "output_type": "stream",
     "text": [
      "(2, (x^2 - x + 1) * (x^2 + x + 1))\n",
      "(3, (x^2 + 1) * (x^4 + 1))\n",
      "(4, (x^4 - x^3 + x^2 - x + 1) * (x^4 + x^3 + x^2 + x + 1))\n",
      "(5, (x^2 - x + 1) * (x^2 + 1) * (x^2 + x + 1) * (x^4 - x^2 + 1))\n",
      "(6, (x^6 - x^5 + x^4 - x^3 + x^2 - x + 1) * (x^6 + x^5 + x^4 + x^3 + x^2 + x + 1))\n",
      "(7, (x^2 + 1) * (x^4 + 1) * (x^8 + 1))\n",
      "(8, (x^2 - x + 1) * (x^2 + x + 1) * (x^6 - x^3 + 1) * (x^6 + x^3 + 1))\n",
      "(9, (x^2 + 1) * (x^4 - x^3 + x^2 - x + 1) * (x^4 + x^3 + x^2 + x + 1) * (x^8 - x^6 + x^4 - x^2 + 1))\n",
      "(10, (x^10 - x^9 + x^8 - x^7 + x^6 - x^5 + x^4 - x^3 + x^2 - x + 1) * (x^10 + x^9 + x^8 + x^7 + x^6 + x^5 + x^4 + x^3 + x^2 + x + 1))\n",
      "(11, (x^2 - x + 1) * (x^2 + 1) * (x^2 + x + 1) * (x^4 - x^2 + 1) * (x^4 + 1) * (x^8 - x^4 + 1))\n",
      "(12, (x^12 - x^11 + x^10 - x^9 + x^8 - x^7 + x^6 - x^5 + x^4 - x^3 + x^2 - x + 1) * (x^12 + x^11 + x^10 + x^9 + x^8 + x^7 + x^6 + x^5 + x^4 + x^3 + x^2 + x + 1))\n",
      "(13, (x^2 + 1) * (x^6 - x^5 + x^4 - x^3 + x^2 - x + 1) * (x^6 + x^5 + x^4 + x^3 + x^2 + x + 1) * (x^12 - x^10 + x^8 - x^6 + x^4 - x^2 + 1))\n",
      "(14, (x^2 - x + 1) * (x^2 + x + 1) * (x^4 - x^3 + x^2 - x + 1) * (x^4 + x^3 + x^2 + x + 1) * (x^8 - x^7 + x^5 - x^4 + x^3 - x + 1) * (x^8 + x^7 - x^5 - x^4 - x^3 + x + 1))\n",
      "(15, (x^2 + 1) * (x^4 + 1) * (x^8 + 1) * (x^16 + 1))\n",
      "(16, (x^16 - x^15 + x^14 - x^13 + x^12 - x^11 + x^10 - x^9 + x^8 - x^7 + x^6 - x^5 + x^4 - x^3 + x^2 - x + 1) * (x^16 + x^15 + x^14 + x^13 + x^12 + x^11 + x^10 + x^9 + x^8 + x^7 + x^6 + x^5 + x^4 + x^3 + x^2 + x + 1))\n",
      "(17, (x^2 - x + 1) * (x^2 + 1) * (x^2 + x + 1) * (x^4 - x^2 + 1) * (x^6 - x^3 + 1) * (x^6 + x^3 + 1) * (x^12 - x^6 + 1))\n",
      "(18, (x^18 - x^17 + x^16 - x^15 + x^14 - x^13 + x^12 - x^11 + x^10 - x^9 + x^8 - x^7 + x^6 - x^5 + x^4 - x^3 + x^2 - x + 1) * (x^18 + x^17 + x^16 + x^15 + x^14 + x^13 + x^12 + x^11 + x^10 + x^9 + x^8 + x^7 + x^6 + x^5 + x^4 + x^3 + x^2 + x + 1))\n",
      "(19, (x^2 + 1) * (x^4 - x^3 + x^2 - x + 1) * (x^4 + 1) * (x^4 + x^3 + x^2 + x + 1) * (x^8 - x^6 + x^4 - x^2 + 1) * (x^16 - x^12 + x^8 - x^4 + 1))\n",
      "(20, (x^2 - x + 1) * (x^2 + x + 1) * (x^6 - x^5 + x^4 - x^3 + x^2 - x + 1) * (x^6 + x^5 + x^4 + x^3 + x^2 + x + 1) * (x^12 - x^11 + x^9 - x^8 + x^6 - x^4 + x^3 - x + 1) * (x^12 + x^11 - x^9 - x^8 + x^6 - x^4 - x^3 + x + 1))\n",
      "(21, (x^2 + 1) * (x^10 - x^9 + x^8 - x^7 + x^6 - x^5 + x^4 - x^3 + x^2 - x + 1) * (x^10 + x^9 + x^8 + x^7 + x^6 + x^5 + x^4 + x^3 + x^2 + x + 1) * (x^20 - x^18 + x^16 - x^14 + x^12 - x^10 + x^8 - x^6 + x^4 - x^2 + 1))\n",
      "(22, (x^22 - x^21 + x^20 - x^19 + x^18 - x^17 + x^16 - x^15 + x^14 - x^13 + x^12 - x^11 + x^10 - x^9 + x^8 - x^7 + x^6 - x^5 + x^4 - x^3 + x^2 - x + 1) * (x^22 + x^21 + x^20 + x^19 + x^18 + x^17 + x^16 + x^15 + x^14 + x^13 + x^12 + x^11 + x^10 + x^9 + x^8 + x^7 + x^6 + x^5 + x^4 + x^3 + x^2 + x + 1))\n",
      "(23, (x^2 - x + 1) * (x^2 + 1) * (x^2 + x + 1) * (x^4 - x^2 + 1) * (x^4 + 1) * (x^8 - x^4 + 1) * (x^8 + 1) * (x^16 - x^8 + 1))\n",
      "(24, (x^4 - x^3 + x^2 - x + 1) * (x^4 + x^3 + x^2 + x + 1) * (x^20 - x^15 + x^10 - x^5 + 1) * (x^20 + x^15 + x^10 + x^5 + 1))\n",
      "(25, (x^2 + 1) * (x^12 - x^11 + x^10 - x^9 + x^8 - x^7 + x^6 - x^5 + x^4 - x^3 + x^2 - x + 1) * (x^12 + x^11 + x^10 + x^9 + x^8 + x^7 + x^6 + x^5 + x^4 + x^3 + x^2 + x + 1) * (x^24 - x^22 + x^20 - x^18 + x^16 - x^14 + x^12 - x^10 + x^8 - x^6 + x^4 - x^2 + 1))\n",
      "(26, (x^2 - x + 1) * (x^2 + x + 1) * (x^6 - x^3 + 1) * (x^6 + x^3 + 1) * (x^18 - x^9 + 1) * (x^18 + x^9 + 1))\n",
      "(27, (x^2 + 1) * (x^4 + 1) * (x^6 - x^5 + x^4 - x^3 + x^2 - x + 1) * (x^6 + x^5 + x^4 + x^3 + x^2 + x + 1) * (x^12 - x^10 + x^8 - x^6 + x^4 - x^2 + 1) * (x^24 - x^20 + x^16 - x^12 + x^8 - x^4 + 1))\n",
      "(28, (x^28 - x^27 + x^26 - x^25 + x^24 - x^23 + x^22 - x^21 + x^20 - x^19 + x^18 - x^17 + x^16 - x^15 + x^14 - x^13 + x^12 - x^11 + x^10 - x^9 + x^8 - x^7 + x^6 - x^5 + x^4 - x^3 + x^2 - x + 1) * (x^28 + x^27 + x^26 + x^25 + x^24 + x^23 + x^22 + x^21 + x^20 + x^19 + x^18 + x^17 + x^16 + x^15 + x^14 + x^13 + x^12 + x^11 + x^10 + x^9 + x^8 + x^7 + x^6 + x^5 + x^4 + x^3 + x^2 + x + 1))\n",
      "(29, (x^2 - x + 1) * (x^2 + 1) * (x^2 + x + 1) * (x^4 - x^3 + x^2 - x + 1) * (x^4 - x^2 + 1) * (x^4 + x^3 + x^2 + x + 1) * (x^8 - x^7 + x^5 - x^4 + x^3 - x + 1) * (x^8 - x^6 + x^4 - x^2 + 1) * (x^8 + x^7 - x^5 - x^4 - x^3 + x + 1) * (x^16 + x^14 - x^10 - x^8 - x^6 + x^2 + 1))\n",
      "(30, (x^30 - x^29 + x^28 - x^27 + x^26 - x^25 + x^24 - x^23 + x^22 - x^21 + x^20 - x^19 + x^18 - x^17 + x^16 - x^15 + x^14 - x^13 + x^12 - x^11 + x^10 - x^9 + x^8 - x^7 + x^6 - x^5 + x^4 - x^3 + x^2 - x + 1) * (x^30 + x^29 + x^28 + x^27 + x^26 + x^25 + x^24 + x^23 + x^22 + x^21 + x^20 + x^19 + x^18 + x^17 + x^16 + x^15 + x^14 + x^13 + x^12 + x^11 + x^10 + x^9 + x^8 + x^7 + x^6 + x^5 + x^4 + x^3 + x^2 + x + 1))\n",
      "(31, (x^2 + 1) * (x^4 + 1) * (x^8 + 1) * (x^16 + 1) * (x^32 + 1))\n",
      "(32, (x^2 - x + 1) * (x^2 + x + 1) * (x^10 - x^9 + x^8 - x^7 + x^6 - x^5 + x^4 - x^3 + x^2 - x + 1) * (x^10 + x^9 + x^8 + x^7 + x^6 + x^5 + x^4 + x^3 + x^2 + x + 1) * (x^20 - x^19 + x^17 - x^16 + x^14 - x^13 + x^11 - x^10 + x^9 - x^7 + x^6 - x^4 + x^3 - x + 1) * (x^20 + x^19 - x^17 - x^16 + x^14 + x^13 - x^11 - x^10 - x^9 + x^7 + x^6 - x^4 - x^3 + x + 1))\n",
      "(33, (x^2 + 1) * (x^16 - x^15 + x^14 - x^13 + x^12 - x^11 + x^10 - x^9 + x^8 - x^7 + x^6 - x^5 + x^4 - x^3 + x^2 - x + 1) * (x^16 + x^15 + x^14 + x^13 + x^12 + x^11 + x^10 + x^9 + x^8 + x^7 + x^6 + x^5 + x^4 + x^3 + x^2 + x + 1) * (x^32 - x^30 + x^28 - x^26 + x^24 - x^22 + x^20 - x^18 + x^16 - x^14 + x^12 - x^10 + x^8 - x^6 + x^4 - x^2 + 1))\n",
      "(34, (x^4 - x^3 + x^2 - x + 1) * (x^4 + x^3 + x^2 + x + 1) * (x^6 - x^5 + x^4 - x^3 + x^2 - x + 1) * (x^6 + x^5 + x^4 + x^3 + x^2 + x + 1) * (x^24 - x^23 + x^19 - x^18 + x^17 - x^16 + x^14 - x^13 + x^12 - x^11 + x^10 - x^8 + x^7 - x^6 + x^5 - x + 1) * (x^24 + x^23 - x^19 - x^18 - x^17 - x^16 + x^14 + x^13 + x^12 + x^11 + x^10 - x^8 - x^7 - x^6 - x^5 + x + 1))\n",
      "(35, (x^2 - x + 1) * (x^2 + 1) * (x^2 + x + 1) * (x^4 - x^2 + 1) * (x^4 + 1) * (x^6 - x^3 + 1) * (x^6 + x^3 + 1) * (x^8 - x^4 + 1) * (x^12 - x^6 + 1) * (x^24 - x^12 + 1))\n",
      "(36, (x^36 - x^35 + x^34 - x^33 + x^32 - x^31 + x^30 - x^29 + x^28 - x^27 + x^26 - x^25 + x^24 - x^23 + x^22 - x^21 + x^20 - x^19 + x^18 - x^17 + x^16 - x^15 + x^14 - x^13 + x^12 - x^11 + x^10 - x^9 + x^8 - x^7 + x^6 - x^5 + x^4 - x^3 + x^2 - x + 1) * (x^36 + x^35 + x^34 + x^33 + x^32 + x^31 + x^30 + x^29 + x^28 + x^27 + x^26 + x^25 + x^24 + x^23 + x^22 + x^21 + x^20 + x^19 + x^18 + x^17 + x^16 + x^15 + x^14 + x^13 + x^12 + x^11 + x^10 + x^9 + x^8 + x^7 + x^6 + x^5 + x^4 + x^3 + x^2 + x + 1))\n",
      "(37, (x^2 + 1) * (x^18 - x^17 + x^16 - x^15 + x^14 - x^13 + x^12 - x^11 + x^10 - x^9 + x^8 - x^7 + x^6 - x^5 + x^4 - x^3 + x^2 - x + 1) * (x^18 + x^17 + x^16 + x^15 + x^14 + x^13 + x^12 + x^11 + x^10 + x^9 + x^8 + x^7 + x^6 + x^5 + x^4 + x^3 + x^2 + x + 1) * (x^36 - x^34 + x^32 - x^30 + x^28 - x^26 + x^24 - x^22 + x^20 - x^18 + x^16 - x^14 + x^12 - x^10 + x^8 - x^6 + x^4 - x^2 + 1))\n",
      "(38, (x^2 - x + 1) * (x^2 + x + 1) * (x^12 - x^11 + x^10 - x^9 + x^8 - x^7 + x^6 - x^5 + x^4 - x^3 + x^2 - x + 1) * (x^12 + x^11 + x^10 + x^9 + x^8 + x^7 + x^6 + x^5 + x^4 + x^3 + x^2 + x + 1) * (x^24 - x^23 + x^21 - x^20 + x^18 - x^17 + x^15 - x^14 + x^12 - x^10 + x^9 - x^7 + x^6 - x^4 + x^3 - x + 1) * (x^24 + x^23 - x^21 - x^20 + x^18 + x^17 - x^15 - x^14 + x^12 - x^10 - x^9 + x^7 + x^6 - x^4 - x^3 + x + 1))\n",
      "(39, (x^2 + 1) * (x^4 - x^3 + x^2 - x + 1) * (x^4 + 1) * (x^4 + x^3 + x^2 + x + 1) * (x^8 - x^6 + x^4 - x^2 + 1) * (x^8 + 1) * (x^16 - x^12 + x^8 - x^4 + 1) * (x^32 - x^24 + x^16 - x^8 + 1))\n",
      "(40, (x^40 - x^39 + x^38 - x^37 + x^36 - x^35 + x^34 - x^33 + x^32 - x^31 + x^30 - x^29 + x^28 - x^27 + x^26 - x^25 + x^24 - x^23 + x^22 - x^21 + x^20 - x^19 + x^18 - x^17 + x^16 - x^15 + x^14 - x^13 + x^12 - x^11 + x^10 - x^9 + x^8 - x^7 + x^6 - x^5 + x^4 - x^3 + x^2 - x + 1) * (x^40 + x^39 + x^38 + x^37 + x^36 + x^35 + x^34 + x^33 + x^32 + x^31 + x^30 + x^29 + x^28 + x^27 + x^26 + x^25 + x^24 + x^23 + x^22 + x^21 + x^20 + x^19 + x^18 + x^17 + x^16 + x^15 + x^14 + x^13 + x^12 + x^11 + x^10 + x^9 + x^8 + x^7 + x^6 + x^5 + x^4 + x^3 + x^2 + x + 1))\n"
     ]
    }
   ],
   "source": [
    "P = 5 \n",
    "R.<x> = ZZ[]\n",
    "\n",
    "for M in range(2,41):\n",
    "#     if M %5 == 4:\n",
    "#         continue\n",
    "    print(M,factor((x^(2*M+2)-1)/(x^2-1)))\n",
    "# Proposition: (x+2)*(x+3) is a factor of I(x) precisely when M is odd\n",
    "# proof: (x+2)*(x+3) = (x^2+5x+6)%5 = x^2 + 1\n",
    "# When M is odd, M+1 = 2s for some s.  \n",
    "# (x^(2*M+2)-1) = (x^(2*(2s))-1) = (x^4s-1) = (x^4-1)(stuff) = (x^2-1)(x^2+1)(stuff)\n",
    "\n",
    "#(x^2 + x + 1) * (x^2 + 4*x + 1) is a factor for M = 2,8,14,20,26. Hint: x^3-1 = (x-1)(x^2+x+1) and x^3+1 = (x+1)*(x^2-x+1)\n"
   ]
  },
  {
   "cell_type": "code",
   "execution_count": 1,
   "metadata": {},
   "outputs": [
    {
     "data": {
      "text/plain": [
       "7432339208718"
      ]
     },
     "execution_count": 1,
     "metadata": {},
     "output_type": "execute_result"
    }
   ],
   "source": [
    "euler_phi(7432339208719)"
   ]
  },
  {
   "cell_type": "code",
   "execution_count": null,
   "metadata": {},
   "outputs": [],
   "source": []
  }
 ],
 "metadata": {
  "kernelspec": {
   "display_name": "SageMath 7.4",
   "language": "sage",
   "name": "sagemath"
  },
  "language_info": {
   "codemirror_mode": {
    "name": "ipython",
    "version": 2
   },
   "file_extension": ".py",
   "mimetype": "text/x-python",
   "name": "python",
   "nbconvert_exporter": "python",
   "pygments_lexer": "ipython2",
   "version": "2.7.13"
  }
 },
 "nbformat": 4,
 "nbformat_minor": 4
}
