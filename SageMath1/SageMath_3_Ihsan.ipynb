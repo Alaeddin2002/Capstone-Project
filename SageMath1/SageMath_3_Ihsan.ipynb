{
 "cells": [
  {
   "cell_type": "code",
   "execution_count": 79,
   "metadata": {},
   "outputs": [
    {
     "name": "stdout",
     "output_type": "stream",
     "text": [
      "[  4   0   0]\n",
      "[3/2 5/2 1/2]\n",
      "[7/2 1/2 5/2]\n"
     ]
    }
   ],
   "source": [
    "def MatFromEigen(m,l):\n",
    "    x = len(l)\n",
    "    v = []\n",
    "    Q = []\n",
    "    C = []\n",
    "    for i in range (len(l)):\n",
    "        v.insert(0,0)\n",
    "    for z in range (len(l)):\n",
    "        v[z] += l[z]\n",
    "        Q += v\n",
    "        v[z] -= l[z]\n",
    "    for d in range (len(l)):\n",
    "        C.append(Q[len(l)*d:len(l)*(d+1)])\n",
    "    A = Matrix(C)\n",
    "    S = m * A * m**-1\n",
    "    print (S)\n",
    "MatFromEigen(Matrix([[1, 2, 3], [0, 1, 1], [0, -1, 1]]).transpose(),[4,3,2])\n",
    "    "
   ]
  },
  {
   "cell_type": "code",
   "execution_count": 74,
   "metadata": {},
   "outputs": [
    {
     "name": "stdout",
     "output_type": "stream",
     "text": [
      "4\n"
     ]
    }
   ],
   "source": [
    "def TriDiagDet(a,b,c,n,F):\n",
    "    v = []\n",
    "    j = []\n",
    "    \n",
    "    L = []\n",
    "    Q = []\n",
    "    \n",
    "    C = []\n",
    "    O = []\n",
    "    for i in range (n):\n",
    "        v.insert(0,0)\n",
    "        j.insert(0,0)\n",
    "\n",
    "    for z in range (n):\n",
    "        j[z-1] += c\n",
    "        L += j\n",
    "        j[z-1] -= c\n",
    "        v[z] += a\n",
    "        Q += v\n",
    "        v[z] -= a\n",
    "    for d in range (n-1):\n",
    "        Q[(d-(n-1))*(n+1)] += b\n",
    "        \n",
    "    for d in range (n):\n",
    "        if d == 0:\n",
    "            O.append(j[n*d:n*(d+1)])\n",
    "        else:\n",
    "            O.append(L[n*d:n*(d+1)])\n",
    "            \n",
    "        C.append(Q[n*d:n*(d+1)])\n",
    "    A = Matrix(Zmod(F),C)\n",
    "    W = Matrix(Zmod(F),O)\n",
    "    J = (A+W)\n",
    "    print(J.det())\n",
    "TriDiagDet(1, 3, -1, 5, 6)"
   ]
  },
  {
   "cell_type": "code",
   "execution_count": 76,
   "metadata": {},
   "outputs": [
    {
     "name": "stdout",
     "output_type": "stream",
     "text": [
      "15127.0000000000\n"
     ]
    }
   ],
   "source": [
    "def solveRecRel(a0, a1, b, c, n):\n",
    "    A = Matrix(CC,2,[0,1,c,b])\n",
    "    Z = vector ([a0,a1])\n",
    "    C = A**n * Z\n",
    "    print(C[0])\n",
    "solveRecRel(1, 3, 1, 1, 19)"
   ]
  },
  {
   "cell_type": "code",
   "execution_count": 28,
   "metadata": {},
   "outputs": [
    {
     "data": {
      "text/plain": [
       "[1 1 0 1 0 0]\n",
       "[1 1 1 0 1 0]\n",
       "[0 1 1 0 0 1]\n",
       "[1 0 0 1 1 0]\n",
       "[0 1 0 1 1 1]\n",
       "[0 0 1 0 1 1]"
      ]
     },
     "execution_count": 28,
     "metadata": {},
     "output_type": "execute_result"
    }
   ],
   "source": [
    "def LOP_ActMat(M, N, k):\n",
    "    A = Matrix(Zmod(k), M*N, M*N)\n",
    "    #Go through all the squares and in the row corresponding to that square,\n",
    "    #Put a 1 in all the columns for squares that are affected by it\n",
    "    #for x in range(M*N):\n",
    "    #    col = x % M\n",
    "    \n",
    "    for i in range(M): #i is the row number in the puzzle (not the matrix)\n",
    "        for j in range(N): #j is the column number in the puzzle\n",
    "            matrix_row = i*N + j #row number for the square in row i, col j\n",
    "            \n",
    "            A[matrix_row, matrix_row] = 1 #the square affects itself\n",
    "            \n",
    "            #If the square is not on the right edge, set the 1 to affect the\n",
    "            #square to the right of it\n",
    "\n",
    "            if j != N-1:\n",
    "                A[matrix_row+1, matrix_row] = 1\n",
    "                A[matrix_row, matrix_row+1] = 1\n",
    "            \n",
    "        \n",
    "            if i!= 0:\n",
    "                A[matrix_row-N, matrix_row] = 1\n",
    "                A[matrix_row, matrix_row-N] = 1\n",
    "            \n",
    "            \n",
    "            \n",
    "            #The square to the right of (i, j) is (i, j+1)\n",
    "            #The square to the left of (i, j) is (i, j-1)\n",
    "            #The square above (i, j) is (i-1, j)\n",
    "            #The square below (i, j) is (i+1, j)\n",
    "                \n",
    "    \n",
    "    return A\n",
    "LOP_ActMat(3, 3, 5)"
   ]
  },
  {
   "cell_type": "code",
   "execution_count": 68,
   "metadata": {},
   "outputs": [
    {
     "name": "stdout",
     "output_type": "stream",
     "text": [
      "[1 0 0]\n",
      "[0 1 0]\n",
      "[0 0 1]\n",
      "\n",
      "[0 1 0]\n",
      "[1 0 1]\n",
      "[0 1 0]\n",
      "\n",
      "[0 0 1]\n",
      "[0 1 0]\n",
      "[1 0 0]\n",
      "\n"
     ]
    }
   ],
   "source": [
    "def  LOP_Eigenspace(M, N, k, k0):\n",
    "    A = Matrix(Zmod(k), M*N, M*N)\n",
    "    v = []\n",
    "    Q = []\n",
    "    C = []\n",
    "    for i in range(M): \n",
    "        for j in range(N): \n",
    "            matrix_row = i*N + j \n",
    "            \n",
    "            A[matrix_row, matrix_row] = 1\n",
    "\n",
    "            if j != N-1:\n",
    "                A[matrix_row+1, matrix_row] = 1\n",
    "                A[matrix_row, matrix_row+1] = 1\n",
    "            \n",
    "        \n",
    "            if i!= 0:\n",
    "                A[matrix_row-N, matrix_row] = 1\n",
    "                A[matrix_row, matrix_row-N] = 1\n",
    "    for i in range (N*M):\n",
    "        v.insert(0,0)\n",
    "    for z in range (N*M):\n",
    "        v[z] += k0\n",
    "        Q += v\n",
    "        v[z] -= k0\n",
    "    solution = []\n",
    "    for d in range (N*M):\n",
    "        C.append(Q[(N*M)*d:(N*M)*(d+1)])\n",
    "    B = Matrix(C)\n",
    "    L = (A - B).right_kernel()\n",
    "    for i in (L.basis()):\n",
    "        final = Matrix(M,i)\n",
    "        print(final)\n",
    "        print()\n",
    "        \n",
    "    return\n",
    "LOP_Eigenspace(3, 3,2,3)"
   ]
  },
  {
   "cell_type": "code",
   "execution_count": 67,
   "metadata": {},
   "outputs": [
    {
     "name": "stdout",
     "output_type": "stream",
     "text": [
      "[1 0 2]\n",
      "[2 0 1]\n",
      "\n"
     ]
    }
   ],
   "source": [
    "def  LOP_NullSpace(M, N, k):\n",
    "    Act_Matrix = LOP_Eigenspace(M, N, k, 0)\n",
    "    return Act_Matrix\n",
    "\n",
    "LOP_NullSpace(2, 3,3)        \n"
   ]
  },
  {
   "cell_type": "code",
   "execution_count": null,
   "metadata": {},
   "outputs": [],
   "source": []
  }
 ],
 "metadata": {
  "kernelspec": {
   "display_name": "SageMath 9.1",
   "language": "sage",
   "name": "sagemath-9.1"
  },
  "language_info": {
   "codemirror_mode": {
    "name": "ipython",
    "version": 3
   },
   "file_extension": ".py",
   "mimetype": "text/x-python",
   "name": "python",
   "nbconvert_exporter": "python",
   "pygments_lexer": "ipython3",
   "version": "3.7.3"
  }
 },
 "nbformat": 4,
 "nbformat_minor": 2
}
