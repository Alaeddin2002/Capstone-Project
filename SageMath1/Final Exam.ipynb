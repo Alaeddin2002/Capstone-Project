{
 "cells": [
  {
   "cell_type": "code",
   "execution_count": 20,
   "metadata": {},
   "outputs": [
    {
     "name": "stdout",
     "output_type": "stream",
     "text": [
      "[4 4]\n",
      "[3 3]\n"
     ]
    }
   ],
   "source": [
    "A = Matrix([[1,4],[-1,3]])\n",
    "B = Matrix([[0,0],[0,7]])\n",
    "print(A*B*A**-1)"
   ]
  },
  {
   "cell_type": "code",
   "execution_count": 28,
   "metadata": {},
   "outputs": [
    {
     "name": "stdout",
     "output_type": "stream",
     "text": [
      "[0]\n",
      "[0]\n",
      "[0]\n",
      "[(0, [\n",
      "(1, 0, 0),\n",
      "(0, 1, 0),\n",
      "(0, 0, 1)\n",
      "], 3)]\n"
     ]
    }
   ],
   "source": [
    "A = Matrix([[0,0,0],[0,0,0],[0,0,0]])\n",
    "B = Matrix([[1],[2],[3]])\n",
    "print(A*B)\n",
    "print(A.eigenvectors_right())"
   ]
  },
  {
   "cell_type": "code",
   "execution_count": null,
   "metadata": {},
   "outputs": [],
   "source": []
  }
 ],
 "metadata": {
  "kernelspec": {
   "display_name": "SageMath 9.1",
   "language": "sage",
   "name": "sagemath-9.1"
  },
  "language_info": {
   "codemirror_mode": {
    "name": "ipython",
    "version": 3
   },
   "file_extension": ".py",
   "mimetype": "text/x-python",
   "name": "python",
   "nbconvert_exporter": "python",
   "pygments_lexer": "ipython3",
   "version": "3.7.3"
  }
 },
 "nbformat": 4,
 "nbformat_minor": 2
}
