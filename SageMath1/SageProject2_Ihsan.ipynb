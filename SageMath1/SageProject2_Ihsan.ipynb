{
 "cells": [
  {
   "cell_type": "code",
   "execution_count": 575,
   "metadata": {},
   "outputs": [
    {
     "name": "stdout",
     "output_type": "stream",
     "text": [
      "[50  0]\n",
      "[ 0 20]\n"
     ]
    }
   ],
   "source": [
    "def stretch(h,v):\n",
    "    B = Matrix([[h,0],[0,v]])\n",
    "    print(B)\n",
    "stretch(50,20)"
   ]
  },
  {
   "cell_type": "code",
   "execution_count": 60,
   "metadata": {},
   "outputs": [
    {
     "name": "stdout",
     "output_type": "stream",
     "text": [
      "[ 0 -1]\n",
      "[ 1  0]\n"
     ]
    }
   ],
   "source": [
    "def rotate(theta):\n",
    "    x = -theta * (pi/180)\n",
    "    A = Matrix([[(cos(x)),(sin(x))],[(sin(-x)),(cos(x))]])\n",
    "    print(A)\n",
    "rotate(90)"
   ]
  },
  {
   "cell_type": "code",
   "execution_count": 857,
   "metadata": {},
   "outputs": [
    {
     "name": "stdout",
     "output_type": "stream",
     "text": [
      "[ 2  4]\n",
      "[-2 -4]\n"
     ]
    }
   ],
   "source": [
    "def project_on_line(m):\n",
    "    A = Matrix ([[m^2-m,m^3-m^2],[-m,-m^2]])\n",
    "    print(A)\n",
    "\n",
    "project_on_line(2)"
   ]
  },
  {
   "cell_type": "code",
   "execution_count": 183,
   "metadata": {},
   "outputs": [
    {
     "name": "stdout",
     "output_type": "stream",
     "text": [
      "[ 5  0  0  0  0  0  0  0  0  0]\n",
      "[ 0 73  0  0  0  0  0  0  0  0]\n",
      "[ 0  0  6  0  0  0  0  0  0  0]\n",
      "[ 0  0  0  6  0  0  0  0  0  0]\n",
      "[ 0  0  0  0  3  0  0  0  0  0]\n",
      "[ 0  0  0  0  0  7  0  0  0  0]\n",
      "[ 0  0  0  0  0  0  9  0  0  0]\n",
      "[ 0  0  0  0  0  0  0  3  0  0]\n",
      "[ 0  0  0  0  0  0  0  0  2  0]\n",
      "[ 0  0  0  0  0  0  0  0  0  6]\n"
     ]
    }
   ],
   "source": [
    "def diagonal(l):\n",
    "    x = len(l)\n",
    "    v = []\n",
    "    Q = []\n",
    "    C = []\n",
    "    for i in range (len(l)):\n",
    "        v.insert(0,0)\n",
    "    for z in range (len(l)):\n",
    "        v[z] += l[z]\n",
    "        Q += v\n",
    "        v[z] -= l[z]\n",
    "    for d in range (len(l)):\n",
    "        C.append(Q[len(l)*d:len(l)*(d+1)])\n",
    "    A = Matrix(C)\n",
    "    print(A)\n",
    "diagonal([5,73,6,6,3,7,9,3,2,6])\n",
    "    \n",
    "        \n"
   ]
  },
  {
   "cell_type": "code",
   "execution_count": 230,
   "metadata": {},
   "outputs": [
    {
     "name": "stdout",
     "output_type": "stream",
     "text": [
      "[   0    0    0    0    0    0    0    0    5]\n",
      "[   0    0    0    0    0    0    0   73    0]\n",
      "[   0    0    0    0    0    0    6    0    0]\n",
      "[   0    0    0    0    0 5644    0    0    0]\n",
      "[   0    0    0    0  764    0    0    0    0]\n",
      "[   0    0    0    8    0    0    0    0    0]\n",
      "[   0    0    4    0    0    0    0    0    0]\n",
      "[   0   74    0    0    0    0    0    0    0]\n",
      "[  74    0    0    0    0    0    0    0    0]\n"
     ]
    }
   ],
   "source": [
    "def wrong_diagonal(l):\n",
    "    x = len(l)\n",
    "    v = []\n",
    "    Q = []\n",
    "    C = []\n",
    "    for i in range (len(l)):\n",
    "        v.insert(0,0)\n",
    "    for z in range (len(l)):\n",
    "        v[-z-1] += l[z]\n",
    "        Q += v\n",
    "        v[-z-1] -= l[z]\n",
    "    for d in range (len(l)):\n",
    "        C.append(Q[len(l)*d:len(l)*(d+1)])\n",
    "    A = Matrix(C)\n",
    "    print(A)\n",
    "wrong_diagonal([5,73,6,5644,764,8,4,74,74])"
   ]
  },
  {
   "cell_type": "code",
   "execution_count": 701,
   "metadata": {},
   "outputs": [
    {
     "name": "stdout",
     "output_type": "stream",
     "text": [
      "[20  4  0  0]\n",
      "[ 2 20  4  0]\n",
      "[ 0  2 20  4]\n",
      "[ 0  0  2 20]\n"
     ]
    }
   ],
   "source": [
    "def tridiagonal(m,a,b,n):\n",
    "    v = []\n",
    "    j = []\n",
    "    \n",
    "    L = []\n",
    "    Q = []\n",
    "    \n",
    "    C = []\n",
    "    O = []\n",
    "    for i in range (n):\n",
    "        v.insert(0,0)\n",
    "        j.insert(0,0)\n",
    "\n",
    "    for z in range (n):\n",
    "        j[z-1] += b\n",
    "        L += j\n",
    "        j[z-1] -= b\n",
    "        v[z] += m\n",
    "        Q += v\n",
    "        v[z] -= m\n",
    "    for d in range (n-1):\n",
    "        Q[(d-(n-1))*(n+1)] += a\n",
    "        \n",
    "    for d in range (n):\n",
    "        if d == 0:\n",
    "            O.append(j[n*d:n*(d+1)])\n",
    "        else:\n",
    "            O.append(L[n*d:n*(d+1)])\n",
    "            \n",
    "        C.append(Q[n*d:n*(d+1)])\n",
    "    A = Matrix(C)\n",
    "    W = Matrix(O)\n",
    "    print(A+W)\n",
    "tridiagonal(20,4,2,4)"
   ]
  },
  {
   "cell_type": "code",
   "execution_count": 846,
   "metadata": {},
   "outputs": [
    {
     "name": "stdout",
     "output_type": "stream",
     "text": [
      "[55, 11, 80]\n",
      "[15, 32, 91]\n",
      "[21, 22, 61]\n",
      "[45, 65, 77]\n",
      "[76, 72, 40]\n"
     ]
    }
   ],
   "source": [
    "def transpose(Matrix):\n",
    "    l = []\n",
    "    o = []\n",
    "    C = []\n",
    "    length = Matrix.nrows()\n",
    "    for i in range (length):\n",
    "        x = Matrix.row(i)\n",
    "        for d in range (Matrix.ncols()):\n",
    "            l.append (x[d])\n",
    "    for j in range (Matrix.ncols()):\n",
    "        for c in range (Matrix.nrows()):\n",
    "            o.append(l[Matrix.ncols()*c+j])\n",
    "    for e in range (Matrix.ncols()):\n",
    "        C.append(o[Matrix.nrows()*e:Matrix.nrows()*(e+1)])\n",
    "    for k in range (Matrix.ncols()):\n",
    "        print(C[k])\n",
    "transpose(Matrix([[55,15,21,45,76],[11,32,22,65,72],[80,91,61,77,40]]))    "
   ]
  },
  {
   "cell_type": "code",
   "execution_count": 843,
   "metadata": {},
   "outputs": [
    {
     "name": "stdout",
     "output_type": "stream",
     "text": [
      "[1 0]\n",
      "[0 1]\n",
      "\n",
      "[5 7]\n",
      "[0 5]\n",
      "\n",
      "[25 70]\n",
      "[ 0 25]\n",
      "\n",
      "[125 525]\n",
      "[  0 125]\n",
      "\n",
      "[ 625 3500]\n",
      "[   0  625]\n",
      "\n",
      "[ 3125 21875]\n",
      "[    0  3125]\n",
      "\n",
      "[ 15625 131250]\n",
      "[     0  15625]\n",
      "\n",
      "[ 78125 765625]\n",
      "[     0  78125]\n",
      "\n",
      "[ 390625 4375000]\n",
      "[      0  390625]\n",
      "\n",
      "[ 1953125 24609375]\n",
      "[       0  1953125]\n",
      "\n",
      "[  9765625 136718750]\n",
      "[        0   9765625]\n",
      "\n",
      "[ 48828125 751953125]\n",
      "[        0  48828125]\n",
      "\n",
      "[ 244140625 4101562500]\n",
      "[         0  244140625]\n",
      "\n",
      "[ 1220703125 22216796875]\n",
      "[          0  1220703125]\n",
      "\n",
      "[  6103515625 119628906250]\n",
      "[           0   6103515625]\n",
      "\n",
      "[ 30517578125 640869140625]\n",
      "[           0  30517578125]\n",
      "\n",
      "[ 152587890625 3417968750000]\n",
      "[            0  152587890625]\n",
      "\n",
      "[  762939453125 18157958984375]\n",
      "[             0   762939453125]\n",
      "\n",
      "[ 3814697265625 96130371093750]\n",
      "[             0  3814697265625]\n",
      "\n",
      "[ 19073486328125 507354736328125]\n",
      "[              0  19073486328125]\n",
      "\n"
     ]
    }
   ],
   "source": [
    "a = 5\n",
    "b = 7\n",
    "for n in range(20):\n",
    "    A = Matrix ([[a,1],[0,a]])\n",
    "   \n",
    "    \n",
    "# when a = 0\n",
    "# a = a - a\n",
    "# b = a(from A^n-1)\n",
    "\n",
    "# when a does not equal 0\n",
    "# a = a ** n\n",
    "# b = a(from A^n-1) * n \n",
    "# so b = (a ** n-1) * n\n",
    "\n",
    "for n in range(20):\n",
    "    A = Matrix ([[a,b],[0,a]])\n",
    "    print(A**n)\n",
    "    print()\n",
    "# a = a*n\n",
    "# b = (first value of b) * (previous value of a(so a in A**(n-1))) + ((first value of b) * (previous value of b(so b in A ** (n-1)))\n",
    "# so b = ((b ** 1) * (a ** n-1)) + ((a ** 1) * (b in A ** n-1))\n",
    "# For Example\n",
    "# If a was 5 and b was 7\n",
    "# then in A ** n is a = 5^n \n",
    "# and b in A ** n is b = (7 *(a ** -1) + 5 * (b in A ** n-1))"
   ]
  },
  {
   "cell_type": "code",
   "execution_count": null,
   "metadata": {},
   "outputs": [],
   "source": []
  }
 ],
 "metadata": {
  "kernelspec": {
   "display_name": "SageMath 9.1",
   "language": "sage",
   "name": "sagemath-9.1"
  },
  "language_info": {
   "codemirror_mode": {
    "name": "ipython",
    "version": 3
   },
   "file_extension": ".py",
   "mimetype": "text/x-python",
   "name": "python",
   "nbconvert_exporter": "python",
   "pygments_lexer": "ipython3",
   "version": "3.7.3"
  }
 },
 "nbformat": 4,
 "nbformat_minor": 2
}
